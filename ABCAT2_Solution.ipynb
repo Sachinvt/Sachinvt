{
  "nbformat": 4,
  "nbformat_minor": 0,
  "metadata": {
    "colab": {
      "provenance": [],
      "authorship_tag": "ABX9TyO4WutNyjuvg1w+YNeZu3Rx",
      "include_colab_link": true
    },
    "kernelspec": {
      "name": "python3",
      "display_name": "Python 3"
    },
    "language_info": {
      "name": "python"
    }
  },
  "cells": [
    {
      "cell_type": "markdown",
      "metadata": {
        "id": "view-in-github",
        "colab_type": "text"
      },
      "source": [
        "<a href=\"https://colab.research.google.com/github/Sachinvt/Sachinvt/blob/main/ABCAT2_Solution.ipynb\" target=\"_parent\"><img src=\"https://colab.research.google.com/assets/colab-badge.svg\" alt=\"Open In Colab\"/></a>"
      ]
    },
    {
      "cell_type": "code",
      "execution_count": 1,
      "metadata": {
        "colab": {
          "base_uri": "https://localhost:8080/"
        },
        "id": "1OyfLw-AKC7D",
        "outputId": "3651b081-fdf0-447f-c351-798e91d527b1"
      },
      "outputs": [
        {
          "output_type": "stream",
          "name": "stdout",
          "text": [
            "1 4 7 3\n",
            "1 2 3 4 5 6 7\n",
            "Additional ID: 2 5 6\n"
          ]
        }
      ],
      "source": [
        "def find_additional_id(array1, array2):\n",
        "    # Convert the arrays to sets for efficient operations\n",
        "    set1 = set(array1)\n",
        "    set2 = set(array2)\n",
        "\n",
        "    # Find the additional ID by performing set difference\n",
        "    additional_id = set2 - set1\n",
        "\n",
        "    return additional_id\n",
        "\n",
        "# Input\n",
        "array1 = list(map(int, input().split()))\n",
        "array2 = list(map(int, input().split()))\n",
        "\n",
        "# Find the additional ID\n",
        "additional_id = find_additional_id(array1, array2)\n",
        "\n",
        "# Output\n",
        "print(\"Additional ID:\", *additional_id)"
      ]
    },
    {
      "cell_type": "code",
      "source": [
        "def numeric_to_alphabetic(barcode):\n",
        "    # Dictionary mapping each digit to its corresponding alphabetic character\n",
        "    digit_to_alpha = {\n",
        "        '0': 'a', '1': 'b', '2': 'c', '3': 'd', '4': 'e',\n",
        "        '5': 'f', '6': 'g', '7': 'h', '8': 'i', '9': 'j'\n",
        "    }\n",
        "\n",
        "    # Convert the numeric barcode to a string\n",
        "    barcode_str = str(barcode)\n",
        "\n",
        "    # Convert each digit to its corresponding alphabetic character\n",
        "    alphabetic_code = ''.join(digit_to_alpha[digit] for digit in barcode_str)\n",
        "\n",
        "    return alphabetic_code\n",
        "\n",
        "# Input\n",
        "barcode = int(input())\n",
        "\n",
        "# Find the alphabetic product code\n",
        "alphabetic_code = numeric_to_alphabetic(barcode)\n",
        "\n",
        "# Output\n",
        "print(\"Alphabetic Product Code:\", alphabetic_code)"
      ],
      "metadata": {
        "colab": {
          "base_uri": "https://localhost:8080/"
        },
        "id": "WU7YlSNPKNBI",
        "outputId": "d59dcbcf-412f-483d-d254-472d93708a62"
      },
      "execution_count": 2,
      "outputs": [
        {
          "output_type": "stream",
          "name": "stdout",
          "text": [
            "12403\n",
            "Alphabetic Product Code: bcead\n"
          ]
        }
      ]
    },
    {
      "cell_type": "code",
      "source": [
        "def count_difference_char(S,T):\n",
        "  count = 0\n",
        "  for i in range(len(S)):\n",
        "    if S[i] != T[i]:\n",
        "      count += 1\n",
        "  return count\n",
        "\n",
        "s = input().strip()\n",
        "t = input().strip()\n",
        "result = count_difference_char(s,t)\n",
        "print(result)"
      ],
      "metadata": {
        "colab": {
          "base_uri": "https://localhost:8080/"
        },
        "id": "_7sNJsGFKgtD",
        "outputId": "8fe312a9-61a7-4a5c-c3f3-805b14bbfdad"
      },
      "execution_count": 3,
      "outputs": [
        {
          "output_type": "stream",
          "name": "stdout",
          "text": [
            "doselect\n",
            "doseeesd\n",
            "3\n"
          ]
        }
      ]
    },
    {
      "cell_type": "code",
      "source": [
        "def solution(S,T):\n",
        "  count = 0\n",
        "  for i in range(len(S)):\n",
        "    if S[i] != T[i]:\n",
        "      count += 1\n",
        "  return count\n",
        "\n",
        "if __name__ == '__main__':\n",
        "  S = input()\n",
        "\n",
        "  T = input()\n",
        "\n",
        "  result = solution(S,T)\n",
        "\n",
        "  print(str(result))"
      ],
      "metadata": {
        "colab": {
          "base_uri": "https://localhost:8080/"
        },
        "id": "YgSoZDsuKpuv",
        "outputId": "203d7ac6-52ae-4a84-a059-2c9a1ca665f3"
      },
      "execution_count": 4,
      "outputs": [
        {
          "output_type": "stream",
          "name": "stdout",
          "text": [
            "doselect\n",
            "doseeesd\n",
            "3\n"
          ]
        }
      ]
    },
    {
      "cell_type": "code",
      "source": [
        "def find_first_non_repeated_char(s):\n",
        "  char_count = {}\n",
        "\n",
        "  for char in s:\n",
        "    char_count[char] = char_count.get(char, 0)+1\n",
        "\n",
        "  for char in s:\n",
        "    if char_count[char]==1:\n",
        "      return char\n",
        "  return \"not found\"\n",
        "\n",
        "s = input().strip()\n",
        "result = find_first_non_repeated_char(s)\n",
        "print(result)"
      ],
      "metadata": {
        "colab": {
          "base_uri": "https://localhost:8080/"
        },
        "id": "uMFXMYukK5pc",
        "outputId": "860d405a-3d02-4525-ce0f-8764dd7ee027"
      },
      "execution_count": 5,
      "outputs": [
        {
          "output_type": "stream",
          "name": "stdout",
          "text": [
            "aabbcc\n",
            "not found\n"
          ]
        }
      ]
    },
    {
      "cell_type": "code",
      "source": [
        "def mul(A,B):\n",
        "  A = int(A)\n",
        "  B = int(B)\n",
        "  C = A*B\n",
        "  return str(C)\n",
        "\n",
        "A = input().strip()\n",
        "B = input().strip()\n",
        "result  = mul(A,B)\n",
        "print(result)"
      ],
      "metadata": {
        "colab": {
          "base_uri": "https://localhost:8080/"
        },
        "id": "eLZ7omD8LDPW",
        "outputId": "d26b2787-845f-4ae9-bdaa-ada29665b95f"
      },
      "execution_count": 6,
      "outputs": [
        {
          "output_type": "stream",
          "name": "stdout",
          "text": [
            "5\n",
            "5\n",
            "25\n"
          ]
        }
      ]
    },
    {
      "cell_type": "code",
      "source": [
        "def reverse_number(num):\n",
        "    reversed_num = ''\n",
        "    num_str = str(num)\n",
        "    reversed_num = num_str[::-1]\n",
        "    return reversed_num\n",
        "\n",
        "# Input\n",
        "num = int(input().strip())\n",
        "\n",
        "# Reverse the number\n",
        "reversed_num = reverse_number(num)\n",
        "\n",
        "# Output\n",
        "print(reversed_num)"
      ],
      "metadata": {
        "colab": {
          "base_uri": "https://localhost:8080/"
        },
        "id": "RceplkbMLOFK",
        "outputId": "c6b40911-e16f-4d39-9838-035ad0c46024"
      },
      "execution_count": 7,
      "outputs": [
        {
          "output_type": "stream",
          "name": "stdout",
          "text": [
            "534750\n",
            "057435\n"
          ]
        }
      ]
    },
    {
      "cell_type": "code",
      "source": [
        "import re\n",
        "\n",
        "def find_n_lettered_words(sentence, n):\n",
        "    # Check if the sentence contains at least three words\n",
        "    words = sentence.split()\n",
        "    if len(words) < 3:\n",
        "        print(\"Too Less Number of Words Entered\")\n",
        "        return\n",
        "\n",
        "    # Use regular expression to find words with length n\n",
        "    pattern = r'\\b\\w{%d}\\b' % n\n",
        "    n_lettered_words = re.findall(pattern, sentence)\n",
        "\n",
        "    # Print the found words\n",
        "    for word in n_lettered_words:\n",
        "        print(word)\n",
        "\n",
        "# Input\n",
        "sentence = input().strip()\n",
        "n = int(input().strip())\n",
        "\n",
        "# Find and print N-lettered words\n",
        "find_n_lettered_words(sentence, n)"
      ],
      "metadata": {
        "colab": {
          "base_uri": "https://localhost:8080/"
        },
        "id": "Vh-_AcFcLVFu",
        "outputId": "71b29a21-f98c-44ae-9469-8531bc4be735"
      },
      "execution_count": 8,
      "outputs": [
        {
          "output_type": "stream",
          "name": "stdout",
          "text": [
            "are you\n",
            "4\n",
            "Too Less Number of Words Entered\n"
          ]
        }
      ]
    },
    {
      "cell_type": "code",
      "source": [
        "import pandas as pd\n",
        "import numpy as np\n",
        "\n",
        "# Step 1: Parse input into a list of integers\n",
        "input_list = list(map(int, input().split()))\n",
        "\n",
        "# Step 2: Create Pandas Series\n",
        "series = pd.Series(input_list)\n",
        "\n",
        "# Step 3: Calculate difference between consecutive elements\n",
        "diff_series = series.diff()\n",
        "\n",
        "# Step 4: Calculate difference of the difference\n",
        "diff_of_diff_series = diff_series.diff()\n",
        "\n",
        "# Print the results\n",
        "print(diff_series.tolist())\n",
        "print(diff_of_diff_series.tolist())"
      ],
      "metadata": {
        "colab": {
          "base_uri": "https://localhost:8080/"
        },
        "id": "wbtWcqnfLfSN",
        "outputId": "338969e0-e9ca-4bd0-a55f-8c8754e8c66c"
      },
      "execution_count": 9,
      "outputs": [
        {
          "output_type": "stream",
          "name": "stdout",
          "text": [
            "2 4 6 8 10 12 14 16\n",
            "[nan, 2.0, 2.0, 2.0, 2.0, 2.0, 2.0, 2.0]\n",
            "[nan, nan, 0.0, 0.0, 0.0, 0.0, 0.0, 0.0]\n"
          ]
        }
      ]
    },
    {
      "cell_type": "code",
      "source": [],
      "metadata": {
        "id": "mxC3fD3nLpo-"
      },
      "execution_count": null,
      "outputs": []
    }
  ]
}