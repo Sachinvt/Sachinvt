{
  "cells": [
    {
      "cell_type": "markdown",
      "metadata": {
        "id": "view-in-github",
        "colab_type": "text"
      },
      "source": [
        "<a href=\"https://colab.research.google.com/github/Sachinvt/Sachinvt/blob/main/python%20coding%202.ipynb\" target=\"_parent\"><img src=\"https://colab.research.google.com/assets/colab-badge.svg\" alt=\"Open In Colab\"/></a>"
      ]
    },
    {
      "cell_type": "markdown",
      "source": [
        "You are given two strings word1 and word2. Merge the strings by adding letters in alternating order, starting with word1. If a string is longer than the other, append the additional letters onto the end of the merged string.\n",
        "\n",
        "Return the merged string.\n",
        "\n",
        "Example:\n",
        "\n",
        "Input: \"abc\", word2 = \"pqr\"\n",
        "\n",
        "Output: \"apbqcr\"\n",
        "\n",
        "Explanation: The merged string will be merged as so:\n",
        "\n",
        "word1: a b C\n",
        "\n",
        "word2: P q r\n",
        "\n",
        "merged: a p b q c r"
      ],
      "metadata": {
        "id": "x7cAALpAc5l7"
      }
    },
    {
      "cell_type": "code",
      "source": [
        "\n",
        "def mergeStrings(word1, word2):\n",
        "    result = ''\n",
        "    i, j = 0, 0\n",
        "\n",
        "    while i < len(word1) and j < len(word2):\n",
        "        result += word1[i] + word2[j]\n",
        "        i += 1\n",
        "        j += 1\n",
        "\n",
        "    # Append the remaining characters from word1, if any\n",
        "    while i < len(word1):\n",
        "        result += word1[i]\n",
        "        i += 1\n",
        "\n",
        "    # Append the remaining characters from word2, if any\n",
        "    while j < len(word2):\n",
        "        result += word2[j]\n",
        "        j += 1\n",
        "\n",
        "    return result\n",
        "\n",
        "# Test the function\n",
        "word1 = \"abc\"\n",
        "word2 = \"pqr\"\n",
        "print(mergeStrings(word1, word2))  # Output: \"apbqcr\""
      ],
      "metadata": {
        "id": "G-nVLqREdbjI",
        "outputId": "188c9c79-8924-4199-8d7d-bed3f399bb6d",
        "colab": {
          "base_uri": "https://localhost:8080/"
        }
      },
      "execution_count": 5,
      "outputs": [
        {
          "output_type": "stream",
          "name": "stdout",
          "text": [
            "apbqcr\n"
          ]
        }
      ]
    },
    {
      "cell_type": "markdown",
      "source": [
        "Write a program in python to print the following pattern for the given N number of rows.\n",
        "\n",
        "INPUT:\n",
        "\n",
        "4\n",
        "\n",
        "OUTPUT:\n",
        "\n",
        "A\n",
        "\n",
        "BC\n",
        "\n",
        "CDE\n",
        "\n",
        "DEFG"
      ],
      "metadata": {
        "id": "OplovtVxdh-6"
      }
    },
    {
      "cell_type": "code",
      "source": [
        "\n",
        "def print_pattern(rows):\n",
        "    start_char = 'A'\n",
        "\n",
        "    for i in range(rows):\n",
        "        for j in range(i + 1):\n",
        "            print(chr(ord(start_char) + j), end='')\n",
        "        print()\n",
        "        start_char = chr(ord(start_char) + 1)\n",
        "\n",
        "# Test the function\n",
        "rows = 4\n",
        "print_pattern(rows)"
      ],
      "metadata": {
        "id": "HgyMBipIdpSG",
        "outputId": "11c257ae-efc3-4719-8030-8ea5b49390c6",
        "colab": {
          "base_uri": "https://localhost:8080/"
        }
      },
      "execution_count": 6,
      "outputs": [
        {
          "output_type": "stream",
          "name": "stdout",
          "text": [
            "A\n",
            "BC\n",
            "CDE\n",
            "DEFG\n"
          ]
        }
      ]
    },
    {
      "cell_type": "markdown",
      "source": [
        "Write a program in python to print the following pattern for the given N number of rows.\n",
        "\n",
        "INPUT:\n",
        "\n",
        "4\n",
        "\n",
        "OUTPUT:\n",
        "\n",
        "ABCD\n",
        "\n",
        "ABCD\n",
        "\n",
        "ABCD\n",
        "\n",
        "ABCD"
      ],
      "metadata": {
        "id": "NptoYP0qdukE"
      }
    },
    {
      "cell_type": "code",
      "source": [
        "\n",
        "def print_pattern(rows):\n",
        "    for i in range(rows):\n",
        "        for j in range(ord('A'), ord('A') + rows):\n",
        "            print(chr(j), end=\"\")\n",
        "        print()\n",
        "\n",
        "# Test the function\n",
        "rows = 4\n",
        "print_pattern(rows)"
      ],
      "metadata": {
        "id": "CZSShG_Ed8oi",
        "outputId": "8421a584-c4a4-495e-cec8-962b71bb1866",
        "colab": {
          "base_uri": "https://localhost:8080/"
        }
      },
      "execution_count": 7,
      "outputs": [
        {
          "output_type": "stream",
          "name": "stdout",
          "text": [
            "ABCD\n",
            "ABCD\n",
            "ABCD\n",
            "ABCD\n"
          ]
        }
      ]
    },
    {
      "cell_type": "markdown",
      "source": [
        "Write a program in python to print the following pattern for the given N number of rows.\n",
        "\n",
        "INPUT:\n",
        "\n",
        "4\n",
        "\n",
        "OUTPUT:\n",
        "\n",
        "4444\n",
        "\n",
        "333\n",
        "\n",
        "22\n",
        "\n",
        "1"
      ],
      "metadata": {
        "id": "jCaJ_qMjeAAl"
      }
    },
    {
      "cell_type": "code",
      "source": [
        "\n",
        "def print_pattern(rows):\n",
        "    for i in range(rows, 0, -1):\n",
        "        for j in range(i):\n",
        "            print(i, end=\"\")\n",
        "        print()\n",
        "\n",
        "# Test the function\n",
        "rows = 4\n",
        "print_pattern(rows)"
      ],
      "metadata": {
        "id": "0lvevmygeazQ",
        "outputId": "1137d18e-078c-461a-8ea4-f70c437b6095",
        "colab": {
          "base_uri": "https://localhost:8080/"
        }
      },
      "execution_count": 8,
      "outputs": [
        {
          "output_type": "stream",
          "name": "stdout",
          "text": [
            "4444\n",
            "333\n",
            "22\n",
            "1\n"
          ]
        }
      ]
    },
    {
      "cell_type": "markdown",
      "source": [
        "Write a Python program to get the single digits in numbers sorted backwards and converted to English words.\n",
        "\n",
        "INPUT:\n",
        "\n",
        "[1, 3, 4, 5,11]\n",
        "\n",
        "OUTPUT:\n",
        "\n",
        "[five, 'four', 'three', one']"
      ],
      "metadata": {
        "id": "YkbM6w8iecmY"
      }
    },
    {
      "cell_type": "code",
      "source": [
        "\n",
        "def digit_to_word(digit):\n",
        "    word_dict = {\n",
        "        0: 'zero', 1: 'one', 2: 'two', 3: 'three', 4: 'four',\n",
        "        5: 'five', 6: 'six', 7: 'seven', 8: 'eight', 9: 'nine'\n",
        "    }\n",
        "    return word_dict[digit]\n",
        "\n",
        "def digits_to_words(numbers):\n",
        "    # Sort the digits in reverse order\n",
        "    sorted_digits = sorted(numbers, reverse=True)\n",
        "    # Convert sorted digits to English words\n",
        "    words = [digit_to_word(digit) for digit in sorted_digits if 0 <= digit <= 9]\n",
        "    return words\n",
        "\n",
        "# Test the function\n",
        "numbers = [1, 3, 4, 5, 11]\n",
        "print(digits_to_words(numbers))"
      ],
      "metadata": {
        "id": "XVEXYfQ_elbS",
        "outputId": "a846251b-d940-45e9-a7e2-796c406ace7e",
        "colab": {
          "base_uri": "https://localhost:8080/"
        }
      },
      "execution_count": 9,
      "outputs": [
        {
          "output_type": "stream",
          "name": "stdout",
          "text": [
            "['five', 'four', 'three', 'one']\n"
          ]
        }
      ]
    },
    {
      "cell_type": "markdown",
      "source": [
        "There are n buildings in a line. You are given an integer array heights of size n that represents the heights of the buildings in the line.\n",
        "\n",
        "The ocean is to the right of the buildings. A building has an ocean view if the building can see the ocean without obstructions. Formally, a building has an ocean view if all the buildings to its right have a smaller height.\n",
        "\n",
        "Write a python program to return a list of indices (0- indexed) of buildings that have an ocean view, sorted in increasing order.\n",
        "\n",
        "INPUT:\n",
        "\n",
        "[4,2,3,1]\n",
        "\n",
        "OUTPUT\n",
        "\n",
        "[0,2,3]"
      ],
      "metadata": {
        "id": "2o3O1G-keqkp"
      }
    },
    {
      "cell_type": "code",
      "source": [
        "\n",
        "def find_buildings_with_ocean_view(heights):\n",
        "    ocean_view_indices = []\n",
        "    max_height = float('-inf')  # Initialize max height as negative infinity\n",
        "\n",
        "    # Iterate through the buildings from right to left\n",
        "    for i in range(len(heights) - 1, -1, -1):\n",
        "        if heights[i] > max_height:\n",
        "            ocean_view_indices.append(i)\n",
        "            max_height = heights[i]  # Update max height\n",
        "\n",
        "    # Reverse the list of indices to get the correct order\n",
        "    return ocean_view_indices[::-1]\n",
        "\n",
        "# Test the function\n",
        "heights = [4, 2, 3, 1]\n",
        "print(find_buildings_with_ocean_view(heights))"
      ],
      "metadata": {
        "id": "uPtdiOIDfBEK",
        "outputId": "fcf94cda-e7a5-4560-945c-4022f3222f5b",
        "colab": {
          "base_uri": "https://localhost:8080/"
        }
      },
      "execution_count": 10,
      "outputs": [
        {
          "output_type": "stream",
          "name": "stdout",
          "text": [
            "[0, 2, 3]\n"
          ]
        }
      ]
    },
    {
      "cell_type": "markdown",
      "source": [
        "Write a program in python to print the following pattern for the given N number of rows.\n",
        "\n",
        "INPUT:\n",
        "\n",
        "4\n",
        "\n",
        "OUTPUT:\n",
        "•000•000•\n",
        "0•00•00•0\n",
        "00•0•0•00\n",
        "000•••000"
      ],
      "metadata": {
        "id": "_JOfgqW-fGGu"
      }
    },
    {
      "cell_type": "markdown",
      "source": [],
      "metadata": {
        "id": "jMwH1QP-fSRP"
      }
    },
    {
      "cell_type": "code",
      "source": [
        "\n",
        "def print_pattern(n):\n",
        "    for i in range(n):\n",
        "        for j in range(n * 2 + 1):\n",
        "            if j == i or j == n or j == n * 2 - i - 1:\n",
        "                print(\"•\", end=\"\")\n",
        "            else:\n",
        "                print(\"0\", end=\"\")\n",
        "        print()\n",
        "\n",
        "# Test the function\n",
        "n = 4\n",
        "print_pattern(n)"
      ],
      "metadata": {
        "id": "kagb8aHPfpeB",
        "outputId": "f39f6ed5-5893-48d2-a07f-6d2c053bbaea",
        "colab": {
          "base_uri": "https://localhost:8080/"
        }
      },
      "execution_count": 4,
      "outputs": [
        {
          "output_type": "stream",
          "name": "stdout",
          "text": [
            "•000•00•0\n",
            "0•00•0•00\n",
            "00•0••000\n",
            "000••0000\n"
          ]
        }
      ]
    },
    {
      "cell_type": "markdown",
      "source": [
        "Diamond stars pattern"
      ],
      "metadata": {
        "id": "huhq7-tDfrjh"
      }
    },
    {
      "cell_type": "code",
      "source": [
        "\n",
        "def print_diamond_pattern(n):\n",
        "    # Upper half of the diamond\n",
        "    for i in range(n):\n",
        "        print(\" \" * (n - i - 1) + \"*\" * (2 * i + 1))\n",
        "\n",
        "    # Lower half of the diamond\n",
        "    for i in range(n - 2, -1, -1):\n",
        "        print(\" \" * (n - i - 1) + \"*\" * (2 * i + 1))\n",
        "\n",
        "# Test the function\n",
        "n = 5\n",
        "print_diamond_pattern(n)"
      ],
      "metadata": {
        "id": "EG0y_O0hf0aq",
        "outputId": "774c6bb0-29e5-4f50-c1d3-7a404034b7a2",
        "colab": {
          "base_uri": "https://localhost:8080/"
        }
      },
      "execution_count": 3,
      "outputs": [
        {
          "output_type": "stream",
          "name": "stdout",
          "text": [
            "    *\n",
            "   ***\n",
            "  *****\n",
            " *******\n",
            "*********\n",
            " *******\n",
            "  *****\n",
            "   ***\n",
            "    *\n"
          ]
        }
      ]
    }
  ],
  "metadata": {
    "colab": {
      "name": "scratchpad",
      "provenance": [],
      "include_colab_link": true
    },
    "kernelspec": {
      "display_name": "Python 3",
      "name": "python3"
    }
  },
  "nbformat": 4,
  "nbformat_minor": 0
}