{
  "nbformat": 4,
  "nbformat_minor": 0,
  "metadata": {
    "colab": {
      "private_outputs": true,
      "provenance": [],
      "authorship_tag": "ABX9TyNnqhs+j/QokHPgyXgLz/YE",
      "include_colab_link": true
    },
    "kernelspec": {
      "name": "python3",
      "display_name": "Python 3"
    },
    "language_info": {
      "name": "python"
    }
  },
  "cells": [
    {
      "cell_type": "markdown",
      "metadata": {
        "id": "view-in-github",
        "colab_type": "text"
      },
      "source": [
        "<a href=\"https://colab.research.google.com/github/Sachinvt/Sachinvt/blob/main/Sales_Tass.ipynb\" target=\"_parent\"><img src=\"https://colab.research.google.com/assets/colab-badge.svg\" alt=\"Open In Colab\"/></a>"
      ]
    },
    {
      "cell_type": "code",
      "execution_count": null,
      "metadata": {
        "id": "IxiO0fTzRs9y"
      },
      "outputs": [],
      "source": [
        "# Import all required library\n",
        "import pandas as pd\n",
        "from sklearn.model_selection import train_test_split\n",
        "from sklearn.preprocessing import StandardScaler\n",
        "from sklearn.linear_model import LinearRegression\n",
        "from sklearn.metrics import mean_squared_error, r2_score\n",
        "import numpy as np\n",
        "import seaborn as sns\n",
        "from sklearn.linear_model import Ridge\n",
        "import matplotlib.pyplot as plt"
      ]
    },
    {
      "cell_type": "code",
      "source": [
        " df = pd.read_excel(\"/content/Part no.xlsx\")"
      ],
      "metadata": {
        "id": "gxio6D3lD7ro"
      },
      "execution_count": null,
      "outputs": []
    },
    {
      "cell_type": "code",
      "source": [
        "df.info()"
      ],
      "metadata": {
        "id": "Mf_akbfjMGBv"
      },
      "execution_count": null,
      "outputs": []
    },
    {
      "cell_type": "code",
      "source": [
        "df1 = pd.read_csv(\"/content/Stock_Report_AS_03-Dec-2023.csv\")"
      ],
      "metadata": {
        "id": "LHSaJx7iMQKJ"
      },
      "execution_count": null,
      "outputs": []
    },
    {
      "cell_type": "code",
      "source": [
        "df1.info()"
      ],
      "metadata": {
        "id": "pSJxRknigVDo"
      },
      "execution_count": null,
      "outputs": []
    },
    {
      "cell_type": "code",
      "source": [
        "df.rename(columns={'Part No.': 'ItemCode'}, inplace=True)"
      ],
      "metadata": {
        "id": "UwZsMtaigc8Z"
      },
      "execution_count": null,
      "outputs": []
    },
    {
      "cell_type": "code",
      "source": [
        "df['ItemCode'] = df['ItemCode'].astype(str)"
      ],
      "metadata": {
        "id": "ASPI_sFrhluV"
      },
      "execution_count": null,
      "outputs": []
    },
    {
      "cell_type": "code",
      "source": [
        "merged_df = pd.merge(df, df1, how='left', on='ItemCode')"
      ],
      "metadata": {
        "id": "ihtbpSX4FFEM"
      },
      "execution_count": null,
      "outputs": []
    },
    {
      "cell_type": "code",
      "source": [
        "print(merged_df)"
      ],
      "metadata": {
        "id": "XLYkR2_rFhQS"
      },
      "execution_count": null,
      "outputs": []
    },
    {
      "cell_type": "code",
      "source": [
        "# Create a new column by concatenating \"OnHand\" and \"WhsCode\"\n",
        "merged_df['InHand_Whs'] = merged_df['OnHand'].astype(str) + ' (' + merged_df['WhsCode'] + ')'\n",
        "\n",
        "# Drop duplicate rows based on the \"ItemCode\" column\n",
        "merged_df_unique = merged_df.drop_duplicates(subset='ItemCode')\n",
        "result_df = df1.groupby(['ItemCode', 'ItemName'])['OnHand', 'WhsCode'].agg(lambda x: ', '.join(x.dropna().astype(str))).reset_index()\n",
        "\n",
        "# Display the result dataframe\n",
        "print(result_df)"
      ],
      "metadata": {
        "id": "mMuZ3szJMBfM"
      },
      "execution_count": null,
      "outputs": []
    },
    {
      "cell_type": "code",
      "source": [
        "from google.colab import auth\n",
        "from google.auth import default\n",
        "\n",
        "try:\n",
        "  import gspread\n",
        "except ModuleNotFoundError:\n",
        "  if 'google.colab' in str(get_ipython()):\n",
        "    %pip install gspread\n",
        "  import gspread"
      ],
      "metadata": {
        "id": "A5aoQHnMbjIi"
      },
      "execution_count": null,
      "outputs": []
    },
    {
      "cell_type": "code",
      "source": [
        "auth.authenticate_user()\n",
        "creds, _ = default()\n",
        "gc = gspread.authorize(creds)"
      ],
      "metadata": {
        "id": "EKJRnngdhh0h"
      },
      "execution_count": null,
      "outputs": []
    },
    {
      "cell_type": "code",
      "source": [
        "worksheet = gc.open(\"Tass\")\n",
        "sheet1 = worksheet.sheet1"
      ],
      "metadata": {
        "id": "QgFiXRGRhl2B"
      },
      "execution_count": null,
      "outputs": []
    },
    {
      "cell_type": "code",
      "source": [
        "sheet1.update([result_df.columns.values.tolist()] + result_df.fillna(-1).values.tolist())"
      ],
      "metadata": {
        "id": "0O37oDjEiGHP"
      },
      "execution_count": null,
      "outputs": []
    },
    {
      "cell_type": "code",
      "source": [],
      "metadata": {
        "id": "NtV446pKiNJY"
      },
      "execution_count": null,
      "outputs": []
    }
  ]
}