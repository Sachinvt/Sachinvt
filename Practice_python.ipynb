{
  "cells": [
    {
      "cell_type": "markdown",
      "metadata": {
        "id": "view-in-github",
        "colab_type": "text"
      },
      "source": [
        "<a href=\"https://colab.research.google.com/github/Sachinvt/Sachinvt/blob/main/Practice_python.ipynb\" target=\"_parent\"><img src=\"https://colab.research.google.com/assets/colab-badge.svg\" alt=\"Open In Colab\"/></a>"
      ]
    },
    {
      "cell_type": "code",
      "execution_count": 1,
      "metadata": {
        "colab": {
          "base_uri": "https://localhost:8080/"
        },
        "id": "lIYdn1woOS1n",
        "outputId": "822a2b79-1973-4d6e-c023-4099b5fcb400"
      },
      "outputs": [
        {
          "output_type": "execute_result",
          "data": {
            "text/plain": [
              "1300"
            ]
          },
          "metadata": {},
          "execution_count": 1
        }
      ],
      "source": [
        "ex = list(range(4,101,4))\n",
        "sum(ex)"
      ]
    },
    {
      "cell_type": "code",
      "source": [
        "my_numbers = [15,5,4,7,8,19,97]\n",
        "print(f\"The largest number is {sorted(my_numbers)[-1]}\")\n",
        "print(f\"The second largest number is {(my_numbers)[-2]}\")"
      ],
      "metadata": {
        "id": "Q5oXcFRJwz4K",
        "outputId": "db15da92-ee89-41b9-f83e-01ab22dd251f",
        "colab": {
          "base_uri": "https://localhost:8080/"
        }
      },
      "execution_count": 4,
      "outputs": [
        {
          "output_type": "stream",
          "name": "stdout",
          "text": [
            "The largest number is 97\n",
            "The second largest number is 19\n"
          ]
        }
      ]
    },
    {
      "cell_type": "code",
      "source": [
        "mob_num1 = '+91-456789089'\n",
        "mob_num2 = '+1-567890'\n",
        "print(mob_num1.split('-')[0])\n",
        "print(mob_num2.split('-')[0])"
      ],
      "metadata": {
        "id": "mWEXfXU0xNDz",
        "outputId": "520a7fba-168f-4830-bab8-cee1dd25157f",
        "colab": {
          "base_uri": "https://localhost:8080/"
        }
      },
      "execution_count": 5,
      "outputs": [
        {
          "output_type": "stream",
          "name": "stdout",
          "text": [
            "+91\n",
            "+1\n"
          ]
        }
      ]
    },
    {
      "cell_type": "code",
      "source": [
        "message_list = ['  W','E', ' HA', 'V', 'E ', 'CRE', 'ATED ', 'HIS', 'TORY   ']\n",
        "''.join(message_list).strip().title()"
      ],
      "metadata": {
        "id": "-HlLiBci1bXg",
        "outputId": "11cfa9b7-f9fc-4074-9313-7566c436f380",
        "colab": {
          "base_uri": "https://localhost:8080/",
          "height": 36
        }
      },
      "execution_count": 1,
      "outputs": [
        {
          "output_type": "execute_result",
          "data": {
            "text/plain": [
              "'We Have Created History'"
            ],
            "application/vnd.google.colaboratory.intrinsic+json": {
              "type": "string"
            }
          },
          "metadata": {},
          "execution_count": 1
        }
      ]
    },
    {
      "cell_type": "code",
      "source": [
        "total = 0\n",
        "n = int(input())\n",
        "for i in range(1, n+1):\n",
        "  total+=i\n",
        "print(total)"
      ],
      "metadata": {
        "id": "PYP44ZtP8dgY",
        "outputId": "605e5895-02e7-4a70-e857-8aaf914a55e1",
        "colab": {
          "base_uri": "https://localhost:8080/"
        }
      },
      "execution_count": 3,
      "outputs": [
        {
          "output_type": "stream",
          "name": "stdout",
          "text": [
            "50\n",
            "1275\n"
          ]
        }
      ]
    },
    {
      "cell_type": "code",
      "source": [
        "num = int(input())\n",
        "for i in range(1,num+1):\n",
        "  if i%3==0 or i%5==0:\n",
        "    print(f\"Multiple of 3 or 5 between 1 and {num} is {i}\")"
      ],
      "metadata": {
        "id": "xafCKyjBX2Cz",
        "outputId": "4cb3f036-59f6-4778-c675-b89a6e53a3e7",
        "colab": {
          "base_uri": "https://localhost:8080/"
        }
      },
      "execution_count": 5,
      "outputs": [
        {
          "output_type": "stream",
          "name": "stdout",
          "text": [
            "10\n",
            "Multiple of 3 or 5 between 1 and 10 is 3\n",
            "Multiple of 3 or 5 between 1 and 10 is 5\n",
            "Multiple of 3 or 5 between 1 and 10 is 6\n",
            "Multiple of 3 or 5 between 1 and 10 is 9\n",
            "Multiple of 3 or 5 between 1 and 10 is 10\n"
          ]
        }
      ]
    },
    {
      "cell_type": "code",
      "source": [
        "numbers = [10, 21, 17, 97, 34, 45, 68, 73, 84]\n",
        "even_numbers = []\n",
        "for num in numbers:\n",
        "  if num%2==0:\n",
        "    even_numbers.append(num)\n",
        "print(even_numbers)"
      ],
      "metadata": {
        "id": "fH57UEh-ZADG",
        "outputId": "3ca676d4-7c13-497a-d203-c35feef4f6a0",
        "colab": {
          "base_uri": "https://localhost:8080/"
        }
      },
      "execution_count": 7,
      "outputs": [
        {
          "output_type": "stream",
          "name": "stdout",
          "text": [
            "[10, 34, 68, 84]\n"
          ]
        }
      ]
    },
    {
      "cell_type": "code",
      "source": [
        "text = input(\"Ennter a text:\").lower()\n",
        "vowel = 'aeiou'\n",
        "count = 0\n",
        "for char in text:\n",
        "  if char in vowel:\n",
        "    count+=1\n",
        "print(count)"
      ],
      "metadata": {
        "id": "wWehzJFWZwBL",
        "outputId": "fcaa3222-8894-4aee-d96d-089b4a5fdc49",
        "colab": {
          "base_uri": "https://localhost:8080/"
        }
      },
      "execution_count": 8,
      "outputs": [
        {
          "output_type": "stream",
          "name": "stdout",
          "text": [
            "Ennter a text:Almabetter\n",
            "4\n"
          ]
        }
      ]
    },
    {
      "cell_type": "code",
      "source": [
        "sentence = input(\"Enter a text:\").lower()\n",
        "word_list = sentence.split(' ')\n",
        "shortest_word = word_list[0]\n",
        "for word in word_list:\n",
        "  if len(word)<len(shortest_word):\n",
        "    shortest_word = word\n",
        "    print(word)"
      ],
      "metadata": {
        "id": "dNkW9qw_ahU6",
        "outputId": "a61ac840-2c33-474b-94a9-bcde493fa7d7",
        "colab": {
          "base_uri": "https://localhost:8080/"
        }
      },
      "execution_count": 10,
      "outputs": [
        {
          "output_type": "stream",
          "name": "stdout",
          "text": [
            "Enter a text:python is very powerful\n",
            "is\n"
          ]
        }
      ]
    },
    {
      "cell_type": "code",
      "source": [
        "text = input(\"Enter a text:\").lower()\n",
        "word_list = text.split(' ')\n",
        "shortest_word = word_list[0]\n",
        "for word in word_list:\n",
        "  if len(word) < len(shortest_word):\n",
        "    shortest_word = word\n",
        "print(\"shortest_word:\", shortest_word)"
      ],
      "metadata": {
        "id": "HiotjFdRcHwj",
        "outputId": "c1ea8dae-35d4-4c1b-9406-fc1daee15c4a",
        "colab": {
          "base_uri": "https://localhost:8080/"
        }
      },
      "execution_count": 13,
      "outputs": [
        {
          "output_type": "stream",
          "name": "stdout",
          "text": [
            "Enter a text:sachin and shraddha\n",
            "shortest_word: and\n"
          ]
        }
      ]
    },
    {
      "cell_type": "code",
      "source": [
        "sentence = input(\"Enter a text:\").lower()\n",
        "word_list = sentence.split(' ')\n",
        "shortest_word = word_list[0]\n",
        "for word in word_list:\n",
        "  if len(word)<len(shortest_word):\n",
        "    shortest_word = word\n",
        "\n",
        "print(\"shortest word:\", shortest_word)"
      ],
      "metadata": {
        "id": "C0MnrKVXcjkz",
        "outputId": "4c821ea5-01ee-4d1b-b874-8804359c7d4e",
        "colab": {
          "base_uri": "https://localhost:8080/"
        }
      },
      "execution_count": 5,
      "outputs": [
        {
          "output_type": "stream",
          "name": "stdout",
          "text": [
            "Enter a text:Python is the most famous language\n",
            "shortest word: is\n"
          ]
        }
      ]
    },
    {
      "cell_type": "code",
      "source": [
        "cart = [7, 15, 35, 80, 5]\n",
        "total_cost = 0\n",
        "\n",
        "for item in cart:\n",
        "  if item < 10:\n",
        "    total_cost+=item\n",
        "  elif item<=10:\n",
        "    total_cost += item*0.9\n",
        "  else:\n",
        "    total_cost += item*0.8\n",
        "\n",
        "print(f\"Total cost after discount: ${total_cost:.1f}\")"
      ],
      "metadata": {
        "id": "ffFSlFD1Yyo-",
        "outputId": "2c40f46b-286d-4901-8548-d4c643fc457a",
        "colab": {
          "base_uri": "https://localhost:8080/"
        }
      },
      "execution_count": 9,
      "outputs": [
        {
          "output_type": "stream",
          "name": "stdout",
          "text": [
            "Total cost after discount: $116.0\n"
          ]
        }
      ]
    },
    {
      "cell_type": "code",
      "source": [
        "cart = [7, 15, 35, 80, 5]\n",
        "\n",
        "total_cost = 0\n",
        "for item in cart:\n",
        "    if item < 10:\n",
        "        total_cost += item\n",
        "    elif item <= 50:\n",
        "        total_cost += item * 0.9  # 10% discount\n",
        "    else:\n",
        "        total_cost += item * 0.8  # 20% discount\n",
        "\n",
        "print(f\"Total cost after discounts: ${total_cost:.1f}\")"
      ],
      "metadata": {
        "id": "ox_6Nl-Aco0s",
        "outputId": "369a3082-cac4-46ca-e73c-a9e91593e2ad",
        "colab": {
          "base_uri": "https://localhost:8080/"
        }
      },
      "execution_count": 10,
      "outputs": [
        {
          "output_type": "stream",
          "name": "stdout",
          "text": [
            "Total cost after discounts: $121.0\n"
          ]
        }
      ]
    },
    {
      "cell_type": "code",
      "source": [
        "cart = [7, 15, 35, 80, 5]\n",
        "total_cost = 0\n",
        "\n",
        "for item in cart:\n",
        "  if item<10:\n",
        "    total_cost += item\n",
        "  elif item <= 50:\n",
        "    total_cost += item * 0.9 # for 10% discount\n",
        "  else:\n",
        "    total_cost += item * 0.8 # for 20% discount\n",
        "\n",
        "print(f\"Total cost after discount: ${total_cost:.1f}\")"
      ],
      "metadata": {
        "id": "pjbFGzEFdFt2",
        "outputId": "bd41697b-b9a8-4319-ff31-e4c6831c5e67",
        "colab": {
          "base_uri": "https://localhost:8080/"
        }
      },
      "execution_count": 12,
      "outputs": [
        {
          "output_type": "stream",
          "name": "stdout",
          "text": [
            "Total cost after discount: $121.0\n"
          ]
        }
      ]
    },
    {
      "cell_type": "code",
      "source": [
        "lower_limit = int(input(\"Enter a lower limit of number(only +vs are accepted): \"))\n",
        "upper_limit = int(input(\"Enter a upper limit of number(only +vs are accepted): \"))\n",
        "\n",
        "prime_numbers = []\n",
        "\n",
        "if lower_limit < 0 or upper_limit < 0 or (lower_limit > upper_limit):\n",
        "  print(\"Invalid_input\")\n",
        "else:\n",
        "  for num in range(lower_limit, upper_limit+1):\n",
        "    prime_check = True\n",
        "    if num == 0 or num == 1:\n",
        "      prime_check = False\n",
        "    else:\n",
        "      for i in range(2,num):\n",
        "        if num % i ==0:\n",
        "          prime_check = False\n",
        "          break\n",
        "      if prime_check == True:\n",
        "        prime_numbers.append(num)\n",
        "\n",
        "print(f\"The prime number between range {lower_limit} and {upper_limit} is {prime_numbers}\")"
      ],
      "metadata": {
        "id": "1WN60orFdj4W",
        "outputId": "0a2f74d6-a67e-47ed-b43b-8616246cdc45",
        "colab": {
          "base_uri": "https://localhost:8080/"
        }
      },
      "execution_count": 14,
      "outputs": [
        {
          "output_type": "stream",
          "name": "stdout",
          "text": [
            "Enter a lower limit of number(only +vs are accepted): 0\n",
            "Enter a upper limit of number(only +vs are accepted): 10\n",
            "The prime number between range 0 and 10 is [2, 3, 5, 7]\n"
          ]
        }
      ]
    },
    {
      "cell_type": "code",
      "source": [
        "lower_limit = int(input(\"Enter a lower limit of number(only +vs are accepted): \"))\n",
        "upper_limit = int(input(\"Enter a upper limit of number(only +vs are accepted): \"))\n",
        "\n",
        "prime_numbers = []\n",
        "\n",
        "if lower_limit < 0 or upper_limit < 0 or (lower_limit > upper_limit):\n",
        "  print(\"Invalid input\")\n",
        "else:\n",
        "  for num in range(lower_limit, upper_limit+1):\n",
        "    prime_check = True\n",
        "    if num ==0 or num ==1:\n",
        "      prime_check = False\n",
        "    else:\n",
        "      for i in range(2, num):\n",
        "        if num % i ==0:\n",
        "          prime_check = False\n",
        "          break\n",
        "      if prime_check == True:\n",
        "        prime_numbers.append(num)\n",
        "        count = 0\n",
        "        for i in prime_numbers:\n",
        "          count+=1\n",
        "\n",
        "\n",
        "print(f\"The prime numbers of range between {lower_limit} and {upper_limit} is {prime_numbers} \")\n",
        "print(f\"Count of prime numbers between range {lower_limit} and {upper_limit} is {count}\")"
      ],
      "metadata": {
        "id": "jXF1U5NSiMYL",
        "outputId": "12d40dce-8936-4c27-fee5-6ec1c3be2c1b",
        "colab": {
          "base_uri": "https://localhost:8080/"
        }
      },
      "execution_count": 22,
      "outputs": [
        {
          "output_type": "stream",
          "name": "stdout",
          "text": [
            "Enter a lower limit of number(only +vs are accepted): 0\n",
            "Enter a upper limit of number(only +vs are accepted): 10\n",
            "The prime numbers of range between 0 and 10 is [2, 3, 5, 7] \n",
            "Count of prime numbers between range 0 and 10 is 4\n"
          ]
        }
      ]
    },
    {
      "cell_type": "code",
      "source": [
        "lower_limit = int(input())\n",
        "upper_limit = int(input())\n",
        "prime_numbers = []\n",
        "if lower_limit <0 or upper_limit < 0 or (lower_limit>upper_limit):\n",
        "  print(\"Invalid Input\")\n",
        "else:\n",
        "  for num in range(lower_limit, upper_limit+1):\n",
        "    prime_check = True\n",
        "    if num == 0 or num == 1:\n",
        "      prime_check = False\n",
        "    else:\n",
        "      for i in range(2,num):\n",
        "        if num % i ==0:\n",
        "          prime_check = False\n",
        "          break\n",
        "      if prime_check==True:\n",
        "        prime_numbers.append(num)\n",
        "        count = 0\n",
        "        sum = 0\n",
        "        for i in prime_numbers:\n",
        "          count+=1\n",
        "          sum += i\n",
        "\n",
        "print(f\"The prime numbers between range {lower_limit} and {upper_limit} is {prime_numbers}\")\n",
        "print(f\"The count of prime numbers between range {lower_limit} and {upper_limit} is {count}\")\n",
        "print(f\"The sume of prime numbers betwwen {lower_limit} and {upper_limit} is {sum}\")"
      ],
      "metadata": {
        "id": "irHhVjHhj211",
        "outputId": "cee89448-13d1-42cc-b5f2-8d2b9dc0ad74",
        "colab": {
          "base_uri": "https://localhost:8080/"
        }
      },
      "execution_count": 24,
      "outputs": [
        {
          "output_type": "stream",
          "name": "stdout",
          "text": [
            "0\n",
            "10\n",
            "The prime numbers between range 0 and 10 is [2, 3, 5, 7]\n",
            "The count of prime numbers between range 0 and 10 is 4\n",
            "The sume of prime numbers betwwen 0 and 10 is 17\n"
          ]
        }
      ]
    },
    {
      "cell_type": "code",
      "source": [
        "depth = int(input())\n",
        "for i in range(1,depth+1):\n",
        "  print('*'*i)"
      ],
      "metadata": {
        "id": "qa68ffvjoYQM",
        "outputId": "6829ebaa-d03d-4747-9994-88fed0653e44",
        "colab": {
          "base_uri": "https://localhost:8080/"
        }
      },
      "execution_count": 25,
      "outputs": [
        {
          "output_type": "stream",
          "name": "stdout",
          "text": [
            "4\n",
            "*\n",
            "**\n",
            "***\n",
            "****\n"
          ]
        }
      ]
    },
    {
      "cell_type": "code",
      "source": [
        "depth = int(input())\n",
        "for i in range(1,depth*2):\n",
        "  if i <= depth:\n",
        "    print('*'*i)\n",
        "  else:\n",
        "    print('*'*(depth*2-i))"
      ],
      "metadata": {
        "id": "suBcg9pbpII-",
        "outputId": "8ef18948-46e2-4c45-e67c-4590f062a258",
        "colab": {
          "base_uri": "https://localhost:8080/"
        }
      },
      "execution_count": 30,
      "outputs": [
        {
          "output_type": "stream",
          "name": "stdout",
          "text": [
            "4\n",
            "*\n",
            "**\n",
            "***\n",
            "****\n",
            "***\n",
            "**\n",
            "*\n"
          ]
        }
      ]
    },
    {
      "cell_type": "code",
      "source": [
        "depth = int(input())\n",
        "for i in range(1,depth*2):\n",
        "  if i <= depth:\n",
        "    print('*'*i)\n",
        "  else:\n",
        "    print('*'*(depth*2-i))"
      ],
      "metadata": {
        "id": "3m06yJOesUvd",
        "outputId": "aaacf509-53c3-40b6-e247-b19402e4ff3f",
        "colab": {
          "base_uri": "https://localhost:8080/"
        }
      },
      "execution_count": 33,
      "outputs": [
        {
          "output_type": "stream",
          "name": "stdout",
          "text": [
            "4\n",
            "*\n",
            "**\n",
            "***\n",
            "****\n",
            "***\n",
            "**\n",
            "*\n"
          ]
        }
      ]
    },
    {
      "cell_type": "code",
      "source": [
        "depth = int(input())\n",
        "for i in range(1, depth*2):\n",
        "  if i <= depth:\n",
        "    print('*'*i)\n",
        "  else:\n",
        "    print('*'*(depth*2-i))"
      ],
      "metadata": {
        "id": "QXFwQ3bgs72l",
        "outputId": "27cd83e1-ae63-4ede-d35a-95878676552d",
        "colab": {
          "base_uri": "https://localhost:8080/"
        }
      },
      "execution_count": 34,
      "outputs": [
        {
          "output_type": "stream",
          "name": "stdout",
          "text": [
            "5\n",
            "*\n",
            "**\n",
            "***\n",
            "****\n",
            "*****\n",
            "****\n",
            "***\n",
            "**\n",
            "*\n"
          ]
        }
      ]
    },
    {
      "cell_type": "code",
      "source": [
        "alphabet = 'abcdefghijklmnopqrstuvwxyz'\n",
        "reverse_alphabet = alphabet[::-1]\n",
        "enscript_code = dict(zip(alphabet, reverse_alphabet))\n",
        "message = input().lower()\n",
        "message_enscript = []\n",
        "for ch in message:\n",
        "  if ch in alphabet:\n",
        "    message_enscript.append(enscript_code[ch])\n",
        "  else:\n",
        "    message_enscript.append(ch)\n",
        "print(f\"Message: {message}, Encrypt Message: {''.join(message_enscript)}\")"
      ],
      "metadata": {
        "id": "mwxQlmcw4uhC",
        "outputId": "4bfe2053-766b-4ea3-bcdd-96ad69df8cf7",
        "colab": {
          "base_uri": "https://localhost:8080/"
        }
      },
      "execution_count": 38,
      "outputs": [
        {
          "output_type": "stream",
          "name": "stdout",
          "text": [
            "alma better\n",
            "Message: alma better, Encrypt Message: zonz yvggvi\n"
          ]
        }
      ]
    },
    {
      "cell_type": "code",
      "source": [
        "alphabet = 'abcdefghijklmnopqrstuvwxyz'\n",
        "reverse_alphabet = alphabet[::-1]\n",
        "message = input().lower()\n",
        "encrypt_code = dict(zip(alphabet, reverse_alphabet))\n",
        "encrypt_message = []\n",
        "for ch in message:\n",
        "  if ch in alphabet:\n",
        "    encrypt_message.append(encrypt_code[ch])\n",
        "  else:\n",
        "    encrypt_message.append(ch)\n",
        "print(f\"Message: {message}, Encrypt_message: {''.join(encrypt_message)}\")"
      ],
      "metadata": {
        "id": "KvCcpRp462di",
        "outputId": "0020f1eb-bc34-48fa-ef86-ab4bb9698050",
        "colab": {
          "base_uri": "https://localhost:8080/"
        }
      },
      "execution_count": 42,
      "outputs": [
        {
          "output_type": "stream",
          "name": "stdout",
          "text": [
            "z\n",
            "Message: z, Encrypt_message: a\n"
          ]
        }
      ]
    },
    {
      "cell_type": "code",
      "source": [
        "alphabet = 'abcdefghijklmnopqrstuvwxyz'\n",
        "reverse_alphabet = alphabet[::-1]\n",
        "encrypt_code = dict(zip(alphabet, reverse_alphabet))\n",
        "message = input().lower()\n",
        "encrypt_message = []\n",
        "for ch in message:\n",
        "  if ch in alphabet:\n",
        "    encrypt_message.append(encrypt_code[ch])\n",
        "  else:\n",
        "    encrypt_message.append(ch)\n",
        "print(f\"Message: {message}, Encrypt_message: {''.join(encrypt_message)}\")"
      ],
      "metadata": {
        "id": "YNvd9k6E9Zw_",
        "outputId": "b6b62c4b-ad67-4d9f-f687-aea013f3b555",
        "colab": {
          "base_uri": "https://localhost:8080/"
        }
      },
      "execution_count": 43,
      "outputs": [
        {
          "output_type": "stream",
          "name": "stdout",
          "text": [
            "alma better\n",
            "Message: alma better, Encrypt_message: zonz yvggvi\n"
          ]
        }
      ]
    },
    {
      "cell_type": "code",
      "source": [
        "n = int(input(\"Enter a number (+vs number accepted): \"))\n",
        "\n",
        "if n < 0 :\n",
        "  print(\"Invalid Number, only +ve number is accepted\")\n",
        "else:\n",
        "  factorial = 1\n",
        "  for i in range(1, n+1):\n",
        "    factorial *= i\n",
        "print(factorial)"
      ],
      "metadata": {
        "id": "SvEm9JuV-jL4",
        "outputId": "270e6d04-5d78-4cf6-f3b7-ed7681227c65",
        "colab": {
          "base_uri": "https://localhost:8080/"
        }
      },
      "execution_count": 49,
      "outputs": [
        {
          "output_type": "stream",
          "name": "stdout",
          "text": [
            "Enter a number (+vs number accepted): 5\n",
            "120\n"
          ]
        }
      ]
    },
    {
      "cell_type": "code",
      "source": [
        "start = int(input(\"Enter a number (only >10 number is accepted): \"))\n",
        "end = int(input(\"Enter a number (only >10 number is accepted): \"))\n",
        "\n",
        "if start <10 or end<10 or (start > end):\n",
        "  print(\"Invalid Input\")\n",
        "else:\n",
        "  armstrong_number = []\n",
        "  for num in range(start, end+1):\n",
        "    digit = len(str(num))\n",
        "    arms_number = 0\n",
        "    for i in str(num):\n",
        "      arms_number += int(i)**digit\n",
        "      if num == arms_number:\n",
        "        armstrong_number.append(arms_number)\n",
        "print(f\"Armstrong Number between {start} and {end} is {armstrong_number}\")"
      ],
      "metadata": {
        "id": "UOB-YTzx_eCy",
        "outputId": "1289da5d-9f94-4209-8d8f-e3e0a2ccd556",
        "colab": {
          "base_uri": "https://localhost:8080/"
        }
      },
      "execution_count": 50,
      "outputs": [
        {
          "output_type": "stream",
          "name": "stdout",
          "text": [
            "Enter a number (only >10 number is accepted): 100\n",
            "Enter a number (only >10 number is accepted): 500\n",
            "Armstrong Number between 100 and 500 is [153, 370, 370, 371, 407]\n"
          ]
        }
      ]
    },
    {
      "cell_type": "code",
      "source": [
        "7**3"
      ],
      "metadata": {
        "id": "u1zvT9YCCejt",
        "outputId": "531b5dba-3510-43c3-ee64-f184fa7f5ef9",
        "colab": {
          "base_uri": "https://localhost:8080/"
        }
      },
      "execution_count": 51,
      "outputs": [
        {
          "output_type": "execute_result",
          "data": {
            "text/plain": [
              "343"
            ]
          },
          "metadata": {},
          "execution_count": 51
        }
      ]
    },
    {
      "cell_type": "code",
      "source": [
        "343+27"
      ],
      "metadata": {
        "id": "A9yD2ZI1CoWU",
        "outputId": "8eea5884-cf39-48f0-be4a-a11d6d1e217b",
        "colab": {
          "base_uri": "https://localhost:8080/"
        }
      },
      "execution_count": 53,
      "outputs": [
        {
          "output_type": "execute_result",
          "data": {
            "text/plain": [
              "370"
            ]
          },
          "metadata": {},
          "execution_count": 53
        }
      ]
    },
    {
      "cell_type": "code",
      "source": [
        "start = int(input(\"Enter a number (only >10 number is accepted): \"))\n",
        "end = int(input(\"Enter a number (only >10 number is accepted): \"))\n",
        "\n",
        "if start < 0 or end < 0 or start>end:\n",
        "  print(\"Invalid Input\")\n",
        "else:\n",
        "  armstrong_number = []\n",
        "  for num in range(start, end+1):\n",
        "    digit = len(str(num))\n",
        "    arms_num = 0\n",
        "    for i in str(num):\n",
        "      arms_num += int(i)**digit\n",
        "      if num == arms_num:\n",
        "        armstrong_number.append(arms_num)\n",
        "\n",
        "print(f\"Armstrong number between {start} and {end} is {armstrong_number}\")"
      ],
      "metadata": {
        "id": "CBdSUxokCrNb",
        "outputId": "1b45eaae-071b-4f00-f3d2-7a418cc91ca0",
        "colab": {
          "base_uri": "https://localhost:8080/"
        }
      },
      "execution_count": 55,
      "outputs": [
        {
          "output_type": "stream",
          "name": "stdout",
          "text": [
            "Enter a number (only >10 number is accepted): 100\n",
            "Enter a number (only >10 number is accepted): 600\n",
            "Armstrong number between 100 and 600 is [153, 370, 370, 371, 407]\n"
          ]
        }
      ]
    },
    {
      "cell_type": "code",
      "source": [
        "def calculate_production_cost(item_cost):\n",
        "  total_cost = 0\n",
        "  for cost in item_cost:\n",
        "    total_cost += cost\n",
        "  return total_cost\n",
        "\n",
        "item_cost = [10,20,30,40,50]\n",
        "total_prodcution_cost = calculate_production_cost(item_cost)\n",
        "print(f\"Total production cost is: {total_prodcution_cost}\")"
      ],
      "metadata": {
        "id": "kPbTjlGeGcOh",
        "outputId": "01223c4b-4656-4443-cfe3-a8254b6a8a91",
        "colab": {
          "base_uri": "https://localhost:8080/"
        }
      },
      "execution_count": 57,
      "outputs": [
        {
          "output_type": "stream",
          "name": "stdout",
          "text": [
            "Total production cost is: 150\n"
          ]
        }
      ]
    },
    {
      "cell_type": "code",
      "source": [
        "def find_defective_item(items):\n",
        "  defective_item = []\n",
        "  for item in items:\n",
        "    if item['defective']==True:\n",
        "      defective_item.append(item)\n",
        "  return defective_item\n",
        "\n",
        "item_info = [{'name': 'Product A', 'defective': False}, {'name': 'Product B', 'defective': True}]\n",
        "find_defective_item(items= item_info)"
      ],
      "metadata": {
        "id": "f0tS2jOgd2TS",
        "outputId": "a329691a-9982-4717-b452-31d609bd58ee",
        "colab": {
          "base_uri": "https://localhost:8080/"
        }
      },
      "execution_count": 61,
      "outputs": [
        {
          "output_type": "execute_result",
          "data": {
            "text/plain": [
              "[{'name': 'Product B', 'defective': True}]"
            ]
          },
          "metadata": {},
          "execution_count": 61
        }
      ]
    },
    {
      "cell_type": "code",
      "source": [
        "def find_max_temp(temperatures):\n",
        "    max_temp = sorted(temperatures, reverse=True)[0]\n",
        "    return max_temp\n",
        "\n",
        "temperatures = [25.5, 28.0, 24.8, 30.2, 27.3]\n",
        "find_max_temp(temperatures)"
      ],
      "metadata": {
        "id": "XdJ3qUdVfCGe",
        "outputId": "425f1f51-afeb-4f04-e011-fcde0aa9fa61",
        "colab": {
          "base_uri": "https://localhost:8080/"
        }
      },
      "execution_count": 66,
      "outputs": [
        {
          "output_type": "execute_result",
          "data": {
            "text/plain": [
              "30.2"
            ]
          },
          "metadata": {},
          "execution_count": 66
        }
      ]
    },
    {
      "cell_type": "code",
      "source": [
        "grades = [75, 45, 90, 30, 80, 55]\n",
        "passed_students = [nums for nums in grades if nums>=60]\n",
        "print(passed_students)"
      ],
      "metadata": {
        "id": "CMV8_i01f70C",
        "outputId": "11317add-c4a7-4fee-f037-d03ea3d38c0b",
        "colab": {
          "base_uri": "https://localhost:8080/"
        }
      },
      "execution_count": 68,
      "outputs": [
        {
          "output_type": "stream",
          "name": "stdout",
          "text": [
            "[75, 90, 80]\n"
          ]
        }
      ]
    },
    {
      "cell_type": "code",
      "source": [
        "passed_students = list(filter(lambda x: x >=60, grades))\n",
        "print(passed_students)"
      ],
      "metadata": {
        "id": "GL-R3gBshlsa",
        "outputId": "c3df1838-2121-4d65-fdf2-773bf96e00c5",
        "colab": {
          "base_uri": "https://localhost:8080/"
        }
      },
      "execution_count": 70,
      "outputs": [
        {
          "output_type": "stream",
          "name": "stdout",
          "text": [
            "[75, 90, 80]\n"
          ]
        }
      ]
    },
    {
      "cell_type": "code",
      "source": [
        "prices = [50, 100, 150, 200]\n",
        "print(list(map(lambda x: round(x*.9),prices)))"
      ],
      "metadata": {
        "id": "t91bY6n4h4Of",
        "outputId": "9b93eea2-49af-49cf-b3a5-39147175dc12",
        "colab": {
          "base_uri": "https://localhost:8080/"
        }
      },
      "execution_count": 71,
      "outputs": [
        {
          "output_type": "stream",
          "name": "stdout",
          "text": [
            "[45, 90, 135, 180]\n"
          ]
        }
      ]
    },
    {
      "cell_type": "code",
      "source": [
        "salaries = [48000, 55000, 60000, 42000, 70000]\n",
        "high_salary_employees = list(filter(lambda x: x>=50000, salaries))\n",
        "print(high_salary_employees)"
      ],
      "metadata": {
        "id": "AlApPxDOiu_s",
        "outputId": "0d02dc1d-23a4-4cb9-8aa5-d759e69845cc",
        "colab": {
          "base_uri": "https://localhost:8080/"
        }
      },
      "execution_count": 74,
      "outputs": [
        {
          "output_type": "stream",
          "name": "stdout",
          "text": [
            "[55000, 60000, 70000]\n"
          ]
        }
      ]
    },
    {
      "cell_type": "code",
      "source": [
        "words = ['apple', 'banana', 'kiwi', 'orange', 'grape']\n",
        "word_length = {word:len(word) for word in words}\n",
        "print(word_length)"
      ],
      "metadata": {
        "id": "egSbEZeqjYfJ",
        "outputId": "14090e41-3c5f-4f2f-da14-9375fe2c2bfa",
        "colab": {
          "base_uri": "https://localhost:8080/"
        }
      },
      "execution_count": 80,
      "outputs": [
        {
          "output_type": "stream",
          "name": "stdout",
          "text": [
            "{'apple': 5, 'banana': 6, 'kiwi': 4, 'orange': 6, 'grape': 5}\n"
          ]
        }
      ]
    },
    {
      "cell_type": "code",
      "source": [
        "words = ['apple', 'banana', 'kiwi', 'orange', 'grape']\n",
        "word_lengths = {word: len(word) for word in words}\n",
        "print(word_lengths)"
      ],
      "metadata": {
        "id": "SsJpKRPdkDi1",
        "outputId": "b2ec6820-34d6-4505-95e8-fa8d3a2f1801",
        "colab": {
          "base_uri": "https://localhost:8080/"
        }
      },
      "execution_count": 81,
      "outputs": [
        {
          "output_type": "stream",
          "name": "stdout",
          "text": [
            "{'apple': 5, 'banana': 6, 'kiwi': 4, 'orange': 6, 'grape': 5}\n"
          ]
        }
      ]
    },
    {
      "cell_type": "code",
      "source": [
        "depth = int(input())\n",
        "for i in range(1,depth+1):\n",
        "  print((str(i) + ' ')*i, end = '')\n",
        "  print()"
      ],
      "metadata": {
        "id": "Uzs3QKc3krfY",
        "outputId": "bfe336af-56e6-47d4-cf53-9864533d6192",
        "colab": {
          "base_uri": "https://localhost:8080/"
        }
      },
      "execution_count": 83,
      "outputs": [
        {
          "output_type": "stream",
          "name": "stdout",
          "text": [
            "5\n",
            "1 \n",
            "2 2 \n",
            "3 3 3 \n",
            "4 4 4 4 \n",
            "5 5 5 5 5 \n"
          ]
        }
      ]
    },
    {
      "cell_type": "code",
      "source": [
        "depth = int(input())\n",
        "for i in range(1, depth+1):\n",
        "  for j in range(1, i+1):\n",
        "    print(str(j) , end = ' ')\n",
        "  print()"
      ],
      "metadata": {
        "id": "gWLUdjmilcl-",
        "outputId": "51bcdf27-26a5-4b65-a73c-3c20a65966a0",
        "colab": {
          "base_uri": "https://localhost:8080/"
        }
      },
      "execution_count": 90,
      "outputs": [
        {
          "output_type": "stream",
          "name": "stdout",
          "text": [
            "5\n",
            "1 \n",
            "1 2 \n",
            "1 2 3 \n",
            "1 2 3 4 \n",
            "1 2 3 4 5 \n"
          ]
        }
      ]
    },
    {
      "cell_type": "code",
      "source": [
        "depth = int(input())\n",
        "for i in range(1, depth+1):\n",
        "  print((str(i) + ' ')*(depth-i+1), end = '')\n",
        "  print()"
      ],
      "metadata": {
        "id": "MgTa8m1gmF3A",
        "outputId": "54255a7d-c742-49ac-8ff6-c6865b03b719",
        "colab": {
          "base_uri": "https://localhost:8080/"
        }
      },
      "execution_count": 97,
      "outputs": [
        {
          "output_type": "stream",
          "name": "stdout",
          "text": [
            "5\n",
            "1 1 1 1 1 \n",
            "2 2 2 2 \n",
            "3 3 3 \n",
            "4 4 \n",
            "5 \n"
          ]
        }
      ]
    },
    {
      "cell_type": "code",
      "source": [
        "depth = int(input())\n",
        "for i in range(1,depth+1):\n",
        "  print('*'*i)"
      ],
      "metadata": {
        "id": "U_gyX-ilm4Pj",
        "outputId": "81b7481b-ec8d-4a92-d12e-66c2f5cb63ab",
        "colab": {
          "base_uri": "https://localhost:8080/"
        }
      },
      "execution_count": 98,
      "outputs": [
        {
          "output_type": "stream",
          "name": "stdout",
          "text": [
            "5\n",
            "*\n",
            "**\n",
            "***\n",
            "****\n",
            "*****\n"
          ]
        }
      ]
    },
    {
      "cell_type": "code",
      "source": [
        "def check_divisibility(num):\n",
        "  # convert the num into string to iterate through each digit\n",
        "  num_str = str(num)\n",
        "\n",
        "  # Iterate through each digit and check its divisibility with number\n",
        "  for digit_str in num_str:\n",
        "    digit = int(digit_str)\n",
        "    if digit ==0 or num % digit !=0:\n",
        "      return \"No\"\n",
        "  return \"Yes\"\n",
        "\n",
        "num1 = 128\n",
        "num2 = 130\n",
        "\n",
        "print(f\"Input: {num1}, Output: {check_divisibility(num1)} \")\n",
        "print(f\"Input: {num2}, Output: {check_divisibility(num2)}\")"
      ],
      "metadata": {
        "id": "aoW9isJ3nemF",
        "outputId": "389bccef-4f41-4a4d-a71a-daa7501ab939",
        "colab": {
          "base_uri": "https://localhost:8080/"
        }
      },
      "execution_count": 6,
      "outputs": [
        {
          "output_type": "stream",
          "name": "stdout",
          "text": [
            "Input: 128, Output: Yes \n",
            "Input: 130, Output: No\n"
          ]
        }
      ]
    },
    {
      "cell_type": "code",
      "source": [
        "def check_divisibility(num):\n",
        "  # convert num into string\n",
        "  num_str = str(num)\n",
        "\n",
        "  # Iterate through each digit to check divisibility\n",
        "  for digit_str in num_str:\n",
        "    digit = int(digit_str)\n",
        "    if digit ==0 or num % digit != 0:\n",
        "      return \"No\"\n",
        "  return \"Yes\"\n",
        "\n",
        "num1 = 128\n",
        "num2 = 130\n",
        "\n",
        "print(f\"Input: {num1}, Output: {check_divisibility(num1)}\")\n",
        "print(f\"Input: {num2}, Output: {check_divisibility(num2)}\")"
      ],
      "metadata": {
        "id": "1-2iaBn5HuVB",
        "outputId": "241f4317-f883-4431-e7bc-6c04eb9dc135",
        "colab": {
          "base_uri": "https://localhost:8080/"
        }
      },
      "execution_count": 7,
      "outputs": [
        {
          "output_type": "stream",
          "name": "stdout",
          "text": [
            "Input: 128, Output: Yes\n",
            "Input: 130, Output: No\n"
          ]
        }
      ]
    },
    {
      "cell_type": "code",
      "source": [
        "def check_divisibility(num):\n",
        "  # convert num into string\n",
        "  num_str = str(num)\n",
        "  # Iterate through num to check divisibility\n",
        "  for digit_str in num_str:\n",
        "    digit = int(digit_str)\n",
        "    if digit ==0 or num % digit != 0:\n",
        "      return \"No\"\n",
        "  return \"Yes\"\n",
        "\n",
        "num1 = 128\n",
        "num2 = 130\n",
        "\n",
        "print(f\"Input: {num1}, Output: {check_divisibility(num1)}\")\n",
        "print(f\"Input: {num2}, Output: {check_divisibility(num2)}\")"
      ],
      "metadata": {
        "id": "aFR71ekZPMLW",
        "outputId": "25775cb2-4964-48f0-9209-0208029ced9d",
        "colab": {
          "base_uri": "https://localhost:8080/"
        }
      },
      "execution_count": 8,
      "outputs": [
        {
          "output_type": "stream",
          "name": "stdout",
          "text": [
            "Input: 128, Output: Yes\n",
            "Input: 130, Output: No\n"
          ]
        }
      ]
    },
    {
      "cell_type": "code",
      "source": [
        "def count_solution(A,B):\n",
        "  count = 0\n",
        "  for X in range(1, A+1):\n",
        "    if A % X == B:\n",
        "      count+=1\n",
        "  return count\n",
        "\n",
        "# Test cases\n",
        "A1, B1 = 26, 2\n",
        "A2, B2 = 21, 5\n",
        "\n",
        "output1 = count_solution(A1, B1)\n",
        "output2 = count_solution(A2, B2)\n",
        "\n",
        "print(f\"Input: A={A1}, B={B1}, Output: {output1}\")\n",
        "print(f\"Input: A={A2}, B={B2}, Output: {output2}\")"
      ],
      "metadata": {
        "id": "WIB9cpmEeYKU",
        "outputId": "37aa8c20-4590-48dd-faef-bcf56a631ec4",
        "colab": {
          "base_uri": "https://localhost:8080/"
        }
      },
      "execution_count": 10,
      "outputs": [
        {
          "output_type": "stream",
          "name": "stdout",
          "text": [
            "Input: A=26, B=2, Output: 6\n",
            "Input: A=21, B=5, Output: 2\n"
          ]
        }
      ]
    },
    {
      "cell_type": "code",
      "source": [
        "def even_dividers(num):\n",
        "  sum = 0\n",
        "  for i in range(1,num+1):\n",
        "    if i % 2==0:\n",
        "      for j in range(i,i+1):\n",
        "        if num % i ==0:\n",
        "          sum += i\n",
        "  return sum\n",
        "\n",
        "num1 = 30\n",
        "num2 = 18\n",
        "\n",
        "output1 = even_dividers(num1)\n",
        "output2 = even_dividers(num2)\n",
        "\n",
        "print(f\"Input: {num1}, Output: {output1}\")\n",
        "print(f\"Input: {num2}, Output: {output2}\")"
      ],
      "metadata": {
        "id": "4hJwn0w7hAKs",
        "outputId": "7a0fc6e6-94dd-4f0d-b256-f43d8a87761a",
        "colab": {
          "base_uri": "https://localhost:8080/"
        }
      },
      "execution_count": 31,
      "outputs": [
        {
          "output_type": "stream",
          "name": "stdout",
          "text": [
            "Input: 30, Output: 48\n",
            "Input: 18, Output: 26\n"
          ]
        }
      ]
    },
    {
      "cell_type": "code",
      "source": [
        "def even_sum_divider(num):\n",
        "  even_sum = 0\n",
        "  for i in range(1,num+1):\n",
        "    if num % i ==0:\n",
        "      for j in range(i,i+1):\n",
        "        if i % 2 ==0:\n",
        "          even_sum += i\n",
        "  return even_sum\n",
        "\n",
        "num1 = 30\n",
        "num2 = 18\n",
        "print(even_sum_divider(num1))\n",
        "print(even_sum_divider(num2))"
      ],
      "metadata": {
        "id": "S95SpM_gh8nz",
        "outputId": "a6f15ee8-1ad1-4083-a4e6-5794e67df753",
        "colab": {
          "base_uri": "https://localhost:8080/"
        }
      },
      "execution_count": 34,
      "outputs": [
        {
          "output_type": "stream",
          "name": "stdout",
          "text": [
            "48\n",
            "26\n"
          ]
        }
      ]
    },
    {
      "cell_type": "code",
      "source": [
        "def most_occuring_character(str):\n",
        "  char_count = {}\n",
        "  for char in str:\n",
        "    char_count[char] = char_count.get(char, 0)+1\n",
        "  most_occuring_char = max(char_count, key = char_count.get)\n",
        "  return most_occuring_char, char_count[most_occuring_char]\n",
        "\n",
        "str1 = \"hello\"\n",
        "str2 = \"geeksforgeeks\"\n",
        "\n",
        "output1 = most_occuring_character(str1)\n",
        "output2 = most_occuring_character(str2)\n",
        "\n",
        "print(f\"Input: {str1}, Output: {output1}\")\n",
        "print(f\"Input: {str2}, Output: {output2}\")"
      ],
      "metadata": {
        "id": "ZhCrEyDrt6-L",
        "outputId": "1a73229c-6e24-43dd-f93c-055a028db97e",
        "colab": {
          "base_uri": "https://localhost:8080/"
        }
      },
      "execution_count": 3,
      "outputs": [
        {
          "output_type": "stream",
          "name": "stdout",
          "text": [
            "Input: hello, Output: ('l', 2)\n",
            "Input: geeksforgeeks, Output: ('e', 4)\n"
          ]
        }
      ]
    },
    {
      "cell_type": "code",
      "source": [
        "def most_occuring_character(str):\n",
        "  char_count = {}\n",
        "  for char in str:\n",
        "    char_count[char] = char_count.get(char, 0)+1\n",
        "  most_occuring_char = max(char_count, key = char_count.get)\n",
        "  return most_occuring_char, char_count[most_occuring_char]\n",
        "\n",
        "d = input()\n",
        "print(most_occuring_character(d))"
      ],
      "metadata": {
        "id": "SopR2KcIkRkG",
        "outputId": "e43173e7-b2c7-4c12-e4bc-463ce73c556b",
        "colab": {
          "base_uri": "https://localhost:8080/"
        }
      },
      "execution_count": 6,
      "outputs": [
        {
          "output_type": "stream",
          "name": "stdout",
          "text": [
            "geeksforgeeks\n",
            "('e', 4)\n"
          ]
        }
      ]
    },
    {
      "cell_type": "code",
      "source": [
        "def is_triangle_possible(ang1, ang2, ang3):\n",
        "  if ang1 + ang2 + ang3 == 180:\n",
        "    if ang1 + ang2 > ang3 and ang2 + ang3 > ang1 and ang3 + ang1 > ang2:\n",
        "      return \"Yes\"\n",
        "  return \"No\"\n",
        "\n",
        "# Test cases\n",
        "ang1_1, ang2_1, ang3_1 = 50, 60, 70\n",
        "ang1_2, ang2_2, ang3_2 = 50, 65, 80\n",
        "\n",
        "output1 = is_triangle_possible(ang1_1, ang2_1, ang3_1)\n",
        "output2 = is_triangle_possible(ang1_2, ang2_2, ang3_2)\n",
        "\n",
        "print(f\"Input: ang1={ang1_1}, ang2={ang2_1}, ang3={ang3_1}, Output: {output1}\")\n",
        "print(f\"Input: ang1={ang1_2}, ang2={ang2_2}, ang3={ang3_2}, Output: {output2}\")"
      ],
      "metadata": {
        "id": "OtgCsIEblsxb",
        "outputId": "3042aff7-3b6c-42b3-be96-ec6079992c1d",
        "colab": {
          "base_uri": "https://localhost:8080/"
        }
      },
      "execution_count": 7,
      "outputs": [
        {
          "output_type": "stream",
          "name": "stdout",
          "text": [
            "Input: ang1=50, ang2=60, ang3=70, Output: Yes\n",
            "Input: ang1=50, ang2=65, ang3=80, Output: No\n"
          ]
        }
      ]
    },
    {
      "cell_type": "code",
      "source": [
        "def smallest_k_digit_number(X,K):\n",
        "  smallest_number = 10**(K-1)\n",
        "  remainder = smallest_number % X\n",
        "  if remainder != 0:\n",
        "    smallest_number += X - remainder\n",
        "  return smallest_number\n",
        "\n",
        "X1, K1 = 83, 5\n",
        "X2, K2 = 5, 2\n",
        "\n",
        "output1 = smallest_k_digit_number(X1, K1)\n",
        "output2 = smallest_k_digit_number(X2, K2)\n",
        "\n",
        "print(f\"Input: X={X1}, K={K1}, Output: {output1}\")\n",
        "print(f\"Input: X={X2}, K={K2}, Output: {output2}\")"
      ],
      "metadata": {
        "id": "55fNKeRWngUD",
        "outputId": "3374058f-93ab-403b-f620-9382b4c483f6",
        "colab": {
          "base_uri": "https://localhost:8080/"
        }
      },
      "execution_count": 10,
      "outputs": [
        {
          "output_type": "stream",
          "name": "stdout",
          "text": [
            "Input: X=83, K=5, Output: 10043\n",
            "Input: X=5, K=2, Output: 10\n"
          ]
        }
      ]
    },
    {
      "cell_type": "code",
      "source": [
        "9957/83"
      ],
      "metadata": {
        "id": "sQRhUunGpS10",
        "outputId": "fa98da2e-f687-44fb-80db-1adfa59096a7",
        "colab": {
          "base_uri": "https://localhost:8080/"
        }
      },
      "execution_count": 9,
      "outputs": [
        {
          "output_type": "execute_result",
          "data": {
            "text/plain": [
              "119.96385542168674"
            ]
          },
          "metadata": {},
          "execution_count": 9
        }
      ]
    },
    {
      "cell_type": "code",
      "source": [
        "def print_z_form(matrix):\n",
        "  n = len(matrix)\n",
        "  for i in range(n):\n",
        "    print(matrix[0][i], end = \" \")\n",
        "\n",
        "  for i in range(1, n-1):\n",
        "    print(matrix[i][n-1-i], end = \" \")\n",
        "\n",
        "\n",
        "  for i in range(n-1, -1, -1):\n",
        "    print(matrix[n-1][-i-1], end = \" \")\n",
        "\n",
        "# Test cases\n",
        "matrix1 = [[1, 2, 3],\n",
        "           [4, 5, 6],\n",
        "           [7, 8, 9]]\n",
        "\n",
        "matrix2 = [[5, 19, 8, 7],\n",
        "           [4, 1, 14, 8],\n",
        "           [2, 20, 1, 9],\n",
        "           [1, 2, 55, 4]]\n",
        "\n",
        "print(\"Matrix 1:\")\n",
        "print_z_form(matrix1)\n",
        "\n",
        "print(\"\\n\\nMatrix 2:\")\n",
        "print_z_form(matrix2)"
      ],
      "metadata": {
        "id": "F3aaI2YEpZ3W",
        "outputId": "d8b14da4-09ee-4f48-eb27-04e7224bae1e",
        "colab": {
          "base_uri": "https://localhost:8080/"
        }
      },
      "execution_count": 29,
      "outputs": [
        {
          "output_type": "stream",
          "name": "stdout",
          "text": [
            "Matrix 1:\n",
            "1 2 3 5 7 8 9 \n",
            "\n",
            "Matrix 2:\n",
            "5 19 8 7 14 20 1 2 55 4 "
          ]
        }
      ]
    },
    {
      "cell_type": "code",
      "source": [
        "def print_z_form(matrix):\n",
        "  n = len(matrix)\n",
        "\n",
        "  for i in range(n):\n",
        "    print(matrix[0][i], end =\" \")\n",
        "\n",
        "  for i in range(1, n-1):\n",
        "    print(matrix[i][n-1-i], end = \" \")\n",
        "\n",
        "  for i in range(n-1, -1, -1):\n",
        "    print(matrix[n-1][-i-1], end = \" \")\n",
        "\n",
        "\n",
        "# Test cases\n",
        "matrix1 = [[1, 2, 3],\n",
        "           [4, 5, 6],\n",
        "           [7, 8, 9]]\n",
        "\n",
        "matrix2 = [[5, 19, 8, 7],\n",
        "           [4, 1, 14, 8],\n",
        "           [2, 20, 1, 9],\n",
        "           [1, 2, 55, 4]]\n",
        "\n",
        "print(\"Matrix 1:\")\n",
        "print_z_form(matrix1)\n",
        "\n",
        "print(\"\\n\\nMatrix 2:\")\n",
        "print_z_form(matrix2)"
      ],
      "metadata": {
        "id": "CGPjFOxysJIL",
        "outputId": "b30a727f-8dca-4a7d-9fc1-334374a36c64",
        "colab": {
          "base_uri": "https://localhost:8080/"
        }
      },
      "execution_count": 30,
      "outputs": [
        {
          "output_type": "stream",
          "name": "stdout",
          "text": [
            "Matrix 1:\n",
            "1 2 3 5 7 8 9 \n",
            "\n",
            "Matrix 2:\n",
            "5 19 8 7 14 20 1 2 55 4 "
          ]
        }
      ]
    },
    {
      "cell_type": "code",
      "source": [
        "def is_difference_zero(num):\n",
        "  num_str = str(num)\n",
        "  sum_even = 0\n",
        "  sum_odd = 0\n",
        "\n",
        "  for i in range(len(num_str)):\n",
        "    digit = int(num_str[i])\n",
        "    if i % 2 == 0:\n",
        "      sum_even += digit\n",
        "    else:\n",
        "      sum_odd += digit\n",
        "\n",
        "  return \"Yes\" if sum_even - sum_odd ==0 else \"No\"\n",
        "\n",
        "# Test cases\n",
        "num1 = 1212112\n",
        "num2 = 12345\n",
        "\n",
        "output1 = is_difference_zero(num1)\n",
        "output2 = is_difference_zero(num2)\n",
        "\n",
        "print(f\"Input: {num1}, Output: {output1}\")\n",
        "print(f\"Input: {num2}, Output: {output2}\")"
      ],
      "metadata": {
        "id": "fyoA3utv12P6",
        "outputId": "171f617a-a0e0-4dd2-aef4-ccba2eee826b",
        "colab": {
          "base_uri": "https://localhost:8080/"
        }
      },
      "execution_count": 34,
      "outputs": [
        {
          "output_type": "stream",
          "name": "stdout",
          "text": [
            "Input: 1212112, Output: Yes\n",
            "Input: 12345, Output: No\n"
          ]
        }
      ]
    },
    {
      "cell_type": "code",
      "source": [
        "def min_sum_of_factors(n):\n",
        "  min_sum = n\n",
        "\n",
        "  for i  in range(2, int(n**0.5)+1):\n",
        "    if n % i ==0:\n",
        "      current_sum = i + n//i\n",
        "      min_sum = min(min_sum, current_sum)\n",
        "  return min_sum\n",
        "\n",
        "# Test cases\n",
        "num1 = 12\n",
        "num2 = 105\n",
        "\n",
        "output1 = min_sum_of_factors(num1)\n",
        "output2 = min_sum_of_factors(num2)\n",
        "\n",
        "print(f\"Input: {num1}, Output: {output1}\")\n",
        "print(f\"Input: {num2}, Output: {output2}\")"
      ],
      "metadata": {
        "id": "NR7hX5RZ56kL",
        "outputId": "6f0d6e87-5e10-4485-963a-fd9a5ebccc18",
        "colab": {
          "base_uri": "https://localhost:8080/"
        }
      },
      "execution_count": 37,
      "outputs": [
        {
          "output_type": "stream",
          "name": "stdout",
          "text": [
            "Input: 12, Output: 7\n",
            "Input: 105, Output: 22\n"
          ]
        }
      ]
    },
    {
      "cell_type": "code",
      "source": [
        "a  = int(input())\n",
        "a = str(a)\n",
        "a = a[::-1]\n",
        "print(a)"
      ],
      "metadata": {
        "id": "7Wlvs-1m9ogp",
        "outputId": "02c7e573-861f-4fca-ef6b-c7d8d0e56225",
        "colab": {
          "base_uri": "https://localhost:8080/"
        }
      },
      "execution_count": 39,
      "outputs": [
        {
          "output_type": "stream",
          "name": "stdout",
          "text": [
            "45453456\n",
            "65435454\n"
          ]
        }
      ]
    },
    {
      "cell_type": "code",
      "source": [
        "def max_triangle_height(N):\n",
        "  height = 0\n",
        "  remaining_coins = N\n",
        "  while remaining_coins >= height +1:\n",
        "    height +=1\n",
        "    remaining_coins -= height\n",
        "  return height\n",
        "\n",
        "# Test cases\n",
        "N1 = 7\n",
        "N2 = 12\n",
        "\n",
        "output1 = max_triangle_height(N1)\n",
        "output2 = max_triangle_height(N2)\n",
        "\n",
        "print(f\"Input: N={N1}, Output: {output1}\")\n",
        "print(f\"Input: N={N2}, Output: {output2}\")"
      ],
      "metadata": {
        "id": "MQVpIuwbBWvL",
        "outputId": "cd193275-8eee-4142-9277-ddf7bba9722a",
        "colab": {
          "base_uri": "https://localhost:8080/"
        }
      },
      "execution_count": 41,
      "outputs": [
        {
          "output_type": "stream",
          "name": "stdout",
          "text": [
            "Input: N=7, Output: 3\n",
            "Input: N=12, Output: 4\n"
          ]
        }
      ]
    },
    {
      "cell_type": "code",
      "source": [
        "n = int(input())\n",
        "bin_str = bin(n)[2:]\n",
        "print(bin_str)"
      ],
      "metadata": {
        "id": "hKELYSDhFw0K",
        "outputId": "12174a0d-8185-435d-db50-e32126839611",
        "colab": {
          "base_uri": "https://localhost:8080/"
        }
      },
      "execution_count": 47,
      "outputs": [
        {
          "output_type": "stream",
          "name": "stdout",
          "text": [
            "3\n",
            "11\n"
          ]
        }
      ]
    },
    {
      "cell_type": "code",
      "source": [
        "def is_binary_palindrome(n):\n",
        "  binary_str = bin(n)[2:]\n",
        "  return binary_str == binary_str[::-1]\n",
        "\n",
        "# Test cases\n",
        "num1 = 9\n",
        "num2 = 10\n",
        "\n",
        "output1 = is_binary_palindrome(num1)\n",
        "output2 = is_binary_palindrome(num2)\n",
        "\n",
        "print(f\"Input: {num1}, Output: {output1}\")\n",
        "print(f\"Input: {num2}, Output: {output2}\")"
      ],
      "metadata": {
        "id": "dw1MXn_VHYmn",
        "outputId": "bdac9293-ae6d-44ac-b0ab-4d485eff3b11",
        "colab": {
          "base_uri": "https://localhost:8080/"
        }
      },
      "execution_count": 49,
      "outputs": [
        {
          "output_type": "stream",
          "name": "stdout",
          "text": [
            "Input: 9, Output: True\n",
            "Input: 10, Output: False\n"
          ]
        }
      ]
    },
    {
      "cell_type": "code",
      "source": [
        "def count_ways_to_make_change(coins, n):\n",
        "  dp = [0] * (n+1)\n",
        "  dp[0] = 1\n",
        "  for coin in coins:\n",
        "    for i in range(coin, n+1):\n",
        "      dp[i] += dp[i - coin]\n",
        "  return dp[n]\n",
        "\n",
        "# Test cases\n",
        "coins1 = [1, 2, 3]\n",
        "n1 = 4\n",
        "\n",
        "coins2 = [2, 5, 3, 6]\n",
        "n2 = 10\n",
        "\n",
        "output1 = count_ways_to_make_change(coins1, n1)\n",
        "output2 = count_ways_to_make_change(coins2, n2)\n",
        "\n",
        "print(f\"Coins: {coins1}, Amount: {n1}, Ways to make change: {output1}\")\n",
        "print(f\"Coins: {coins2}, Amount: {n2}, Ways to make change: {output2}\")"
      ],
      "metadata": {
        "id": "_wBS56n3IQCU",
        "outputId": "afe00177-114c-45ec-d26f-04024cf3a9d4",
        "colab": {
          "base_uri": "https://localhost:8080/"
        }
      },
      "execution_count": 51,
      "outputs": [
        {
          "output_type": "stream",
          "name": "stdout",
          "text": [
            "Coins: [1, 2, 3], Amount: 4, Ways to make change: 4\n",
            "Coins: [2, 5, 3, 6], Amount: 10, Ways to make change: 5\n"
          ]
        }
      ]
    },
    {
      "cell_type": "code",
      "source": [
        "def max_prime_factors(n):\n",
        "  factors = []\n",
        "\n",
        "  for i in range(2, n):\n",
        "    if n % i ==0:\n",
        "      factors.append(i)\n",
        "  return max(factors)\n",
        "\n",
        "# Test case\n",
        "num = 6\n",
        "result = max_prime_factors(num)\n",
        "\n",
        "print(f\"Input: {num}, Largest Prime Factor: {result}\")"
      ],
      "metadata": {
        "id": "nuX65emAReP7",
        "outputId": "8d911861-76cc-436e-afa8-d3eab8df98e1",
        "colab": {
          "base_uri": "https://localhost:8080/"
        }
      },
      "execution_count": 53,
      "outputs": [
        {
          "output_type": "stream",
          "name": "stdout",
          "text": [
            "Input: 6, Largest Prime Factor: 3\n"
          ]
        }
      ]
    },
    {
      "cell_type": "code",
      "source": [
        "def add_matrices(X,Y):\n",
        "  if len(X) != len(Y) or len(X[0]) != len(Y[0]):\n",
        "    print(\"The Matrices dimensions are different. Unable to add\")\n",
        "    return None\n",
        "\n",
        "  result  = [[0 for _ in range(len(X[0]))] for _ in range(len(X))]\n",
        "\n",
        "  for i in range(len(X)):\n",
        "    for j in range(len(X[0])):\n",
        "      result[i][j] = X[i][j] + Y[i][j]\n",
        "  return result\n",
        "\n",
        "# Test case\n",
        "X = [[1, 2, 3],\n",
        "     [4, 5, 6],\n",
        "     [7, 8, 9]]\n",
        "\n",
        "Y = [[9, 8, 7],\n",
        "     [6, 5, 4],\n",
        "     [3, 2, 1]]\n",
        "\n",
        "result = add_matrices(X,Y)\n",
        "\n",
        "if result is not None:\n",
        "  print(\"Matrix X:\")\n",
        "  for row in X:\n",
        "    print(row)\n",
        "\n",
        "  print(\"\\nMatrix Y:\")\n",
        "  for row in Y:\n",
        "    print(row)\n",
        "\n",
        "  print(\"\\nMatrix Sum:\")\n",
        "  for row in result:\n",
        "    print(row)"
      ],
      "metadata": {
        "id": "E6sHCq4mSZsj",
        "outputId": "500451be-c40a-4636-917d-7ea3ed656134",
        "colab": {
          "base_uri": "https://localhost:8080/"
        }
      },
      "execution_count": 55,
      "outputs": [
        {
          "output_type": "stream",
          "name": "stdout",
          "text": [
            "Matrix X:\n",
            "[1, 2, 3]\n",
            "[4, 5, 6]\n",
            "[7, 8, 9]\n",
            "\n",
            "Matrix Y:\n",
            "[9, 8, 7]\n",
            "[6, 5, 4]\n",
            "[3, 2, 1]\n",
            "\n",
            "Matrix Sum:\n",
            "[10, 10, 10]\n",
            "[10, 10, 10]\n",
            "[10, 10, 10]\n"
          ]
        }
      ]
    },
    {
      "cell_type": "code",
      "source": [
        "def is_symmetrical(input_str):\n",
        "  n = len(input_str)\n",
        "  if input_str[:n//2] == input_str[n//2:]:\n",
        "    return True\n",
        "  return False\n",
        "\n",
        "def is_palindrome(input_str):\n",
        "  if input_str == input_str[::-1]:\n",
        "    return True\n",
        "  return False\n",
        "\n",
        "# Test cases\n",
        "str1 = \"khokho\"\n",
        "str2 = \"amaama\"\n",
        "\n",
        "print(\"Input: \", str1)\n",
        "if is_symmetrical(str1):\n",
        "  print(\"The entered string is symmetrical\")\n",
        "else:\n",
        "  print(\"The entered string is not symmetrical\")\n",
        "if is_palindrome(str1):\n",
        "  print(\"The entered string is palindrome\\n\")\n",
        "else:\n",
        "  print(\"The enterd string is not palindrome\\n\")\n",
        "\n",
        "print(\"Input: \", str2)\n",
        "if is_symmetrical(str2):\n",
        "   print(\"The entered string is symmetrical\")\n",
        "else:\n",
        "  print(\"The entered string is not symmetrical\")\n",
        "if is_palindrome(str2):\n",
        "  print(\"The entered string is palindrome\")\n",
        "else:\n",
        "  print(\"The enterd string is not palindrome\")"
      ],
      "metadata": {
        "id": "jmKxQoyTWCBt",
        "outputId": "f84d04d1-a52f-4cef-d017-588c22aed872",
        "colab": {
          "base_uri": "https://localhost:8080/"
        }
      },
      "execution_count": 57,
      "outputs": [
        {
          "output_type": "stream",
          "name": "stdout",
          "text": [
            "Input:  khokho\n",
            "The entered string is symmetrical\n",
            "The enterd string is not palindrome\n",
            "\n",
            "Input:  amaama\n",
            "The entered string is symmetrical\n",
            "The entered string is palindrome\n"
          ]
        }
      ]
    },
    {
      "cell_type": "code",
      "source": [
        "def calculate_values(sequence_input, C=50, H=30):\n",
        "  values = [int(val) for val in sequence_input.split(',')]\n",
        "  result = [int(((2*C*D)/H)**0.5) for D in values]\n",
        "  return result\n",
        "\n",
        "# Example input sequence\n",
        "input_sequence = \"100,150,180\"\n",
        "\n",
        "output = calculate_values(input_sequence)\n",
        "print(','.join(map(str, output)))"
      ],
      "metadata": {
        "id": "cjCf2ncsdNKK",
        "outputId": "0d6cfd65-05bd-46e5-8a16-dadd0060f9f2",
        "colab": {
          "base_uri": "https://localhost:8080/"
        }
      },
      "execution_count": 59,
      "outputs": [
        {
          "output_type": "stream",
          "name": "stdout",
          "text": [
            "18,22,24\n"
          ]
        }
      ]
    },
    {
      "cell_type": "code",
      "source": [
        "def sorted_word(input_sequence):\n",
        "  word = input_sequence.split(',')\n",
        "  sorted_words = sorted(word)\n",
        "  return sorted_words\n",
        "\n",
        "# Example input sequence\n",
        "input_sequence = \"without,hello,bag,world\"\n",
        "\n",
        "output = sorted_word(input_sequence)\n",
        "print(output)"
      ],
      "metadata": {
        "id": "0w4tq4D-g3YZ",
        "outputId": "95d3e715-4cc9-4bb1-f764-46e8aecec19c",
        "colab": {
          "base_uri": "https://localhost:8080/"
        }
      },
      "execution_count": 61,
      "outputs": [
        {
          "output_type": "stream",
          "name": "stdout",
          "text": [
            "['bag', 'hello', 'without', 'world']\n"
          ]
        }
      ]
    },
    {
      "cell_type": "code",
      "source": [
        "def divisible_by_5(input_sequence):\n",
        "  binary_numbers = input_sequence.split(',')\n",
        "  divisible_numbers = [binary for binary in binary_numbers if int(binary, 2)%5 ==0]\n",
        "  result = ','.join(divisible_numbers)\n",
        "  return result\n",
        "\n",
        "# Example input sequence\n",
        "input_sequence = \"0100,0011,1010,1001\"\n",
        "\n",
        "# Check and print the divisible numbers\n",
        "output_result = divisible_by_5(input_sequence)\n",
        "print(output_result)"
      ],
      "metadata": {
        "id": "htO2GCHEntF5",
        "outputId": "3abb27d5-2928-484b-9bc2-3fd18baf8a00",
        "colab": {
          "base_uri": "https://localhost:8080/"
        }
      },
      "execution_count": 63,
      "outputs": [
        {
          "output_type": "stream",
          "name": "stdout",
          "text": [
            "1010\n"
          ]
        }
      ]
    },
    {
      "cell_type": "code",
      "source": [
        "def are_all_digits_even(number):\n",
        "  return all((int(digit)%2==0 for digit in str(number)))\n",
        "def even_digits_numbers(start, end):\n",
        "  even_digit_numbers = [str(num) for num in range(start, end+1) if are_all_digits_even(num)]\n",
        "  return ','.join(even_digit_numbers)\n",
        "\n",
        "# Find and print even digit numbers between 1000 and 3000\n",
        "result = even_digits_numbers(1000, 3000)\n",
        "print(result)\n"
      ],
      "metadata": {
        "id": "xBvYYjzApycN",
        "outputId": "d88f3b30-dd91-42b9-bbc1-ca255ae9f958",
        "colab": {
          "base_uri": "https://localhost:8080/"
        }
      },
      "execution_count": 4,
      "outputs": [
        {
          "output_type": "stream",
          "name": "stdout",
          "text": [
            "2000,2002,2004,2006,2008,2020,2022,2024,2026,2028,2040,2042,2044,2046,2048,2060,2062,2064,2066,2068,2080,2082,2084,2086,2088,2200,2202,2204,2206,2208,2220,2222,2224,2226,2228,2240,2242,2244,2246,2248,2260,2262,2264,2266,2268,2280,2282,2284,2286,2288,2400,2402,2404,2406,2408,2420,2422,2424,2426,2428,2440,2442,2444,2446,2448,2460,2462,2464,2466,2468,2480,2482,2484,2486,2488,2600,2602,2604,2606,2608,2620,2622,2624,2626,2628,2640,2642,2644,2646,2648,2660,2662,2664,2666,2668,2680,2682,2684,2686,2688,2800,2802,2804,2806,2808,2820,2822,2824,2826,2828,2840,2842,2844,2846,2848,2860,2862,2864,2866,2868,2880,2882,2884,2886,2888\n"
          ]
        }
      ]
    },
    {
      "cell_type": "code",
      "source": [
        "def calculate_letters_digits(sentence):\n",
        "  letter_sum = 0\n",
        "  digit_sum = 0\n",
        "  for char in sentence:\n",
        "    if char.isalpha():\n",
        "      letter_sum += 1\n",
        "    elif char.isdigit():\n",
        "      digit_sum += 1\n",
        "  return letter_sum , digit_sum\n",
        "\n",
        "# Example input sentence\n",
        "input_sentence = \"hello world! 123\"\n",
        "\n",
        "letters, digits = calculate_letters_digits(input_sentence)\n",
        "print(\"Letters:\", letters)\n",
        "print(\"Digits:\", digits)"
      ],
      "metadata": {
        "id": "P6f4NYS_RfIh",
        "outputId": "0e561da4-c6f0-4a23-e891-c9792573d7ca",
        "colab": {
          "base_uri": "https://localhost:8080/"
        }
      },
      "execution_count": 5,
      "outputs": [
        {
          "output_type": "stream",
          "name": "stdout",
          "text": [
            "Letters: 10\n",
            "Digits: 3\n"
          ]
        }
      ]
    },
    {
      "cell_type": "code",
      "source": [
        "def calculate_upper_lower(sentence):\n",
        "  num_upper = 0\n",
        "  num_lower = 0\n",
        "  for char in sentence:\n",
        "    if char.isupper():\n",
        "      num_upper += 1\n",
        "    elif char.islower():\n",
        "      num_lower += 1\n",
        "  return num_upper, num_lower\n",
        "\n",
        "# Example input sentence\n",
        "input_sentence = \"Hello world!\"\n",
        "upper, lower = calculate_upper_lower(input_sentence)\n",
        "print(\"Upper:\", upper)\n",
        "print(\"Lower:\", lower)"
      ],
      "metadata": {
        "id": "KkbUSYRtWIPr",
        "outputId": "9e2bfe89-6d81-4db1-97c7-9d628e2e1d18",
        "colab": {
          "base_uri": "https://localhost:8080/"
        }
      },
      "execution_count": 12,
      "outputs": [
        {
          "output_type": "stream",
          "name": "stdout",
          "text": [
            "Upper: 1\n",
            "Lower: 9\n"
          ]
        }
      ]
    },
    {
      "cell_type": "code",
      "source": [
        "def calculate_depth_sum(depth, n):\n",
        "  result = 0\n",
        "  current_term = 0\n",
        "\n",
        "  for i in range(1, depth+1):\n",
        "    current_term = current_term*10+n\n",
        "    result += current_term\n",
        "  return result\n",
        "\n",
        "# Example input\n",
        "depth = 4\n",
        "a_value = 9\n",
        "\n",
        "# Compute and print the result\n",
        "output_result = calculate_depth_sum(depth, a_value)\n",
        "print(output_result)"
      ],
      "metadata": {
        "id": "QJLOCeSqWgJu",
        "outputId": "0ee9b725-7d5d-461e-ec94-37bcf7f5e594",
        "colab": {
          "base_uri": "https://localhost:8080/"
        }
      },
      "execution_count": 14,
      "outputs": [
        {
          "output_type": "stream",
          "name": "stdout",
          "text": [
            "11106\n"
          ]
        }
      ]
    },
    {
      "cell_type": "code",
      "source": [
        "def compute_depth(depth, a):\n",
        "  result = 0\n",
        "  current_term = 0\n",
        "\n",
        "  for i in range(1, depth+1):\n",
        "    current_term = current_term*10+a\n",
        "    result += current_term\n",
        "  return result\n",
        "\n",
        "# Example input\n",
        "depth = 4\n",
        "a_value = 9\n",
        "\n",
        "# Compute and print the result\n",
        "output_result = compute_depth(depth, a_value)\n",
        "print(output_result)"
      ],
      "metadata": {
        "id": "JHJypghLYtd2",
        "outputId": "39883526-b2b7-450f-ba08-7ad97cfb77ad",
        "colab": {
          "base_uri": "https://localhost:8080/"
        }
      },
      "execution_count": 15,
      "outputs": [
        {
          "output_type": "stream",
          "name": "stdout",
          "text": [
            "11106\n"
          ]
        }
      ]
    },
    {
      "cell_type": "code",
      "source": [
        "import math\n",
        "\n",
        "def calculate_distance(movements):\n",
        "  x, y = 0, 0\n",
        "  for direction, steps in movements:\n",
        "    if direction == \"UP\":\n",
        "      y += steps\n",
        "    elif direction == \"DOWN\":\n",
        "      y -= steps\n",
        "    elif direction == \"LEFT\":\n",
        "      x -= steps\n",
        "    elif direction == \"RIGHT\":\n",
        "      x += steps\n",
        "  distance = math.sqrt(x**2 + y**2)\n",
        "  return round(distance)\n",
        "\n",
        "# Example input\n",
        "movements = [(\"UP\", 5), (\"DOWN\", 3), (\"LEFT\", 3), (\"RIGHT\", 2)]\n",
        "\n",
        "# Calculate and print the distance\n",
        "output_result = calculate_distance(movements)\n",
        "print(output_result)"
      ],
      "metadata": {
        "id": "McMaGktBaPDu",
        "outputId": "56fa44cf-662c-4401-d7e1-25126e7bf896",
        "colab": {
          "base_uri": "https://localhost:8080/"
        }
      },
      "execution_count": 16,
      "outputs": [
        {
          "output_type": "stream",
          "name": "stdout",
          "text": [
            "2\n"
          ]
        }
      ]
    },
    {
      "cell_type": "code",
      "source": [
        "def extract_company_name(email):\n",
        "  parts = email.split('@')\n",
        "  company_name = parts[1].split('.')[0]\n",
        "  return company_name\n",
        "\n",
        "email = 'sachin@tataaig.com'\n",
        "print(extract_company_name(email))"
      ],
      "metadata": {
        "id": "Bpfl1TgUcPIs",
        "outputId": "dad57920-a315-415b-ba2c-c469f66d4db7",
        "colab": {
          "base_uri": "https://localhost:8080/"
        }
      },
      "execution_count": 18,
      "outputs": [
        {
          "output_type": "stream",
          "name": "stdout",
          "text": [
            "tataaig\n"
          ]
        }
      ]
    },
    {
      "cell_type": "code",
      "source": [
        "def sum_of_top_three_building(height):\n",
        "  sorted_height = sorted(height, reverse=True)\n",
        "  top_three = sorted_height[:3]\n",
        "  result = sum(top_three)\n",
        "  return result\n",
        "\n",
        "n = 8\n",
        "heights = []\n",
        "print(\"Enter heights of buildings\")\n",
        "for i in range(n):\n",
        "  height = int(input(\"Enter the heights of building: \"))\n",
        "  heights.append(height)\n",
        "\n",
        "output = sum_of_top_three_building(heights)\n",
        "print(output)\n",
        "\n",
        "# Input the heights of eight buildings:\n",
        "# 25\n",
        "# 35\n",
        "# 15\n",
        "# 16\n",
        "# 30\n",
        "# 45\n",
        "# 37\n",
        "# 39"
      ],
      "metadata": {
        "id": "ALj2bXp7d6ET",
        "outputId": "4f9875e4-918e-445d-fe7b-1bf58d2858ca",
        "colab": {
          "base_uri": "https://localhost:8080/"
        }
      },
      "execution_count": 20,
      "outputs": [
        {
          "output_type": "stream",
          "name": "stdout",
          "text": [
            "Enter heights of buildings\n",
            "Enter the heights of building: 25\n",
            "Enter the heights of building: 35\n",
            "Enter the heights of building: 15\n",
            "Enter the heights of building: 16\n",
            "Enter the heights of building: 30\n",
            "Enter the heights of building: 45\n",
            "Enter the heights of building: 37\n",
            "Enter the heights of building: 39\n",
            "121\n"
          ]
        }
      ]
    },
    {
      "cell_type": "code",
      "source": [
        "def is_right_triangle(a,b,c):\n",
        "  sides = sorted([a, b ,c])\n",
        "  if sides[0]**2 + sides[1]**2 == sides[2]**2:\n",
        "    return \"Yes\"\n",
        "  else:\n",
        "    return \"No\"\n",
        "\n",
        "sides = input(\"Enter three sides of triangle (three sides of triangle) comma separated: \")\n",
        "side_list = [int(side) for side in sides.split()]\n",
        "result = is_right_triangle(*side_list)\n",
        "print(result)"
      ],
      "metadata": {
        "id": "LByRfWuVkxRz",
        "outputId": "981b999a-7d1b-4d9e-cb4f-1637461a5590",
        "colab": {
          "base_uri": "https://localhost:8080/"
        }
      },
      "execution_count": 24,
      "outputs": [
        {
          "output_type": "stream",
          "name": "stdout",
          "text": [
            "Enter three sides of triangle (three sides of triangle) comma separated: 3 4 5\n",
            "Yes\n"
          ]
        }
      ]
    },
    {
      "cell_type": "code",
      "source": [
        "def circle_relationship(x1,y1,r1,x2,y2,r2):\n",
        "  d = ((x2-x1)**2 + (y2-y1)**2)**0.5\n",
        "\n",
        "  if d < r2-r1:\n",
        "    return \"C2 is in C1\"\n",
        "  elif d <r1-r2:\n",
        "    return \"C1 is in c2\"\n",
        "  elif d==r2-r1 or d==r1+r2:\n",
        "    return \"Circumference of C1 and C2 touch\"\n",
        "  elif d > r1+r2:\n",
        "    return \"C1 and C2 do not overlap\"\n",
        "  else:\n",
        "    return \"Circumference of C1 and C2 intersect\"\n",
        "\n",
        "x1,y1,r1 = map(float, input(\"Enter circumferecne and radii of circle C1(x y r)\").split())\n",
        "x2,y2,r2 = map(float, input(\"Enter circumfernce and raddi of cirecle C2(x y r)\").split())\n",
        "result = circle_relationship(x1,y1,r1,x2,y2,r2)\n",
        "print(result)\n"
      ],
      "metadata": {
        "id": "3WvRym82n11a",
        "outputId": "69cd6b1f-e651-4402-86f6-75f962ca29ce",
        "colab": {
          "base_uri": "https://localhost:8080/"
        }
      },
      "execution_count": 4,
      "outputs": [
        {
          "output_type": "stream",
          "name": "stdout",
          "text": [
            "Enter circumferecne and radii of circle C1(x y r)3 4 5\n",
            "Enter circumfernce and raddi of cirecle C2(x y r)5 6 7\n",
            "Circumference of C1 and C2 intersect\n"
          ]
        }
      ]
    },
    {
      "cell_type": "code",
      "source": [
        "def analyze_text(text):\n",
        "  words= [word.strip() for word in text.split() if word.isalpha()]\n",
        "\n",
        "  word_counts = {}\n",
        "\n",
        "  for word in words:\n",
        "    if word in word_counts:\n",
        "      word_counts[word] += 1\n",
        "    else:\n",
        "      word_counts[word] = 1\n",
        "\n",
        "    most_common_word = max(word_counts, key = word_counts.get)\n",
        "    longest_word = max(words, key = len)\n",
        "    return most_common_word, longest_word\n",
        "\n",
        "input_string = input(\"Input a text (only space separated):\")\n",
        "most_common, longest = analyze_text(input_string)\n",
        "print(\"Most common word: \", most_common)\n",
        "print(\"Longest word: \", longest)"
      ],
      "metadata": {
        "id": "plFKrecNnWnA",
        "outputId": "d180bb6d-d7b8-42c5-a6c4-6373323974d8",
        "colab": {
          "base_uri": "https://localhost:8080/"
        }
      },
      "execution_count": 7,
      "outputs": [
        {
          "output_type": "stream",
          "name": "stdout",
          "text": [
            "Input a text (only space separated):The first word is the one that appears most often in the text\n",
            "Most common word:  The\n",
            "Longest word:  appears\n"
          ]
        }
      ]
    },
    {
      "cell_type": "code",
      "source": [
        "def calculate_regions(n):\n",
        "  return ((n*n+n+2))//2\n",
        "\n",
        "calculate_regions(n = 5)"
      ],
      "metadata": {
        "id": "tgQ-D8oitkwJ",
        "outputId": "0fc49d4d-80ff-442c-eefe-fb521e643335",
        "colab": {
          "base_uri": "https://localhost:8080/"
        }
      },
      "execution_count": 10,
      "outputs": [
        {
          "output_type": "execute_result",
          "data": {
            "text/plain": [
              "16"
            ]
          },
          "metadata": {},
          "execution_count": 10
        }
      ]
    },
    {
      "cell_type": "code",
      "source": [
        "def text_decode(input_text):\n",
        "  output_text = ''\n",
        "  i = 0\n",
        "  while i < len(input_text):\n",
        "    if input_text[i] != '@':\n",
        "      output_text += input_text[i]\n",
        "      i = i+1\n",
        "    else:\n",
        "      output_text = input_text[i+2]*int(input_text[i+1])\n",
        "      input_text = input_text[i+3:]\n",
        "      i = 0\n",
        "  return output_text\n",
        "\n",
        "print(text_decode(input_text=  'XY@6Z1@4023'))\n",
        "print(text_decode(input_text= '@39+1=1@30'))"
      ],
      "metadata": {
        "id": "WqMGW6ZlumqI",
        "outputId": "d3b3e76c-1256-40aa-d5bb-5407d9528b16",
        "colab": {
          "base_uri": "https://localhost:8080/"
        }
      },
      "execution_count": 11,
      "outputs": [
        {
          "output_type": "stream",
          "name": "stdout",
          "text": [
            "000023\n",
            "000\n"
          ]
        }
      ]
    },
    {
      "cell_type": "code",
      "source": [
        "# Solution\n",
        "def text_decode(input_text):\n",
        "  output_text = ''\n",
        "  i = 0\n",
        "  while i < len(input_text):\n",
        "    if input_text[i] != '@':\n",
        "      output_text += input_text[i]\n",
        "      i = i + 1\n",
        "    else:\n",
        "      output_text += input_text[ i + 2] * int(input_text[i+ 1])\n",
        "      input_text = input_text[i+3:] # Slice the input_text\n",
        "      i = 0 # Restart the index\n",
        "  return output_text\n",
        "\n",
        "\n",
        "print(text_decode(input_text = 'XY@6Z1@4023' ))\n",
        "print(text_decode(input_text = '@39+1=1@30' ))"
      ],
      "metadata": {
        "id": "ctlsqeEYzZ93",
        "outputId": "815b6fd4-17e3-4d93-cc4f-516d50c0555d",
        "colab": {
          "base_uri": "https://localhost:8080/"
        }
      },
      "execution_count": 12,
      "outputs": [
        {
          "output_type": "stream",
          "name": "stdout",
          "text": [
            "XYZZZZZZ1000023\n",
            "999+1=1000\n"
          ]
        }
      ]
    },
    {
      "cell_type": "code",
      "source": [
        "def text_decode(input_text):\n",
        "  output_text = ''\n",
        "  i = 0\n",
        "\n",
        "  while i < len(input_text):\n",
        "    if input_text[i] != '@':\n",
        "      output_text += input_text[i]\n",
        "      i = i + 1\n",
        "    else:\n",
        "      output_text += input_text[i + 2] * int(input_text[i + 1])\n",
        "      input_text = input_text[i+3:]\n",
        "      i = 0\n",
        "  return output_text\n",
        "\n",
        "print(text_decode(input_text = 'XY@6Z1@4023' ))\n",
        "print(text_decode(input_text = '@39+1=1@30' ))"
      ],
      "metadata": {
        "id": "kewOawN40BU4",
        "outputId": "1e4c87b1-bb2f-4ee3-d679-73002e90c277",
        "colab": {
          "base_uri": "https://localhost:8080/"
        }
      },
      "execution_count": 13,
      "outputs": [
        {
          "output_type": "stream",
          "name": "stdout",
          "text": [
            "XYZZZZZZ1000023\n",
            "999+1=1000\n"
          ]
        }
      ]
    },
    {
      "cell_type": "code",
      "source": [
        "def longest_common_prefix(strings):\n",
        "  if not strings:\n",
        "    return False\n",
        "\n",
        "  common_prefix = strings[0]\n",
        "\n",
        "  for string in strings[1:]:\n",
        "    i = 0\n",
        "    while i < len(common_prefix) and i < len(string) and common_prefix[i] == string[i]:\n",
        "      i += 1\n",
        "\n",
        "    common_prefix = common_prefix[:i]\n",
        "  return common_prefix\n",
        "\n",
        "# Sample input\n",
        "input_strings = [\n",
        "    [\"abcdefgh\", \"abcefgh\"],\n",
        "    [\"w3r\", \"w3resource\"],\n",
        "    [\"Python\", \"PHP\", \"Perl\"],\n",
        "    [\"Python\", \"PHP\", \"Java\"]\n",
        "]\n",
        "\n",
        "for string in input_strings:\n",
        "  common_prefix = longest_common_prefix(string)\n",
        "  print(common_prefix if common_prefix else \"False\")"
      ],
      "metadata": {
        "id": "fPrWBCz-3353",
        "outputId": "dd3a81b0-dab0-46c0-8ce6-1137570d5aaa",
        "colab": {
          "base_uri": "https://localhost:8080/"
        }
      },
      "execution_count": 18,
      "outputs": [
        {
          "output_type": "stream",
          "name": "stdout",
          "text": [
            "abc\n",
            "w3r\n",
            "P\n",
            "False\n"
          ]
        }
      ]
    },
    {
      "cell_type": "code",
      "source": [
        "import cmath\n",
        "z = input()\n",
        "z = complex(z)\n",
        "r = abs(z)\n",
        "phi = cmath.phase(z)\n",
        "print(r)\n",
        "print(phi)"
      ],
      "metadata": {
        "id": "7qRgB5J4Q6d1",
        "outputId": "005002d7-9358-454d-aef1-bf7e88c0c380",
        "colab": {
          "base_uri": "https://localhost:8080/"
        }
      },
      "execution_count": 16,
      "outputs": [
        {
          "output_type": "stream",
          "name": "stdout",
          "text": [
            "1+2j\n",
            "2.23606797749979\n",
            "1.1071487177940904\n"
          ]
        }
      ]
    },
    {
      "cell_type": "code",
      "source": [
        "n = int(input())\n",
        "x = 0\n",
        "y = 1\n",
        "z = 0\n",
        "while (z < n):\n",
        "  print(z)\n",
        "  x = y\n",
        "  y = z\n",
        "  z = x+y"
      ],
      "metadata": {
        "id": "IuqrKyCJhxPn",
        "outputId": "83947456-178d-401c-95a1-ee1ecb2f52f1",
        "colab": {
          "base_uri": "https://localhost:8080/"
        }
      },
      "execution_count": 17,
      "outputs": [
        {
          "output_type": "stream",
          "name": "stdout",
          "text": [
            "10\n",
            "0\n",
            "1\n",
            "1\n",
            "2\n",
            "3\n",
            "5\n",
            "8\n"
          ]
        }
      ]
    },
    {
      "cell_type": "code",
      "source": [
        "def find_additional_id(array1, array2):\n",
        "    # Convert the arrays to sets for efficient operations\n",
        "    set1 = set(array1)\n",
        "    set2 = set(array2)\n",
        "\n",
        "    # Find the additional ID by performing set difference\n",
        "    additional_id = set2 - set1\n",
        "\n",
        "    return additional_id\n",
        "\n",
        "# Input\n",
        "array1 = list(map(int, input().split()))\n",
        "array2 = list(map(int, input().split()))\n",
        "\n",
        "# Find the additional ID\n",
        "additional_id = find_additional_id(array1, array2)\n",
        "\n",
        "# Output\n",
        "print(\"Additional ID:\", *additional_id)"
      ],
      "metadata": {
        "id": "w_yYmpVAiFh7",
        "outputId": "920349e3-1641-494b-d2a2-6c89ff872dc0",
        "colab": {
          "base_uri": "https://localhost:8080/"
        }
      },
      "execution_count": 19,
      "outputs": [
        {
          "output_type": "stream",
          "name": "stdout",
          "text": [
            "1 4 7 3\n",
            "1 2 3 4 5 6 7\n",
            "Additional ID: 2 5 6\n"
          ]
        }
      ]
    },
    {
      "cell_type": "code",
      "source": [
        "def numeric_to_alphabetic(barcode):\n",
        "    # Dictionary mapping each digit to its corresponding alphabetic character\n",
        "    digit_to_alpha = {\n",
        "        '0': 'a', '1': 'b', '2': 'c', '3': 'd', '4': 'e',\n",
        "        '5': 'f', '6': 'g', '7': 'h', '8': 'i', '9': 'j'\n",
        "    }\n",
        "\n",
        "    # Convert the numeric barcode to a string\n",
        "    barcode_str = str(barcode)\n",
        "\n",
        "    # Convert each digit to its corresponding alphabetic character\n",
        "    alphabetic_code = ''.join(digit_to_alpha[digit] for digit in barcode_str)\n",
        "\n",
        "    return alphabetic_code\n",
        "\n",
        "# Input\n",
        "barcode = int(input())\n",
        "\n",
        "# Find the alphabetic product code\n",
        "alphabetic_code = numeric_to_alphabetic(barcode)\n",
        "\n",
        "# Output\n",
        "print(\"Alphabetic Product Code:\", alphabetic_code)"
      ],
      "metadata": {
        "id": "01TUD0troiW7",
        "outputId": "88d5edd4-506d-4d5d-eb89-218eb41e66f7",
        "colab": {
          "base_uri": "https://localhost:8080/"
        }
      },
      "execution_count": 21,
      "outputs": [
        {
          "output_type": "stream",
          "name": "stdout",
          "text": [
            "12403\n",
            "Alphabetic Product Code: bcead\n"
          ]
        }
      ]
    },
    {
      "cell_type": "code",
      "source": [
        "def numeric_to_alphabetic(barcode):\n",
        "  digit_to_alpha = {'0':'a', '1': 'b', '2': 'c', '3': 'd', '4': 'e', '5': 'f', '6': 'g', '7': 'h', '8':'i', '9':'j'}\n",
        "  barcode_str = str(barcode)\n",
        "  return ''.join(digit_to_alpha[digit] for digit in barcode_str)\n",
        "\n",
        "barcode = int(input())\n",
        "print(numeric_to_alphabetic(barcode))"
      ],
      "metadata": {
        "id": "rPmiOadVqKBQ",
        "outputId": "4f214518-c7bb-4548-8792-5b01692d6e07",
        "colab": {
          "base_uri": "https://localhost:8080/"
        }
      },
      "execution_count": 23,
      "outputs": [
        {
          "output_type": "stream",
          "name": "stdout",
          "text": [
            "12403\n",
            "bcead\n"
          ]
        }
      ]
    },
    {
      "cell_type": "code",
      "source": [
        "def find_additional_id(array1, array2):\n",
        "  set1 = set(array1)\n",
        "  set2 = set(array2)\n",
        "  additional_id = set2- set1\n",
        "  return additional_id\n",
        "\n",
        "array1 = list(map(int, input().split()))\n",
        "array2 = list(map(int, input().split()))\n",
        "additional_id = find_additional_id(array1, array2)\n",
        "print(*additional_id)"
      ],
      "metadata": {
        "id": "eZi9Kl8psHyg",
        "outputId": "38e4f1e4-3cd1-49f2-ef24-6cefdcd347b3",
        "colab": {
          "base_uri": "https://localhost:8080/"
        }
      },
      "execution_count": 25,
      "outputs": [
        {
          "output_type": "stream",
          "name": "stdout",
          "text": [
            "1 4 7 3\n",
            "1 2 3 4 5 6 7\n",
            "2 5 6\n"
          ]
        }
      ]
    },
    {
      "cell_type": "code",
      "source": [
        "def count_difference_char(S,T):\n",
        "  count = 0\n",
        "  for i in range(len(S)):\n",
        "    if S[i] != T[i]:\n",
        "      count += 1\n",
        "  return count\n",
        "\n",
        "s = input().strip()\n",
        "t = input().strip()\n",
        "result = count_difference_char(s,t)\n",
        "print(result)"
      ],
      "metadata": {
        "id": "1_0idQQXtK06",
        "outputId": "33a11ffc-d4ce-4868-af42-fe6412cc54e8",
        "colab": {
          "base_uri": "https://localhost:8080/"
        }
      },
      "execution_count": 28,
      "outputs": [
        {
          "output_type": "stream",
          "name": "stdout",
          "text": [
            "doselect\n",
            "doseeesd\n",
            "3\n"
          ]
        }
      ]
    },
    {
      "cell_type": "code",
      "source": [
        "def solution(S,T):\n",
        "  count = 0\n",
        "  for i in range(len(S)):\n",
        "    if S[i] != T[i]:\n",
        "      count += 1\n",
        "  return count\n",
        "\n",
        "if __name__ == '__main__':\n",
        "  S = input()\n",
        "\n",
        "  T = input()\n",
        "\n",
        "  result = solution(S,T)\n",
        "\n",
        "  print(str(result))"
      ],
      "metadata": {
        "id": "57Xo2WXuu_F8",
        "outputId": "1545ffe0-f7db-49a1-f732-c536be6ee3f1",
        "colab": {
          "base_uri": "https://localhost:8080/"
        }
      },
      "execution_count": 30,
      "outputs": [
        {
          "output_type": "stream",
          "name": "stdout",
          "text": [
            "doselect\n",
            "doseeesd\n",
            "3\n"
          ]
        }
      ]
    },
    {
      "cell_type": "code",
      "source": [
        "def find_first_non_repeated_char(s):\n",
        "  char_count = {}\n",
        "\n",
        "  for char in s:\n",
        "    char_count[char] = char_count.get(char, 0)+1\n",
        "\n",
        "  for char in s:\n",
        "    if char_count[char]==1:\n",
        "      return char\n",
        "  return \"not found\"\n",
        "\n",
        "s = input().strip()\n",
        "result = find_first_non_repeated_char(s)\n",
        "print(result)"
      ],
      "metadata": {
        "id": "7nrahMu2wK_t",
        "outputId": "bdf2b663-15c5-4776-d529-f39f35f3617d",
        "colab": {
          "base_uri": "https://localhost:8080/"
        }
      },
      "execution_count": 33,
      "outputs": [
        {
          "output_type": "stream",
          "name": "stdout",
          "text": [
            "aabbcc\n",
            "not found\n"
          ]
        }
      ]
    },
    {
      "cell_type": "code",
      "source": [
        "def mul(A,B):\n",
        "  A = int(A)\n",
        "  B = int(B)\n",
        "  C = A*B\n",
        "  return str(C)\n",
        "\n",
        "A = input().strip()\n",
        "B = input().strip()\n",
        "result  = mul(A,B)\n",
        "print(result)"
      ],
      "metadata": {
        "id": "U_dvSoAFy8qt",
        "outputId": "e426a488-e5fa-43a7-9a5b-07ae342c05d8",
        "colab": {
          "base_uri": "https://localhost:8080/"
        }
      },
      "execution_count": 36,
      "outputs": [
        {
          "output_type": "stream",
          "name": "stdout",
          "text": [
            "5\n",
            "5\n",
            "25\n"
          ]
        }
      ]
    },
    {
      "cell_type": "code",
      "source": [
        "def reverse_number(num):\n",
        "    reversed_num = ''\n",
        "    num_str = str(num)\n",
        "    reversed_num = num_str[::-1]\n",
        "    return reversed_num\n",
        "\n",
        "# Input\n",
        "num = int(input().strip())\n",
        "\n",
        "# Reverse the number\n",
        "reversed_num = reverse_number(num)\n",
        "\n",
        "# Output\n",
        "print(reversed_num)\n"
      ],
      "metadata": {
        "id": "jvMgsm3p3srj",
        "outputId": "823acbff-4093-4415-f76c-e49e51587846",
        "colab": {
          "base_uri": "https://localhost:8080/"
        }
      },
      "execution_count": 40,
      "outputs": [
        {
          "output_type": "stream",
          "name": "stdout",
          "text": [
            "3456789\n",
            "9876543\n"
          ]
        }
      ]
    },
    {
      "cell_type": "code",
      "source": [
        "def reversed_number(num):\n",
        "  reversed_num = ''\n",
        "  num_str = str(num)\n",
        "  reversed_num = num_str[::-1]\n",
        "  return reversed_num\n",
        "\n",
        "n = int(input())\n",
        "result = reversed_number(n)\n",
        "print(result)"
      ],
      "metadata": {
        "id": "hXwHnhmK4zZe",
        "outputId": "629ca8ea-88fc-4356-b466-1ba851a2395e",
        "colab": {
          "base_uri": "https://localhost:8080/"
        }
      },
      "execution_count": 44,
      "outputs": [
        {
          "output_type": "stream",
          "name": "stdout",
          "text": [
            "534750\n",
            "057435\n"
          ]
        }
      ]
    },
    {
      "cell_type": "code",
      "source": [
        "import re\n",
        "\n",
        "def find_n_lettered_words(sentence, n):\n",
        "    # Check if the sentence contains at least three words\n",
        "    words = sentence.split()\n",
        "    if len(words) < 3:\n",
        "        print(\"Too Less Number of Words Entered\")\n",
        "        return\n",
        "\n",
        "    # Use regular expression to find words with length n\n",
        "    pattern = r'\\b\\w{%d}\\b' % n\n",
        "    n_lettered_words = re.findall(pattern, sentence)\n",
        "\n",
        "    # Print the found words\n",
        "    for word in n_lettered_words:\n",
        "        print(word)\n",
        "\n",
        "# Input\n",
        "sentence = input().strip()\n",
        "n = int(input().strip())\n",
        "\n",
        "# Find and print N-lettered words\n",
        "find_n_lettered_words(sentence, n)\n"
      ],
      "metadata": {
        "id": "msn8eOWV6Fxi",
        "outputId": "4eee0573-d9fc-4efd-fd73-0d8b888a4dd6",
        "colab": {
          "base_uri": "https://localhost:8080/"
        }
      },
      "execution_count": 48,
      "outputs": [
        {
          "output_type": "stream",
          "name": "stdout",
          "text": [
            "are you\n",
            "4\n",
            "Too Less Number of Words Entered\n"
          ]
        }
      ]
    },
    {
      "cell_type": "code",
      "source": [
        "import re\n",
        "def find_n_lettered_word(sentence, n):\n",
        "  word = sentence.split()\n",
        "  if len(word) < 3:\n",
        "    print(\"Too less number of word entered\")\n",
        "    return\n",
        "\n",
        "  pattern = r'\\b\\w{%d}\\b'%n\n",
        "  n_lettered_word = re.findall(pattern, sentence)\n",
        "\n",
        "  for word in n_lettered_word:\n",
        "    print(word)\n",
        "\n",
        "sentence = input().strip()\n",
        "n = int(input().strip())\n",
        "result = find_n_lettered_word(sentence, n)"
      ],
      "metadata": {
        "id": "80WIPVHV9RhQ",
        "outputId": "8497f1cd-2218-4463-a9c4-72ffaef9def2",
        "colab": {
          "base_uri": "https://localhost:8080/"
        }
      },
      "execution_count": 52,
      "outputs": [
        {
          "output_type": "stream",
          "name": "stdout",
          "text": [
            "The quick brown fox jumps over the lazy dog\n",
            "3\n",
            "The\n",
            "fox\n",
            "the\n",
            "dog\n"
          ]
        }
      ]
    },
    {
      "cell_type": "code",
      "source": [
        "import re\n",
        "\n",
        "def find_n_lettered_sentence(sentence, n):\n",
        "  word = sentence.split()\n",
        "  if len(word) < 3:\n",
        "    print(\"Too less number of word entered\")\n",
        "    return\n",
        "\n",
        "  pattern = r'\\b\\w{%d}\\b'%n\n",
        "  n_lettered_word = re.findall(pattern, sentence)\n",
        "\n",
        "  for word in n_lettered_word:\n",
        "    print(word)\n",
        "\n",
        "sentence = input().strip()\n",
        "n = int(input().strip())\n",
        "find_n_lettered_sentence(sentence, n)"
      ],
      "metadata": {
        "id": "CK5HMntcA5s6",
        "outputId": "6f87af1e-68dd-4ee3-ecb1-f3d335f71194",
        "colab": {
          "base_uri": "https://localhost:8080/"
        }
      },
      "execution_count": 53,
      "outputs": [
        {
          "output_type": "stream",
          "name": "stdout",
          "text": [
            "The quick brown fox jumps over the lazy dog\n",
            "3\n",
            "The\n",
            "fox\n",
            "the\n",
            "dog\n"
          ]
        }
      ]
    },
    {
      "cell_type": "code",
      "source": [
        "import re\n",
        "\n",
        "def find_n_lettered_word(sentence, n):\n",
        "  word = sentence.split()\n",
        "  if len(word) < 3:\n",
        "    print(\"Too less numbers letter is Entered\")\n",
        "    return\n",
        "\n",
        "  pattern = r'\\b\\w{%d}\\b'%n\n",
        "  n_lettered_word = re.findall(pattern,sentence)\n",
        "\n",
        "  for word in n_lettered_word:\n",
        "    print(word)\n",
        "\n",
        "sentence = input().strip()\n",
        "n = int(input().strip())\n",
        "find_n_lettered_word(sentence, n)"
      ],
      "metadata": {
        "id": "i8f6tn24CvGO",
        "outputId": "00180986-c013-4d8b-ad48-3056344f1699",
        "colab": {
          "base_uri": "https://localhost:8080/"
        }
      },
      "execution_count": 56,
      "outputs": [
        {
          "output_type": "stream",
          "name": "stdout",
          "text": [
            "are you\n",
            "4\n",
            "Too less numbers letter is Entered\n"
          ]
        }
      ]
    },
    {
      "cell_type": "code",
      "source": [
        "import pandas as pd\n",
        "import numpy as np\n",
        "\n",
        "# Step 1: Parse input into a list of integers\n",
        "input_list = list(map(int, input().split()))\n",
        "\n",
        "# Step 2: Create Pandas Series\n",
        "series = pd.Series(input_list)\n",
        "\n",
        "# Step 3: Calculate difference between consecutive elements\n",
        "diff_series = series.diff()\n",
        "\n",
        "# Step 4: Calculate difference of the difference\n",
        "diff_of_diff_series = diff_series.diff()\n",
        "\n",
        "# Print the results\n",
        "print(diff_series.tolist())\n",
        "print(diff_of_diff_series.tolist())"
      ],
      "metadata": {
        "id": "xwzOexUHNq1b",
        "outputId": "152b0967-8291-476b-9a74-5bd83205f2e7",
        "colab": {
          "base_uri": "https://localhost:8080/"
        }
      },
      "execution_count": 57,
      "outputs": [
        {
          "output_type": "stream",
          "name": "stdout",
          "text": [
            "2 4 6 8 10 12 14 16\n",
            "[nan, 2.0, 2.0, 2.0, 2.0, 2.0, 2.0, 2.0]\n",
            "[nan, nan, 0.0, 0.0, 0.0, 0.0, 0.0, 0.0]\n"
          ]
        }
      ]
    },
    {
      "cell_type": "code",
      "source": [
        "import pandas as pd\n",
        "import numpy as np\n",
        "input_list = list(map(int, input().split()))\n",
        "\n",
        "series = pd.Series(input_list)\n",
        "\n",
        "diff_series = series.diff()\n",
        "\n",
        "diff_of_diff_series = diff_series.diff()\n",
        "\n",
        "print(diff_series.tolist())\n",
        "print(diff_of_diff_series.tolist())"
      ],
      "metadata": {
        "id": "Td4vt4fWPAnU",
        "outputId": "4e0d7319-69fe-4e9e-8608-b8763177cdc8",
        "colab": {
          "base_uri": "https://localhost:8080/"
        }
      },
      "execution_count": 59,
      "outputs": [
        {
          "output_type": "stream",
          "name": "stdout",
          "text": [
            "2 4 6 8 10 12 14 16\n",
            "[nan, 2.0, 2.0, 2.0, 2.0, 2.0, 2.0, 2.0]\n",
            "[nan, nan, 0.0, 0.0, 0.0, 0.0, 0.0, 0.0]\n"
          ]
        }
      ]
    },
    {
      "cell_type": "code",
      "source": [
        "def max_profit(prices):\n",
        "  if len(prices) < 2:\n",
        "    return 0\n",
        "\n",
        "  max_profit = 0\n",
        "  min_price = prices[0]\n",
        "\n",
        "  for price in prices:\n",
        "    max_profit = max(max_profit, price-min_price)\n",
        "    min_price = min(min_price, price)\n",
        "  return max_profit\n",
        "\n",
        "# Example input\n",
        "stock_prices = [224, 236, 247, 258, 259, 225]\n",
        "\n",
        "# Calculate and print the maximum profit\n",
        "output_result = max_profit(stock_prices)\n",
        "print(\"Output:\", output_result)"
      ],
      "metadata": {
        "id": "5Oo60qotPycI",
        "outputId": "7d369e08-9341-4dea-f993-0110b9466857",
        "colab": {
          "base_uri": "https://localhost:8080/"
        }
      },
      "execution_count": 2,
      "outputs": [
        {
          "output_type": "stream",
          "name": "stdout",
          "text": [
            "Output: 35\n"
          ]
        }
      ]
    },
    {
      "cell_type": "code",
      "source": [
        "def max_product_three(nums):\n",
        "  nums.sort()\n",
        "  return max(nums[0]*nums[1]*nums[-1], nums[-3]*nums[-2]*nums[-1])\n",
        "\n",
        "# Sample input\n",
        "input_lists = [\n",
        "    [-10, -20, 20, 1],\n",
        "    [-1, -1, 4, 2, 1],\n",
        "    [1, 2, 3, 4, 5, 6]\n",
        "]\n",
        "\n",
        "for nums in input_lists:\n",
        "  result = max_product_three(nums)\n",
        "  print(\"Output:\", result)"
      ],
      "metadata": {
        "id": "hNDLqL5U8xoz",
        "outputId": "e83c1aac-bf98-40e1-f9b8-e523b9d3f518",
        "colab": {
          "base_uri": "https://localhost:8080/"
        }
      },
      "execution_count": 6,
      "outputs": [
        {
          "output_type": "stream",
          "name": "stdout",
          "text": [
            "Output: 4000\n",
            "Output: 8\n",
            "Output: 120\n"
          ]
        }
      ]
    },
    {
      "cell_type": "code",
      "source": [
        "def count_negatives_sum_positives(nums):\n",
        "  count_negatives = len([num for num in nums if num < 0])\n",
        "  sum_positives = sum([num for num in nums if num > 0])\n",
        "  return [count_negatives, sum_positives]\n",
        "\n",
        "# Sample input\n",
        "input_lists = [\n",
        "    [1, 2, 3, 4, 5],\n",
        "    [-1, -2, -3, -4, -5],\n",
        "    [1, 2, 3, -4, -5],\n",
        "    [1, 2, -3, -4, -5]\n",
        "]\n",
        "\n",
        "for nums in input_lists:\n",
        "  result = count_negatives_sum_positives(nums)\n",
        "  print(result)\n"
      ],
      "metadata": {
        "id": "ZHif3zyt-5WP",
        "outputId": "a5bdb641-3c8d-4fc0-a4a9-2b5396361ea1",
        "colab": {
          "base_uri": "https://localhost:8080/"
        }
      },
      "execution_count": 9,
      "outputs": [
        {
          "output_type": "stream",
          "name": "stdout",
          "text": [
            "[0, 15]\n",
            "[5, 0]\n",
            "[2, 6]\n",
            "[3, 3]\n"
          ]
        }
      ]
    },
    {
      "cell_type": "code",
      "source": [
        "def has_increasing_trend(sequence):\n",
        "  return all(sequence[i] < sequence[i+1] for i in range(len(sequence)-1))\n",
        "\n",
        "# Sample input\n",
        "input_sequences = [\n",
        "    [1, 2, 3, 4],\n",
        "    [1, 2, 5, 3, 4],\n",
        "    [-1, -2, -3, -4],\n",
        "    [-4, -3, -2, -1],\n",
        "    [1, 2, 3, 4, 0]\n",
        "]\n",
        "\n",
        "for sequence in input_sequences:\n",
        "  result = has_increasing_trend(sequence)\n",
        "  print(result)"
      ],
      "metadata": {
        "id": "B_5iqhoOAaj3",
        "outputId": "70f8a34c-88e8-4ab8-df00-885ab7fbaa5b",
        "colab": {
          "base_uri": "https://localhost:8080/"
        }
      },
      "execution_count": 10,
      "outputs": [
        {
          "output_type": "stream",
          "name": "stdout",
          "text": [
            "True\n",
            "False\n",
            "False\n",
            "True\n",
            "False\n"
          ]
        }
      ]
    },
    {
      "cell_type": "code",
      "source": [
        "def are_lines_parallel(line1, line2):\n",
        "  return line1[0] * line1[1] == line2[0] * line2[1]\n",
        "\n",
        "# Sample input\n",
        "input_lines = [\n",
        "    ([2, 3, 4], [2, 3, 8]),\n",
        "    ([2, 3, 4], [4, -3, 8])\n",
        "]\n",
        "\n",
        "for lines in input_lines:\n",
        "  result = are_lines_parallel(*lines)\n",
        "  print(result)"
      ],
      "metadata": {
        "id": "GDgjDZ6PB15s",
        "outputId": "a9966181-5f11-40cf-da63-ce4ad515d4d8",
        "colab": {
          "base_uri": "https://localhost:8080/"
        }
      },
      "execution_count": 12,
      "outputs": [
        {
          "output_type": "stream",
          "name": "stdout",
          "text": [
            "True\n",
            "False\n"
          ]
        }
      ]
    },
    {
      "cell_type": "code",
      "source": [
        "def reversed_odd_word(sentence):\n",
        "  words = sentence.split()\n",
        "  return ' '.join([word[::-1] if len(word)%2!=0 else word for word in words ])\n",
        "\n",
        "# Sample input\n",
        "input_sentences = [\n",
        "    \"The quick brown fox jumps over the lazy dog\",\n",
        "    \"Python Exercises\"\n",
        "]\n",
        "\n",
        "for words in input_sentences:\n",
        "  result = reversed_odd_word(words)\n",
        "  print(result)"
      ],
      "metadata": {
        "id": "JX4SIwWiDgZu",
        "outputId": "5cef2aa7-0934-4f67-ebca-d14c1e50c64b",
        "colab": {
          "base_uri": "https://localhost:8080/"
        }
      },
      "execution_count": 17,
      "outputs": [
        {
          "output_type": "stream",
          "name": "stdout",
          "text": [
            "ehT kciuq nworb xof spmuj over eht lazy god\n",
            "Python sesicrexE\n"
          ]
        }
      ]
    },
    {
      "cell_type": "code",
      "source": [
        "depth = int(input())\n",
        "for i in range(1, depth+1):\n",
        "  for j in range(i-1,-1,-1):\n",
        "    print(2**(j), end = ' ')\n",
        "  print()"
      ],
      "metadata": {
        "id": "vCbiKYS9F0LQ",
        "outputId": "5749337f-d1db-4fd6-b0b0-8da7403dc902",
        "colab": {
          "base_uri": "https://localhost:8080/"
        }
      },
      "execution_count": 20,
      "outputs": [
        {
          "output_type": "stream",
          "name": "stdout",
          "text": [
            "8\n",
            "1 \n",
            "2 1 \n",
            "4 2 1 \n",
            "8 4 2 1 \n",
            "16 8 4 2 1 \n",
            "32 16 8 4 2 1 \n",
            "64 32 16 8 4 2 1 \n",
            "128 64 32 16 8 4 2 1 \n"
          ]
        }
      ]
    },
    {
      "cell_type": "code",
      "source": [
        "def string_pairs(s):\n",
        "  if not s:\n",
        "    return []\n",
        "\n",
        "  pairs = [s[i:i+2] for i in range(0, len(s), 2)]\n",
        "\n",
        "  if len(s) % 2 != 0:\n",
        "    pairs[-1] += '*'\n",
        "  return pairs\n",
        "\n",
        "print(string_pairs('mubashir'))\n",
        "print(string_pairs('edabit'))\n",
        "print(string_pairs('airforces'))"
      ],
      "metadata": {
        "id": "X1--uYu9NKvU",
        "outputId": "00d84e62-5cec-475e-b98e-fdfc9cfb357c",
        "colab": {
          "base_uri": "https://localhost:8080/"
        }
      },
      "execution_count": 21,
      "outputs": [
        {
          "output_type": "stream",
          "name": "stdout",
          "text": [
            "['mu', 'ba', 'sh', 'ir']\n",
            "['ed', 'ab', 'it']\n",
            "['ai', 'rf', 'or', 'ce', 's*']\n"
          ]
        }
      ]
    },
    {
      "cell_type": "code",
      "source": [
        "def card_hide(card_number):\n",
        "  return '*'*(len(card_number)-4)+(card_number[-4:])\n",
        "# Examples\n",
        "print(card_hide(\"1234123456785678\"))\n",
        "print(card_hide(\"8754456321113213\"))\n",
        "print(card_hide(\"35123413355523\"))"
      ],
      "metadata": {
        "id": "gWfngyp9OtFW",
        "outputId": "8abfa792-d47a-479b-e532-4fae992e2b7b",
        "colab": {
          "base_uri": "https://localhost:8080/"
        }
      },
      "execution_count": 23,
      "outputs": [
        {
          "output_type": "stream",
          "name": "stdout",
          "text": [
            "************5678\n",
            "************3213\n",
            "**********5523\n"
          ]
        }
      ]
    },
    {
      "cell_type": "code",
      "source": [
        "def dna_to_rna(dna_strand):\n",
        "  transcription_dict = {'A':'U', 'T':'A', 'G':'C', 'C':'G'}\n",
        "  return ''.join([transcription_dict[base] for base in dna_strand])\n",
        "\n",
        "# Examples\n",
        "print(dna_to_rna(\"ATTAGCGCGATATACGCGTAC\"))  # \"UAAUCGCGCUAUAUGCGCAUG\"\n",
        "print(dna_to_rna(\"CGATATA\"))               # \"GCUAUAU\"\n",
        "print(dna_to_rna(\"GTCATACGACGTA\"))         # \"CAGUAUGCUGCAU\""
      ],
      "metadata": {
        "id": "S9vn94ebPkvF",
        "outputId": "a56340c5-4884-4013-c876-021dea9569b1",
        "colab": {
          "base_uri": "https://localhost:8080/"
        }
      },
      "execution_count": 24,
      "outputs": [
        {
          "output_type": "stream",
          "name": "stdout",
          "text": [
            "UAAUCGCGCUAUAUGCGCAUG\n",
            "GCUAUAU\n",
            "CAGUAUGCUGCAU\n"
          ]
        }
      ]
    },
    {
      "cell_type": "code",
      "source": [
        "def loves_me(petals):\n",
        "  phrases = [\"Loves me\" if i % 2 ==0 else \"Loves me not\" for i in range(petals-1)]\n",
        "  last_phrase = \"LOVES ME\" if petals % 2 == 1 else \"LOVES ME NOT\"\n",
        "  return ', '.join(phrases + [last_phrase])\n",
        "\n",
        "# Examples\n",
        "print(loves_me(3))  # \"Loves me, Loves me not, LOVES ME\"\n",
        "print(loves_me(6))  # \"Loves me, Loves me not, Loves me, Loves me not, Loves me, LOVES ME NOT\"\n",
        "print(loves_me(1))  # \"LOVES ME\""
      ],
      "metadata": {
        "id": "W9jLzSGnRBeV",
        "outputId": "c488381a-b556-4b2b-b8c9-0647ec045441",
        "colab": {
          "base_uri": "https://localhost:8080/"
        }
      },
      "execution_count": 26,
      "outputs": [
        {
          "output_type": "stream",
          "name": "stdout",
          "text": [
            "Loves me, Loves me not, LOVES ME\n",
            "Loves me, Loves me not, Loves me, Loves me not, Loves me, LOVES ME NOT\n",
            "LOVES ME\n"
          ]
        }
      ]
    },
    {
      "cell_type": "code",
      "source": [
        "def to_binary(hex_number):\n",
        "  binary_number = bin(int(hex_number,16))[2:]\n",
        "  return binary_number\n",
        "# Examples\n",
        "print(to_binary(\"FF\"))  # \"11111111\"\n",
        "print(to_binary(\"AA\"))  # \"10101010\"\n",
        "print(to_binary(\"FA\"))  # \"11111010\""
      ],
      "metadata": {
        "id": "CVLLwbwpSvwW",
        "outputId": "47a3455f-3eee-4b52-8687-a87e3b0c3198",
        "colab": {
          "base_uri": "https://localhost:8080/"
        }
      },
      "execution_count": 28,
      "outputs": [
        {
          "output_type": "stream",
          "name": "stdout",
          "text": [
            "11111111\n",
            "10101010\n",
            "11111010\n"
          ]
        }
      ]
    },
    {
      "cell_type": "code",
      "source": [
        "def closest_number(lst,K):\n",
        "  closest = min(lst, key = lambda x: abs(x-K))\n",
        "  return closest\n",
        "\n",
        "# Examples\n",
        "lst1, K1 = [3.64, 5.2, 9.42, 9.35, 8.5, 8], 9.1\n",
        "print(closest_number(lst1, K1))  # Output: 9.35\n",
        "\n",
        "lst2, K2 = [9, 11, 5, 3, 25, 18], 6\n",
        "print(closest_number(lst2, K2))  # Output: 5\n"
      ],
      "metadata": {
        "id": "yQcbce74VUnN",
        "outputId": "daf89425-8e2b-4d10-ae18-6c12b2fc346b",
        "colab": {
          "base_uri": "https://localhost:8080/"
        }
      },
      "execution_count": 29,
      "outputs": [
        {
          "output_type": "stream",
          "name": "stdout",
          "text": [
            "9.35\n",
            "5\n"
          ]
        }
      ]
    },
    {
      "cell_type": "code",
      "source": [
        "def is_sastry(n):\n",
        "  concatenated = int(str(n)+str(n+1))\n",
        "  square_root = int(concatenated**0.5)\n",
        "  return square_root**2 == concatenated\n",
        "\n",
        "# Examples\n",
        "print(is_sastry(183))     # True\n",
        "print(is_sastry(184))     # False\n",
        "print(is_sastry(106755))  # True"
      ],
      "metadata": {
        "id": "J4CSF9V_WP4P",
        "outputId": "56fa37a8-7ee2-4485-a741-fbc98ce1979f",
        "colab": {
          "base_uri": "https://localhost:8080/"
        }
      },
      "execution_count": 30,
      "outputs": [
        {
          "output_type": "stream",
          "name": "stdout",
          "text": [
            "True\n",
            "False\n",
            "True\n"
          ]
        }
      ]
    },
    {
      "cell_type": "code",
      "source": [
        "import string\n",
        "alphabet = string.ascii_lowercase\n",
        "def is_pangram(s):\n",
        "    return set(alphabet) < set(s.lower())\n",
        "if __name__ == \"__main__\":\n",
        "    if is_pangram(input().strip()):\n",
        "        print(\"pangram\")\n",
        "    else:\n",
        "        print(\"not pangram\")"
      ],
      "metadata": {
        "id": "t91r7XyGYz0y",
        "outputId": "422bb66d-95e6-49ec-fdb3-db656a269335",
        "colab": {
          "base_uri": "https://localhost:8080/"
        }
      },
      "execution_count": 31,
      "outputs": [
        {
          "output_type": "stream",
          "name": "stdout",
          "text": [
            "We promptly judged antique ivory buckles for the next prize\n",
            "pangram\n"
          ]
        }
      ]
    },
    {
      "cell_type": "code",
      "source": [
        "import string\n",
        "\n",
        "def is_pangram(str):\n",
        "  alphabet = 'abcdefghijklmnopqrstuvwxyz'\n",
        "  for char in alphabet:\n",
        "    if char not in str.lower():\n",
        "      return False\n",
        "  return True\n",
        "\n",
        "string = 'the quick brown fox jumps over the lazy dog'\n",
        "if (is_pangram(string)==True):\n",
        "  print(\"Yes\")\n",
        "else:\n",
        "  print(\"No\")\n",
        "\n"
      ],
      "metadata": {
        "id": "0wr9mutyivQS",
        "outputId": "77364116-5a84-44b2-b4ec-e69b8341bb81",
        "colab": {
          "base_uri": "https://localhost:8080/"
        }
      },
      "execution_count": 2,
      "outputs": [
        {
          "output_type": "stream",
          "name": "stdout",
          "text": [
            "Yes\n"
          ]
        }
      ]
    },
    {
      "cell_type": "code",
      "source": [
        "import string\n",
        "\n",
        "def ispangram(str):\n",
        "  alphabet = 'abcdefghijklmnopqrstuvwxyz'\n",
        "  for char in alphabet:\n",
        "    if char not in str.lower():\n",
        "      return False\n",
        "  return True\n",
        "\n",
        "string = 'the quick brown fox jumps over the lazy dog'\n",
        "if (ispangram(string)==True):\n",
        "  print(\"Yes\")\n",
        "else:\n",
        "  print(\"No\")"
      ],
      "metadata": {
        "id": "pGuqD_e_qdL8",
        "outputId": "372e35b8-0ab8-4276-9782-307ea4a73258",
        "colab": {
          "base_uri": "https://localhost:8080/"
        }
      },
      "execution_count": 3,
      "outputs": [
        {
          "output_type": "stream",
          "name": "stdout",
          "text": [
            "Yes\n"
          ]
        }
      ]
    },
    {
      "cell_type": "code",
      "source": [
        "def neutralise(s1,s2):\n",
        "  result = ''\n",
        "  for char1, char2 in zip(s1,s2):\n",
        "    if char1 == char2:\n",
        "      result += char1\n",
        "    else:\n",
        "      result += '0'\n",
        "  return result\n",
        "\n",
        "# Examples\n",
        "print(neutralise(\"+-+\", \"+--\"))        # Output: \"+-0\"\n",
        "print(neutralise(\"--++--\", \"++--++\"))  # Output: \"000000\"\n",
        "print(neutralise(\"-+-+-+\", \"-+-+-+\"))  # Output: \"-+-+-+\"\n",
        "print(neutralise(\"-++-\", \"-+-+\"))       # Output: \"-+00\"\n"
      ],
      "metadata": {
        "id": "ijs8-Ww02245",
        "outputId": "39fea0b8-d214-466f-b53d-fe63599f350e",
        "colab": {
          "base_uri": "https://localhost:8080/"
        }
      },
      "execution_count": 4,
      "outputs": [
        {
          "output_type": "stream",
          "name": "stdout",
          "text": [
            "+-0\n",
            "000000\n",
            "-+-+-+\n",
            "-+00\n"
          ]
        }
      ]
    },
    {
      "cell_type": "code",
      "source": [
        "def digit_distance(num1,num2):\n",
        "  distance = sum(abs(int(digit1)-int(digit2)) for digit1,digit2 in zip(str(num1), str(num2)))\n",
        "  return distance\n",
        "\n",
        "# Examples\n",
        "print(digit_distance(121, 599))  # Output: 19\n",
        "print(digit_distance(12, 12))    # Output: 0\n",
        "print(digit_distance(10, 20))    # Output: 1"
      ],
      "metadata": {
        "id": "Mpyg_GrK4lDI",
        "outputId": "1631bf66-5d8f-4857-8f59-c7f511012a72",
        "colab": {
          "base_uri": "https://localhost:8080/"
        }
      },
      "execution_count": 5,
      "outputs": [
        {
          "output_type": "stream",
          "name": "stdout",
          "text": [
            "19\n",
            "0\n",
            "1\n"
          ]
        }
      ]
    },
    {
      "cell_type": "code",
      "source": [
        "def progress_days(miles_run):\n",
        "  progress_count = sum(miles_run[i]>miles_run[i-1] for i in range(1,len(miles_run)))\n",
        "  return progress_count\n",
        "\n",
        "# Examples\n",
        "print(progress_days([3, 4, 1, 2]))      # Output: 2\n",
        "print(progress_days([10, 11, 12, 9, 10]))  # Output: 3\n",
        "print(progress_days([6, 5, 4, 3, 2, 9]))   # Output: 1\n",
        "print(progress_days([9, 9]))               # Output: 0"
      ],
      "metadata": {
        "id": "gSdPNrKz6Iqq",
        "outputId": "d31e9402-aa2a-4080-b0f8-9eb70a2ab60b",
        "colab": {
          "base_uri": "https://localhost:8080/"
        }
      },
      "execution_count": 7,
      "outputs": [
        {
          "output_type": "stream",
          "name": "stdout",
          "text": [
            "2\n",
            "3\n",
            "1\n",
            "0\n"
          ]
        }
      ]
    },
    {
      "cell_type": "code",
      "source": [],
      "metadata": {
        "id": "4Gu8SCAJ-Id9"
      },
      "execution_count": null,
      "outputs": []
    }
  ],
  "metadata": {
    "colab": {
      "name": "scratchpad",
      "provenance": [],
      "include_colab_link": true
    },
    "kernelspec": {
      "display_name": "Python 3",
      "name": "python3"
    }
  },
  "nbformat": 4,
  "nbformat_minor": 0
}