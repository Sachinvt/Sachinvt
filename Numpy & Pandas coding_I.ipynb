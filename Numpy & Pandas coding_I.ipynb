{
  "cells": [
    {
      "cell_type": "markdown",
      "metadata": {
        "id": "view-in-github",
        "colab_type": "text"
      },
      "source": [
        "<a href=\"https://colab.research.google.com/github/Sachinvt/Sachinvt/blob/main/Numpy%20%26%20Pandas%20coding_I.ipynb\" target=\"_parent\"><img src=\"https://colab.research.google.com/assets/colab-badge.svg\" alt=\"Open In Colab\"/></a>"
      ]
    },
    {
      "cell_type": "markdown",
      "source": [
        "You have to write a Python program which does the following:\n",
        "\n",
        "⚫ takes a list as input\n",
        "\n",
        "• converts the list into a Pandas Series\n",
        "\n",
        "• reshapes the Series into a dataframe of the order m x n, i.e. the dataframe has m rows and n columns\n",
        "\n",
        "Input Format\n",
        "\n",
        "• The first line contains two space-separated integers, representing the values of m and n respectively.\n",
        "\n",
        "• The second line contains space-separated integers, which represent the elements of the list\n",
        "\n",
        "Constraints\n",
        "\n",
        "• 2 <= m, n <= 10\n",
        "\n",
        "• The product of m and n should be equal to the length of the input list\n",
        "\n",
        "Output Format\n",
        "\n",
        "• If the product of m and n equals the length of the input list, print the converted dataframe\n",
        "\n",
        "• If the product of m and n is NOT EQUAL to the length of the input list, print the message \"Weird Order!\"\n",
        "\n",
        "Evaluation Parameters\n",
        "\n",
        "2 3\n",
        "\n",
        "1 2 3\n",
        "\n",
        "4 5 6 7 8\n",
        "\n",
        "Sample Output 1\n",
        "\n",
        "Weird Order!\n",
        "\n",
        "Explanation 1\n",
        "\n",
        "Since the product of m and n is NOT EQUAL to the length of the input list, hence print \"Weird Order!\"\n",
        "\n",
        "Sample Input 2\n",
        "\n",
        "2 4\n",
        "\n",
        "1 2 3 4 5 6 7 8\n",
        "\n",
        "Sample Output 2\n",
        "\n",
        "0 1 2 3\n",
        "\n",
        "0 1 2 3 4\n",
        "\n",
        "1 5 6 7 8\n",
        "\n",
        "Explanation 2\n",
        "\n",
        "Apart from the first column and first row [index] (containing the values 0 to 1 and 0 to 3 respectively), you can see that the rest of the elements have been reshaped to form a dataframe of 2 rows and 4 columns"
      ],
      "metadata": {
        "id": "yzhVFdnKX1O2"
      }
    },
    {
      "cell_type": "code",
      "execution_count": 1,
      "metadata": {
        "colab": {
          "base_uri": "https://localhost:8080/"
        },
        "id": "lIYdn1woOS1n",
        "outputId": "27439466-c064-4092-c8cb-bd6da0958167"
      },
      "outputs": [
        {
          "output_type": "stream",
          "name": "stdout",
          "text": [
            "2 3\n",
            "1 2 3 4 5 6\n",
            "   0  1  2\n",
            "0  1  2  3\n",
            "1  4  5  6\n"
          ]
        }
      ],
      "source": [
        "import pandas as pd\n",
        "\n",
        "# Read input from STDIN\n",
        "m, n = map(int, input().split())\n",
        "values = list(map(int, input().split()))\n",
        "\n",
        "# Check if the product of m and n is equal to the length of the input list\n",
        "if m * n != len(values):\n",
        "    print(\"Weird Order!\")\n",
        "else:\n",
        "    # Convert the list to a Pandas Series\n",
        "    series = pd.Series(values)\n",
        "    # Reshape the Series into a DataFrame of order m x n\n",
        "    df = pd.DataFrame(series.values.reshape(m, n))\n",
        "    print(df)\n"
      ]
    },
    {
      "cell_type": "markdown",
      "source": [
        "Write a python program that does the following\n",
        "\n",
        "• takes two lists as input list1 and list2\n",
        "\n",
        "• creates two Pandas Series out of them\n",
        "\n",
        "• stacks / concatenates both Series vertically and horizontally, along the column axis (axis = 1)\n",
        "\n",
        "Input Format\n",
        "\n",
        "• The first line contains space-separated values, which represent the elements of the first list list1\n",
        "\n",
        "N\n",
        "\n",
        "• The second line contains space-separated values, which represent the elements of the second list list2\n",
        "\n",
        "Constraints\n",
        "\n",
        "• length of list1 = length of list2\n",
        "\n",
        "Output Format\n",
        "\n",
        "• Print the dataframe containing the required output, with list1 being the first column and list2 being the second column\n",
        "\n",
        "• If the above constraint is NOT satisfied, print NaN for all missing values\n",
        "\n",
        "Evaluation Parameters\n",
        "\n",
        "Sample Input 1\n",
        "01234\n",
        "\n",
        "abcde\n",
        "\n",
        "Sample Output 1\n",
        "\n",
        "01\n",
        "\n",
        "11 b\n",
        "\n",
        "2 2 c\n",
        "\n",
        "3\n",
        "\n",
        "3\n",
        "\n",
        "d\n",
        "\n",
        "e\n",
        "\n",
        "44\n",
        "\n",
        "Explanation #1\n",
        "\n",
        "• Both lists are converted into Series and then stacked against each other.\n",
        "\n",
        "• Then, the stacked/concatenated DataFrame is printed to STDOUT.\n",
        "\n",
        "Sample Input 2\n",
        "\n",
        "0123\n",
        "\n",
        "abcde\n",
        "\n",
        "Sample Output 2\n",
        "\n",
        "01\n",
        "\n",
        "ea\n",
        "\n",
        "1 b\n",
        "\n",
        "2\n",
        "\n",
        "C\n",
        "\n",
        "3 d\n",
        "\n",
        "e\n",
        "\n",
        "1\n",
        "\n",
        "2\n",
        "\n",
        "3\n",
        "\n",
        "4 NaN\n",
        "\n",
        "Explanation #2\n",
        "\n",
        "• Both lists are converted into Series and then stacked against each other.\n",
        "\n",
        "• Then, the stacked/concatenated DataFrame is printed to STDOUT.\n",
        "\n",
        "• The missing value of list1 corresponding to that of list2 has been printed as NaN."
      ],
      "metadata": {
        "id": "IizbzQe3YPv7"
      }
    },
    {
      "cell_type": "code",
      "source": [
        "import pandas as pd\n",
        "\n",
        "# Function to create pandas series and concatenate them\n",
        "def concatenate_lists(list1, list2):\n",
        "    # Check if length of lists is the same\n",
        "    if len(list1) != len(list2):\n",
        "        print(\"NaN\")  # Print NaN if constraint is not satisfied\n",
        "        return\n",
        "\n",
        "    # Create pandas series from lists\n",
        "    series1 = pd.Series(list1)\n",
        "    series2 = pd.Series(list2)\n",
        "\n",
        "    # Concatenate series vertically\n",
        "    concatenated_vertically = pd.concat([series1, series2], axis=0)\n",
        "\n",
        "    # Concatenate series horizontally\n",
        "    concatenated_horizontally = pd.concat([series1, series2], axis=1)\n",
        "\n",
        "    # Print concatenated dataframes\n",
        "    print(concatenated_vertically)\n",
        "    print(\"\\n\")\n",
        "    print(concatenated_horizontally)\n",
        "\n",
        "# Read input lists\n",
        "list1 = list(input().strip())\n",
        "list2 = list(input().strip())\n",
        "\n",
        "# Call function to concatenate lists\n",
        "concatenate_lists(list1, list2)\n"
      ],
      "metadata": {
        "id": "WoYTO-HeXPCX",
        "outputId": "46943c68-cec3-44c1-ef40-9a9e27c79b8b",
        "colab": {
          "base_uri": "https://localhost:8080/"
        }
      },
      "execution_count": 2,
      "outputs": [
        {
          "output_type": "stream",
          "name": "stdout",
          "text": [
            "0 1 2 3 4\n",
            "a b c d e\n",
            "0    0\n",
            "1     \n",
            "2    1\n",
            "3     \n",
            "4    2\n",
            "5     \n",
            "6    3\n",
            "7     \n",
            "8    4\n",
            "0    a\n",
            "1     \n",
            "2    b\n",
            "3     \n",
            "4    c\n",
            "5     \n",
            "6    d\n",
            "7     \n",
            "8    e\n",
            "dtype: object\n",
            "\n",
            "\n",
            "   0  1\n",
            "0  0  a\n",
            "1      \n",
            "2  1  b\n",
            "3      \n",
            "4  2  c\n",
            "5      \n",
            "6  3  d\n",
            "7      \n",
            "8  4  e\n"
          ]
        }
      ]
    },
    {
      "cell_type": "markdown",
      "source": [
        "Create a NumPy program to allocate seats in a classroom. Given the number of rows and columns in a classroom, return an array where each seat is numbered sequentially from left to right, top to bottom.\n",
        "\n",
        "Input:\n",
        "\n",
        "Rows:3\n",
        "\n",
        "Columns:4\n",
        "\n",
        "Output: [[1, 2, 3, 4], [5, 6, 7, 8], [9, 10, 11, 12]]"
      ],
      "metadata": {
        "id": "N8WVkz4tZLe1"
      }
    },
    {
      "cell_type": "code",
      "source": [
        "import numpy as np\n",
        "\n",
        "def allocate_seats(rows, columns):\n",
        "    # Calculate the total number of seats\n",
        "    total_seats = rows * columns\n",
        "\n",
        "    # Create a sequential array representing the seats\n",
        "    seat_array = np.arange(1, total_seats + 1)\n",
        "\n",
        "    # Reshape the array to match the specified number of rows and columns\n",
        "    seat_allocation = seat_array.reshape(rows, columns)\n",
        "\n",
        "    return seat_allocation\n",
        "\n",
        "# Input rows and columns\n",
        "rows = 3\n",
        "columns = 4\n",
        "\n",
        "# Allocate seats in the classroom\n",
        "allocated_seats = allocate_seats(rows, columns)\n",
        "\n",
        "# Output the allocated seats\n",
        "print(allocated_seats)\n"
      ],
      "metadata": {
        "id": "jcQdcmxQYnN8",
        "outputId": "19f8d7cb-26c2-4936-f624-590173270fcf",
        "colab": {
          "base_uri": "https://localhost:8080/"
        }
      },
      "execution_count": 3,
      "outputs": [
        {
          "output_type": "stream",
          "name": "stdout",
          "text": [
            "[[ 1  2  3  4]\n",
            " [ 5  6  7  8]\n",
            " [ 9 10 11 12]]\n"
          ]
        }
      ]
    },
    {
      "cell_type": "markdown",
      "source": [
        "Write a Numpy program to analyse\n",
        "a set of temperature data (in degrees Celsius) for a city. Calculate the average temperature, the variance, and identify the days with temperatures above the 90th - percentile.\n",
        "\n",
        "Note: Round off the answer to two decimal places.\n",
        "\n",
        "Input: [22, 24, 28, 32, 31, 30, 35, 36, 38, 40, 41, 42, 43, 44, 45]\n",
        "\n",
        "Output:\n",
        "\n",
        "Average Temperature: 35.4\n",
        "\n",
        "Variance: 50.11\n",
        "\n",
        "Days above 90th percentile: [44, 45]"
      ],
      "metadata": {
        "id": "PXQO0FH7ZjAD"
      }
    },
    {
      "cell_type": "code",
      "source": [
        "import numpy as np\n",
        "\n",
        "def analyze_temperature_data(data):\n",
        "    # Convert the input list to a NumPy array\n",
        "    temperature_array = np.array(data)\n",
        "\n",
        "    # Calculate average temperature\n",
        "    avg_temperature = np.mean(temperature_array)\n",
        "\n",
        "    # Calculate variance\n",
        "    variance = np.var(temperature_array)\n",
        "\n",
        "    # Calculate 90th percentile\n",
        "    percentile_90 = np.percentile(temperature_array, 90)\n",
        "\n",
        "    # Identify days with temperatures above the 90th percentile\n",
        "    above_90th_percentile = temperature_array[temperature_array > percentile_90]\n",
        "\n",
        "    return round(avg_temperature, 2), round(variance, 2), above_90th_percentile\n",
        "\n",
        "# Input temperature data\n",
        "temperature_data = [22, 24, 28, 32, 31, 30, 35, 36, 38, 40, 41, 42, 43, 44, 45]\n",
        "\n",
        "# Analyze temperature data\n",
        "average_temp, variance, above_90th_percentile = analyze_temperature_data(temperature_data)\n",
        "\n",
        "# Output results\n",
        "print(\"Average Temperature:\", average_temp)\n",
        "print(\"Variance:\", variance)\n",
        "print(\"Days above 90th percentile:\", above_90th_percentile)\n"
      ],
      "metadata": {
        "id": "tCvSJ5-7ZbOJ",
        "outputId": "73b542bc-a128-4b69-a3f7-65cb48292953",
        "colab": {
          "base_uri": "https://localhost:8080/"
        }
      },
      "execution_count": 4,
      "outputs": [
        {
          "output_type": "stream",
          "name": "stdout",
          "text": [
            "Average Temperature: 35.4\n",
            "Variance: 50.11\n",
            "Days above 90th percentile: [44 45]\n"
          ]
        }
      ]
    },
    {
      "cell_type": "markdown",
      "source": [
        "Given a 4x4 matrix representing sensor readings over four days, normalize the data by subtracting the mean and dividing by the standard deviation for each day. Then, calculate the sum of the normalized values for each sensor.\n",
        "\n",
        "Input:\n",
        "\n",
        "[[10, 20, 30, 40],\n",
        "\n",
        "[15, 25, 35, 45],\n",
        "\n",
        "[20, 30, 40, 50],\n",
        "\n",
        "[25, 35, 45, 55]]\n",
        "\n",
        "Output:\n",
        "\n",
        "Normalized Matrix:\n",
        "\n",
        "[-1.3416407864998738, -0.4472135954999579, 0.4472135954999579, 1.3416407864998738]\n",
        "\n",
        "[-1.3416407864998738, -0.4472135954999579, 0.4472135954999579, 1.3416407864998738]\n",
        "\n",
        "[-1.3416407864998738, -0.4472135954999579, 0.4472135954999579, 1.3416407864998738]\n",
        "\n",
        "[-1.3416407864998738, -0.4472135954999579, 0.4472135954999579, 1.3416407864998738]\n",
        "\n",
        "Sum per Sensor: [-5.366563145999495, -1.7888543819998317, 1.7888543819998317, 5.366563145999495]\n",
        "\n"
      ],
      "metadata": {
        "id": "8eNfSNp6Z-mM"
      }
    },
    {
      "cell_type": "code",
      "source": [
        "import numpy as np\n",
        "\n",
        "def normalize_and_sum(sensor_readings):\n",
        "    # Convert the input list to a NumPy array\n",
        "    readings_array = np.array(sensor_readings)\n",
        "\n",
        "    # Calculate mean and standard deviation for each day\n",
        "    means = readings_array.mean(axis=1)\n",
        "    stds = readings_array.std(axis=1)\n",
        "\n",
        "    # Normalize the data\n",
        "    normalized_data = (readings_array - means[:, np.newaxis]) / stds[:, np.newaxis]\n",
        "\n",
        "    # Calculate sum per sensor\n",
        "    sum_per_sensor = normalized_data.sum(axis=0)\n",
        "\n",
        "    return normalized_data, sum_per_sensor\n",
        "\n",
        "# Input data\n",
        "sensor_readings = [[10, 20, 30, 40],\n",
        "                   [15, 25, 35, 45],\n",
        "                   [20, 30, 40, 50],\n",
        "                   [25, 35, 45, 55]]\n",
        "\n",
        "# Normalize the sensor readings and calculate sum per sensor\n",
        "normalized_matrix, sum_per_sensor = normalize_and_sum(sensor_readings)\n",
        "\n",
        "# Output normalized matrix\n",
        "print(\"Normalized Matrix:\")\n",
        "print(normalized_matrix)\n",
        "\n",
        "# Output sum per sensor\n",
        "print(\"Sum per Sensor:\", sum_per_sensor)\n"
      ],
      "metadata": {
        "id": "t9ogDh8-Ztiv",
        "outputId": "d27d0772-a252-4491-d2ec-25a83cd2f5fc",
        "colab": {
          "base_uri": "https://localhost:8080/"
        }
      },
      "execution_count": 5,
      "outputs": [
        {
          "output_type": "stream",
          "name": "stdout",
          "text": [
            "Normalized Matrix:\n",
            "[[-1.34164079 -0.4472136   0.4472136   1.34164079]\n",
            " [-1.34164079 -0.4472136   0.4472136   1.34164079]\n",
            " [-1.34164079 -0.4472136   0.4472136   1.34164079]\n",
            " [-1.34164079 -0.4472136   0.4472136   1.34164079]]\n",
            "Sum per Sensor: [-5.36656315 -1.78885438  1.78885438  5.36656315]\n"
          ]
        }
      ]
    },
    {
      "cell_type": "markdown",
      "source": [
        "Develop a NumPy program to analyze flight path data. Given an array of altitude readings (in meters) over time, compute the total ascent and descent during the flight. Assume the flight starts and ends at the same altitude.\n",
        "\n",
        "Input:\n",
        "\n",
        "[100, 150, 200, 150, 100, 50, 100, 150]\n",
        "\n",
        "Output:\n",
        "\n",
        "Total Ascent: 200\n",
        "\n",
        "Total Descent: 150"
      ],
      "metadata": {
        "id": "_Www8qHGaHmL"
      }
    },
    {
      "cell_type": "code",
      "source": [
        "import numpy as np\n",
        "\n",
        "def analyze_flight_path(altitude_readings):\n",
        "    # Convert the altitude readings to a NumPy array\n",
        "    altitude_array = np.array(altitude_readings)\n",
        "\n",
        "    # Calculate the differences between consecutive altitude readings\n",
        "    altitude_diff = np.diff(altitude_array)\n",
        "\n",
        "    # Calculate total ascent (positive differences)\n",
        "    total_ascent = np.sum(altitude_diff[altitude_diff > 0])\n",
        "\n",
        "    # Calculate total descent (negative differences)\n",
        "    total_descent = np.abs(np.sum(altitude_diff[altitude_diff < 0]))\n",
        "\n",
        "    return total_ascent, total_descent\n",
        "\n",
        "# Input data\n",
        "altitude_readings = [100, 150, 200, 150, 100, 50, 100, 150]\n",
        "\n",
        "# Analyze flight path\n",
        "total_ascent, total_descent = analyze_flight_path(altitude_readings)\n",
        "\n",
        "# Output results\n",
        "print(\"Total Ascent:\", total_ascent)\n",
        "print(\"Total Descent:\", total_descent)\n"
      ],
      "metadata": {
        "id": "amglr5dZaBsX",
        "outputId": "733047ad-e60d-483b-ee46-881014013672",
        "colab": {
          "base_uri": "https://localhost:8080/"
        }
      },
      "execution_count": 6,
      "outputs": [
        {
          "output_type": "stream",
          "name": "stdout",
          "text": [
            "Total Ascent: 200\n",
            "Total Descent: 150\n"
          ]
        }
      ]
    },
    {
      "cell_type": "markdown",
      "source": [
        "Write a simple program that takes  three integers as input :stp,enp and step, and uses these values to return evenly spaced values within the given interval.\n",
        "\n",
        "Input Format\n",
        "\n",
        "• The first line contains an integer - stp which represents the start of the interval.\n",
        "\n",
        "• The second line contains an integer - enp which represents the end of the interval.\n",
        "\n",
        "• The third line contains an integer - step which represents the spacing between consecutive values.\n",
        "\n",
        "Constraints\n",
        "\n",
        "• 1 <= stp < enp <= 105\n",
        "\n",
        "• 2 <= step < enp <= 105\n",
        "\n",
        "Output Format\n",
        "\n",
        "• If the above constraints are not satisfied, print \"Constraints are failing!\"\n",
        "\n",
        "• If the above constraints are satisfied, print each element of the list in a new line, as is generated using the condition described in the Problem Statement.\n",
        "\n",
        "Sample Input\n",
        "\n",
        "2\n",
        "\n",
        "11\n",
        "\n",
        "3\n",
        "\n",
        "Sample Output 1\n",
        "\n",
        "2\n",
        "\n",
        "5\n",
        "\n",
        "8\n",
        "\n",
        "11\n",
        "\n",
        "Explanation 1\n",
        "\n",
        "• First element = 2\n",
        "\n",
        "2+3=5\n",
        "\n",
        "5+3=8\n",
        "\n",
        "8+3=11\n",
        "\n",
        "Since, the above elements fall in the given range as specified by the input, hence they will be printed to STDOUT, with each element on a new line.\n",
        "\n",
        "Sample Input 2\n",
        "\n",
        "2\n",
        "\n",
        "11\n",
        "\n",
        "13\n",
        "\n",
        "Sample Output 2\n",
        "\n",
        "Constraints are failing!\n",
        "\n",
        "Explanation 2\n",
        "\n",
        "Since, the value of step is more than the value for enp, hence\n",
        "\n",
        "the message \"Constraints are failing!\" will be printed to STDOUT.\n"
      ],
      "metadata": {
        "id": "xUvF7mDwaX-f"
      }
    },
    {
      "cell_type": "code",
      "source": [
        "# Function to generate evenly spaced values within the given interval\n",
        "def generate_values(stp, enp, step):\n",
        "    # Check if constraints are satisfied\n",
        "    if stp >= enp or step >= enp:\n",
        "        print(\"Constraints are failing!\")\n",
        "        return\n",
        "\n",
        "    # Generate values\n",
        "    values = []\n",
        "    current_value = stp\n",
        "    while current_value <= enp:\n",
        "        values.append(current_value)\n",
        "        current_value += step\n",
        "\n",
        "    # Print the generated values\n",
        "    for val in values:\n",
        "        print(val)\n",
        "\n",
        "# Read input\n",
        "stp = int(input())\n",
        "enp = int(input())\n",
        "step = int(input())\n",
        "\n",
        "# Generate and print the values\n",
        "generate_values(stp, enp, step)\n"
      ],
      "metadata": {
        "id": "kvnf0WU7aQOT",
        "outputId": "354719d5-4877-437b-b1f7-0ccbaf034ea1",
        "colab": {
          "base_uri": "https://localhost:8080/"
        }
      },
      "execution_count": 7,
      "outputs": [
        {
          "output_type": "stream",
          "name": "stdout",
          "text": [
            "2\n",
            "11\n",
            "3\n",
            "2\n",
            "5\n",
            "8\n",
            "11\n"
          ]
        }
      ]
    },
    {
      "cell_type": "markdown",
      "source": [
        "The firm has recently launched various marketing campaigns for its clients. As part of the campaigns, the firm has delivered a certain number of marketing cold emails to the customer.\n",
        "\n",
        "You are given some data related to the name of the client as the campaign name, the number of emails delivered as part of the campaign and the email open count for each campaign.\n",
        "\n",
        "Your task here is to calculate the open rate for each campaign and print the output in the form of Boolean values for the open rates as follows:\n",
        "\n",
        "• If the open rate for a campaign is greater than the mean open rate the output for that campaign should be \"True\"\n",
        "\n",
        "• If the open rate for a campaign is lower than the mean open rate the output for that campaign should be \"False\"\n",
        "\n",
        "Use pandas function and create a DataFrame from Dict of ndarrays / Lists\n",
        "\n",
        "Input Format\n",
        "\n",
        "• The first line contains an integer T, denoting the number of elements in the dictionary\n",
        "\n",
        "• The second line contains T space-separated values containing data related to Campaign Name.\n",
        "\n",
        "• The third line contains T space-separated values\n",
        "\n",
        "• The third line contains containing data related to Number of Emails\n",
        "\n",
        "• The fourth line contains T space-separated values containing data related to Email Open Rate.\n",
        "\n",
        "Output Format\n",
        "\n",
        "• Print the values as True/False as per the conditions provided in the problem statement\n",
        "\n",
        "Evaluation Parameters\n",
        "\n",
        "Sample Input\n",
        "\n",
        "4\n",
        "\n",
        "SoftBank Apple Microsoft Amazon\n",
        "\n",
        "2845 3425 2942 4215\n",
        "\n",
        "1253 3256 2100 1252\n",
        "\n",
        "Sample Output\n",
        "\n",
        "False\n",
        "\n",
        "True\n",
        "\n",
        "True\n",
        "\n",
        "False"
      ],
      "metadata": {
        "id": "szAvoQhqay70"
      }
    },
    {
      "cell_type": "code",
      "source": [
        "import pandas as pd\n",
        "\n",
        "# Read input\n",
        "T = int(input())\n",
        "campaign_names = input().split()\n",
        "num_emails = list(map(int, input().split()))\n",
        "open_count = list(map(int, input().split()))\n",
        "\n",
        "# Calculate open rate for each campaign\n",
        "open_rate = [oc / ne for oc, ne in zip(open_count, num_emails)]\n",
        "\n",
        "# Calculate mean open rate\n",
        "mean_open_rate = sum(open_rate) / T\n",
        "\n",
        "# Print output\n",
        "for rate in open_rate:\n",
        "    if rate > mean_open_rate:\n",
        "        print(\"True\")\n",
        "    else:\n",
        "        print(\"False\")\n"
      ],
      "metadata": {
        "id": "0a532_2uajep",
        "outputId": "300b0fce-4725-4efb-d1be-7d8dce1adf88",
        "colab": {
          "base_uri": "https://localhost:8080/"
        }
      },
      "execution_count": 8,
      "outputs": [
        {
          "output_type": "stream",
          "name": "stdout",
          "text": [
            "4\n",
            "SoftBank Apple Microsoft Amazon\n",
            "2845 3425 2942 4215\n",
            "1253 3256 2100 1252\n",
            "False\n",
            "True\n",
            "True\n",
            "False\n"
          ]
        }
      ]
    },
    {
      "cell_type": "code",
      "source": [
        "pd.__version__"
      ],
      "metadata": {
        "id": "48UsioRWbDl_",
        "outputId": "ff7ab0cd-f484-4b5f-c3d4-d6eeabe1325f",
        "colab": {
          "base_uri": "https://localhost:8080/",
          "height": 35
        }
      },
      "execution_count": 9,
      "outputs": [
        {
          "output_type": "execute_result",
          "data": {
            "text/plain": [
              "'1.5.3'"
            ],
            "application/vnd.google.colaboratory.intrinsic+json": {
              "type": "string"
            }
          },
          "metadata": {},
          "execution_count": 9
        }
      ]
    },
    {
      "cell_type": "code",
      "source": [],
      "metadata": {
        "id": "AyjAV1A4fGmw"
      },
      "execution_count": null,
      "outputs": []
    }
  ],
  "metadata": {
    "colab": {
      "name": "scratchpad",
      "provenance": [],
      "include_colab_link": true
    },
    "kernelspec": {
      "display_name": "Python 3",
      "name": "python3"
    }
  },
  "nbformat": 4,
  "nbformat_minor": 0
}