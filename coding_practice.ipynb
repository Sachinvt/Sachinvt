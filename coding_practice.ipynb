{
  "nbformat": 4,
  "nbformat_minor": 0,
  "metadata": {
    "colab": {
      "provenance": [],
      "authorship_tag": "ABX9TyNghALV4p/AlWYOPQ07gwHn",
      "include_colab_link": true
    },
    "kernelspec": {
      "name": "python3",
      "display_name": "Python 3"
    },
    "language_info": {
      "name": "python"
    }
  },
  "cells": [
    {
      "cell_type": "markdown",
      "metadata": {
        "id": "view-in-github",
        "colab_type": "text"
      },
      "source": [
        "<a href=\"https://colab.research.google.com/github/Sachinvt/Sachinvt/blob/main/coding_practice.ipynb\" target=\"_parent\"><img src=\"https://colab.research.google.com/assets/colab-badge.svg\" alt=\"Open In Colab\"/></a>"
      ]
    },
    {
      "cell_type": "markdown",
      "source": [
        "Find Items starts with char"
      ],
      "metadata": {
        "id": "d-6qR8I9j2pH"
      }
    },
    {
      "cell_type": "code",
      "execution_count": null,
      "metadata": {
        "colab": {
          "base_uri": "https://localhost:8080/"
        },
        "id": "-aF2QuvDjpBS",
        "outputId": "19b90a84-c17e-4610-81ba-6b1a94055f8a"
      },
      "outputs": [
        {
          "output_type": "stream",
          "name": "stdout",
          "text": [
            "['abcd', 'abc', 'bcd', 'bkie', 'cder', 'cdsw', 'sdfsd', 'dagfa', 'acjd']\n",
            "a\n",
            "['abcd', 'abc', 'acjd']\n"
          ]
        }
      ],
      "source": [
        "def start_with_char(lst,char):\n",
        "  return [ i for i in lst if i.startswith(char)]\n",
        "\n",
        "lst = eval(input())\n",
        "char = input()\n",
        "print(start_with_char(lst,char))"
      ]
    },
    {
      "cell_type": "markdown",
      "source": [
        "Next Prime Number"
      ],
      "metadata": {
        "id": "UriLV6TcoDq-"
      }
    },
    {
      "cell_type": "code",
      "source": [
        "def nextPrime(n):\n",
        "  p = n+1\n",
        "  for i in range(2,p):\n",
        "      if (p%i ==0):\n",
        "        p+=1\n",
        "  else:\n",
        "        print('The next prime number', n, 'is:', p)\n",
        "\n",
        "n = int(input())\n",
        "print(nextPrime(n))"
      ],
      "metadata": {
        "colab": {
          "base_uri": "https://localhost:8080/"
        },
        "id": "pFuqnpj1kQoc",
        "outputId": "1f7510f8-60bc-414d-8c3a-2fecfba8e378"
      },
      "execution_count": null,
      "outputs": [
        {
          "output_type": "stream",
          "name": "stdout",
          "text": [
            "48\n",
            "The next prime number 48 is: 53\n",
            "None\n"
          ]
        }
      ]
    },
    {
      "cell_type": "markdown",
      "source": [
        "Largest Negative & Smallest Positive numbers"
      ],
      "metadata": {
        "id": "wbYvNEr7qDrr"
      }
    },
    {
      "cell_type": "code",
      "source": [
        "def test(nums):\n",
        "  pos = [n for n in nums if n>0]\n",
        "  neg = [n for n in nums if n<0]\n",
        "  return [max(neg) if neg else 0, min(pos) if pos else 0]\n",
        "\n",
        "lst = eval(input())\n",
        "print(test(lst))"
      ],
      "metadata": {
        "colab": {
          "base_uri": "https://localhost:8080/"
        },
        "id": "KS36YUF8p4Tm",
        "outputId": "6c00c968-138e-48f9-d477-90f550112119"
      },
      "execution_count": null,
      "outputs": [
        {
          "output_type": "stream",
          "name": "stdout",
          "text": [
            "[-12, -6, 300, -40, 2, 2, 3, 57, -50, -22, 12, 40, 9, 11, 18]\n",
            "[-6, 2]\n"
          ]
        }
      ]
    },
    {
      "cell_type": "code",
      "source": [
        "def test(nums):\n",
        "    pos = [n for n in nums if n > 0]\n",
        "    neg = [n for n in nums if n < 0]\n",
        "    return [max(neg) if neg else 0, min(pos) if pos else 0]\n",
        "\n",
        "nums=eval(input())\n",
        "print(test(nums))"
      ],
      "metadata": {
        "colab": {
          "base_uri": "https://localhost:8080/"
        },
        "id": "OvIMwS5urf_d",
        "outputId": "90a57715-4000-4ec6-ab00-8884f0837259"
      },
      "execution_count": null,
      "outputs": [
        {
          "output_type": "stream",
          "name": "stdout",
          "text": [
            "[-12, -6, 300, -40, 2, 2, 3, 57, -50, -22, 12, 40, 9, 11, 18]\n",
            "Largest negative and smallest positive numbers (or 0 if none) of the said list:\n",
            "[-6, 2]\n"
          ]
        }
      ]
    },
    {
      "cell_type": "markdown",
      "source": [
        "Remove Duplicates in String"
      ],
      "metadata": {
        "id": "cnO-JFmms19j"
      }
    },
    {
      "cell_type": "code",
      "source": [
        "def removeDuplicates(str):\n",
        "  s = ''\n",
        "  l = str.lower()\n",
        "  for i in l:\n",
        "    if i not in s:\n",
        "      s+=i\n",
        "  return s\n",
        "\n",
        "st1 = input()\n",
        "print(removeDuplicates(st1))"
      ],
      "metadata": {
        "colab": {
          "base_uri": "https://localhost:8080/"
        },
        "id": "2PzQmsuesC_o",
        "outputId": "98db6f09-cc4d-4a10-c2d0-39ffefc7a87f"
      },
      "execution_count": null,
      "outputs": [
        {
          "output_type": "stream",
          "name": "stdout",
          "text": [
            "python exercises practice solution\n",
            "python exrcisalu\n"
          ]
        }
      ]
    },
    {
      "cell_type": "markdown",
      "source": [
        "Using lambda items starts with char"
      ],
      "metadata": {
        "id": "d3iDPGyovHml"
      }
    },
    {
      "cell_type": "code",
      "source": [
        "s = input()\n",
        "char = input()\n",
        "start_with = (lambda x: 'True' if x.startswith(char) else 'False')\n",
        "print(start_with(s))"
      ],
      "metadata": {
        "colab": {
          "base_uri": "https://localhost:8080/"
        },
        "id": "N0o2pi-LuY_4",
        "outputId": "14cd873d-4da5-4c68-c910-fe93cab344cb"
      },
      "execution_count": null,
      "outputs": [
        {
          "output_type": "stream",
          "name": "stdout",
          "text": [
            "Java\n",
            "J\n",
            "True\n"
          ]
        }
      ]
    },
    {
      "cell_type": "markdown",
      "source": [
        "Find Euclidian Distance"
      ],
      "metadata": {
        "id": "dBPMMW-EwSkZ"
      }
    },
    {
      "cell_type": "code",
      "source": [
        "x1,y1 = 6,7\n",
        "x2,y2 = 5,4\n",
        "Ecli_dist = ((x2-x1)**2 + (y2-y1)**2)**0.5\n",
        "print(Ecli_dist)"
      ],
      "metadata": {
        "colab": {
          "base_uri": "https://localhost:8080/"
        },
        "id": "bqXbXCmKvkGv",
        "outputId": "c32db785-ba1b-44fb-facd-2f21c209c87c"
      },
      "execution_count": null,
      "outputs": [
        {
          "output_type": "stream",
          "name": "stdout",
          "text": [
            "3.1622776601683795\n"
          ]
        }
      ]
    },
    {
      "cell_type": "markdown",
      "source": [
        "Remove char from string"
      ],
      "metadata": {
        "id": "NPUAAmyoxZMJ"
      }
    },
    {
      "cell_type": "code",
      "source": [
        "str = input()\n",
        "strl = str.lower()\n",
        "ch = input()\n",
        "chl = ch.lower()\n",
        "print(strl.replace(chl,''))"
      ],
      "metadata": {
        "colab": {
          "base_uri": "https://localhost:8080/"
        },
        "id": "eP-70W0-wyuW",
        "outputId": "7a0cf955-3b23-44a7-a2c8-9c8b47a2fc9a"
      },
      "execution_count": null,
      "outputs": [
        {
          "output_type": "stream",
          "name": "stdout",
          "text": [
            "Almabetter\n",
            "t\n",
            "almabeer\n"
          ]
        }
      ]
    },
    {
      "cell_type": "markdown",
      "source": [
        "Find Last Position of Substring"
      ],
      "metadata": {
        "id": "WgT6V1iwx0VP"
      }
    },
    {
      "cell_type": "code",
      "source": [
        "str1 = input()\n",
        "substr = input()\n",
        "index = str1.rfind(substr)\n",
        "print(\"The last occurence of\", substr, 'is at',index)"
      ],
      "metadata": {
        "colab": {
          "base_uri": "https://localhost:8080/"
        },
        "id": "BFtDi4FBxr_E",
        "outputId": "d04bdcb4-260f-4e01-a1a7-8b3579d440af"
      },
      "execution_count": null,
      "outputs": [
        {
          "output_type": "stream",
          "name": "stdout",
          "text": [
            "Emma is a data scientist who knows Python. Emma works at google.\n",
            "Emma\n",
            "The last occurence of Emma is at 43\n"
          ]
        }
      ]
    },
    {
      "cell_type": "markdown",
      "source": [
        "Common List"
      ],
      "metadata": {
        "id": "gWTxtExhyvgv"
      }
    },
    {
      "cell_type": "code",
      "source": [
        "lst1 = eval(input())\n",
        "lst2 = eval(input())\n",
        "common_list = list(set(lst1) & set(lst2))\n",
        "print(common_list)"
      ],
      "metadata": {
        "colab": {
          "base_uri": "https://localhost:8080/"
        },
        "id": "ggeAcuMEyYwk",
        "outputId": "76578e20-4012-4c78-f41c-ccf4ec5322ed"
      },
      "execution_count": null,
      "outputs": [
        {
          "output_type": "stream",
          "name": "stdout",
          "text": [
            "[\"Red\", \"Green\", \"Orange\", \"White\"]\n",
            "[\"Black\", \"Green\", \"White\", \"Pink\"]\n",
            "['Green', 'White']\n"
          ]
        }
      ]
    },
    {
      "cell_type": "markdown",
      "source": [
        "String Palindrome"
      ],
      "metadata": {
        "id": "i4ZuqAPlzRnN"
      }
    },
    {
      "cell_type": "code",
      "source": [
        "def is_palindrome(str):\n",
        "  if str == str[::-1]:\n",
        "    return \"The String is Palindrome\"\n",
        "  return \"The string is not palindrome\"\n",
        "\n",
        "str = input()\n",
        "print(is_palindrome(str))"
      ],
      "metadata": {
        "colab": {
          "base_uri": "https://localhost:8080/"
        },
        "id": "XnD1s448zDWL",
        "outputId": "38d3e1f7-4c4c-4f2b-843b-f7e569a56798"
      },
      "execution_count": null,
      "outputs": [
        {
          "output_type": "stream",
          "name": "stdout",
          "text": [
            "madam\n",
            "The String is Palindrome\n"
          ]
        }
      ]
    },
    {
      "cell_type": "markdown",
      "source": [
        "Round Decimal"
      ],
      "metadata": {
        "id": "TOITGBSW0SE-"
      }
    },
    {
      "cell_type": "code",
      "source": [
        "n1 = float(input())\n",
        "n2 = int(input())\n",
        "print(round(n1,n2))"
      ],
      "metadata": {
        "colab": {
          "base_uri": "https://localhost:8080/"
        },
        "id": "nzwjDJn1z_Dy",
        "outputId": "7e59138d-a50b-48d7-8588-961b1de73b1d"
      },
      "execution_count": null,
      "outputs": [
        {
          "output_type": "stream",
          "name": "stdout",
          "text": [
            "10.5678\n",
            "2\n",
            "10.57\n"
          ]
        }
      ]
    },
    {
      "cell_type": "markdown",
      "source": [
        "Even or Odd number check"
      ],
      "metadata": {
        "id": "qYs-HC7f0teA"
      }
    },
    {
      "cell_type": "code",
      "source": [
        "n = int(input())\n",
        "if n>0 and n%2==0:\n",
        "  print(\"The number is even\")\n",
        "else:\n",
        "  print('The number is odd')"
      ],
      "metadata": {
        "colab": {
          "base_uri": "https://localhost:8080/"
        },
        "id": "VNA5rlVS0ewr",
        "outputId": "43a749dc-b257-4570-e965-c980dd19c3c3"
      },
      "execution_count": null,
      "outputs": [
        {
          "output_type": "stream",
          "name": "stdout",
          "text": [
            "1\n",
            "The number is odd\n"
          ]
        }
      ]
    },
    {
      "cell_type": "markdown",
      "source": [
        "Sum and check the digit length"
      ],
      "metadata": {
        "id": "8nooa-FQ1mhQ"
      }
    },
    {
      "cell_type": "code",
      "source": [
        "n1 = int(input())\n",
        "n2 = int(input())\n",
        "if n1>=10**80 or n2>=10**80 or n1+n2>=10**80:\n",
        "  print(\"Overflow!\")\n",
        "else:\n",
        "  print(n1+n2)"
      ],
      "metadata": {
        "colab": {
          "base_uri": "https://localhost:8080/"
        },
        "id": "zlA66ksqGkbG",
        "outputId": "6bc0f8a1-5f64-4e55-b894-09e4d99ec086"
      },
      "execution_count": null,
      "outputs": [
        {
          "output_type": "stream",
          "name": "stdout",
          "text": [
            "22\n",
            "25\n",
            "47\n"
          ]
        }
      ]
    },
    {
      "cell_type": "markdown",
      "source": [
        "Remove specified index value"
      ],
      "metadata": {
        "id": "qf__ALFBLuRS"
      }
    },
    {
      "cell_type": "code",
      "source": [
        "lst = eval(input())\n",
        "lst = [x for (i,x) in enumerate(lst) if i not in [0,4,5]]\n",
        "print(lst)"
      ],
      "metadata": {
        "colab": {
          "base_uri": "https://localhost:8080/"
        },
        "id": "jn-Z0xBXLS3k",
        "outputId": "fa4276fc-d2c4-42a0-b3fb-2933db974c7b"
      },
      "execution_count": null,
      "outputs": [
        {
          "output_type": "stream",
          "name": "stdout",
          "text": [
            "['Red', 'Green', 'White', 'Black', 'Pink', 'Yellow']\n",
            "['Green', 'White', 'Black']\n"
          ]
        }
      ]
    },
    {
      "cell_type": "markdown",
      "source": [
        "Largest element of list"
      ],
      "metadata": {
        "id": "A6TQM6LVMXG6"
      }
    },
    {
      "cell_type": "code",
      "source": [
        "def max_num(lst):\n",
        "  max = lst[0]\n",
        "  for a in lst:\n",
        "    if a>max:\n",
        "      max = a\n",
        "  return max\n",
        "\n",
        "lst = eval(input())\n",
        "print(max_num(lst))"
      ],
      "metadata": {
        "colab": {
          "base_uri": "https://localhost:8080/"
        },
        "id": "HzN_wu8yL-do",
        "outputId": "95794ae3-7c11-4006-c90e-0f10bf6ee07b"
      },
      "execution_count": null,
      "outputs": [
        {
          "output_type": "stream",
          "name": "stdout",
          "text": [
            "[1, 2, -8, 0]\n",
            "2\n"
          ]
        }
      ]
    },
    {
      "cell_type": "markdown",
      "source": [
        "Print every nth element"
      ],
      "metadata": {
        "id": "HSmsKAOPNrcN"
      }
    },
    {
      "cell_type": "code",
      "source": [
        "lst = eval(input())\n",
        "n = int(input())\n",
        "print(lst[n-1::n])"
      ],
      "metadata": {
        "colab": {
          "base_uri": "https://localhost:8080/"
        },
        "id": "7QZq53UuNY9N",
        "outputId": "37680a84-6b17-4113-c1d0-e4d1a69400e6"
      },
      "execution_count": null,
      "outputs": [
        {
          "output_type": "stream",
          "name": "stdout",
          "text": [
            "1,2,3,4,5,6,7,8,9,10\n",
            "2\n",
            "(2, 4, 6, 8, 10)\n"
          ]
        }
      ]
    },
    {
      "cell_type": "markdown",
      "source": [
        "Solve equation with two variables"
      ],
      "metadata": {
        "id": "tC0_IYhvONcD"
      }
    },
    {
      "cell_type": "code",
      "source": [
        "x = float(input())\n",
        "y = float(input())\n",
        "z = (x+y)*(x+y)\n",
        "print(z)"
      ],
      "metadata": {
        "colab": {
          "base_uri": "https://localhost:8080/"
        },
        "id": "t-S2XQRSN52g",
        "outputId": "5a3704d8-0e81-43cd-97e8-c6d87e557450"
      },
      "execution_count": null,
      "outputs": [
        {
          "output_type": "stream",
          "name": "stdout",
          "text": [
            "4\n",
            "3\n",
            "49.0\n"
          ]
        }
      ]
    },
    {
      "cell_type": "markdown",
      "source": [
        "Largest element of list"
      ],
      "metadata": {
        "id": "ICseyPCqOlQ5"
      }
    },
    {
      "cell_type": "code",
      "source": [
        "def largest_elemn(lst):\n",
        "  max = lst[0]\n",
        "  for a in lst:\n",
        "    if a>max:\n",
        "      max=a\n",
        "  return max\n",
        "\n",
        "lst = eval(input())\n",
        "print(largest_elemn(lst))"
      ],
      "metadata": {
        "colab": {
          "base_uri": "https://localhost:8080/"
        },
        "id": "hffcIJbIOcvK",
        "outputId": "8c347580-5e1a-49ba-87dd-859addb49f02"
      },
      "execution_count": null,
      "outputs": [
        {
          "output_type": "stream",
          "name": "stdout",
          "text": [
            "[1, 2, -8, 0]\n",
            "2\n"
          ]
        }
      ]
    },
    {
      "cell_type": "markdown",
      "source": [
        "Difference between two lists"
      ],
      "metadata": {
        "id": "Kx4VKNssPRgb"
      }
    },
    {
      "cell_type": "code",
      "source": [
        "L1 = eval(input())\n",
        "L2 = eval(input())\n",
        "difference_1 = set(L1).difference(set(L2))\n",
        "difference_2 = set(L2).difference(set(L1))\n",
        "print(\"L1-L2:\", sorted(difference_1))\n",
        "print(\"L2-L1:\", sorted(difference_2))"
      ],
      "metadata": {
        "colab": {
          "base_uri": "https://localhost:8080/"
        },
        "id": "Zg0M1CPtO4_U",
        "outputId": "824dcc23-c3d2-416d-c1a3-455f50fcc039"
      },
      "execution_count": null,
      "outputs": [
        {
          "output_type": "stream",
          "name": "stdout",
          "text": [
            "[\"red\", \"orange\", \"green\", \"blue\", \"white\"]\n",
            "[\"black\", \"yellow\", \"green\", \"blue\"]\n",
            "L1-L2: ['orange', 'red', 'white']\n",
            "L2-L1: ['black', 'yellow']\n"
          ]
        }
      ]
    },
    {
      "cell_type": "markdown",
      "source": [
        "Insert string at beginning"
      ],
      "metadata": {
        "id": "e5qkcFNLQUUh"
      }
    },
    {
      "cell_type": "code",
      "source": [
        "lst = eval(input())\n",
        "string = \"emp\"\n",
        "print([string +'{0}'.format(i) for i in lst])"
      ],
      "metadata": {
        "colab": {
          "base_uri": "https://localhost:8080/"
        },
        "id": "tbBREcNUP6Qf",
        "outputId": "ba0f70e0-8d37-4c16-9de2-6c208fe9e34b"
      },
      "execution_count": null,
      "outputs": [
        {
          "output_type": "stream",
          "name": "stdout",
          "text": [
            "1,2,3,4,5,6\n",
            "['emp1', 'emp2', 'emp3', 'emp4', 'emp5', 'emp6']\n"
          ]
        }
      ]
    },
    {
      "cell_type": "markdown",
      "source": [
        "Get Murphy Registered for Doga"
      ],
      "metadata": {
        "id": "bglLOrd2Rvsa"
      }
    },
    {
      "cell_type": "code",
      "source": [
        "h_age = int(input())\n",
        "d_age = 0\n",
        "if h_age <=2 and h_age >=0:\n",
        "  d_age = h_age*10.5\n",
        "else:\n",
        "  d_age = 21 + (h_age-2)*4\n",
        "print(d_age)"
      ],
      "metadata": {
        "colab": {
          "base_uri": "https://localhost:8080/"
        },
        "id": "2OzI4rT8QnyQ",
        "outputId": "0490e29d-2f9f-4a4c-de63-2aeb1a8e4da3"
      },
      "execution_count": null,
      "outputs": [
        {
          "output_type": "stream",
          "name": "stdout",
          "text": [
            "1\n",
            "10.5\n"
          ]
        }
      ]
    },
    {
      "cell_type": "markdown",
      "source": [
        "Test of English Language"
      ],
      "metadata": {
        "id": "D4_scIPAScew"
      }
    },
    {
      "cell_type": "code",
      "source": [
        "ch = input()\n",
        "if ch in ['a', 'e', 'i', 'o', 'u', 'A', 'E', 'I', 'O', 'U']:\n",
        "  print(\"Vowel\")\n",
        "else:\n",
        "  print(\"Consonant\")"
      ],
      "metadata": {
        "colab": {
          "base_uri": "https://localhost:8080/"
        },
        "id": "jRuuy2e2SNxn",
        "outputId": "ba581b55-334d-4d62-ca07-7989b0b54612"
      },
      "execution_count": null,
      "outputs": [
        {
          "output_type": "stream",
          "name": "stdout",
          "text": [
            "e\n",
            "Vowel\n"
          ]
        }
      ]
    },
    {
      "cell_type": "markdown",
      "source": [
        "Pattern formation"
      ],
      "metadata": {
        "id": "lDv5XbZPXc0i"
      }
    },
    {
      "cell_type": "code",
      "source": [
        "n = int(input())\n",
        "for i in range(1,n+1):\n",
        "  print(str(i)*i)"
      ],
      "metadata": {
        "colab": {
          "base_uri": "https://localhost:8080/"
        },
        "id": "r7wS93elS0mu",
        "outputId": "398cfb1e-6ae3-43a4-f4d4-de5ce0ae3fea"
      },
      "execution_count": null,
      "outputs": [
        {
          "output_type": "stream",
          "name": "stdout",
          "text": [
            "4\n",
            "1\n",
            "22\n",
            "333\n",
            "4444\n"
          ]
        }
      ]
    },
    {
      "cell_type": "markdown",
      "source": [
        "Reschedule the meeting to next date"
      ],
      "metadata": {
        "id": "Sftkd0ltZkSC"
      }
    },
    {
      "cell_type": "code",
      "source": [
        "date_input = input()\n",
        "year, month, day = map(int, date_input.split())\n",
        "\n",
        "if (year % 400 == 0):\n",
        "    leap_year = True\n",
        "elif (year % 100 == 0):\n",
        "    leap_year = False\n",
        "elif (year % 4 == 0):\n",
        "    leap_year = True\n",
        "else:\n",
        "    leap_year = False\n",
        "\n",
        "if month in (1, 3, 5, 7, 8, 10, 12):\n",
        "    month_length = 31\n",
        "elif month == 2:\n",
        "    if leap_year:\n",
        "        month_length = 29\n",
        "    else:\n",
        "        month_length = 28\n",
        "else:\n",
        "    month_length = 30\n",
        "\n",
        "if day < month_length:\n",
        "    day += 1\n",
        "else:\n",
        "    day = 1\n",
        "    if month == 12:\n",
        "        month = 1\n",
        "        year += 1\n",
        "    else:\n",
        "        month += 1\n",
        "\n",
        "print(\"The next date is [yyyy-mm-dd] %d-%d-%d.\" % (year, month, day))"
      ],
      "metadata": {
        "colab": {
          "base_uri": "https://localhost:8080/"
        },
        "id": "5PzCZsovXyq1",
        "outputId": "642c70e0-8048-4620-9588-786b8f17768c"
      },
      "execution_count": null,
      "outputs": [
        {
          "output_type": "stream",
          "name": "stdout",
          "text": [
            "2001 12 31\n",
            "The next date is [yyyy-mm-dd] 2002-1-1.\n"
          ]
        }
      ]
    },
    {
      "cell_type": "markdown",
      "source": [
        "Sum and Avg of list"
      ],
      "metadata": {
        "id": "DtQ5X3svnN1l"
      }
    },
    {
      "cell_type": "code",
      "source": [
        "count = 0\n",
        "sum = 0.0\n",
        "number = input().split()\n",
        "\n",
        "while number !=0:\n",
        "  number = int(input())\n",
        "  sum = sum + number\n",
        "  count+=1\n",
        "\n",
        "if count==0:\n",
        "  print(\"Input some numbers\")\n",
        "else:\n",
        "  print(\"The Average and sum of gicen numbers is:\", sum/(count-1), sum)\n"
      ],
      "metadata": {
        "colab": {
          "base_uri": "https://localhost:8080/"
        },
        "id": "abyWthq3aVZD",
        "outputId": "1a149bf0-d32d-4149-a08e-94bb5d844342"
      },
      "execution_count": null,
      "outputs": [
        {
          "output_type": "stream",
          "name": "stdout",
          "text": [
            "1 2 4 5 6\n",
            "12\n",
            "123\n",
            "4\n",
            "5\n",
            "6\n",
            "0\n",
            "The Average and sum of gicen numbers is: 30.0 150.0\n"
          ]
        }
      ]
    },
    {
      "cell_type": "markdown",
      "source": [
        "Swap two numbers"
      ],
      "metadata": {
        "id": "DeX4hqMhpKw3"
      }
    },
    {
      "cell_type": "code",
      "source": [
        "a = int(input())\n",
        "b = int(input())\n",
        "print(\"The value of a is:\", a)\n",
        "print(\"The value of b is:\", b)\n",
        "a = a-b\n",
        "b = a+b\n",
        "a = b-a\n",
        "print(\"After swapping:\")\n",
        "print(\"The value of a is:\", a)\n",
        "print(\"The value of b is:\", b)"
      ],
      "metadata": {
        "colab": {
          "base_uri": "https://localhost:8080/"
        },
        "id": "naQ3Igy0oD-E",
        "outputId": "b75b39f6-9447-4c1a-c8e9-8ce49115b388"
      },
      "execution_count": null,
      "outputs": [
        {
          "output_type": "stream",
          "name": "stdout",
          "text": [
            "2\n",
            "9\n",
            "The value of a is: 2\n",
            "The value of b is: 9\n",
            "After swapping:\n",
            "The value of a is: 9\n",
            "The value of b is: 2\n"
          ]
        }
      ]
    },
    {
      "cell_type": "markdown",
      "source": [
        "Perfect Number"
      ],
      "metadata": {
        "id": "G9MQ-0-mq43J"
      }
    },
    {
      "cell_type": "code",
      "source": [
        "num = int(input())\n",
        "sum = 0\n",
        "\n",
        "for i in range(1,(num//2)+1):\n",
        "  remainder = num%i\n",
        "  if remainder ==0:\n",
        "    sum +=i\n",
        "if sum == num:\n",
        "  print(\"The number is perfect\")\n",
        "\n",
        "else:\n",
        "  print(\"The number is not perfect\")\n"
      ],
      "metadata": {
        "colab": {
          "base_uri": "https://localhost:8080/"
        },
        "id": "HeGslgl1pmWA",
        "outputId": "3d025190-66ed-4795-e6b3-d2c684fc9eff"
      },
      "execution_count": null,
      "outputs": [
        {
          "output_type": "stream",
          "name": "stdout",
          "text": [
            "1234\n",
            "The number is not perfect\n"
          ]
        }
      ]
    },
    {
      "cell_type": "markdown",
      "source": [
        "Change position"
      ],
      "metadata": {
        "id": "xALRroCNtrJZ"
      }
    },
    {
      "cell_type": "code",
      "source": [
        "lst = eval(input())\n",
        "l = len(lst)\n",
        "lstn = []\n",
        "for i in range(0,l-1,2):\n",
        "  lstn.append(lst[i+1])\n",
        "  lstn.append(lst[i])\n",
        "print(lstn)"
      ],
      "metadata": {
        "colab": {
          "base_uri": "https://localhost:8080/"
        },
        "id": "DibOuuhLtD0e",
        "outputId": "8fb96586-bdb8-459f-fd65-14c0eb176aa8"
      },
      "execution_count": null,
      "outputs": [
        {
          "output_type": "stream",
          "name": "stdout",
          "text": [
            "[1, 0, 3, 2, 5, 4]\n",
            "[0, 1, 2, 3, 4, 5]\n"
          ]
        }
      ]
    },
    {
      "cell_type": "markdown",
      "source": [
        "Difference between two lists"
      ],
      "metadata": {
        "id": "iKjjDjKZugkJ"
      }
    },
    {
      "cell_type": "code",
      "source": [
        "L1 = eval(input())\n",
        "L2 = eval(input())\n",
        "\n",
        "difference_1 = list(set(L1).difference(set(L2)))\n",
        "difference_2 = list(set(L2).difference(set(L1)))\n",
        "print(\"L1-L2:\", difference_1)\n",
        "print(\"L2-L1:\", difference_2)"
      ],
      "metadata": {
        "colab": {
          "base_uri": "https://localhost:8080/"
        },
        "id": "O3jSgkIwuLxK",
        "outputId": "1384d488-a848-4c87-de3a-a2077a7d6d24"
      },
      "execution_count": null,
      "outputs": [
        {
          "output_type": "stream",
          "name": "stdout",
          "text": [
            "[\"red\", \"orange\", \"green\", \"blue\", \"white\"]\n",
            "[\"black\", \"yellow\", \"green\", \"blue\"]\n",
            "L1-L2: ['orange', 'red', 'white']\n",
            "L2-L1: ['black', 'yellow']\n"
          ]
        }
      ]
    },
    {
      "cell_type": "markdown",
      "source": [
        "Find Tuple with smallest index"
      ],
      "metadata": {
        "id": "2IrLdlfCvtQL"
      }
    },
    {
      "cell_type": "code",
      "source": [
        "x = eval(input())\n",
        "print(min(x,key=lambda n:(n[1],-n[0])))"
      ],
      "metadata": {
        "colab": {
          "base_uri": "https://localhost:8080/"
        },
        "id": "uhaNKKz-uk4m",
        "outputId": "055dbccb-7a92-4473-ffb8-7f89cbb614fe"
      },
      "execution_count": null,
      "outputs": [
        {
          "output_type": "stream",
          "name": "stdout",
          "text": [
            "[(4, 1), (1, 2), (6, 0)]\n",
            "(6, 0)\n"
          ]
        }
      ]
    },
    {
      "cell_type": "markdown",
      "source": [
        "Biggest even number"
      ],
      "metadata": {
        "id": "884dNfsVwi9B"
      }
    },
    {
      "cell_type": "code",
      "source": [
        "m = int(input())\n",
        "n = int(input())\n",
        "\n",
        "if m > n or (m==n and m%n ==1):\n",
        "  print(\"-1\")\n",
        "if n%2 ==0:\n",
        "  print(n)\n",
        "else:\n",
        "  print(n-1)"
      ],
      "metadata": {
        "colab": {
          "base_uri": "https://localhost:8080/"
        },
        "id": "NDXSziG_wB3s",
        "outputId": "e2367b78-57bf-499d-bfcf-1e7e9425e8fb"
      },
      "execution_count": null,
      "outputs": [
        {
          "output_type": "stream",
          "name": "stdout",
          "text": [
            "20\n",
            "51\n",
            "50\n"
          ]
        }
      ]
    },
    {
      "cell_type": "markdown",
      "source": [
        "Numbers below threshold"
      ],
      "metadata": {
        "id": "nOpcvIS8x901"
      }
    },
    {
      "cell_type": "code",
      "source": [
        "def test(nums,thesh):\n",
        "  return [i for i,n in enumerate(nums) if n < thresh]\n",
        "\n",
        "nums = eval(input())\n",
        "thresh = int(input())\n",
        "print(test(nums,thresh))"
      ],
      "metadata": {
        "colab": {
          "base_uri": "https://localhost:8080/"
        },
        "id": "QLKDBN5sw-r_",
        "outputId": "575ffe5d-4eee-414a-c50a-da8bb771c52f"
      },
      "execution_count": null,
      "outputs": [
        {
          "output_type": "stream",
          "name": "stdout",
          "text": [
            "[0, 12, 45, 3, 4923, 322, 105, 29, 15, 39, 55]\n",
            "100\n",
            "[0, 1, 2, 3, 7, 8, 9, 10]\n"
          ]
        }
      ]
    },
    {
      "cell_type": "markdown",
      "source": [
        "Remove NONE"
      ],
      "metadata": {
        "id": "Ku1wyKiGy5dW"
      }
    },
    {
      "cell_type": "code",
      "source": [
        "def remove_none(lst):\n",
        "  return [x for x in lst if x is not None]\n",
        "\n",
        "lst = eval(input())\n",
        "print(remove_none(lst))"
      ],
      "metadata": {
        "colab": {
          "base_uri": "https://localhost:8080/"
        },
        "id": "KrKiiCKlyjpq",
        "outputId": "99ddeaf0-027b-47a6-8059-9a2c0709b861"
      },
      "execution_count": null,
      "outputs": [
        {
          "output_type": "stream",
          "name": "stdout",
          "text": [
            "[12, 0, None, 23, None, -55, 234, 89, None, 0, 6, -12]\n",
            "[12, 0, 23, -55, 234, 89, 0, 6, -12]\n"
          ]
        }
      ]
    },
    {
      "cell_type": "markdown",
      "source": [
        "Indexes of None"
      ],
      "metadata": {
        "id": "M9WOwAZ1zjbU"
      }
    },
    {
      "cell_type": "code",
      "source": [
        "def index_none(lst):\n",
        "  return [x for x in range(len(lst)) if lst[x] ==None]\n",
        "\n",
        "lst = eval(input())\n",
        "print(index_none(lst))"
      ],
      "metadata": {
        "colab": {
          "base_uri": "https://localhost:8080/"
        },
        "id": "9zZb32luzPAG",
        "outputId": "749dd684-0cdf-4d7a-cfdb-794337cca233"
      },
      "execution_count": null,
      "outputs": [
        {
          "output_type": "stream",
          "name": "stdout",
          "text": [
            "[12, 0, None, 23, None, -55, 234, 89, None, 0, 6, -12]\n",
            "[2, 4, 8]\n"
          ]
        }
      ]
    },
    {
      "cell_type": "markdown",
      "source": [
        "Remove specific word"
      ],
      "metadata": {
        "id": "QR_03WLs0RuV"
      }
    },
    {
      "cell_type": "code",
      "source": [
        "def test(word,remove_word):\n",
        "  return [word for word in word if word not in remove_word]\n",
        "\n",
        "word = eval(input())\n",
        "remove_word = eval(input())\n",
        "print(test(word,remove_word))"
      ],
      "metadata": {
        "colab": {
          "base_uri": "https://localhost:8080/"
        },
        "id": "bYt8qxapz5pn",
        "outputId": "f53064b3-3061-453e-da17-ceab11476e4d"
      },
      "execution_count": null,
      "outputs": [
        {
          "output_type": "stream",
          "name": "stdout",
          "text": [
            "['red', 'green', 'blue', 'white', 'black', 'orange']\n",
            "['white', 'orange']\n",
            "['red', 'green', 'blue', 'black']\n"
          ]
        }
      ]
    },
    {
      "cell_type": "markdown",
      "source": [
        "Count the Characters"
      ],
      "metadata": {
        "id": "HRhX8It1ZhWM"
      }
    },
    {
      "cell_type": "code",
      "source": [
        "str1 = input()\n",
        "d = {}\n",
        "for char in str1:\n",
        "  char = char.lower()\n",
        "  if char in d:\n",
        "    d[char] +=1\n",
        "  else:\n",
        "    d[char] = 1\n",
        "print(d)"
      ],
      "metadata": {
        "colab": {
          "base_uri": "https://localhost:8080/"
        },
        "id": "gNAbLejz0z1J",
        "outputId": "26f17c86-f361-4e51-c5aa-d516f8a9b996"
      },
      "execution_count": null,
      "outputs": [
        {
          "output_type": "stream",
          "name": "stdout",
          "text": [
            "Shraddha\n",
            "{'s': 1, 'h': 2, 'r': 1, 'a': 2, 'd': 2}\n"
          ]
        }
      ]
    },
    {
      "cell_type": "markdown",
      "source": [
        "Using lambda find items begin with char"
      ],
      "metadata": {
        "id": "lDQZZrpYaVCB"
      }
    },
    {
      "cell_type": "code",
      "source": [
        "s = input()\n",
        "ch = input()\n",
        "starts_with = lambda s,ch:s.startswith(ch)\n",
        "result = starts_with(s,ch)\n",
        "print(result)"
      ],
      "metadata": {
        "colab": {
          "base_uri": "https://localhost:8080/"
        },
        "id": "ClkfnBsj8sMw",
        "outputId": "3ddb5ba9-41bb-40ac-917f-a789cadde11e"
      },
      "execution_count": null,
      "outputs": [
        {
          "output_type": "stream",
          "name": "stdout",
          "text": [
            "Sachin\n",
            "s\n",
            "False\n"
          ]
        }
      ]
    },
    {
      "cell_type": "markdown",
      "source": [
        "Harmonical Sum"
      ],
      "metadata": {
        "id": "740Fa2D-ekpj"
      }
    },
    {
      "cell_type": "code",
      "source": [
        "n = int(input())\n",
        "harmonic_sum = 0\n",
        "for i in range(1,n+1):\n",
        "  harmonic_sum += 1/i\n",
        "print(harmonic_sum)"
      ],
      "metadata": {
        "colab": {
          "base_uri": "https://localhost:8080/"
        },
        "id": "U4rl2EY7at0Z",
        "outputId": "42d432ae-877f-48aa-c386-5c654e28d216"
      },
      "execution_count": null,
      "outputs": [
        {
          "output_type": "stream",
          "name": "stdout",
          "text": [
            "7\n",
            "2.5928571428571425\n"
          ]
        }
      ]
    },
    {
      "cell_type": "markdown",
      "source": [
        "Mingle to Single"
      ],
      "metadata": {
        "id": "kCXqLf07jUXo"
      }
    },
    {
      "cell_type": "code",
      "source": [
        "n = int(input())\n",
        "step_count = 1\n",
        "\n",
        "while n >= 10:\n",
        "    step_sum = 0\n",
        "    while n > 0:\n",
        "        step_sum += n % 10\n",
        "        n //= 10\n",
        "\n",
        "    print(f\"Step-{step_count} Sum: {step_sum}\")\n",
        "\n",
        "    n = step_sum\n",
        "    step_count += 1\n",
        "\n",
        "    print(f\"Step-{step_count} Sum: {step_sum}\")"
      ],
      "metadata": {
        "colab": {
          "base_uri": "https://localhost:8080/"
        },
        "id": "eTEvHiaMe77-",
        "outputId": "cbc0dc30-781f-4d68-d81e-e5f33be91a7f"
      },
      "execution_count": null,
      "outputs": [
        {
          "output_type": "stream",
          "name": "stdout",
          "text": [
            "7458\n",
            "Step-1 Sum: 24\n",
            "Step-2 Sum: 24\n",
            "Step-2 Sum: 6\n",
            "Step-3 Sum: 6\n"
          ]
        }
      ]
    },
    {
      "cell_type": "markdown",
      "source": [
        "Words of Prime Importance"
      ],
      "metadata": {
        "id": "7nYmA7KbjoNZ"
      }
    },
    {
      "cell_type": "code",
      "source": [
        "strs = input()\n",
        "def test(strs):\n",
        "  return \" \".join(strs for strs in strs.split() if is_prime(len(strs)))\n",
        "def is_prime(n):\n",
        "  return n > 0 and all(n % j for j in range(2,int(n** 0.5)+1))\n",
        "print(test(strs))"
      ],
      "metadata": {
        "colab": {
          "base_uri": "https://localhost:8080/"
        },
        "id": "cMGBP89FiIDr",
        "outputId": "16dc9302-c244-432a-d618-2789d8235bdb"
      },
      "execution_count": null,
      "outputs": [
        {
          "output_type": "stream",
          "name": "stdout",
          "text": [
            "The quick brown fox jumps over the lazy dog.\n",
            "The quick brown fox jumps the\n"
          ]
        }
      ]
    },
    {
      "cell_type": "markdown",
      "source": [
        "Check prime number"
      ],
      "metadata": {
        "id": "h7bDu4CNnmYm"
      }
    },
    {
      "cell_type": "code",
      "source": [
        "def is_prime(n):\n",
        "  if n < 2:\n",
        "    return False\n",
        "  for i in range(2,int(n**0.5)+1):\n",
        "    if n % i ==0:\n",
        "      return False\n",
        "  return True\n",
        "\n",
        "n = int(input())\n",
        "print(is_prime(n))"
      ],
      "metadata": {
        "colab": {
          "base_uri": "https://localhost:8080/"
        },
        "id": "0zshbT_Xkhtx",
        "outputId": "4389a3b0-3927-49ed-ae23-c677ff821c19"
      },
      "execution_count": null,
      "outputs": [
        {
          "output_type": "stream",
          "name": "stdout",
          "text": [
            "3\n",
            "True\n"
          ]
        }
      ]
    },
    {
      "cell_type": "markdown",
      "source": [
        "Find closest palindrome"
      ],
      "metadata": {
        "id": "li8x_WctwhWi"
      }
    },
    {
      "cell_type": "code",
      "source": [
        "def is_palindrome(s):\n",
        "  return s == s[::-1]\n",
        "\n",
        "def closest_palindrome(string):\n",
        "  if is_palindrome(string):\n",
        "    return string\n",
        "\n",
        "  n = len(string)\n",
        "  mid = n // 2\n",
        "\n",
        "  left = string[:mid]\n",
        "  right = left[::-1]\n",
        "\n",
        "  if n % 2 ==0:\n",
        "    closest = left + right\n",
        "    if closest > string:\n",
        "      return closest\n",
        "    else:\n",
        "      left_rev = left[::-1]\n",
        "      closest = left + left_rev\n",
        "      return closest\n",
        "  else:\n",
        "    center = string[mid]\n",
        "    closest = left + center + right\n",
        "    if closest > string:\n",
        "      return closest\n",
        "    else:\n",
        "      left_rev = left[::-1]\n",
        "      closest = left + center + left_rev\n",
        "      return closest\n",
        "\n",
        "s = input()\n",
        "print(closest_palindrome(s))"
      ],
      "metadata": {
        "colab": {
          "base_uri": "https://localhost:8080/"
        },
        "id": "bezTwpqQvTc-",
        "outputId": "06688bc1-061d-441c-f38c-857342b6ca4f"
      },
      "execution_count": null,
      "outputs": [
        {
          "output_type": "stream",
          "name": "stdout",
          "text": [
            "madam\n",
            "madam\n"
          ]
        }
      ]
    },
    {
      "cell_type": "markdown",
      "source": [
        "Print space between characters"
      ],
      "metadata": {
        "id": "CQBnBG42WDou"
      }
    },
    {
      "cell_type": "code",
      "source": [
        "def generate_spaced_string(char_count):\n",
        "  spaced_string = \" \".join([char for char, count in char_count.items() for _ in range(count)])\n",
        "  return spaced_string\n",
        "\n",
        "s = eval(input())\n",
        "print(generate_spaced_string(s))"
      ],
      "metadata": {
        "colab": {
          "base_uri": "https://localhost:8080/"
        },
        "id": "AsQHL_UdQdP1",
        "outputId": "6fc7b220-633d-4951-f53e-c997bc60f49e"
      },
      "execution_count": null,
      "outputs": [
        {
          "output_type": "stream",
          "name": "stdout",
          "text": [
            "{\"f\": 1, \"o\": 2}\n",
            "f o o\n"
          ]
        }
      ]
    },
    {
      "cell_type": "markdown",
      "source": [
        "Strange sort"
      ],
      "metadata": {
        "id": "j_rnfRWCXkwd"
      }
    },
    {
      "cell_type": "code",
      "source": [
        "def strang_sort(numbers):\n",
        "  sorted_list = []\n",
        "  sorted(numbers)\n",
        "\n",
        "  while numbers:\n",
        "    sorted_list.append(numbers.pop(0))\n",
        "\n",
        "    if numbers:\n",
        "      sorted_list.append(numbers.pop(-1))\n",
        "\n",
        "  return sorted_list\n",
        "\n",
        "lst = eval(input())\n",
        "print(strang_sort(lst))"
      ],
      "metadata": {
        "colab": {
          "base_uri": "https://localhost:8080/"
        },
        "id": "qH8bsmP6W15t",
        "outputId": "07efb13b-62cf-41d5-9609-6110e6183b76"
      },
      "execution_count": null,
      "outputs": [
        {
          "output_type": "stream",
          "name": "stdout",
          "text": [
            "[1, 3, 4, 5, 11]\n",
            "[1, 11, 3, 5, 4]\n"
          ]
        }
      ]
    },
    {
      "cell_type": "markdown",
      "source": [
        "Mails by Mary"
      ],
      "metadata": {
        "id": "X86iojwzZkgs"
      }
    },
    {
      "cell_type": "code",
      "source": [
        "fname = input()\n",
        "lname = input()\n",
        "greetings =\"Hello {} {}\".format(lname,fname)\n",
        "print(greetings)"
      ],
      "metadata": {
        "colab": {
          "base_uri": "https://localhost:8080/"
        },
        "id": "f0oor2x-YJZL",
        "outputId": "a0b60303-3b4c-4333-f75a-3822fc46ab81"
      },
      "execution_count": null,
      "outputs": [
        {
          "output_type": "stream",
          "name": "stdout",
          "text": [
            "sachin\n",
            "thorat\n",
            "Hello thorat sachin\n"
          ]
        }
      ]
    },
    {
      "cell_type": "markdown",
      "source": [
        "Python Problem"
      ],
      "metadata": {
        "id": "o8OwiJBxcHIf"
      }
    },
    {
      "cell_type": "code",
      "source": [
        "x = int(input())\n",
        "y = int(input())\n",
        "z = (x+y)**2\n",
        "print(z)"
      ],
      "metadata": {
        "colab": {
          "base_uri": "https://localhost:8080/"
        },
        "id": "iaaoCbJsZ3hm",
        "outputId": "d0514eb0-524d-4c10-8677-299a11569201"
      },
      "execution_count": null,
      "outputs": [
        {
          "output_type": "stream",
          "name": "stdout",
          "text": [
            "4\n",
            "3\n",
            "49\n"
          ]
        }
      ]
    },
    {
      "cell_type": "markdown",
      "source": [
        "Sum between 15 to 20"
      ],
      "metadata": {
        "id": "N9E85eO7claF"
      }
    },
    {
      "cell_type": "code",
      "source": [
        "def sum_two(x,y):\n",
        "  sum = x + y\n",
        "  if sum in range(15,20):\n",
        "    return 20\n",
        "  else:\n",
        "    return sum\n",
        "\n",
        "n1 = int(input())\n",
        "n2 = int(input())\n",
        "print(sum_two(n1,n2))"
      ],
      "metadata": {
        "colab": {
          "base_uri": "https://localhost:8080/"
        },
        "id": "fSighW1ocPld",
        "outputId": "8131ee3d-e44d-49e6-86fc-b265a7ec109e"
      },
      "execution_count": null,
      "outputs": [
        {
          "output_type": "stream",
          "name": "stdout",
          "text": [
            "20\n",
            "23\n",
            "43\n"
          ]
        }
      ]
    },
    {
      "cell_type": "markdown",
      "source": [
        "Calculate BMI"
      ],
      "metadata": {
        "id": "ATqv_1hidOHO"
      }
    },
    {
      "cell_type": "code",
      "source": [
        "height = float(input())\n",
        "weight = float(input())\n",
        "BMI = round(weight/(height*height),2)\n",
        "print(BMI)"
      ],
      "metadata": {
        "colab": {
          "base_uri": "https://localhost:8080/"
        },
        "id": "Xcw_QGgrdBb9",
        "outputId": "fe7c911f-c180-4bef-b172-1c61a6a13bb1"
      },
      "execution_count": null,
      "outputs": [
        {
          "output_type": "stream",
          "name": "stdout",
          "text": [
            "6\n",
            "65\n",
            "1.81\n"
          ]
        }
      ]
    },
    {
      "cell_type": "markdown",
      "source": [
        "Check positive, negative or zero"
      ],
      "metadata": {
        "id": "w9kOed2FeCoy"
      }
    },
    {
      "cell_type": "code",
      "source": [
        "num = float(input())\n",
        "if num >0:\n",
        "  print(\"The number is positive\")\n",
        "elif num ==0:\n",
        "  print(\"It is Zero\")\n",
        "else:\n",
        "  print(\"The number is negative\")"
      ],
      "metadata": {
        "colab": {
          "base_uri": "https://localhost:8080/"
        },
        "id": "RzDl3dk9dkec",
        "outputId": "ec05b441-1578-4399-b1d5-f9d74e15be41"
      },
      "execution_count": null,
      "outputs": [
        {
          "output_type": "stream",
          "name": "stdout",
          "text": [
            "1.9\n",
            "The number is positive\n"
          ]
        }
      ]
    },
    {
      "cell_type": "markdown",
      "source": [
        "Sum and check the digit length"
      ],
      "metadata": {
        "id": "Nuq24AHogbB2"
      }
    },
    {
      "cell_type": "code",
      "source": [
        "x = int(input())\n",
        "y = int(input())\n",
        "if x >= 10**80 or y >= 10**80 or x+y >= 10**80:\n",
        "  print(\"Overflow!\")\n",
        "else:\n",
        "  print(x+y)"
      ],
      "metadata": {
        "colab": {
          "base_uri": "https://localhost:8080/"
        },
        "id": "QV4LQqlZeeXt",
        "outputId": "77f316f3-1046-43c4-9a16-6608f236fd47"
      },
      "execution_count": null,
      "outputs": [
        {
          "output_type": "stream",
          "name": "stdout",
          "text": [
            "10\n",
            "12\n",
            "22\n"
          ]
        }
      ]
    },
    {
      "cell_type": "markdown",
      "source": [
        "Sum and check the digit length"
      ],
      "metadata": {
        "id": "wVtNKzzGnCOl"
      }
    },
    {
      "cell_type": "code",
      "source": [
        "x = int(input())\n",
        "y = int(input())\n",
        "if x >= 10**80 or y >= 10**80 or x+y >= 10**80:\n",
        "  print(\"Overflow!\")\n",
        "else:\n",
        "  print(x+y)"
      ],
      "metadata": {
        "colab": {
          "base_uri": "https://localhost:8080/"
        },
        "id": "GXZZTKCWh7Ss",
        "outputId": "60309dc1-ab93-4556-aa1d-b0e8fe58768b"
      },
      "execution_count": null,
      "outputs": [
        {
          "output_type": "stream",
          "name": "stdout",
          "text": [
            "100000\n",
            "87654328987654321\n",
            "87654328987754321\n"
          ]
        }
      ]
    },
    {
      "cell_type": "markdown",
      "source": [
        "Sum of elements of list"
      ],
      "metadata": {
        "id": "RnWncVMInuUf"
      }
    },
    {
      "cell_type": "code",
      "source": [
        "def sum_lst(lst):\n",
        "  sum = 0\n",
        "  for x in lst:\n",
        "    sum +=x\n",
        "  return sum\n",
        "\n",
        "lst = eval(input())\n",
        "print(sum_lst(lst))"
      ],
      "metadata": {
        "colab": {
          "base_uri": "https://localhost:8080/"
        },
        "id": "xARJx22Fndsp",
        "outputId": "f587ff9e-81ba-4cc6-ed16-c034b720f841"
      },
      "execution_count": null,
      "outputs": [
        {
          "output_type": "stream",
          "name": "stdout",
          "text": [
            "1,2,3,5.7\n",
            "11.7\n"
          ]
        }
      ]
    },
    {
      "cell_type": "markdown",
      "source": [
        "Product of list elements"
      ],
      "metadata": {
        "id": "KSs6aK_xohaW"
      }
    },
    {
      "cell_type": "code",
      "source": [
        "def multiply_lst(items):\n",
        "  a = 1\n",
        "  for x in items:\n",
        "    a*=x\n",
        "  return a\n",
        "\n",
        "items = eval(input())\n",
        "print(multiply_lst(items))"
      ],
      "metadata": {
        "colab": {
          "base_uri": "https://localhost:8080/"
        },
        "id": "Y4yRjGKIoMqh",
        "outputId": "1c5b8dbd-8ad5-49e1-d869-65d858e24e54"
      },
      "execution_count": null,
      "outputs": [
        {
          "output_type": "stream",
          "name": "stdout",
          "text": [
            "1,2,-8\n",
            "-16\n"
          ]
        }
      ]
    },
    {
      "cell_type": "markdown",
      "source": [
        "Check positive, negative or zero"
      ],
      "metadata": {
        "id": "pK_SOu-PrwGb"
      }
    },
    {
      "cell_type": "code",
      "source": [
        "n = int(input())\n",
        "if n >0:\n",
        "  print(\"The number is positive\")\n",
        "elif n ==0:\n",
        "  print(\"It is Zero\")\n",
        "else:\n",
        "  print(\"The number is negative\")"
      ],
      "metadata": {
        "colab": {
          "base_uri": "https://localhost:8080/"
        },
        "id": "xJt0K4UxrnfB",
        "outputId": "47d040f1-77d0-4116-d7a1-eb305249981a"
      },
      "execution_count": null,
      "outputs": [
        {
          "output_type": "stream",
          "name": "stdout",
          "text": [
            "1\n",
            "The number is positive\n"
          ]
        }
      ]
    },
    {
      "cell_type": "markdown",
      "source": [
        "Whether the string is pangram or not"
      ],
      "metadata": {
        "id": "gGakk-NouG5x"
      }
    },
    {
      "cell_type": "code",
      "source": [
        "import string\n",
        "\n",
        "def ispangram(str1, alphabet=string.ascii_lowercase):\n",
        "  alphaset = set(alphabet)\n",
        "  return alphaset <= set(str1.lower())\n",
        "\n",
        "str1 = input()\n",
        "print(ispangram(str1))"
      ],
      "metadata": {
        "colab": {
          "base_uri": "https://localhost:8080/"
        },
        "id": "E8rCoOMJsdSR",
        "outputId": "e6fc3db0-dc88-48d1-c5ae-f36958adf76e"
      },
      "execution_count": null,
      "outputs": [
        {
          "output_type": "stream",
          "name": "stdout",
          "text": [
            "\"The Sachin is a gold\"\n",
            "False\n"
          ]
        }
      ]
    },
    {
      "cell_type": "markdown",
      "source": [
        "Function for pascal's triangle"
      ],
      "metadata": {
        "id": "RMpwDdNa2K-w"
      }
    },
    {
      "cell_type": "code",
      "source": [
        "def generate_pascal_triangle(n):\n",
        "  result = []\n",
        "  for i in range(n):\n",
        "    row = [1]*(i+1)\n",
        "    for j in range(1,i):\n",
        "      row[j] = result[i-1][j-1] + result[i-1][j]\n",
        "    result.append(row)\n",
        "\n",
        "  for row in result:\n",
        "    print(row)\n",
        "\n",
        "n = int(input())\n",
        "generate_pascal_triangle(n)"
      ],
      "metadata": {
        "colab": {
          "base_uri": "https://localhost:8080/"
        },
        "id": "g0xQMJKt1Pqt",
        "outputId": "b9b80cde-5bc0-4f1b-b83d-de631799270f"
      },
      "execution_count": null,
      "outputs": [
        {
          "output_type": "stream",
          "name": "stdout",
          "text": [
            "4\n",
            "[1]\n",
            "[1, 1]\n",
            "[1, 2, 1]\n",
            "[1, 3, 3, 1]\n"
          ]
        }
      ]
    },
    {
      "cell_type": "markdown",
      "source": [
        "remove odd index character"
      ],
      "metadata": {
        "id": "ErVyJz-w6JU9"
      }
    },
    {
      "cell_type": "code",
      "source": [
        "def remove_odd_index(str1):\n",
        "  result = ''\n",
        "  for i in range(len(str1)):\n",
        "    if i % 2 ==0:\n",
        "      result = result + str1[i]\n",
        "  return result\n",
        "\n",
        "str1 = input()\n",
        "print(remove_odd_index(str1))"
      ],
      "metadata": {
        "colab": {
          "base_uri": "https://localhost:8080/"
        },
        "id": "XhmxhFj03wOv",
        "outputId": "cbe7b9fb-0dd7-4cfd-c0e4-0ff74d942334"
      },
      "execution_count": null,
      "outputs": [
        {
          "output_type": "stream",
          "name": "stdout",
          "text": [
            "data science\n",
            "dt cec\n"
          ]
        }
      ]
    },
    {
      "cell_type": "markdown",
      "source": [
        "Remove Even index"
      ],
      "metadata": {
        "id": "rzEDg9cn7P9Z"
      }
    },
    {
      "cell_type": "code",
      "source": [
        "def remove_even_index(str1):\n",
        "  result = ''\n",
        "  for i in range(len(str1)):\n",
        "    if i % 2 !=0:\n",
        "      result = result + str1[i]\n",
        "  return result\n",
        "\n",
        "str1 = input()\n",
        "print(remove_even_index(str1))"
      ],
      "metadata": {
        "colab": {
          "base_uri": "https://localhost:8080/"
        },
        "id": "5qYWfo1W6za9",
        "outputId": "ce036f1f-4c47-4ba7-a216-e6497729b88d"
      },
      "execution_count": null,
      "outputs": [
        {
          "output_type": "stream",
          "name": "stdout",
          "text": [
            "data science\n",
            "aasine\n"
          ]
        }
      ]
    },
    {
      "cell_type": "markdown",
      "source": [
        "Convert user input into upper case"
      ],
      "metadata": {
        "id": "Zyyh2LMN9EJO"
      }
    },
    {
      "cell_type": "code",
      "source": [
        "def convert_upper(str1):\n",
        "  result = ''\n",
        "  for i in range(len(str1)):\n",
        "    result = str1.upper()\n",
        "  return result\n",
        "\n",
        "str1 = input()\n",
        "print(convert_upper(str1))"
      ],
      "metadata": {
        "colab": {
          "base_uri": "https://localhost:8080/"
        },
        "id": "gXINxSrE7zBF",
        "outputId": "914a6893-9cbb-411d-da1b-b6019ce57b88"
      },
      "execution_count": null,
      "outputs": [
        {
          "output_type": "stream",
          "name": "stdout",
          "text": [
            "programming\n",
            "PROGRAMMING\n"
          ]
        }
      ]
    },
    {
      "cell_type": "markdown",
      "source": [
        "Convert user input into lower case"
      ],
      "metadata": {
        "id": "eg_EllKN9uWT"
      }
    },
    {
      "cell_type": "code",
      "source": [
        "def convert_lower(str1):\n",
        "  result = ''\n",
        "  for char in str1:\n",
        "    result = str1.lower()\n",
        "  return result\n",
        "\n",
        "str1 = input()\n",
        "print(convert_lower(str1))"
      ],
      "metadata": {
        "colab": {
          "base_uri": "https://localhost:8080/"
        },
        "id": "sWMOJvcl9dbK",
        "outputId": "ff55fe93-0a9e-4cf3-811a-e59d3bc6fd44"
      },
      "execution_count": null,
      "outputs": [
        {
          "output_type": "stream",
          "name": "stdout",
          "text": [
            "PROGRAMMING\n",
            "programming\n"
          ]
        }
      ]
    },
    {
      "cell_type": "markdown",
      "source": [
        "Function to calculate factorial"
      ],
      "metadata": {
        "id": "FUxa4EOj-MCZ"
      }
    },
    {
      "cell_type": "code",
      "source": [
        "def calculate_fact(n):\n",
        "  if n ==0:\n",
        "    return 1\n",
        "  else:\n",
        "    return n *calculate_fact(n-1)\n",
        "\n",
        "n = int(input())\n",
        "print(calculate_fact(n))"
      ],
      "metadata": {
        "colab": {
          "base_uri": "https://localhost:8080/"
        },
        "id": "H-tgPoCd-A-I",
        "outputId": "c4678925-a35f-401c-a9c2-5f938653eb94"
      },
      "execution_count": null,
      "outputs": [
        {
          "output_type": "stream",
          "name": "stdout",
          "text": [
            "7\n",
            "5040\n"
          ]
        }
      ]
    },
    {
      "cell_type": "markdown",
      "source": [
        "Function to reverse string"
      ],
      "metadata": {
        "id": "1N0CGOkW_VoL"
      }
    },
    {
      "cell_type": "code",
      "source": [
        "def reverse_str(str1):\n",
        "  result = ''\n",
        "  for char in str1:\n",
        "    result = str1[::-1]\n",
        "  return result\n",
        "\n",
        "s = input()\n",
        "print(reverse_str(s))"
      ],
      "metadata": {
        "colab": {
          "base_uri": "https://localhost:8080/"
        },
        "id": "LnvyZbjJ-kus",
        "outputId": "617f46d0-646f-4717-c87c-d756b93b289f"
      },
      "execution_count": null,
      "outputs": [
        {
          "output_type": "stream",
          "name": "stdout",
          "text": [
            "1234abcd\n",
            "dcba4321\n"
          ]
        }
      ]
    },
    {
      "cell_type": "markdown",
      "source": [
        "Function to multiply numbers of a list"
      ],
      "metadata": {
        "id": "ymr8wVmjBwGh"
      }
    },
    {
      "cell_type": "code",
      "source": [
        "def multiply(lst):\n",
        "  a = 1\n",
        "  for x in lst:\n",
        "    a *= x\n",
        "  return a\n",
        "\n",
        "x = eval(input())\n",
        "print(multiply(x))"
      ],
      "metadata": {
        "colab": {
          "base_uri": "https://localhost:8080/"
        },
        "id": "J_7zoBXn_uuZ",
        "outputId": "79eaf5ae-9478-47dc-808f-2bdeb38a1fca"
      },
      "execution_count": null,
      "outputs": [
        {
          "output_type": "stream",
          "name": "stdout",
          "text": [
            "8, 2, 3, -1, 7\n",
            "-336\n"
          ]
        }
      ]
    },
    {
      "cell_type": "markdown",
      "source": [
        "Function to sum numbers of a list"
      ],
      "metadata": {
        "id": "zeBe5HpICZxe"
      }
    },
    {
      "cell_type": "code",
      "source": [
        "def sum_lst(lst):\n",
        "  sum = 0\n",
        "  for i in lst:\n",
        "    sum += i\n",
        "  return sum\n",
        "\n",
        "n = eval(input())\n",
        "print(sum_lst(n))"
      ],
      "metadata": {
        "colab": {
          "base_uri": "https://localhost:8080/"
        },
        "id": "YcO9ORzICGtj",
        "outputId": "b54aa68d-6492-45fb-9591-8ffdede0ef20"
      },
      "execution_count": null,
      "outputs": [
        {
          "output_type": "stream",
          "name": "stdout",
          "text": [
            "[8, 2, 3, 0, 7]\n",
            "20\n"
          ]
        }
      ]
    },
    {
      "cell_type": "markdown",
      "source": [
        "Write function to get maximum number"
      ],
      "metadata": {
        "id": "vT0NOrHYDFdH"
      }
    },
    {
      "cell_type": "code",
      "source": [
        "def max_of_two(x,y):\n",
        "  if x > y:\n",
        "    return x\n",
        "  return y\n",
        "\n",
        "def max_of_three(x,y,z):\n",
        "  return max_of_two(x,max_of_two(y,z))\n",
        "\n",
        "x = int(input())\n",
        "y = int(input())\n",
        "z = int(input())\n",
        "print(max_of_three(x,y,z))"
      ],
      "metadata": {
        "colab": {
          "base_uri": "https://localhost:8080/"
        },
        "id": "arWQcUxHC2FX",
        "outputId": "744cd5c7-9c2e-4f2e-aeac-52d6ccd8c927"
      },
      "execution_count": null,
      "outputs": [
        {
          "output_type": "stream",
          "name": "stdout",
          "text": [
            "1\n",
            "2\n",
            "3\n",
            "3\n"
          ]
        }
      ]
    },
    {
      "cell_type": "markdown",
      "source": [
        "Number of Days"
      ],
      "metadata": {
        "id": "V0fbPvpBEaq5"
      }
    },
    {
      "cell_type": "code",
      "source": [
        "month_name = input()\n",
        "if month_name == \"February\":\n",
        "  print(\"No.of days: 28/29 days\")\n",
        "elif month_name in (\"April\", \"June\", \"September\", \"November\"):\n",
        "  print(\"No. of days: 30 days\")\n",
        "elif month_name in (\"January\", \"March\", \"May\", \"July\", \"August\", \"October\", \"December\"):\n",
        "  print(\"No. of days: 31 days\")\n",
        "else:\n",
        "  print(\"Input correct month\")"
      ],
      "metadata": {
        "colab": {
          "base_uri": "https://localhost:8080/"
        },
        "id": "qHQXmZSXDtPm",
        "outputId": "4e75190a-6c01-4bff-f5fe-dd8cff38fe23"
      },
      "execution_count": null,
      "outputs": [
        {
          "output_type": "stream",
          "name": "stdout",
          "text": [
            "April\n",
            "No. of days: 30 days\n"
          ]
        }
      ]
    },
    {
      "cell_type": "markdown",
      "source": [
        "Filter positives"
      ],
      "metadata": {
        "id": "oqHO78-EFuIg"
      }
    },
    {
      "cell_type": "code",
      "source": [
        "def filter_positive(lst):\n",
        "  return list(filter(lambda x:x>0,lst))\n",
        "\n",
        "x = eval(input())\n",
        "print(filter_positive(x))"
      ],
      "metadata": {
        "colab": {
          "base_uri": "https://localhost:8080/"
        },
        "id": "VwmO7X-oFdNe",
        "outputId": "9b768235-1df0-48b1-92fb-1dfcdc4f6561"
      },
      "execution_count": null,
      "outputs": [
        {
          "output_type": "stream",
          "name": "stdout",
          "text": [
            "[34, 1, 0, -23, 12, -88]\n",
            "[34, 1, 12]\n"
          ]
        }
      ]
    },
    {
      "cell_type": "markdown",
      "source": [
        "Area of Circle"
      ],
      "metadata": {
        "id": "lmE5DqHJGSoR"
      }
    },
    {
      "cell_type": "code",
      "source": [
        "from math import pi\n",
        "\n",
        "def area_circle(r):\n",
        "  area = pi * r**2\n",
        "  return area\n",
        "\n",
        "r = float(input())\n",
        "print(area_circle(r))"
      ],
      "metadata": {
        "colab": {
          "base_uri": "https://localhost:8080/"
        },
        "id": "Dd72yr3DF-Ib",
        "outputId": "7c9f166c-7aec-44f3-8791-ae27796b9753"
      },
      "execution_count": null,
      "outputs": [
        {
          "output_type": "stream",
          "name": "stdout",
          "text": [
            "1.1\n",
            "3.8013271108436504\n"
          ]
        }
      ]
    },
    {
      "cell_type": "markdown",
      "source": [
        "Even number or Odd number"
      ],
      "metadata": {
        "id": "cbNN2_WYHQz1"
      }
    },
    {
      "cell_type": "code",
      "source": [
        "def check_even_odd(n):\n",
        "  if n % 2 ==0:\n",
        "    return \"This an even number\"\n",
        "  return \"This is an odd number\"\n",
        "\n",
        "n = float(input())\n",
        "print(check_even_odd(n))"
      ],
      "metadata": {
        "colab": {
          "base_uri": "https://localhost:8080/"
        },
        "id": "idivpvgVG0yB",
        "outputId": "07668560-0ee9-440d-9585-bbe9f5d3f31c"
      },
      "execution_count": null,
      "outputs": [
        {
          "output_type": "stream",
          "name": "stdout",
          "text": [
            "1\n",
            "This is an odd number\n"
          ]
        }
      ]
    },
    {
      "cell_type": "markdown",
      "source": [
        "Area of triangle"
      ],
      "metadata": {
        "id": "Q05RdGZxJQch"
      }
    },
    {
      "cell_type": "code",
      "source": [
        "def area_of_triangle(b,h):\n",
        "  base = b\n",
        "  height = h\n",
        "  area = 0.5*b*h\n",
        "  return area\n",
        "\n",
        "b = float(input())\n",
        "h = float(input())\n",
        "print(area_of_triangle(b,h))"
      ],
      "metadata": {
        "colab": {
          "base_uri": "https://localhost:8080/"
        },
        "id": "w5V_SzdtHqAJ",
        "outputId": "3b94947e-4a10-41d5-aee9-d0f6f11e2083"
      },
      "execution_count": null,
      "outputs": [
        {
          "output_type": "stream",
          "name": "stdout",
          "text": [
            "1.1\n",
            "3\n",
            "1.6500000000000001\n"
          ]
        }
      ]
    },
    {
      "cell_type": "markdown",
      "source": [
        "Two integers equal or their sum or difference equals 5"
      ],
      "metadata": {
        "id": "RRFWHfl1J4Tn"
      }
    },
    {
      "cell_type": "code",
      "source": [
        "def test_numbers5(x,y):\n",
        "  if x==y or abs(x-y)==5 or (x+y)==5:\n",
        "    return True\n",
        "  return False\n",
        "\n",
        "n1 = int(input())\n",
        "n2 = int(input())\n",
        "print(test_numbers5(n1,n2))"
      ],
      "metadata": {
        "colab": {
          "base_uri": "https://localhost:8080/"
        },
        "id": "8DzXnCPnJmcF",
        "outputId": "d9bdf498-9e17-4ccc-e25a-7e04348257d5"
      },
      "execution_count": null,
      "outputs": [
        {
          "output_type": "stream",
          "name": "stdout",
          "text": [
            "10\n",
            "5\n",
            "True\n"
          ]
        }
      ]
    },
    {
      "cell_type": "markdown",
      "source": [
        "Convert height from feet and inches to centimeters"
      ],
      "metadata": {
        "id": "C2CCrYiSK-oO"
      }
    },
    {
      "cell_type": "code",
      "source": [
        "def convert_height_cm(h_inch):\n",
        "  h_inch += h_ft*12\n",
        "  h_cm = round(h_inch*2.54,1)\n",
        "  return h_cm\n",
        "\n",
        "h_ft = int(input())\n",
        "h_inch = int(input())\n",
        "print(convert_height_cm(h_inch))"
      ],
      "metadata": {
        "colab": {
          "base_uri": "https://localhost:8080/"
        },
        "id": "XRfLM52mKTOf",
        "outputId": "1051dfcf-dfd4-4355-a815-7110f348bb05"
      },
      "execution_count": null,
      "outputs": [
        {
          "output_type": "stream",
          "name": "stdout",
          "text": [
            "5\n",
            "3\n",
            "160.0\n"
          ]
        }
      ]
    },
    {
      "cell_type": "markdown",
      "source": [
        "Calculate Hypotenuse"
      ],
      "metadata": {
        "id": "2icxl01dM8ca"
      }
    },
    {
      "cell_type": "code",
      "source": [
        "from math import sqrt\n",
        "a = float(input())\n",
        "b = float(input())\n",
        "hypotenuse = sqrt(a**2 + b**2)\n",
        "print(hypotenuse)"
      ],
      "metadata": {
        "colab": {
          "base_uri": "https://localhost:8080/"
        },
        "id": "1SRMPt4JMrvO",
        "outputId": "dfc7f3a3-b92d-4945-da35-5536fbd730ab"
      },
      "execution_count": null,
      "outputs": [
        {
          "output_type": "stream",
          "name": "stdout",
          "text": [
            "4\n",
            "3\n",
            "5.0\n"
          ]
        }
      ]
    },
    {
      "cell_type": "markdown",
      "source": [
        "Convert seconds to day, hour, minutes and seconds"
      ],
      "metadata": {
        "id": "rVCiWdWQTdfL"
      }
    },
    {
      "cell_type": "code",
      "source": [
        "time = float(input())\n",
        "day = time // (24 * 3600)\n",
        "time = time % (24 * 3600)\n",
        "hour = time // 3600\n",
        "time %= 3600\n",
        "minutes = time // 60\n",
        "time %= 60\n",
        "seconds = time\n",
        "print(\"d:h:m:s-> %d:%d:%d:%d\" % (day, hour, minutes, seconds))"
      ],
      "metadata": {
        "colab": {
          "base_uri": "https://localhost:8080/"
        },
        "id": "UEtMZt8qOjZp",
        "outputId": "1b2f230c-b1fb-40e9-a365-66d3ad74b07a"
      },
      "execution_count": null,
      "outputs": [
        {
          "output_type": "stream",
          "name": "stdout",
          "text": [
            "1\n",
            "d:h:m:s-> 0:0:0:1\n"
          ]
        }
      ]
    },
    {
      "cell_type": "markdown",
      "source": [
        "Range of 100 from 1000 or 2000"
      ],
      "metadata": {
        "id": "7Y9LcvLc176C"
      }
    },
    {
      "cell_type": "code",
      "source": [
        "def near_thousands(n):\n",
        "  return ((abs(1000-n)<=100)) or ((abs(2000-n)>=100))\n",
        "\n",
        "n = int(input())\n",
        "print(near_thousands(n))"
      ],
      "metadata": {
        "colab": {
          "base_uri": "https://localhost:8080/"
        },
        "id": "GkDSBPxsV_JX",
        "outputId": "2249341e-18b3-4974-f428-748ac555e0db"
      },
      "execution_count": null,
      "outputs": [
        {
          "output_type": "stream",
          "name": "stdout",
          "text": [
            "1000\n",
            "True\n"
          ]
        }
      ]
    },
    {
      "cell_type": "markdown",
      "source": [
        "Least Common Multiple"
      ],
      "metadata": {
        "id": "KBpxaGIZ2fUD"
      }
    },
    {
      "cell_type": "code",
      "source": [
        "def lcm(x,y):\n",
        "  if x>y:\n",
        "    z=x\n",
        "  else:\n",
        "    z=y\n",
        "  while(True):\n",
        "    if ((z%x==0) and (z%y==0)):\n",
        "      lcm = z\n",
        "      break\n",
        "    z+=1\n",
        "  return lcm\n",
        "\n",
        "n1 = int(input())\n",
        "n2 = int(input())\n",
        "print(lcm(n1,n2))"
      ],
      "metadata": {
        "colab": {
          "base_uri": "https://localhost:8080/"
        },
        "id": "mwelMiU42YGb",
        "outputId": "dbdaee01-635c-4b04-e122-b8ec444c8e06"
      },
      "execution_count": null,
      "outputs": [
        {
          "output_type": "stream",
          "name": "stdout",
          "text": [
            "4\n",
            "6\n",
            "12\n"
          ]
        }
      ]
    },
    {
      "cell_type": "markdown",
      "source": [
        "Greatest Common Divisor of two integers"
      ],
      "metadata": {
        "id": "ql7CBa326XfE"
      }
    },
    {
      "cell_type": "code",
      "source": [
        "def hcf(x,y):\n",
        "  hcf = 1\n",
        "  if x%y ==0:\n",
        "    return y\n",
        "  for k in range(int(y/2),0, -1):\n",
        "    if x%k ==0 and y%k==0:\n",
        "      hcf=k\n",
        "      break\n",
        "  return hcf\n",
        "\n",
        "n1 = int(input())\n",
        "n2 = int(input())\n",
        "print(hcf(n1,n2))"
      ],
      "metadata": {
        "colab": {
          "base_uri": "https://localhost:8080/"
        },
        "id": "BW8qObhy33XU",
        "outputId": "dc99a6c5-f10e-44d6-ea49-b2cf13302344"
      },
      "execution_count": null,
      "outputs": [
        {
          "output_type": "stream",
          "name": "stdout",
          "text": [
            "12\n",
            "4\n",
            "4\n"
          ]
        }
      ]
    },
    {
      "cell_type": "markdown",
      "source": [
        "Difference with 17"
      ],
      "metadata": {
        "id": "EvHI9whstARH"
      }
    },
    {
      "cell_type": "code",
      "source": [
        "def diff_with_17(n):\n",
        "  if n<=17:\n",
        "    return 17-n\n",
        "  else:\n",
        "    return (17-n)*2\n",
        "\n",
        "n = int(input())\n",
        "print(diff_with_17(n))"
      ],
      "metadata": {
        "colab": {
          "base_uri": "https://localhost:8080/"
        },
        "id": "lVLiYnObBK50",
        "outputId": "1d633bbb-c50d-403d-938c-4f5b103f301c"
      },
      "execution_count": null,
      "outputs": [
        {
          "output_type": "stream",
          "name": "stdout",
          "text": [
            "5\n",
            "12\n"
          ]
        }
      ]
    },
    {
      "cell_type": "markdown",
      "source": [
        "Count number of primes"
      ],
      "metadata": {
        "id": "CUkfIhuNuWCB"
      }
    },
    {
      "cell_type": "code",
      "source": [
        "def count_Primes_nums(n):\n",
        "    ctr = 0\n",
        "\n",
        "    for num in range(n):\n",
        "        if num <= 1:\n",
        "            continue\n",
        "        for i in range(2, num):\n",
        "            if (num % i) == 0:\n",
        "                break\n",
        "        else:\n",
        "            ctr += 1\n",
        "\n",
        "    return ctr\n",
        "\n",
        "n = int(input())\n",
        "print(count_Primes_nums(n))"
      ],
      "metadata": {
        "colab": {
          "base_uri": "https://localhost:8080/"
        },
        "id": "5x3-Kj2CuB60",
        "outputId": "316ebb91-c1aa-4df1-f75e-4cf3ffb43660"
      },
      "execution_count": null,
      "outputs": [
        {
          "output_type": "stream",
          "name": "stdout",
          "text": [
            "10\n",
            "4\n"
          ]
        }
      ]
    },
    {
      "cell_type": "code",
      "source": [
        "def lcm(x,y):\n",
        "  if x>y:\n",
        "    z=x\n",
        "  else:\n",
        "    z=y\n",
        "  while(True):\n",
        "    if ((z%x==0) and (z%y==0)):\n",
        "      lcm = z\n",
        "      break\n",
        "    z +=1\n",
        "  return lcm\n",
        "\n",
        "n1= int(input())\n",
        "n2 = int(input())\n",
        "print(lcm(n1,n2))"
      ],
      "metadata": {
        "colab": {
          "base_uri": "https://localhost:8080/"
        },
        "id": "YP9rQTsSvZrv",
        "outputId": "815ecdbb-a192-4473-f80b-4870ae9e5f28"
      },
      "execution_count": null,
      "outputs": [
        {
          "output_type": "stream",
          "name": "stdout",
          "text": [
            "4\n",
            "6\n",
            "12\n"
          ]
        }
      ]
    },
    {
      "cell_type": "code",
      "source": [
        "def hcf(x,y):\n",
        "  hcf = 1\n",
        "  if x%y ==0:\n",
        "    return y\n",
        "  for k in range(int(y/2), 0, -1):\n",
        "    if (x%k==0) and (y%k==0):\n",
        "      hcf = k\n",
        "      break\n",
        "  return hcf\n",
        "\n",
        "n1 = int(input())\n",
        "n2 = int(input())\n",
        "print(hcf(n1,n2))"
      ],
      "metadata": {
        "colab": {
          "base_uri": "https://localhost:8080/"
        },
        "id": "1vEOmdJqw0SM",
        "outputId": "d5d6523b-63d3-4e87-f3f4-61b63ba70075"
      },
      "execution_count": null,
      "outputs": [
        {
          "output_type": "stream",
          "name": "stdout",
          "text": [
            "12\n",
            "17\n",
            "1\n"
          ]
        }
      ]
    },
    {
      "cell_type": "markdown",
      "source": [
        "Mid point of a line"
      ],
      "metadata": {
        "id": "fY6jRzc1yD8h"
      }
    },
    {
      "cell_type": "code",
      "source": [
        "x1 = float(input())\n",
        "y1 = float(input())\n",
        "\n",
        "x2 = float(input())\n",
        "y2 = float(input())\n",
        "\n",
        "x_mid = (x1+x2)/2\n",
        "y_mid = (y1+y2)/2\n",
        "print(x_mid,y_mid)"
      ],
      "metadata": {
        "colab": {
          "base_uri": "https://localhost:8080/"
        },
        "id": "nxyYi8I5xiSd",
        "outputId": "ccc43814-8b02-4978-d2a3-304edefc7aa1"
      },
      "execution_count": null,
      "outputs": [
        {
          "output_type": "stream",
          "name": "stdout",
          "text": [
            "2\n",
            "2\n",
            "3\n",
            "3\n",
            "2.5 2.5\n"
          ]
        }
      ]
    },
    {
      "cell_type": "markdown",
      "source": [
        "Swap two integers"
      ],
      "metadata": {
        "id": "AxYUtuKv0ddb"
      }
    },
    {
      "cell_type": "code",
      "source": [
        "a = int(input())\n",
        "b = int(input())\n",
        "print(a,b)\n",
        "a,b = b,a\n",
        "print(a,b)"
      ],
      "metadata": {
        "colab": {
          "base_uri": "https://localhost:8080/"
        },
        "id": "UXRYSaFeyeO8",
        "outputId": "d10da4ff-8426-427f-a140-50f3bc1d74a0"
      },
      "execution_count": null,
      "outputs": [
        {
          "output_type": "stream",
          "name": "stdout",
          "text": [
            "30\n",
            "20\n",
            "30 20\n",
            "20 30\n"
          ]
        }
      ]
    },
    {
      "cell_type": "markdown",
      "source": [
        "What's your BMI?"
      ],
      "metadata": {
        "id": "Ey2SC5gm00Yb"
      }
    },
    {
      "cell_type": "code",
      "source": [
        "weight = float(input())\n",
        "height = float(input())\n",
        "BMI = round(weight/(height**2),2)\n",
        "print(BMI)"
      ],
      "metadata": {
        "colab": {
          "base_uri": "https://localhost:8080/"
        },
        "id": "1HXTKd4E0pQ_",
        "outputId": "c1cf1ec4-ac0b-48b9-e888-8ef8ccce9ca5"
      },
      "execution_count": null,
      "outputs": [
        {
          "output_type": "stream",
          "name": "stdout",
          "text": [
            "65\n",
            "6\n",
            "1.81\n"
          ]
        }
      ]
    },
    {
      "cell_type": "markdown",
      "source": [
        "Add and Swap"
      ],
      "metadata": {
        "id": "8Ce3hBwX6ejE"
      }
    },
    {
      "cell_type": "code",
      "source": [
        "a  = input()\n",
        "b = input()\n",
        "\n",
        "new_a = b[:2] + a[2:]\n",
        "new_b = a[:2] + b[2:]\n",
        "\n",
        "print(new_a+ ' '+new_b)"
      ],
      "metadata": {
        "colab": {
          "base_uri": "https://localhost:8080/"
        },
        "id": "yg5hIf_d1FHM",
        "outputId": "ad375c0f-d977-40fa-b3ca-47e7994fe967"
      },
      "execution_count": null,
      "outputs": [
        {
          "output_type": "stream",
          "name": "stdout",
          "text": [
            "code\n",
            "debug\n",
            "dede cobug\n"
          ]
        }
      ]
    },
    {
      "cell_type": "markdown",
      "source": [
        "Fun game"
      ],
      "metadata": {
        "id": "v9NMk-Gu7QIc"
      }
    },
    {
      "cell_type": "code",
      "source": [
        "lst = eval(input())\n",
        "n = int(input())\n",
        "result = []\n",
        "\n",
        "for i in range(1,len(lst)+1):\n",
        "  if i %n==0:\n",
        "    result.append(lst[i-1])\n",
        "print(result)"
      ],
      "metadata": {
        "colab": {
          "base_uri": "https://localhost:8080/"
        },
        "id": "CXsHiOxM620t",
        "outputId": "768a87bd-584d-4c30-d4dd-fd439894bd90"
      },
      "execution_count": null,
      "outputs": [
        {
          "output_type": "stream",
          "name": "stdout",
          "text": [
            "[1, 2, 3, 4, 5, 6, 7, 8, 9, 10]\n",
            "2\n",
            "[2, 4, 6, 8, 10]\n"
          ]
        }
      ]
    },
    {
      "cell_type": "markdown",
      "source": [
        "Missing Values in list"
      ],
      "metadata": {
        "id": "K55dcGen8WUs"
      }
    },
    {
      "cell_type": "code",
      "source": [
        "def missing_value(lst):\n",
        "  return [x for x in range(lst[0],lst[-1]+1) if x not in lst]\n",
        "\n",
        "k = eval(input())\n",
        "print(missing_value(k))"
      ],
      "metadata": {
        "colab": {
          "base_uri": "https://localhost:8080/"
        },
        "id": "w3i8928b7xNA",
        "outputId": "129659f9-9a65-4d08-e3ac-59ba3afd8721"
      },
      "execution_count": null,
      "outputs": [
        {
          "output_type": "stream",
          "name": "stdout",
          "text": [
            "1,6,9,7\n",
            "[2, 3, 4, 5]\n"
          ]
        }
      ]
    },
    {
      "cell_type": "markdown",
      "source": [
        "Create lambda function"
      ],
      "metadata": {
        "id": "_8fNqPRQO5Xm"
      }
    },
    {
      "cell_type": "code",
      "source": [
        "add = int(input())\n",
        "mult1 = int(input())\n",
        "mult2 = int(input())\n",
        "\n",
        "r = lambda a:a+15\n",
        "print(\"After addition:\", r(add))\n",
        "\n",
        "r = lambda x,y:x*y\n",
        "print(\"After multiplication:\",r(mult1,mult2))"
      ],
      "metadata": {
        "colab": {
          "base_uri": "https://localhost:8080/"
        },
        "id": "nl2MPnxu8vzJ",
        "outputId": "f407ed72-0cd7-4413-afa9-c544b8735de4"
      },
      "execution_count": null,
      "outputs": [
        {
          "output_type": "stream",
          "name": "stdout",
          "text": [
            "10\n",
            "12\n",
            "4\n",
            "After addition: 25\n",
            "After multiplication: 48\n"
          ]
        }
      ]
    },
    {
      "cell_type": "markdown",
      "source": [
        "Words with Prime Length"
      ],
      "metadata": {
        "id": "1h3pi7PMPt_i"
      }
    },
    {
      "cell_type": "code",
      "source": [
        "def test(strs):\n",
        "  return \" \".join(strs for strs in strs.split() if is_prime(len(strs)))\n",
        "\n",
        "def is_prime(n):\n",
        "  return n>1 and all(n%j for j in range(2,int(n**0.5)+1))\n",
        "\n",
        "strs = input()\n",
        "print(test(strs))"
      ],
      "metadata": {
        "colab": {
          "base_uri": "https://localhost:8080/"
        },
        "id": "jvya_yeVPeer",
        "outputId": "0625f8b6-c71f-441d-c27f-b75d983dea4d"
      },
      "execution_count": null,
      "outputs": [
        {
          "output_type": "stream",
          "name": "stdout",
          "text": [
            "The quick brown fox jumps over the lazy dog.\n",
            "The quick brown fox jumps the\n"
          ]
        }
      ]
    },
    {
      "cell_type": "markdown",
      "source": [
        "Get next date"
      ],
      "metadata": {
        "id": "_3QPGzEJQvLL"
      }
    },
    {
      "cell_type": "code",
      "source": [
        "year = int(input())\n",
        "month = int(input())\n",
        "day = int(input())\n",
        "\n",
        "if (year%400==0):\n",
        "  leap_year = True\n",
        "elif (year%100==0):\n",
        "  leap_year = False\n",
        "elif (year%4==0):\n",
        "  leap_year = True\n",
        "else:\n",
        "  leap_year = False\n",
        "\n",
        "if month in (1,3,7,8,10,12):\n",
        "  month_length = 31\n",
        "  if month ==2:\n",
        "    if leap_year:\n",
        "      month_length = 29\n",
        "    else:\n",
        "      month_length = 28\n",
        "else:\n",
        "  month_length = 30\n",
        "\n",
        "if day < month_length:\n",
        "  day +=1\n",
        "else:\n",
        "  day = 1\n",
        "  if month ==12:\n",
        "    month =1\n",
        "    year +=1\n",
        "  else:\n",
        "    month +=1\n",
        "print(\"The next date of [yyyy-mm-dd] %d-%d-%d.\"%(year,month,day))"
      ],
      "metadata": {
        "colab": {
          "base_uri": "https://localhost:8080/"
        },
        "id": "w2gN14cmQQnr",
        "outputId": "32dbb060-f021-4555-83b5-208b25dffc28"
      },
      "execution_count": null,
      "outputs": [
        {
          "output_type": "stream",
          "name": "stdout",
          "text": [
            "2001\n",
            "12\n",
            "31\n",
            "The next date of [yyyy-mm-dd] 2002-1-1.\n"
          ]
        }
      ]
    },
    {
      "cell_type": "markdown",
      "source": [
        "Get triangle type from given inputs"
      ],
      "metadata": {
        "id": "RLeEThZ8zJIt"
      }
    },
    {
      "cell_type": "code",
      "source": [
        "def triangle_type(x,y,z):\n",
        "  if x==y==z:\n",
        "    return \"Equilateral Triangle\"\n",
        "  elif x==y or y==z or z==x:\n",
        "    return \"Isosceles Triangle\"\n",
        "  else:\n",
        "    return \"Scalene Triangle\"\n",
        "\n",
        "x = float(input())\n",
        "y = float(input())\n",
        "z = float(input())\n",
        "print(triangle_type(x,y,z))"
      ],
      "metadata": {
        "colab": {
          "base_uri": "https://localhost:8080/"
        },
        "id": "qg8x9L76SpjF",
        "outputId": "a92c7738-3bda-404d-a143-94ed00d8d187"
      },
      "execution_count": null,
      "outputs": [
        {
          "output_type": "stream",
          "name": "stdout",
          "text": [
            "1.1\n",
            "4\n",
            "5\n",
            "Scalene Triangle\n"
          ]
        }
      ]
    },
    {
      "cell_type": "markdown",
      "source": [
        "Calculate sum and average"
      ],
      "metadata": {
        "id": "0yrgp7XT1j5x"
      }
    },
    {
      "cell_type": "code",
      "source": [
        "count = 0\n",
        "sum = 0.0\n",
        "number = 1\n",
        "\n",
        "while number !=0:\n",
        "  number = int(input(\"\"))\n",
        "  sum = sum + number\n",
        "  count +=1\n",
        "\n",
        "if count ==0:\n",
        "  print(\"Input some numbers\")\n",
        "else:\n",
        "  print(\"Average and sum of numbers is:\", sum/(count-1),sum)"
      ],
      "metadata": {
        "colab": {
          "base_uri": "https://localhost:8080/"
        },
        "id": "PFVhccwxz7zq",
        "outputId": "35570d5b-919c-4616-e16b-3691e65d9dfb"
      },
      "execution_count": null,
      "outputs": [
        {
          "output_type": "stream",
          "name": "stdout",
          "text": [
            "5\n",
            "6\n",
            "9\n",
            "8\n",
            "9\n",
            "5\n",
            "3\n",
            "8\n",
            "9\n",
            "9\n",
            "3\n",
            "0\n",
            "Average and sum of numbers is: 6.7272727272727275 74.0\n"
          ]
        }
      ]
    },
    {
      "cell_type": "markdown",
      "source": [
        "Month days"
      ],
      "metadata": {
        "id": "IXefsc07-lJv"
      }
    },
    {
      "cell_type": "code",
      "source": [
        "month = input()\n",
        "\n",
        "if month ==\"February\":\n",
        "  print(\"No. of days 28/29\")\n",
        "elif month in (\"April\", \"June\", \"September\", \"November\"):\n",
        "  print(\"No. of days 30\")\n",
        "elif month in (\"January\", \"March\", \"May\", \"July\", \"August\", \"October\", \"December\"):\n",
        "  print(\"No. of days 31\")\n",
        "else:\n",
        "  print(\"Enter correct month\")"
      ],
      "metadata": {
        "colab": {
          "base_uri": "https://localhost:8080/"
        },
        "id": "E3sVBTyV2LsQ",
        "outputId": "e9732f6a-8923-4bc7-a92d-60b74a707f7f"
      },
      "execution_count": null,
      "outputs": [
        {
          "output_type": "stream",
          "name": "stdout",
          "text": [
            "January\n",
            "No. of days 31\n"
          ]
        }
      ]
    },
    {
      "cell_type": "markdown",
      "source": [
        "Vowel or consonant"
      ],
      "metadata": {
        "id": "IS8MHbxl_5FJ"
      }
    },
    {
      "cell_type": "code",
      "source": [
        "i = input()\n",
        "if i in ('a', 'e', 'i', 'o', 'u', 'A', 'E', 'I', 'O', 'U'):\n",
        "  print(\"Vowel\")\n",
        "else:\n",
        "  print(\"Consonant\")"
      ],
      "metadata": {
        "colab": {
          "base_uri": "https://localhost:8080/"
        },
        "id": "JT-W4ZEM_sYy",
        "outputId": "48f1c666-3d26-4c3d-bddc-f41cc0225c01"
      },
      "execution_count": null,
      "outputs": [
        {
          "output_type": "stream",
          "name": "stdout",
          "text": [
            "z\n",
            "Consonant\n"
          ]
        }
      ]
    },
    {
      "cell_type": "markdown",
      "source": [
        "Armstrong Award"
      ],
      "metadata": {
        "id": "B70GP4UFPO2d"
      }
    },
    {
      "cell_type": "code",
      "source": [
        "i=0\n",
        "result=0\n",
        "n = int(input())\n",
        "number1 = n\n",
        "temp = n\n",
        "while n!=0:\n",
        "    n = (n//10)\n",
        "    i=i+1;\n",
        "while number1!=0:\n",
        "    n=number1%10\n",
        "    result=result+pow(n,i)\n",
        "    number1=number1//10\n",
        "if temp==result:\n",
        "    print(\"Number is Armstrong\")\n",
        "else:\n",
        "    print(\"Number is not Armstrong\")"
      ],
      "metadata": {
        "colab": {
          "base_uri": "https://localhost:8080/"
        },
        "id": "xi7buP0vAM8x",
        "outputId": "948ffa63-2ce6-41f9-ae99-fac608070c1b"
      },
      "execution_count": null,
      "outputs": [
        {
          "output_type": "stream",
          "name": "stdout",
          "text": [
            "153\n",
            "Number is Armstrong\n"
          ]
        }
      ]
    },
    {
      "cell_type": "markdown",
      "source": [
        "Print even numbers before a given number"
      ],
      "metadata": {
        "id": "HZFnq-MAPs3B"
      }
    },
    {
      "cell_type": "code",
      "source": [
        "numbers = eval(input())\n",
        "for x in numbers:\n",
        "  if x ==237:\n",
        "    break;\n",
        "  elif x%2==0:\n",
        "    print(x)"
      ],
      "metadata": {
        "colab": {
          "base_uri": "https://localhost:8080/"
        },
        "id": "l_B39i9SPRnI",
        "outputId": "222b1b8f-7307-4a87-d8f9-3b11130a4978"
      },
      "execution_count": null,
      "outputs": [
        {
          "output_type": "stream",
          "name": "stdout",
          "text": [
            "[386, 462, 47, 418, 907, 344, 236, 375, 823, 566, 597, 978, 328, 615, 953, 345, 399, 162, 758, 219, 918, 237, 412, 566, 826, 248, 866, 950, 626, 949, 687, 217, 815, 67, 104, 58, 512, 24, 892, 894, 767, 553, 81, 379, 843, 831, 445, 742, 717, 958,743, 527]\n",
            "386\n",
            "462\n",
            "418\n",
            "344\n",
            "236\n",
            "566\n",
            "978\n",
            "328\n",
            "162\n",
            "758\n",
            "918\n"
          ]
        }
      ]
    },
    {
      "cell_type": "markdown",
      "source": [
        "Count occurrences of 4"
      ],
      "metadata": {
        "id": "ofqSxZgrQuJe"
      }
    },
    {
      "cell_type": "code",
      "source": [
        "def list_count4(nums):\n",
        "  count = 0\n",
        "  for num in nums:\n",
        "    if num ==4:\n",
        "      count+=1\n",
        "  return count\n",
        "\n",
        "lst = eval(input())\n",
        "print(list_count4(lst))"
      ],
      "metadata": {
        "colab": {
          "base_uri": "https://localhost:8080/"
        },
        "id": "T1uXZbe7Qa5b",
        "outputId": "85541972-7eb7-4f49-fce3-07af1b631def"
      },
      "execution_count": null,
      "outputs": [
        {
          "output_type": "stream",
          "name": "stdout",
          "text": [
            "1,3,5,4,6,5,4\n",
            "2\n"
          ]
        }
      ]
    },
    {
      "cell_type": "markdown",
      "source": [
        "Sum of List Elements"
      ],
      "metadata": {
        "id": "QjDC4-lfRk1n"
      }
    },
    {
      "cell_type": "code",
      "source": [
        "def sum_lst(lst):\n",
        "  sum = 0\n",
        "  for x in lst:\n",
        "    sum +=x\n",
        "  return sum\n",
        "\n",
        "lst = eval(input())\n",
        "print(sum_lst(lst))"
      ],
      "metadata": {
        "colab": {
          "base_uri": "https://localhost:8080/"
        },
        "id": "vE7QODhURJ8a",
        "outputId": "3e161103-ae45-4ca0-a553-65a2389d0f11"
      },
      "execution_count": null,
      "outputs": [
        {
          "output_type": "stream",
          "name": "stdout",
          "text": [
            "[1,2,-8]\n",
            "-5\n"
          ]
        }
      ]
    },
    {
      "cell_type": "markdown",
      "source": [
        "Check index"
      ],
      "metadata": {
        "id": "5SPG4RatSQrE"
      }
    },
    {
      "cell_type": "code",
      "source": [
        "def odd_even_index(lst):\n",
        "  return all(lst[i]%2==i%2 for i in range(len(lst)))\n",
        "\n",
        "lst = eval(input())\n",
        "print(odd_even_index(lst))"
      ],
      "metadata": {
        "colab": {
          "base_uri": "https://localhost:8080/"
        },
        "id": "NMnk4rTcRrq7",
        "outputId": "950c73b4-0eb2-4cab-e037-5d42e0c4572f"
      },
      "execution_count": null,
      "outputs": [
        {
          "output_type": "stream",
          "name": "stdout",
          "text": [
            "[2, 1, 4, 3, 6, 7, 6, 3]\n",
            "True\n"
          ]
        }
      ]
    },
    {
      "cell_type": "markdown",
      "source": [
        "Sum of two equals k"
      ],
      "metadata": {
        "id": "mCSwB6Y1X-p9"
      }
    },
    {
      "cell_type": "code",
      "source": [
        "def sum_of_two(lst,k):\n",
        "  for i in range(len(lst)):\n",
        "    for j in range(i+1, len(lst)):\n",
        "      if lst[i] + lst[j] ==k:\n",
        "        return True\n",
        "  return False\n",
        "\n",
        "lst = eval(input())\n",
        "k = int(input())\n",
        "print(sum_of_two(lst,k))"
      ],
      "metadata": {
        "colab": {
          "base_uri": "https://localhost:8080/"
        },
        "id": "ijtHxJ1KT5wy",
        "outputId": "fa57821a-9483-466e-97d9-3341ad7563b1"
      },
      "execution_count": null,
      "outputs": [
        {
          "output_type": "stream",
          "name": "stdout",
          "text": [
            "[12, 5, 0, 5]\n",
            "10\n",
            "True\n"
          ]
        }
      ]
    },
    {
      "cell_type": "markdown",
      "source": [
        "Convert to list"
      ],
      "metadata": {
        "id": "ks20A4g7c3NH"
      }
    },
    {
      "cell_type": "code",
      "source": [
        "values = input()\n",
        "values_list = values.split(\",\")\n",
        "values_tuple = tuple(values_list)\n",
        "print(values_list)\n",
        "print(values_tuple)"
      ],
      "metadata": {
        "colab": {
          "base_uri": "https://localhost:8080/"
        },
        "id": "9xBGfY0WYj7R",
        "outputId": "99ea8ba9-c6b1-452d-bdb1-f3e125b83957"
      },
      "execution_count": null,
      "outputs": [
        {
          "output_type": "stream",
          "name": "stdout",
          "text": [
            "3,4,5,7,8\n",
            "['3', '4', '5', '7', '8']\n",
            "('3', '4', '5', '7', '8')\n"
          ]
        }
      ]
    },
    {
      "cell_type": "markdown",
      "source": [
        "Concatenate list elements"
      ],
      "metadata": {
        "id": "-Fzv1omSdhKv"
      }
    },
    {
      "cell_type": "code",
      "source": [
        "def concatenate_list(lst):\n",
        "  result = ''\n",
        "  for element in lst:\n",
        "    result +=str(element)\n",
        "  return result\n",
        "\n",
        "lst = eval(input())\n",
        "print(concatenate_list(lst))"
      ],
      "metadata": {
        "colab": {
          "base_uri": "https://localhost:8080/"
        },
        "id": "RRUI31IJdOL7",
        "outputId": "1dc401e6-5136-4a7b-9c6b-b20465f31e0d"
      },
      "execution_count": null,
      "outputs": [
        {
          "output_type": "stream",
          "name": "stdout",
          "text": [
            "1,2,3,4\n",
            "1234\n"
          ]
        }
      ]
    },
    {
      "cell_type": "markdown",
      "source": [
        "Numbers divisible by 15"
      ],
      "metadata": {
        "id": "TxZC2PvMeS29"
      }
    },
    {
      "cell_type": "code",
      "source": [
        "n = eval(input())\n",
        "result = list(filter(lambda x:(x%15==0),n))\n",
        "print(result)"
      ],
      "metadata": {
        "colab": {
          "base_uri": "https://localhost:8080/"
        },
        "id": "DKDaRxjfd37F",
        "outputId": "80fda736-8766-44e5-c544-8a868538e140"
      },
      "execution_count": null,
      "outputs": [
        {
          "output_type": "stream",
          "name": "stdout",
          "text": [
            "45,60,8,9\n",
            "[45, 60]\n"
          ]
        }
      ]
    },
    {
      "cell_type": "markdown",
      "source": [
        "Product of elements"
      ],
      "metadata": {
        "id": "hsDO1pLSfC4D"
      }
    },
    {
      "cell_type": "code",
      "source": [
        "from functools import reduce\n",
        "\n",
        "num = eval(input())\n",
        "result = reduce(lambda x,y:(x*y),num)\n",
        "print(result)"
      ],
      "metadata": {
        "colab": {
          "base_uri": "https://localhost:8080/"
        },
        "id": "bR-VPeP-ekAw",
        "outputId": "ba7edcf6-3513-4dc0-ee98-be663434ad7f"
      },
      "execution_count": null,
      "outputs": [
        {
          "output_type": "stream",
          "name": "stdout",
          "text": [
            "10,50,60\n",
            "30000\n"
          ]
        }
      ]
    },
    {
      "cell_type": "markdown",
      "source": [
        "Median of a list"
      ],
      "metadata": {
        "id": "eixL3UBnfiAT"
      }
    },
    {
      "cell_type": "code",
      "source": [
        "def median_list(lst):\n",
        "  sorted(lst)\n",
        "  n = len(lst)\n",
        "  m = n//2\n",
        "  if n%2==0:\n",
        "    return (lst[m-1]+lst[m])/2\n",
        "  else:\n",
        "    return lst[m]\n",
        "\n",
        "lst = eval(input())\n",
        "print(median_list(lst))"
      ],
      "metadata": {
        "colab": {
          "base_uri": "https://localhost:8080/"
        },
        "id": "DPv7kliHfW6S",
        "outputId": "fa50ecfb-23a3-4d00-c9f7-cdcee4d18a3b"
      },
      "execution_count": null,
      "outputs": [
        {
          "output_type": "stream",
          "name": "stdout",
          "text": [
            "1,2,3,4,5\n",
            "3\n"
          ]
        }
      ]
    },
    {
      "cell_type": "markdown",
      "source": [
        "List of characters to string"
      ],
      "metadata": {
        "id": "7Z-GHB3KhPVR"
      }
    },
    {
      "cell_type": "code",
      "source": [
        "s = eval(input())\n",
        "result = \"\".join(s)\n",
        "print(result)"
      ],
      "metadata": {
        "colab": {
          "base_uri": "https://localhost:8080/"
        },
        "id": "Funuul1Xgp-h",
        "outputId": "477b3bf5-4417-4881-cc6a-f9e16a37aace"
      },
      "execution_count": null,
      "outputs": [
        {
          "output_type": "stream",
          "name": "stdout",
          "text": [
            "['p','y','t','h','o','n']\n",
            "python\n"
          ]
        }
      ]
    },
    {
      "cell_type": "markdown",
      "source": [
        "Season of the year"
      ],
      "metadata": {
        "id": "phhuy5PNmUF6"
      }
    },
    {
      "cell_type": "code",
      "source": [
        "month = input()\n",
        "if month in (\"December\", \"January\", \"February\"):\n",
        "  print(\"The season is Winter\")\n",
        "elif month in (\"March\", \"April\", \"May\"):\n",
        "  print(\"The season is Spring\")\n",
        "elif month in (\"June\", \"July\", \"August\"):\n",
        "  print(\"The season is summer\")\n",
        "elif month in (\"September\", \"October\", \"November\"):\n",
        "  print(\"The season is Autumn\")\n",
        "else:\n",
        "  print(\"Invalid month\")"
      ],
      "metadata": {
        "colab": {
          "base_uri": "https://localhost:8080/"
        },
        "id": "IDBRgIwPhZIB",
        "outputId": "aa96c48d-0c8e-4fb1-b04d-fca5c9fd83c8"
      },
      "execution_count": null,
      "outputs": [
        {
          "output_type": "stream",
          "name": "stdout",
          "text": [
            "December\n",
            "The season is Winter\n"
          ]
        }
      ]
    },
    {
      "cell_type": "markdown",
      "source": [
        "Biggest Even number"
      ],
      "metadata": {
        "id": "SMexXEZOzaRy"
      }
    },
    {
      "cell_type": "code",
      "source": [
        "def test(m,n):\n",
        "  if m>n or (m==n and m%2==1):\n",
        "    return -1\n",
        "  return n if n%2==0 else n-1\n",
        "\n",
        "m = int(input())\n",
        "n = int(input())\n",
        "print(test(m,n))"
      ],
      "metadata": {
        "colab": {
          "base_uri": "https://localhost:8080/"
        },
        "id": "UgSreeas49vQ",
        "outputId": "704ce0d6-88ba-4372-b412-61ed73a756af"
      },
      "execution_count": null,
      "outputs": [
        {
          "output_type": "stream",
          "name": "stdout",
          "text": [
            "12\n",
            "51\n",
            "50\n"
          ]
        }
      ]
    },
    {
      "cell_type": "markdown",
      "source": [
        "Integer greater than 4^4"
      ],
      "metadata": {
        "id": "BdTgz_R-0HAt"
      }
    },
    {
      "cell_type": "code",
      "source": [
        "def test(n):\n",
        "  return n%34 ==4 and n>4**4\n",
        "\n",
        "n = int(input())\n",
        "print(test(n))"
      ],
      "metadata": {
        "colab": {
          "base_uri": "https://localhost:8080/"
        },
        "id": "QVxPtKaDz7rK",
        "outputId": "7d37623d-1167-4f5b-b24d-d664418ed74a"
      },
      "execution_count": null,
      "outputs": [
        {
          "output_type": "stream",
          "name": "stdout",
          "text": [
            "922\n",
            "True\n"
          ]
        }
      ]
    },
    {
      "cell_type": "markdown",
      "source": [
        "Greatest divisor"
      ],
      "metadata": {
        "id": "407HwMf00ry8"
      }
    },
    {
      "cell_type": "code",
      "source": [
        "def test(n):\n",
        "  return next(d for d in range(n-1,0,-1) if n%d==0)\n",
        "\n",
        "n = int(input())\n",
        "print(test(n))"
      ],
      "metadata": {
        "colab": {
          "base_uri": "https://localhost:8080/"
        },
        "id": "D6YwU73H0gai",
        "outputId": "d6f5740c-2d32-455a-af07-0476dc50bdf1"
      },
      "execution_count": null,
      "outputs": [
        {
          "output_type": "stream",
          "name": "stdout",
          "text": [
            "43\n",
            "1\n"
          ]
        }
      ]
    },
    {
      "cell_type": "markdown",
      "source": [
        "Palindrome string"
      ],
      "metadata": {
        "id": "DN3hG20H1OX4"
      }
    },
    {
      "cell_type": "code",
      "source": [
        "def palindrome(s):\n",
        "  return s == s[::-1]\n",
        "\n",
        "s = input()\n",
        "print(palindrome(s))"
      ],
      "metadata": {
        "colab": {
          "base_uri": "https://localhost:8080/"
        },
        "id": "lON20g0v09WL",
        "outputId": "12785359-46b6-4da4-e4da-e8eccac0eedd"
      },
      "execution_count": null,
      "outputs": [
        {
          "output_type": "stream",
          "name": "stdout",
          "text": [
            "madam\n",
            "True\n"
          ]
        }
      ]
    },
    {
      "cell_type": "markdown",
      "source": [
        "Check integer"
      ],
      "metadata": {
        "id": "Z73f2Fum1nyg"
      }
    },
    {
      "cell_type": "code",
      "source": [
        "text = input()\n",
        "text = text.strip()\n",
        "if all(text[i] in \"0123456789\" for i in range(len(text))):\n",
        "  print(\"The string ia an integer\")\n",
        "else:\n",
        "  print(\"The string is not an integer\")"
      ],
      "metadata": {
        "colab": {
          "base_uri": "https://localhost:8080/"
        },
        "id": "LpDIQWlX1X7z",
        "outputId": "cc9de0a8-1f9a-4855-f618-3e6e5e244d96"
      },
      "execution_count": null,
      "outputs": [
        {
          "output_type": "stream",
          "name": "stdout",
          "text": [
            "12dfgh4\n",
            "The string is not an integer\n"
          ]
        }
      ]
    },
    {
      "cell_type": "markdown",
      "source": [
        "Count digits and letters"
      ],
      "metadata": {
        "id": "TpN41Amo2ZIx"
      }
    },
    {
      "cell_type": "code",
      "source": [
        "s = input()\n",
        "d=l=0\n",
        "for c in s:\n",
        "  if c.isdigit():\n",
        "    d+=1\n",
        "  elif c.isalpha():\n",
        "    l+=1\n",
        "  else:\n",
        "    pass\n",
        "\n",
        "print(l)\n",
        "print(d)"
      ],
      "metadata": {
        "colab": {
          "base_uri": "https://localhost:8080/"
        },
        "id": "xSXQaPY72E8S",
        "outputId": "2f3293f9-65a2-4908-a911-dc07ca94b33c"
      },
      "execution_count": null,
      "outputs": [
        {
          "output_type": "stream",
          "name": "stdout",
          "text": [
            "756787uygghgjgjhhjk\n",
            "13\n",
            "6\n"
          ]
        }
      ]
    },
    {
      "cell_type": "markdown",
      "source": [
        "Number greater than 10 with first and last odd digit"
      ],
      "metadata": {
        "id": "z_roGHbz3rMY"
      }
    },
    {
      "cell_type": "code",
      "source": [
        "def test(nums):\n",
        "  return [x for x in nums if x>10 and x%10%2 and int(str(x)[0])%2]\n",
        "\n",
        "n = eval(input())\n",
        "print(test(n))"
      ],
      "metadata": {
        "colab": {
          "base_uri": "https://localhost:8080/"
        },
        "id": "tSWxG_Y92xgE",
        "outputId": "3d30e8d9-6112-48b2-fb67-2528cb4dde48"
      },
      "execution_count": null,
      "outputs": [
        {
          "output_type": "stream",
          "name": "stdout",
          "text": [
            "[1, 3, 79, 10, 4, 1, 39]\n",
            "[79, 39]\n"
          ]
        }
      ]
    },
    {
      "cell_type": "markdown",
      "source": [
        "Extract nth elements"
      ],
      "metadata": {
        "id": "9MnLmwj64ck2"
      }
    },
    {
      "cell_type": "code",
      "source": [
        "def extract_nth_element(lst,n):\n",
        "  return [x[n] for x in lst]\n",
        "\n",
        "lst= eval(input())\n",
        "n = int(input())\n",
        "print(extract_nth_element(lst,n))"
      ],
      "metadata": {
        "colab": {
          "base_uri": "https://localhost:8080/"
        },
        "id": "2KPrpTtH4H2O",
        "outputId": "df7d5696-09b4-434b-b9ef-1bd431f9e7ec"
      },
      "execution_count": null,
      "outputs": [
        {
          "output_type": "stream",
          "name": "stdout",
          "text": [
            "[('Greyson Fulton', 98, 99), ('Brady Kent', 97, 96), ('Wyatt Knott', 91, 94), ('Beau Turnbull', 94, 98)]\n",
            "1\n",
            "[98, 97, 91, 94]\n"
          ]
        }
      ]
    },
    {
      "cell_type": "markdown",
      "source": [
        "Remove kth element"
      ],
      "metadata": {
        "id": "rU4vuQBd5Z_T"
      }
    },
    {
      "cell_type": "code",
      "source": [
        "def remove_kth_element(lst,L):\n",
        "  new_lst = [lst[i] for i in range(0,len(lst)) if i != L-1]\n",
        "  return new_lst\n",
        "\n",
        "lst = eval(input())\n",
        "k = int(input())\n",
        "print(remove_kth_element(lst,k))"
      ],
      "metadata": {
        "colab": {
          "base_uri": "https://localhost:8080/"
        },
        "id": "PNF-l-gT4wMh",
        "outputId": "765b5e47-785e-4a1b-90e4-f521f3c300ed"
      },
      "execution_count": null,
      "outputs": [
        {
          "output_type": "stream",
          "name": "stdout",
          "text": [
            "[1,1,2,3,4,4,5,1]\n",
            "3\n",
            "[1, 1, 3, 4, 4, 5, 1]\n"
          ]
        }
      ]
    },
    {
      "cell_type": "markdown",
      "source": [
        "Elements at specific index"
      ],
      "metadata": {
        "id": "En1--nNw6MK1"
      }
    },
    {
      "cell_type": "code",
      "source": [
        "def element_specific_index(nums, index_lst):\n",
        "  result = [nums[i] for i in index_lst]\n",
        "  return result\n",
        "\n",
        "nums = eval(input())\n",
        "index = eval(input())\n",
        "print(element_specific_index(nums,index))"
      ],
      "metadata": {
        "colab": {
          "base_uri": "https://localhost:8080/"
        },
        "id": "ikmIcVh557q1",
        "outputId": "ff8ee9a1-9e0a-4fc3-dd01-c72f5175ef0b"
      },
      "execution_count": null,
      "outputs": [
        {
          "output_type": "stream",
          "name": "stdout",
          "text": [
            "[2,3,8,4,7,9,8,2,6,5,1,6,1,2,3,4,6,9,1,2]\n",
            "[0]\n",
            "[2]\n"
          ]
        }
      ]
    },
    {
      "cell_type": "markdown",
      "source": [
        "Extract specified column"
      ],
      "metadata": {
        "id": "EL-icRv9-K0i"
      }
    },
    {
      "cell_type": "code",
      "source": [
        "def remove_column(nums,n):\n",
        "  result= [i.pop(n) for i in nums]\n",
        "  return result\n",
        "\n",
        "nums = eval(input())\n",
        "n = int(input())\n",
        "print(remove_column(nums,n))"
      ],
      "metadata": {
        "colab": {
          "base_uri": "https://localhost:8080/"
        },
        "id": "W-YGhNL06oFR",
        "outputId": "faed0e8b-38fa-4190-ea93-837276f3228c"
      },
      "execution_count": null,
      "outputs": [
        {
          "output_type": "stream",
          "name": "stdout",
          "text": [
            "[[1, 2, 3], [2, 4, 5], [1, 1, 1]]\n",
            "0\n",
            "[1, 2, 1]\n"
          ]
        }
      ]
    },
    {
      "cell_type": "markdown",
      "source": [
        "Remove string containing a character"
      ],
      "metadata": {
        "id": "_2AXz2LN_OgO"
      }
    },
    {
      "cell_type": "code",
      "source": [
        "def remove_word(in_list,char_list):\n",
        "  new_list = []\n",
        "  new_list = [word for line in in_list for word in line.split() if not any([phrase in word for phrase in char_list])]\n",
        "  return new_list\n",
        "\n",
        "str_list = eval(input())\n",
        "char_list = eval(input())\n",
        "print(remove_word(str_list, char_list))"
      ],
      "metadata": {
        "colab": {
          "base_uri": "https://localhost:8080/"
        },
        "id": "sFCi2m6c-bbA",
        "outputId": "ad2f51b7-bef7-48ef-94b2-e2d1fffc7938"
      },
      "execution_count": null,
      "outputs": [
        {
          "output_type": "stream",
          "name": "stdout",
          "text": [
            "['Red color', 'Orange#', 'Green', 'Orange @', \"White\"]\n",
            "['#', 'color', '@']\n",
            "['Red', 'Green', 'Orange', 'White']\n"
          ]
        }
      ]
    },
    {
      "cell_type": "markdown",
      "source": [
        "Difference of consecutive numbers"
      ],
      "metadata": {
        "id": "1Nhz6q8aAizv"
      }
    },
    {
      "cell_type": "code",
      "source": [
        "def diff_consecutive_number(nums):\n",
        "  result = [b-a for a,b in zip(nums[:-1],nums[1:])]\n",
        "  return result\n",
        "\n",
        "nums = eval(input())\n",
        "print(diff_consecutive_number(nums))"
      ],
      "metadata": {
        "colab": {
          "base_uri": "https://localhost:8080/"
        },
        "id": "dtLuwcrzACop",
        "outputId": "925de611-03f7-4e6f-baaa-29ec0469cb9a"
      },
      "execution_count": null,
      "outputs": [
        {
          "output_type": "stream",
          "name": "stdout",
          "text": [
            "[1, 1, 3, 4, 4, 5, 6, 7]\n",
            "[0, 2, 1, 0, 1, 1, 1]\n"
          ]
        }
      ]
    },
    {
      "cell_type": "markdown",
      "source": [
        "Cumulative sum"
      ],
      "metadata": {
        "id": "AHc5XVP1BSn_"
      }
    },
    {
      "cell_type": "code",
      "source": [
        "def cumulative_sum(nums):\n",
        "  result = [sum(nums[:i+1]) for i in range(len(nums))]\n",
        "  return result\n",
        "\n",
        "nums = eval(input())\n",
        "print(cumulative_sum(nums))"
      ],
      "metadata": {
        "colab": {
          "base_uri": "https://localhost:8080/"
        },
        "id": "T6_i8nUFBLfL",
        "outputId": "dc4e4e10-815d-4258-bbd4-5399257fe87c"
      },
      "execution_count": null,
      "outputs": [
        {
          "output_type": "stream",
          "name": "stdout",
          "text": [
            "[1, 1, 3, 4, 4, 5, 6, 7]\n",
            "[1, 2, 5, 9, 13, 18, 24, 31]\n"
          ]
        }
      ]
    },
    {
      "cell_type": "markdown",
      "source": [
        "Elements starting with specific character"
      ],
      "metadata": {
        "id": "X982JTb1DHxe"
      }
    },
    {
      "cell_type": "code",
      "source": [
        "def test(lst,char):\n",
        "  result = [i for i in lst if i.startswith(char)]\n",
        "  return result\n",
        "\n",
        "lst = eval(input())\n",
        "char = input()\n",
        "print(test(lst,char))"
      ],
      "metadata": {
        "colab": {
          "base_uri": "https://localhost:8080/"
        },
        "id": "uGwHQ0BrBn20",
        "outputId": "7daa1936-fe00-466a-f9e4-9979de210e77"
      },
      "execution_count": null,
      "outputs": [
        {
          "output_type": "stream",
          "name": "stdout",
          "text": [
            "[\"abcd\", \"abc\", \"bcd\", \"bkie\", \"cder\", \"cdsw\", \"sdfsd\", \"dagfa\", \"acjd\"]\n",
            "a\n",
            "['abcd', 'abc', 'acjd']\n"
          ]
        }
      ]
    },
    {
      "cell_type": "markdown",
      "source": [
        "Pack duplicate elements"
      ],
      "metadata": {
        "id": "NWljAmBcNfnZ"
      }
    },
    {
      "cell_type": "code",
      "source": [
        "from itertools import groupby\n",
        "\n",
        "def pack_duplicates(i_nums):\n",
        "  return [list(group) for key,group in groupby(i_nums)]\n",
        "\n",
        "n = eval(input())\n",
        "print(pack_duplicates(n))"
      ],
      "metadata": {
        "colab": {
          "base_uri": "https://localhost:8080/"
        },
        "id": "hb3S1y7sDjU-",
        "outputId": "3faf9f63-9784-4e33-9897-f9eb703da482"
      },
      "execution_count": null,
      "outputs": [
        {
          "output_type": "stream",
          "name": "stdout",
          "text": [
            "[0, 0, 1, 2, 3, 4, 4, 5, 6, 6, 6, 7, 8, 9, 4, 4 ]\n",
            "[[0, 0], [1], [2], [3], [4, 4], [5], [6, 6, 6], [7], [8], [9], [4, 4]]\n"
          ]
        }
      ]
    },
    {
      "cell_type": "markdown",
      "source": [
        "Consecutive duplicates removal"
      ],
      "metadata": {
        "id": "JXR0PlaPO3bi"
      }
    },
    {
      "cell_type": "code",
      "source": [
        "from itertools import groupby\n",
        "\n",
        "def compress(lst):\n",
        "  return [key for key,group in groupby(lst)]\n",
        "\n",
        "lst = eval(input())\n",
        "print(compress(lst))"
      ],
      "metadata": {
        "colab": {
          "base_uri": "https://localhost:8080/"
        },
        "id": "fIWLxkepOMu7",
        "outputId": "f606e680-9151-433f-f407-640ab158d3de"
      },
      "execution_count": null,
      "outputs": [
        {
          "output_type": "stream",
          "name": "stdout",
          "text": [
            "[0, 0, 1, 2, 3, 4, 4, 5, 6, 6, 6, 7, 8, 9, 4, 4 ]\n",
            "[0, 1, 2, 3, 4, 5, 6, 7, 8, 9, 4]\n"
          ]
        }
      ]
    },
    {
      "cell_type": "markdown",
      "source": [
        "Create list using concatenation"
      ],
      "metadata": {
        "id": "LsN6Sx7BPejt"
      }
    },
    {
      "cell_type": "code",
      "source": [
        "lst = eval(input())\n",
        "n = int(input())\n",
        "new_list = ['{}{}'.format(x,y) for y in range(1,n+1) for x in lst]\n",
        "print(new_list)"
      ],
      "metadata": {
        "colab": {
          "base_uri": "https://localhost:8080/"
        },
        "id": "bCCInVFePKyN",
        "outputId": "8a5e591f-b5de-4cea-fd2a-eb2f7bbc68da"
      },
      "execution_count": null,
      "outputs": [
        {
          "output_type": "stream",
          "name": "stdout",
          "text": [
            "['p', 'q']\n",
            "5\n",
            "['p1', 'q1', 'p2', 'q2', 'p3', 'q3', 'p4', 'q4', 'p5', 'q5']\n"
          ]
        }
      ]
    },
    {
      "cell_type": "markdown",
      "source": [
        "Insert string at beginning"
      ],
      "metadata": {
        "id": "RMsTwarFQZZy"
      }
    },
    {
      "cell_type": "code",
      "source": [
        "n = eval(input())\n",
        "string = input()\n",
        "new_list = [string + '{0}'.format(i) for i in n]\n",
        "print(new_list)"
      ],
      "metadata": {
        "colab": {
          "base_uri": "https://localhost:8080/"
        },
        "id": "0CadrGmEP2uQ",
        "outputId": "db5032e3-0ef5-4313-9ffa-9d058c3dc425"
      },
      "execution_count": null,
      "outputs": [
        {
          "output_type": "stream",
          "name": "stdout",
          "text": [
            "1,2,3,4\n",
            "emp\n",
            "['emp1', 'emp2', 'emp3', 'emp4']\n"
          ]
        }
      ]
    },
    {
      "cell_type": "markdown",
      "source": [
        "Accept and print the string"
      ],
      "metadata": {
        "id": "rmjoFFAVRNlN"
      }
    },
    {
      "cell_type": "code",
      "source": [
        "class IOstring():\n",
        "  def __init__ (self):\n",
        "    self.str1 = \"\"\n",
        "\n",
        "  def get_string(self):\n",
        "    self.str1 = input()\n",
        "\n",
        "  def print_string(self):\n",
        "    print(self.str1.upper())\n",
        "\n",
        "str1 = IOstring()\n",
        "str1.get_string()\n",
        "str1.print_string()"
      ],
      "metadata": {
        "colab": {
          "base_uri": "https://localhost:8080/"
        },
        "id": "eeEVXdLOQqHt",
        "outputId": "cdb24634-9f46-4dbb-9e84-6fc73d6fc5df"
      },
      "execution_count": null,
      "outputs": [
        {
          "output_type": "stream",
          "name": "stdout",
          "text": [
            "hello world!\n",
            "HELLO WORLD!\n"
          ]
        }
      ]
    },
    {
      "cell_type": "markdown",
      "source": [
        "Class to reverse a string"
      ],
      "metadata": {
        "id": "kXCXqL-UU4Vp"
      }
    },
    {
      "cell_type": "code",
      "source": [
        "class py_solution:\n",
        "  def reverse_word(self, s):\n",
        "    return ''.join(reversed(s.split()))\n",
        "\n",
        "string = input()\n",
        "print(py_solution().reverse_word(string))"
      ],
      "metadata": {
        "colab": {
          "base_uri": "https://localhost:8080/"
        },
        "id": "q5EVyaTASEjd",
        "outputId": "517d1b2b-f695-420b-a59e-8ce46105f20b"
      },
      "execution_count": null,
      "outputs": [
        {
          "output_type": "stream",
          "name": "stdout",
          "text": [
            "hello .py\n",
            ".pyhello\n"
          ]
        }
      ]
    },
    {
      "cell_type": "markdown",
      "source": [
        "Modify attribute of class"
      ],
      "metadata": {
        "id": "Cdx_qixqY9ar"
      }
    },
    {
      "cell_type": "code",
      "source": [
        "class Student:\n",
        "    student_name = 'Terrance Morales'\n",
        "    marks = 93\n",
        "\n",
        "s_name = input()\n",
        "s_marks = int(input())\n",
        "print(getattr(Student, 'student_name'))\n",
        "print(getattr(Student, 'marks'))\n",
        "setattr(Student, 'student_name', s_name)\n",
        "setattr(Student, 'marks', s_marks)\n",
        "print(getattr(Student, 'student_name'))\n",
        "print(getattr(Student, 'marks'))"
      ],
      "metadata": {
        "colab": {
          "base_uri": "https://localhost:8080/"
        },
        "id": "lKtybJRVV6k3",
        "outputId": "7183643c-6eae-4be0-ee03-65735e868a1a"
      },
      "execution_count": null,
      "outputs": [
        {
          "output_type": "stream",
          "name": "stdout",
          "text": [
            "Angel Brooks\n",
            "95\n",
            "Terrance Morales\n",
            "93\n",
            "Angel Brooks\n",
            "95\n"
          ]
        }
      ]
    },
    {
      "cell_type": "markdown",
      "source": [
        "Implement pow (x,n) using class"
      ],
      "metadata": {
        "id": "rHvrOAN3a3IN"
      }
    },
    {
      "cell_type": "code",
      "source": [
        "class py_solution:\n",
        "  def pow(self,x,n):\n",
        "    if x==0 or x==1 or n==1:\n",
        "      return x\n",
        "    if x==-1:\n",
        "      if n%2==0:\n",
        "        return -1\n",
        "      return 1\n",
        "    if n==0:\n",
        "      return 1\n",
        "    if n<0:\n",
        "      return 1/self.pow(x,-n)\n",
        "    val = self.pow(x,n//2)\n",
        "    if n%2==0:\n",
        "      return val*val\n",
        "    return val*val*x\n",
        "\n",
        "n1 = int(input())\n",
        "n2 = int(input())\n",
        "print(py_solution().pow(n1,n2))"
      ],
      "metadata": {
        "colab": {
          "base_uri": "https://localhost:8080/"
        },
        "id": "gqZMhl4mYx5j",
        "outputId": "7d7ee3ac-8cc1-4133-89b8-3a7472ae54bd"
      },
      "execution_count": null,
      "outputs": [
        {
          "output_type": "stream",
          "name": "stdout",
          "text": [
            "2\n",
            "-3\n",
            "0.125\n"
          ]
        }
      ]
    },
    {
      "cell_type": "markdown",
      "source": [
        "retain character from string"
      ],
      "metadata": {
        "id": "8pCLFfDfc301"
      }
    },
    {
      "cell_type": "code",
      "source": [
        "def remove_character(str1,c):\n",
        "  return ''.join([el for el in str1 if el==c])\n",
        "\n",
        "i = input()\n",
        "c = input()\n",
        "print(remove_character(i,c))"
      ],
      "metadata": {
        "colab": {
          "base_uri": "https://localhost:8080/"
        },
        "id": "UJUXoPTUcBNF",
        "outputId": "907e9a94-cdf7-44a2-ef19-fc69c9124f64"
      },
      "execution_count": null,
      "outputs": [
        {
          "output_type": "stream",
          "name": "stdout",
          "text": [
            "american express\n",
            "a\n",
            "aa\n"
          ]
        }
      ]
    },
    {
      "cell_type": "markdown",
      "source": [
        "check a value is present"
      ],
      "metadata": {
        "id": "9yZ-4Akcd0o7"
      }
    },
    {
      "cell_type": "code",
      "source": [
        "def check_value(str1,value):\n",
        "  return (value in str1)\n",
        "\n",
        "s = input()\n",
        "value = input()\n",
        "print(check_value(s,value))"
      ],
      "metadata": {
        "colab": {
          "base_uri": "https://localhost:8080/"
        },
        "id": "XA0xZ0QgdM2s",
        "outputId": "c0fc6d6d-2fff-4b92-bdf3-82ea55b6d036"
      },
      "execution_count": null,
      "outputs": [
        {
          "output_type": "stream",
          "name": "stdout",
          "text": [
            "rock mountain hill\n",
            "rock\n",
            "True\n"
          ]
        }
      ]
    },
    {
      "cell_type": "markdown",
      "source": [
        "m rows and n columns matrices"
      ],
      "metadata": {
        "id": "EXbyut6hewd3"
      }
    },
    {
      "cell_type": "code",
      "source": [
        "def matrix(rows,cols):\n",
        "  multi_list = [[0 for col in range(col_num)] for row in range(row_num)]\n",
        "\n",
        "  for row in range(row_num):\n",
        "    for col in range(col_num):\n",
        "      multi_list[row][col]=row*col\n",
        "  return multi_list\n",
        "\n",
        "row_num = int(input())\n",
        "col_num = int(input())\n",
        "print(matrix(row_num,col_num))"
      ],
      "metadata": {
        "colab": {
          "base_uri": "https://localhost:8080/"
        },
        "id": "u-rQBJLxeG15",
        "outputId": "5649eb0a-1969-4c21-9a56-19850fa7cb41"
      },
      "execution_count": null,
      "outputs": [
        {
          "output_type": "stream",
          "name": "stdout",
          "text": [
            "4\n",
            "4\n",
            "[[0, 0, 0, 0], [0, 1, 2, 3], [0, 2, 4, 6], [0, 3, 6, 9]]\n"
          ]
        }
      ]
    },
    {
      "cell_type": "markdown",
      "source": [
        "check number fall in given range"
      ],
      "metadata": {
        "id": "EginQZNohb4R"
      }
    },
    {
      "cell_type": "code",
      "source": [
        "def test_range(n):\n",
        "  if n in range(3,19):\n",
        "    print(\"%s is in the range\"%str(n))\n",
        "  else:\n",
        "    print(\"The given number is out of range\")\n",
        "\n",
        "s = int(input())\n",
        "test_range(s)"
      ],
      "metadata": {
        "colab": {
          "base_uri": "https://localhost:8080/"
        },
        "id": "Bb-SFEqMgATa",
        "outputId": "dfe89553-b9f0-4bb6-8d21-a0f1ae197c08"
      },
      "execution_count": null,
      "outputs": [
        {
          "output_type": "stream",
          "name": "stdout",
          "text": [
            "56\n",
            "The given number is out of range\n"
          ]
        }
      ]
    },
    {
      "cell_type": "markdown",
      "source": [
        "check whether a number is prime or not"
      ],
      "metadata": {
        "id": "e9nyJ6m1iUMw"
      }
    },
    {
      "cell_type": "code",
      "source": [
        "def prime_num(n):\n",
        "  if n==1:\n",
        "    return False\n",
        "  elif n==2:\n",
        "    return True;\n",
        "  else:\n",
        "    for x in range(2,n):\n",
        "      if (n%x==0):\n",
        "        return False\n",
        "    return True\n",
        "\n",
        "n = int(input())\n",
        "print(prime_num(n))"
      ],
      "metadata": {
        "colab": {
          "base_uri": "https://localhost:8080/"
        },
        "id": "pIeLjc-Ph8Xh",
        "outputId": "c5313c65-2db2-47ea-ac41-16090c5a7936"
      },
      "execution_count": null,
      "outputs": [
        {
          "output_type": "stream",
          "name": "stdout",
          "text": [
            "9\n",
            "False\n"
          ]
        }
      ]
    },
    {
      "cell_type": "markdown",
      "source": [
        "program access a function inside a function"
      ],
      "metadata": {
        "id": "QMDOEaFdjXch"
      }
    },
    {
      "cell_type": "code",
      "source": [
        "def test(a):\n",
        "  def add(b):\n",
        "    nonlocal a\n",
        "    a +=1\n",
        "    return a+b\n",
        "  return add\n",
        "\n",
        "n = int(input())\n",
        "func = test(n)\n",
        "print(func(n))"
      ],
      "metadata": {
        "colab": {
          "base_uri": "https://localhost:8080/"
        },
        "id": "OpKOUhtWi6BW",
        "outputId": "6aa95a15-f1aa-401b-8c4a-e0a39c12e806"
      },
      "execution_count": null,
      "outputs": [
        {
          "output_type": "stream",
          "name": "stdout",
          "text": [
            "4\n",
            "9\n"
          ]
        }
      ]
    },
    {
      "cell_type": "markdown",
      "source": [
        "Place value to particular index"
      ],
      "metadata": {
        "id": "Sit2yL3maHLa"
      }
    },
    {
      "cell_type": "code",
      "source": [
        "def insert_value_index(lst,index_to_place,value_to_place):\n",
        "  first_part = lst[0:index_to_place]\n",
        "  first_part.append(value_to_place)\n",
        "  last_part = lst[index_to_place:]\n",
        "  first_part.extend(last_part)\n",
        "  return first_part"
      ],
      "metadata": {
        "id": "MUcXFrLljvuu"
      },
      "execution_count": null,
      "outputs": []
    },
    {
      "cell_type": "code",
      "source": [
        "lst = [1,2,3,5,7]\n",
        "new_lst = insert_value_index(lst,2,8)\n",
        "print(new_lst)"
      ],
      "metadata": {
        "colab": {
          "base_uri": "https://localhost:8080/"
        },
        "id": "GIhEUFExbKVX",
        "outputId": "cf09cac2-bb75-4aeb-a995-38f88bd86d78"
      },
      "execution_count": null,
      "outputs": [
        {
          "output_type": "stream",
          "name": "stdout",
          "text": [
            "[1, 2, 8, 3, 5, 7]\n"
          ]
        }
      ]
    },
    {
      "cell_type": "code",
      "source": [],
      "metadata": {
        "id": "BhfabXhSfpXA"
      },
      "execution_count": null,
      "outputs": []
    }
  ]
}