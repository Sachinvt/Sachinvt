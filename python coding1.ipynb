{
  "cells": [
    {
      "cell_type": "markdown",
      "metadata": {
        "id": "view-in-github",
        "colab_type": "text"
      },
      "source": [
        "<a href=\"https://colab.research.google.com/github/Sachinvt/Sachinvt/blob/main/python%20coding1.ipynb\" target=\"_parent\"><img src=\"https://colab.research.google.com/assets/colab-badge.svg\" alt=\"Open In Colab\"/></a>"
      ]
    },
    {
      "cell_type": "code",
      "execution_count": 8,
      "metadata": {
        "colab": {
          "base_uri": "https://localhost:8080/"
        },
        "id": "lIYdn1woOS1n",
        "outputId": "1a73b1e1-74cf-4ef6-82b1-53e1eba2f385"
      },
      "outputs": [
        {
          "output_type": "stream",
          "name": "stdout",
          "text": [
            "[3, 4, 6, 2, 6, 7, 6, 9, 10, 7, 4, 4, 5, 3, 2, 9, 7, 11, 0, 0, 0, 0, 0, 0, 0, 0, 0]\n"
          ]
        }
      ],
      "source": [
        "\n",
        "def move_zeros_to_end(lst):\n",
        "    # Initialize a new list to store non-zero digits\n",
        "    non_zero_digits = [digit for digit in lst if digit != 0]\n",
        "\n",
        "    # Count the number of zero digits\n",
        "    num_zeros = lst.count(0)\n",
        "\n",
        "    # Append zeros to the end of the list\n",
        "    non_zero_digits.extend([0] * num_zeros)\n",
        "\n",
        "    return non_zero_digits\n",
        "\n",
        "# Input list\n",
        "lst = [3, 4, 0, 0, 0, 6, 2, 0, 6, 7, 6, 0, 0, 0, 9, 10, 7, 4, 4, 5, 3, 0, 0, 2, 9, 7, 11]\n",
        "\n",
        "# Move zeros to the end of the list and print the result\n",
        "result = move_zeros_to_end(lst)\n",
        "print(result)"
      ]
    },
    {
      "cell_type": "markdown",
      "source": [
        "\n",
        "You\n",
        "Write a Python program to move all zero digits to end of a given list of numbers.\n",
        "\n",
        "INPUT:\n",
        "\n",
        "[3, 4, 0, 0, 0, 6, 2, 0, 6, 7, 6, 0, 0, 0, 9, 10, 7, 4, 4, 5, 3, 0, 0, 2, 9, 7, 11\n",
        "\n",
        "OUTPUT:\n",
        "\n",
        "[3, 4, 6, 2, 6, 7, 6, 9, 10, 7, 4, 4, 5, 3, 2, 9, 7, 1, 0, 0, 0, 0, 0, 0, 0, 0, 이"
      ],
      "metadata": {
        "id": "_cIdg8ASdFBP"
      }
    },
    {
      "cell_type": "markdown",
      "source": [
        "Write a Python program to find an integer exponent x such that a^x = n.\n",
        "\n",
        "INPUT:\n",
        "\n",
        "1024\n",
        "\n",
        "2\n",
        "\n",
        "OUTPUT:\n",
        "\n",
        "10"
      ],
      "metadata": {
        "id": "7Bl2MbUWdNbT"
      }
    },
    {
      "cell_type": "code",
      "source": [
        "\n",
        "def find_exponent(a, n):\n",
        "    x = 0\n",
        "    while n % a == 0:\n",
        "        n /= a\n",
        "        x += 1\n",
        "    if n == 1:\n",
        "        return x\n",
        "    return -1\n",
        "\n",
        "# Input values\n",
        "n = int(input())\n",
        "a = int(input())\n",
        "\n",
        "# Find the exponent\n",
        "result = find_exponent(a, n)\n",
        "print(result)"
      ],
      "metadata": {
        "id": "8UOhHsqtc4_x"
      },
      "execution_count": null,
      "outputs": []
    },
    {
      "cell_type": "markdown",
      "source": [
        "Write a Python program to create a list whose ith element is the maximum of the first i elements from a input list.\n",
        "\n",
        "INPUT:\n",
        "\n",
        "[0, -1, 3, 8, 5, 9, 8, 14, 2, 4, 3, 10, 10, 17, 41, 22, -4, -4, -15, 0]\n",
        "\n",
        "OUTPUT:\n",
        "\n",
        "[0, 0, 3, 8, 8, 9, 9, 14, 14, 14, 14, 14, 14, 17, 41, 41, 41, 41, 41, 41]"
      ],
      "metadata": {
        "id": "wIms-iJAdhik"
      }
    },
    {
      "cell_type": "code",
      "source": [
        "\n",
        "def max_first_i_elements(input_list):\n",
        "    max_list = []\n",
        "    max_value = float('-inf')\n",
        "    for num in input_list:\n",
        "        max_value = max(max_value, num)\n",
        "        max_list.append(max_value)\n",
        "    return max_list\n",
        "\n",
        "# Input list\n",
        "input_list = [0, -1, 3, 8, 5, 9, 8, 14, 2, 4, 3, 10, 10, 17, 41, 22, -4, -4, -15, 0]\n",
        "\n",
        "# Create the list of maximums\n",
        "result = max_first_i_elements(input_list)\n",
        "print(result)"
      ],
      "metadata": {
        "id": "2KeWzhO_dx3t",
        "outputId": "a0be8a11-ad02-40d5-95c5-9258e6427521",
        "colab": {
          "base_uri": "https://localhost:8080/"
        }
      },
      "execution_count": 9,
      "outputs": [
        {
          "output_type": "stream",
          "name": "stdout",
          "text": [
            "[0, 0, 3, 8, 8, 9, 9, 14, 14, 14, 14, 14, 14, 17, 41, 41, 41, 41, 41, 41]\n"
          ]
        }
      ]
    },
    {
      "cell_type": "markdown",
      "source": [
        "Write a Python program to find the indices of the closest pair from a list of numbers.\n",
        "\n",
        "INPUT:\n",
        "\n",
        "[1, 7, 9, 2, 10]\n",
        "\n",
        "OUTPUT:\n",
        "\n",
        "[0, 3]"
      ],
      "metadata": {
        "id": "nlZT3Lhpd-wT"
      }
    },
    {
      "cell_type": "code",
      "source": [
        "\n",
        "def closest_pair_indices(numbers):\n",
        "    min_diff = float('inf')\n",
        "    closest_indices = []\n",
        "\n",
        "    for i in range(len(numbers) - 1):\n",
        "        for j in range(i + 1, len(numbers)):\n",
        "            diff = abs(numbers[i] - numbers[j])\n",
        "            if diff < min_diff:\n",
        "                min_diff = diff\n",
        "                closest_indices = [i, j]\n",
        "\n",
        "    return closest_indices\n",
        "\n",
        "# Input list\n",
        "numbers = [1, 7, 9, 2, 10]\n",
        "\n",
        "# Find the indices of the closest pair\n",
        "result = closest_pair_indices(numbers)\n",
        "print(result)"
      ],
      "metadata": {
        "id": "skZwOCSneD_-",
        "outputId": "ecffff2a-f588-4057-d3c1-db63c2a736d5",
        "colab": {
          "base_uri": "https://localhost:8080/"
        }
      },
      "execution_count": 10,
      "outputs": [
        {
          "output_type": "stream",
          "name": "stdout",
          "text": [
            "[0, 3]\n"
          ]
        }
      ]
    },
    {
      "cell_type": "markdown",
      "source": [
        "You are given an m x n integer grid account's where accounts[i][j] is the amount of money the ith customer has in the jth bank. Return the wealth that the richest customer has.\n",
        "\n",
        "A customer's wealth is the amount of money they have in all their bank accounts. The richest customer is the customer that has the maximum wealth.\n",
        "\n",
        "Example:\n",
        "\n",
        "Input: accounts = [[1,2,3], [3,2,1]]\n",
        "\n",
        "Output: 6\n",
        "\n",
        "Explanation:\n",
        "\n",
        "1st customer has wealth = 1 + 2 + 3 = 6\n",
        "\n",
        "2nd customer has wealth = 3 + 2 + 1 = 6\n",
        "\n",
        "Both customers are considered the richest with a wealth of 6 each, so return 6."
      ],
      "metadata": {
        "id": "8mKVtcJQeIMx"
      }
    },
    {
      "cell_type": "code",
      "source": [
        "\n",
        "def maximumWealth(accounts):\n",
        "    max_wealth = 0\n",
        "\n",
        "    for customer_accounts in accounts:\n",
        "        wealth = sum(customer_accounts)\n",
        "        max_wealth = max(max_wealth, wealth)\n",
        "\n",
        "    return max_wealth\n",
        "\n",
        "# Example usage:\n",
        "accounts = [[1,2,3], [3,2,1]]\n",
        "print(maximumWealth(accounts))  # Output: 6"
      ],
      "metadata": {
        "id": "mk8JEwaJejpO",
        "outputId": "3e4f6cec-e8a6-4e50-cae9-9c3a730d27e9",
        "colab": {
          "base_uri": "https://localhost:8080/"
        }
      },
      "execution_count": 11,
      "outputs": [
        {
          "output_type": "stream",
          "name": "stdout",
          "text": [
            "6\n"
          ]
        }
      ]
    },
    {
      "cell_type": "markdown",
      "source": [
        "Given an integer array nums, return the third distinct maximum number in this array. If the third maximum does not exist, return the maximum number.\n",
        "\n",
        "Example:\n",
        "\n",
        "Input: nums = [3,2,1]\n",
        "\n",
        "Output: 1\n",
        "\n",
        "Explanation:\n",
        "\n",
        "The first distinct maximum is 3.\n",
        "\n",
        "The second distinct maximum is 2.\n",
        "\n",
        "The third distinct maximum is 1."
      ],
      "metadata": {
        "id": "Sjs0427menck"
      }
    },
    {
      "cell_type": "code",
      "source": [
        "\n",
        "def thirdMax(nums):\n",
        "    nums = sorted(set(nums), reverse=True)  # Remove duplicates and sort in descending order\n",
        "    if len(nums) < 3:\n",
        "        return nums[0]  # If less than 3 distinct numbers, return the maximum\n",
        "    else:\n",
        "        return nums[2]  # Return the third distinct maximum\n",
        "\n",
        "# Example usage:\n",
        "nums = [3, 2, 1]\n",
        "print(thirdMax(nums))  # Output: 1"
      ],
      "metadata": {
        "id": "ORpcBtgZeujd",
        "outputId": "297f5a64-f713-434b-e3d8-f181e49dc362",
        "colab": {
          "base_uri": "https://localhost:8080/"
        }
      },
      "execution_count": 12,
      "outputs": [
        {
          "output_type": "stream",
          "name": "stdout",
          "text": [
            "1\n"
          ]
        }
      ]
    },
    {
      "cell_type": "markdown",
      "source": [
        "Write a Fibonacci series program in python using iterative method.\n",
        "\n",
        "INPUT:\n",
        "\n",
        "5\n",
        "\n",
        "OUTPUT:\n",
        "\n",
        "Fibonacci Series:\n",
        "\n",
        "01123"
      ],
      "metadata": {
        "id": "JNFqxAn9ezbt"
      }
    },
    {
      "cell_type": "code",
      "source": [
        "\n",
        "def fibonacci(n):\n",
        "    fib_series = []\n",
        "    a, b = 0, 1\n",
        "    for _ in range(n):\n",
        "        fib_series.append(a)\n",
        "        a, b = b, a + b\n",
        "    return fib_series\n",
        "\n",
        "# Input\n",
        "n = int(input(\"Enter the number of terms: \"))\n",
        "\n",
        "# Generate Fibonacci series\n",
        "fib_series = fibonacci(n)\n",
        "\n",
        "# Output\n",
        "print(\"Fibonacci Series:\")\n",
        "print(' '.join(map(str, fib_series)))"
      ],
      "metadata": {
        "id": "Z_chhSPDe5mH",
        "outputId": "0f9f6925-d9ec-45cc-ff59-0666b3679f28",
        "colab": {
          "base_uri": "https://localhost:8080/"
        }
      },
      "execution_count": 14,
      "outputs": [
        {
          "output_type": "stream",
          "name": "stdout",
          "text": [
            "Enter the number of terms: 5\n",
            "Fibonacci Series:\n",
            "0 1 1 2 3\n"
          ]
        }
      ]
    },
    {
      "cell_type": "markdown",
      "source": [],
      "metadata": {
        "id": "SSNvS2WzfL0R"
      }
    }
  ],
  "metadata": {
    "colab": {
      "name": "scratchpad",
      "provenance": [],
      "include_colab_link": true
    },
    "kernelspec": {
      "display_name": "Python 3",
      "name": "python3"
    }
  },
  "nbformat": 4,
  "nbformat_minor": 0
}