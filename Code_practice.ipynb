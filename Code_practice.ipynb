{
  "nbformat": 4,
  "nbformat_minor": 0,
  "metadata": {
    "colab": {
      "private_outputs": true,
      "provenance": [],
      "authorship_tag": "ABX9TyOr0YgAadGnnPWRHgOGRAVk",
      "include_colab_link": true
    },
    "kernelspec": {
      "name": "python3",
      "display_name": "Python 3"
    },
    "language_info": {
      "name": "python"
    }
  },
  "cells": [
    {
      "cell_type": "markdown",
      "metadata": {
        "id": "view-in-github",
        "colab_type": "text"
      },
      "source": [
        "<a href=\"https://colab.research.google.com/github/Sachinvt/Sachinvt/blob/main/Code_practice.ipynb\" target=\"_parent\"><img src=\"https://colab.research.google.com/assets/colab-badge.svg\" alt=\"Open In Colab\"/></a>"
      ]
    },
    {
      "cell_type": "code",
      "execution_count": null,
      "metadata": {
        "id": "1yGF11HDju5y"
      },
      "outputs": [],
      "source": [
        "def missing_numbers(lst):\n",
        "  return [x for x in range(lst[0], lst[-1]+1) if x not in lst]"
      ]
    },
    {
      "cell_type": "code",
      "source": [
        "lst = [1,6,7,11,10,13]"
      ],
      "metadata": {
        "id": "mXyIchzFkQy-"
      },
      "execution_count": null,
      "outputs": []
    },
    {
      "cell_type": "code",
      "source": [
        "print(missing_numbers(lst))"
      ],
      "metadata": {
        "id": "0dJGpro0kZP4"
      },
      "execution_count": null,
      "outputs": []
    },
    {
      "cell_type": "code",
      "source": [
        "strng = input()\n",
        "d = {}\n",
        "for char in strng:\n",
        "  char = char.lower()\n",
        "  if char in d:\n",
        "    d[char]+=1\n",
        "  else:\n",
        "    d[char] = 1\n",
        "print(d)\n"
      ],
      "metadata": {
        "id": "MzG6_Ld9mbCM"
      },
      "execution_count": null,
      "outputs": []
    },
    {
      "cell_type": "code",
      "source": [
        "strng = input()\n",
        "d = {}\n",
        "for char in strng:\n",
        "  char = char.lower()\n",
        "  if char in d:\n",
        "    d[char]+=1\n",
        "  else:\n",
        "    d[char] = 1\n",
        "print(d)"
      ],
      "metadata": {
        "id": "ADPY1v61nPJh"
      },
      "execution_count": null,
      "outputs": []
    },
    {
      "cell_type": "code",
      "source": [
        "s= input()\n",
        "ch=input()\n",
        "starts_with_char = lambda s, ch: s.startswith(ch)\n",
        "result = starts_with_char(s, ch)\n",
        "print(result)"
      ],
      "metadata": {
        "id": "9SRj7QBeq_BD"
      },
      "execution_count": null,
      "outputs": []
    },
    {
      "cell_type": "code",
      "source": [
        "s = input()\n",
        "ch = input()\n",
        "starts_with_char = lambda s, ch:s.startswith(ch)\n",
        "result = starts_with_char(s, ch)\n",
        "print(result)"
      ],
      "metadata": {
        "id": "RyUS46Cvntcx"
      },
      "execution_count": null,
      "outputs": []
    },
    {
      "cell_type": "code",
      "source": [
        "def missing_num(lst):\n",
        "  return [x for x in range(lst[0], lst[-1]+1) if x not in lst]"
      ],
      "metadata": {
        "id": "go3N7-0DssZl"
      },
      "execution_count": null,
      "outputs": []
    },
    {
      "cell_type": "code",
      "source": [
        "lst = [1,3,4,6]"
      ],
      "metadata": {
        "id": "F9GstgMtjRXh"
      },
      "execution_count": null,
      "outputs": []
    },
    {
      "cell_type": "code",
      "source": [
        "print(missing_num(lst))"
      ],
      "metadata": {
        "id": "v4NGOoBojXQH"
      },
      "execution_count": null,
      "outputs": []
    },
    {
      "cell_type": "code",
      "source": [
        "strng = input()\n",
        "d = {}\n",
        "for char in strng:\n",
        "  char = char.lower()\n",
        "  if char in d:\n",
        "     d[char] +=1\n",
        "  else:\n",
        "    d[char] = 1\n",
        "print(d)\n"
      ],
      "metadata": {
        "id": "a_Wh0_-2jaw_"
      },
      "execution_count": null,
      "outputs": []
    },
    {
      "cell_type": "code",
      "source": [
        "s = input()\n",
        "ch = input()\n",
        "starts_with_char = lambda s,ch:s.startswith(ch)\n",
        "result = starts_with_char(s,ch)\n",
        "print(result)"
      ],
      "metadata": {
        "id": "Cn-hIFLlkwxi"
      },
      "execution_count": null,
      "outputs": []
    },
    {
      "cell_type": "code",
      "source": [
        "n = int(input())\n",
        "harmonic_sum = 0\n",
        "for i in range(1, n+1):\n",
        "    harmonic_sum += 1 / i\n",
        "print(f\"{harmonic_sum:.15f}\")"
      ],
      "metadata": {
        "id": "Qm5gY_-UlMfW"
      },
      "execution_count": null,
      "outputs": []
    },
    {
      "cell_type": "code",
      "source": [
        "n = int(input())\n",
        "harmonic_sum = 0\n",
        "for i in range(1,n+1):\n",
        "  harmonic_sum+=1/i\n",
        "print(f\"{harmonic_sum:.5f}\")"
      ],
      "metadata": {
        "id": "nlTLjBjFo7E9"
      },
      "execution_count": null,
      "outputs": []
    },
    {
      "cell_type": "code",
      "source": [
        "a = {5,6,7}"
      ],
      "metadata": {
        "id": "doLUOjpnxbUo"
      },
      "execution_count": null,
      "outputs": []
    },
    {
      "cell_type": "code",
      "source": [
        "a.add(5)"
      ],
      "metadata": {
        "id": "pfJ-7-Yq4vCk"
      },
      "execution_count": null,
      "outputs": []
    },
    {
      "cell_type": "code",
      "source": [
        "a"
      ],
      "metadata": {
        "id": "MiROrmwE4xQW"
      },
      "execution_count": null,
      "outputs": []
    },
    {
      "cell_type": "code",
      "source": [
        "values = [[3, 4, 5, 1], [33, 6, 1, 2]]\n",
        "v = values[0][0]\n",
        "for lst in values:\n",
        "     for element in lst:\n",
        "          if v > element:\n",
        "              v = element\n",
        "print(v)"
      ],
      "metadata": {
        "id": "rTy2vu814ysw"
      },
      "execution_count": null,
      "outputs": []
    },
    {
      "cell_type": "code",
      "source": [
        "a=list((45,)*4)\n",
        "print((45)*4)\n",
        "print(a)"
      ],
      "metadata": {
        "id": "VNVWt_dQ5diG"
      },
      "execution_count": null,
      "outputs": []
    },
    {
      "cell_type": "code",
      "source": [
        "print('xyyxyyxyxyxxy'.replace('xy', '12', 100))"
      ],
      "metadata": {
        "id": "MX-qgqO76K6Z"
      },
      "execution_count": null,
      "outputs": []
    },
    {
      "cell_type": "code",
      "source": [
        "s=set([1, 2, 3])\n",
        "print(s.union([4, 5]))\n"
      ],
      "metadata": {
        "id": "pEI48sY16TMo"
      },
      "execution_count": null,
      "outputs": []
    },
    {
      "cell_type": "code",
      "source": [
        "print(12 ^ 2)"
      ],
      "metadata": {
        "id": "v-mK6rJ97n97"
      },
      "execution_count": null,
      "outputs": []
    },
    {
      "cell_type": "code",
      "source": [
        "x = 'abcd'\n",
        "for i in range(len(x)):\n",
        "     x[i].upper()\n",
        "print (x)"
      ],
      "metadata": {
        "id": "mLrj0k5471jy"
      },
      "execution_count": null,
      "outputs": []
    },
    {
      "cell_type": "code",
      "source": [
        "i = 2\n",
        "while True:\n",
        "    if i%3 == 0:\n",
        "       break\n",
        "    print(i)\n",
        "    i += 2"
      ],
      "metadata": {
        "id": "RZK5spk38diL"
      },
      "execution_count": null,
      "outputs": []
    },
    {
      "cell_type": "code",
      "source": [
        "def a(b):\n",
        "      b = b + [5]\n",
        "      return b\n",
        "\n",
        "c = [1, 2, 3, 4]\n",
        "d=a(c)\n",
        "print(len(d))"
      ],
      "metadata": {
        "id": "YkA7IoJi8oa7"
      },
      "execution_count": null,
      "outputs": []
    },
    {
      "cell_type": "code",
      "source": [
        "string = \"my name is x\"\n",
        "for i in string.split():\n",
        "     print (i, end=\", \")"
      ],
      "metadata": {
        "id": "D8whIkvU9ERf"
      },
      "execution_count": null,
      "outputs": []
    },
    {
      "cell_type": "code",
      "source": [
        "x = 50\n",
        "def func():\n",
        "     global x\n",
        "     print('x is', x)\n",
        "     x = 2\n",
        "     print('Changed global x to', x)\n",
        "func()\n",
        "print('Value of x is', x)"
      ],
      "metadata": {
        "id": "JHgV5zvM9sIV"
      },
      "execution_count": null,
      "outputs": []
    },
    {
      "cell_type": "code",
      "source": [
        "d = {0: 'a', 1: 'b', 2: 'c'}\n",
        "for x in d.values():\n",
        "     print(x)"
      ],
      "metadata": {
        "id": "4Z6oXrsI-tVg"
      },
      "execution_count": null,
      "outputs": []
    },
    {
      "cell_type": "code",
      "source": [
        "x = \"abcdef\"\n",
        "i = \"i\"\n",
        "while i in x:\n",
        "     print(i, end=\" \")"
      ],
      "metadata": {
        "id": "TKqieKCn-2Ea"
      },
      "execution_count": null,
      "outputs": []
    },
    {
      "cell_type": "code",
      "source": [
        "for i in range(10):\n",
        "     if i == 5:\n",
        "       break\n",
        "     else:\n",
        "        print(i)\n",
        "else:\n",
        "  print(\"Here\")"
      ],
      "metadata": {
        "id": "vBTo0uoC_ZrV"
      },
      "execution_count": null,
      "outputs": []
    },
    {
      "cell_type": "code",
      "source": [
        "list(range(5,0,-2))"
      ],
      "metadata": {
        "id": "709EJQ40_aG-"
      },
      "execution_count": null,
      "outputs": []
    },
    {
      "cell_type": "code",
      "source": [
        "strs = input()\n",
        "def test(strs):\n",
        "  return \" \".join(strs for strs in strs.split() if is_prime(len(strs)))\n",
        "def is_prime(n):\n",
        "  return n>1 and all(n%j for j in range(2,int(n**0.5)+1))\n",
        "print(test(strs))"
      ],
      "metadata": {
        "id": "N-LlIlCkAtKL"
      },
      "execution_count": null,
      "outputs": []
    },
    {
      "cell_type": "code",
      "source": [
        "strs = input()\n",
        "def test(strs):\n",
        "  return \" \".join(strs for strs in strs.split() if is_prime(len(strs)))\n",
        "def is_prime(n):\n",
        "  return n>1 and all(n%j for j in range(2,int(n**0.5)+1))\n",
        "print(test(strs))"
      ],
      "metadata": {
        "id": "KtlZrxQfLiEs"
      },
      "execution_count": null,
      "outputs": []
    },
    {
      "cell_type": "code",
      "source": [
        "def missing_number1(lst):\n",
        "  return [x for x in range(lst[0],lst[-1]+1) if x not in lst]"
      ],
      "metadata": {
        "id": "CcndafuNM9O2"
      },
      "execution_count": null,
      "outputs": []
    },
    {
      "cell_type": "code",
      "source": [
        "lst = [1,2,5]"
      ],
      "metadata": {
        "id": "mzwo58SLNa0H"
      },
      "execution_count": null,
      "outputs": []
    },
    {
      "cell_type": "code",
      "source": [
        "print(missing_number1(lst))"
      ],
      "metadata": {
        "id": "XYFZWnplNs2n"
      },
      "execution_count": null,
      "outputs": []
    },
    {
      "cell_type": "code",
      "source": [
        "strng = input()\n",
        "d = {}\n",
        "for char in strng:\n",
        "  char = char.lower()\n",
        "  if char in d:\n",
        "    d[char]+=1\n",
        "  else:\n",
        "    d[char]=1\n",
        "print(d)\n"
      ],
      "metadata": {
        "id": "V0VWbnNINwzG"
      },
      "execution_count": null,
      "outputs": []
    },
    {
      "cell_type": "code",
      "source": [
        "def harmonic_sum(n):\n",
        "  harmonic_sum = 0\n",
        "  for i in range(1, n+1):\n",
        "    harmonic_sum += 1 / i\n",
        "  return harmonic_sum"
      ],
      "metadata": {
        "id": "OZ-hPJCdOnvH"
      },
      "execution_count": null,
      "outputs": []
    },
    {
      "cell_type": "code",
      "source": [
        "print(harmonic_sum(7))"
      ],
      "metadata": {
        "id": "WE4lfI42QQd2"
      },
      "execution_count": null,
      "outputs": []
    },
    {
      "cell_type": "code",
      "source": [
        "n = int(input())\n",
        "harmonic_sum = 0\n",
        "for i in range(1,n+1):\n",
        "  harmonic_sum += 1/i\n",
        "print(f\"{harmonic_sum:.15f}\")"
      ],
      "metadata": {
        "id": "iaMqIq9TQVSE"
      },
      "execution_count": null,
      "outputs": []
    },
    {
      "cell_type": "code",
      "source": [
        "strs = input()\n",
        "def test(strs):\n",
        "  return \" \".join(strs for strs in strs.split() if is_prime(len(strs)))\n",
        "def is_prime(n):\n",
        "  return n>1 and all(n%j for j in range(2,int(n**0.5)+1))\n",
        "print(test(strs))"
      ],
      "metadata": {
        "id": "EtmNLwwmQ0XB"
      },
      "execution_count": null,
      "outputs": []
    },
    {
      "cell_type": "code",
      "source": [
        "s = input()\n",
        "ch = input()\n",
        "starts_with_char = lambda s,ch:s.startswith(ch)\n",
        "result = starts_with_char(s,ch)\n",
        "print(result)"
      ],
      "metadata": {
        "id": "cGCuJAq-R7P9"
      },
      "execution_count": null,
      "outputs": []
    },
    {
      "cell_type": "code",
      "source": [
        "strs = input()\n",
        "def test(strs):\n",
        "  return \" \".join(strs for strs in strs.split() if is_prime(len(strs)))\n",
        "def is_prime(n):\n",
        "  return n>1 and all(n%j for j in range(2,int(n**0.5)+1))\n",
        "print(test(strs))"
      ],
      "metadata": {
        "id": "i3gDjsIQShnX"
      },
      "execution_count": null,
      "outputs": []
    },
    {
      "cell_type": "code",
      "source": [
        "def missing(strng):\n",
        "  return [ x for x in range(strng[0],strng[-1]+1) if x not in strng]"
      ],
      "metadata": {
        "id": "H7k4Iy7OTS0t"
      },
      "execution_count": null,
      "outputs": []
    },
    {
      "cell_type": "code",
      "source": [
        "strng = [0,2,5]"
      ],
      "metadata": {
        "id": "C3-I1BhjT2E6"
      },
      "execution_count": null,
      "outputs": []
    },
    {
      "cell_type": "code",
      "source": [
        "print(missing(strng))"
      ],
      "metadata": {
        "id": "ryqBdfM6T6ul"
      },
      "execution_count": null,
      "outputs": []
    },
    {
      "cell_type": "code",
      "source": [
        "def is_palindrome(s):\n",
        "    return s == s[::-1]\n",
        "\n",
        "def closest_palindrome(string):\n",
        "    if is_palindrome(string):\n",
        "        return string\n",
        "\n",
        "    n = len(string)\n",
        "    mid = n // 2\n",
        "\n",
        "    left = string[:mid]\n",
        "    right = left[::-1]\n",
        "\n",
        "    if n % 2 == 0:\n",
        "        closest = left + right\n",
        "        if closest > string:\n",
        "            return closest\n",
        "        else:\n",
        "            left_rev = left[::-1]\n",
        "            closest = left + left_rev\n",
        "            return closest\n",
        "    else:\n",
        "        center = string[mid]\n",
        "        closest = left + center + right\n",
        "        if closest > string:\n",
        "            return closest\n",
        "        else:\n",
        "            left_rev = left[::-1]\n",
        "            closest = left + center + left_rev\n",
        "            return closest\n",
        "\n",
        "# Example\n",
        "n = input(\"Enter a string: \")\n",
        "closest = closest_palindrome(n)\n",
        "print(\"Closest palindrome:\", closest)"
      ],
      "metadata": {
        "id": "GrKt8u34T-DW"
      },
      "execution_count": null,
      "outputs": []
    },
    {
      "cell_type": "code",
      "source": [
        "def is_palindrome(s):\n",
        "  return s == s[::-1]\n",
        "\n",
        "def closest_palindrome(string):\n",
        "  if is_palindrome(string):\n",
        "    return string\n",
        "\n",
        "  n = len(string)\n",
        "  mid = n // 2\n",
        "\n",
        "  left = string[:mid]\n",
        "  right = left[::-1]\n",
        "\n",
        "  if n % 2 == 0:\n",
        "    closest = left + right\n",
        "    if closest > string:\n",
        "      return closest\n",
        "    else:\n",
        "      left_rev = left[::-1]\n",
        "      closest = left_rev + left\n",
        "      return closest\n",
        "  else:\n",
        "    center = string[mid]\n",
        "    closest= left + center + right\n",
        "    if closest > string:\n",
        "      return closest\n",
        "    else:\n",
        "      left_rev = left[::-1]\n",
        "      closest = left_rev + center + left\n",
        "      return closest\n",
        "\n",
        "# example\n",
        "n = input()\n",
        "closest = closest_palindrome(n)\n",
        "print(closest)"
      ],
      "metadata": {
        "id": "wlSxdwDFiY4l"
      },
      "execution_count": null,
      "outputs": []
    },
    {
      "cell_type": "code",
      "source": [
        "def generate_spaced_string(char_counts):\n",
        "    spaced_string = \"\".join([char for char, count in char_counts.items() for _ in range(count)])\n",
        "    return spaced_string\n",
        "\n",
        "# Example\n",
        "n = eval(input())\n",
        "result = generate_spaced_string(n)\n",
        "print(result)"
      ],
      "metadata": {
        "id": "SeaTUQPIk48b"
      },
      "execution_count": null,
      "outputs": []
    },
    {
      "cell_type": "code",
      "source": [
        "def generate_space_string(char_counts):\n",
        "  concatenated_string = \" \".join([char for char, count in char_counts.items() for _ in range(count)])\n",
        "  return concatenated_string\n",
        "\n",
        "n = eval(input())\n",
        "result = generate_space_string(n)\n",
        "print(result)"
      ],
      "metadata": {
        "id": "WgoyHlkLmupr"
      },
      "execution_count": null,
      "outputs": []
    },
    {
      "cell_type": "code",
      "source": [
        "def closest_pair_indices(numbers):\n",
        "    min_distance = float('inf')\n",
        "    result = []\n",
        "\n",
        "    for i in range(len(numbers) - 1):\n",
        "        for j in range(i + 1, len(numbers)):\n",
        "            distance = abs(numbers[i] - numbers[j])\n",
        "\n",
        "            if distance < min_distance:\n",
        "                min_distance = distance\n",
        "                result = [i, j]\n",
        "\n",
        "    return result\n",
        "\n",
        "# Example\n",
        "input_numbers = [1, 7, 9, 2, 10]\n",
        "output_indices = closest_pair_indices(input_numbers)\n",
        "print(output_indices)"
      ],
      "metadata": {
        "id": "3aUf5eLKoWiE"
      },
      "execution_count": null,
      "outputs": []
    },
    {
      "cell_type": "code",
      "source": [
        "def strange_sort(numbers):\n",
        "    sorted_list = []\n",
        "    numbers.sort()\n",
        "\n",
        "    while numbers:\n",
        "        sorted_list.append(numbers.pop(0))\n",
        "\n",
        "        if numbers:\n",
        "            sorted_list.append(numbers.pop(-1))\n",
        "\n",
        "    return sorted_list\n",
        "\n",
        "# Example\n",
        "input_list = eval(input())\n",
        "output_list = strange_sort(input_list)\n",
        "print(output_list)"
      ],
      "metadata": {
        "id": "5BArdiz9qjkz"
      },
      "execution_count": null,
      "outputs": []
    },
    {
      "cell_type": "code",
      "source": [
        "def strang_sort(numbers):\n",
        "  sorted_list = []\n",
        "  numbers.sort()\n",
        "\n",
        "  while numbers:\n",
        "    sorted_list.append(numbers.pop(0))\n",
        "\n",
        "    if numbers:\n",
        "      sorted_list.append(numbers.pop(-1))\n",
        "\n",
        "  return sorted_list\n"
      ],
      "metadata": {
        "id": "Kmh3gtXuxbTf"
      },
      "execution_count": null,
      "outputs": []
    },
    {
      "cell_type": "code",
      "source": [
        "lst = [1, 3, 4, 5, 11]"
      ],
      "metadata": {
        "id": "TLk8xhEex3Cg"
      },
      "execution_count": null,
      "outputs": []
    },
    {
      "cell_type": "code",
      "source": [
        "print(strang_sort(lst))"
      ],
      "metadata": {
        "id": "7SR5VU5_yf4u"
      },
      "execution_count": null,
      "outputs": []
    },
    {
      "cell_type": "code",
      "source": [
        "def compute_depth(s):\n",
        "    depth = 0\n",
        "    result = []\n",
        "\n",
        "    for char in s:\n",
        "        if char == '(':\n",
        "            depth += 1\n",
        "            result.append(depth)\n",
        "        elif char == ')':\n",
        "            result.append(depth)\n",
        "            depth -= 1\n",
        "\n",
        "    return result\n",
        "\n",
        "# Example\n",
        "input_string = input()\n",
        "output_depth = compute_depth(input_string)\n",
        "print(output_depth)\n"
      ],
      "metadata": {
        "id": "L4Q3bX1jyjjy"
      },
      "execution_count": null,
      "outputs": []
    },
    {
      "cell_type": "code",
      "source": [
        "def compute_depth(s):\n",
        "    depth = 0\n",
        "    result = []\n",
        "\n",
        "    for char in s:\n",
        "        if char == '(':\n",
        "            depth += 1\n",
        "            result.append(depth)\n",
        "        elif char == ')':\n",
        "            result.append(depth)\n",
        "            depth -= 1\n",
        "\n",
        "    return result\n",
        "\n",
        "# Example\n",
        "input_string = input()\n",
        "output_depth = compute_depth(input_string)\n",
        "print(output_depth)\n"
      ],
      "metadata": {
        "id": "6ZE-PceC00AE"
      },
      "execution_count": null,
      "outputs": []
    },
    {
      "cell_type": "code",
      "source": [
        "fname = input()\n",
        "lname = input()\n",
        "\n",
        "greetings = \"Hello {} {}\".format(lname,fname)\n",
        "print(greetings)"
      ],
      "metadata": {
        "id": "arQ6cK6S1dH7"
      },
      "execution_count": null,
      "outputs": []
    },
    {
      "cell_type": "code",
      "source": [
        "fnmae = input()\n",
        "lname = input()\n",
        "\n",
        "greetings = \"Hello {} {}\".format(lname, fname)\n",
        "print(greetings)"
      ],
      "metadata": {
        "id": "uQSTaSXA408J"
      },
      "execution_count": null,
      "outputs": []
    },
    {
      "cell_type": "code",
      "source": [
        "x = int(input())\n",
        "y = int(input())\n",
        "c = (x+y)**2\n",
        "print(c)"
      ],
      "metadata": {
        "id": "GyrQWA6v5I89"
      },
      "execution_count": null,
      "outputs": []
    },
    {
      "cell_type": "code",
      "source": [
        "def sum(x,y):\n",
        "  sum = x+y\n",
        "  if sum in range(15,20):\n",
        "    return 20\n",
        "  else:\n",
        "    return sum\n",
        "\n",
        "x = int(input())\n",
        "y = int(input())\n",
        "print(sum(x,y))"
      ],
      "metadata": {
        "id": "bmhRHW0x62cq"
      },
      "execution_count": null,
      "outputs": []
    },
    {
      "cell_type": "code",
      "source": [
        "height = float(input())\n",
        "weight = float(input())\n",
        "BMI = round((weight)/(height*height),2)\n",
        "print(BMI)"
      ],
      "metadata": {
        "id": "VecVYlxU7WwZ"
      },
      "execution_count": null,
      "outputs": []
    },
    {
      "cell_type": "code",
      "source": [
        "def check_num(n):\n",
        "  if n == 0:\n",
        "    return \"It is Zero\"\n",
        "  elif n > 0:\n",
        "    return \"It is Positive Number\"\n",
        "  else:\n",
        "    return \"It is Negative Number\"\n",
        "\n",
        "n = float(input())\n",
        "print(check_num(n))"
      ],
      "metadata": {
        "id": "-pfD7w0U8d1v"
      },
      "execution_count": null,
      "outputs": []
    },
    {
      "cell_type": "code",
      "source": [
        "def missing_number(lst):\n",
        "  return [x for x in range(lst[0],lst[-1]+1) if x not in lst]\n",
        "\n",
        "n = [0,3,8]\n",
        "print(missing_number(n))"
      ],
      "metadata": {
        "id": "kZLg13OX9r9h"
      },
      "execution_count": null,
      "outputs": []
    },
    {
      "cell_type": "code",
      "source": [
        "x = int(input())\n",
        "y = int(input())\n",
        "if x >= 10**80 or y >= 10**80 or x+y >= 10**80:\n",
        "  print(\"Overflow!\")\n",
        "else:\n",
        "  print(x+y)"
      ],
      "metadata": {
        "id": "47GLA5GT-_DR"
      },
      "execution_count": null,
      "outputs": []
    },
    {
      "cell_type": "code",
      "source": [
        "lst = eval(input())\n",
        "result = sum(lst)\n",
        "print(result)"
      ],
      "metadata": {
        "id": "e0CrfDN1h7DY"
      },
      "execution_count": null,
      "outputs": []
    },
    {
      "cell_type": "code",
      "source": [
        "def sum_itr(lst):\n",
        "    sum = 0\n",
        "    for i in lst:\n",
        "        sum += i\n",
        "    return sum\n",
        "\n",
        "lst = [1, -2, 8]\n",
        "print(sum_itr(lst))"
      ],
      "metadata": {
        "id": "Vk3YHPaKiuh9"
      },
      "execution_count": null,
      "outputs": []
    },
    {
      "cell_type": "code",
      "source": [
        "def sum_list(lst):\n",
        "  sum = 0\n",
        "  for i in lst:\n",
        "    sum+=i\n",
        "  return sum\n",
        "\n",
        "lst = [1,3,6,-6]\n",
        "print(sum_list(lst))"
      ],
      "metadata": {
        "id": "_Fmb06s9j55w"
      },
      "execution_count": null,
      "outputs": []
    },
    {
      "cell_type": "code",
      "source": [
        "def multiply_list(lst):\n",
        "  a = 1\n",
        "  for i in lst:\n",
        "    a *=i\n",
        "  return a\n",
        "\n",
        "list = [8,2,1]\n",
        "print(multiply_list(list))"
      ],
      "metadata": {
        "id": "625feGHJ5r38"
      },
      "execution_count": null,
      "outputs": []
    },
    {
      "cell_type": "code",
      "source": [
        "def check_num(n):\n",
        "  if n >0:\n",
        "    print(\"The number is positive\")\n",
        "  elif n ==0:\n",
        "    print(\"The number is zero\")\n",
        "  else:\n",
        "    print(\"The number is Negative\")\n",
        "\n",
        "n = float(input())\n",
        "check_num(n)"
      ],
      "metadata": {
        "id": "d-MFdXbW6Vbm"
      },
      "execution_count": null,
      "outputs": []
    },
    {
      "cell_type": "code",
      "source": [
        "import string\n",
        "\n",
        "def ispangram(str1, alphabet=string.ascii_lowercase):\n",
        "    alphaset = set(alphabet)\n",
        "    return alphaset <= set(str1.lower())\n",
        "\n",
        "strn = input()\n",
        "result = ispangram(strn)\n",
        "print(result)"
      ],
      "metadata": {
        "id": "5LFSOy5s7DPQ"
      },
      "execution_count": null,
      "outputs": []
    },
    {
      "cell_type": "code",
      "source": [
        "def generate_pascals_triangle(n):\n",
        "    result = []\n",
        "    for i in range(n):\n",
        "        row = [1] * (i + 1)\n",
        "        for j in range(1, i):\n",
        "            row[j] = result[i - 1][j - 1] + result[i - 1][j]\n",
        "        result.append(row)\n",
        "\n",
        "    for row in result:\n",
        "      print(row)\n",
        "\n",
        "# Example usage:\n",
        "n = int(input(\"Enter the number of rows for Pascal's triangle: \"))\n",
        "generate_pascals_triangle(n)\n"
      ],
      "metadata": {
        "id": "pv_v_49LF9uz"
      },
      "execution_count": null,
      "outputs": []
    },
    {
      "cell_type": "code",
      "source": [
        "import string\n",
        "\n",
        "def ispangram(str1, alphabet=string.ascii_lowercase):\n",
        "    alphaset = set(alphabet)\n",
        "    return alphaset <= set(str1.lower())\n",
        "\n",
        "strn = input()\n",
        "result = ispangram(strn)\n",
        "print(result)"
      ],
      "metadata": {
        "id": "es5PfyYcG2B5"
      },
      "execution_count": null,
      "outputs": []
    },
    {
      "cell_type": "code",
      "source": [
        "def is_palindrome(s):\n",
        "  return s == s[::-1]\n",
        "\n",
        "def closest_palindrome(string):\n",
        "  if is_palindrome(string):\n",
        "    return string\n",
        "\n",
        "  n = len(string)\n",
        "  mid = n // 2\n",
        "\n",
        "  left = string[:mid]\n",
        "  right = left[::-1]\n",
        "\n",
        "  if n % 2 == 0:\n",
        "    closest = left + right\n",
        "    if closest > string:\n",
        "      return closest\n",
        "    else:\n",
        "      left_rev = left[::-1]\n",
        "      closest = left + left_rev\n",
        "      return closest\n",
        "  else:\n",
        "    center = string[mid]\n",
        "    closest= left + center + right\n",
        "    if closest > string:\n",
        "      return closest\n",
        "    else:\n",
        "      left_rev = left[::-1]\n",
        "      closest = left_rev + center + left\n",
        "      return closest\n",
        "\n",
        "# example\n",
        "n = input()\n",
        "closest = closest_palindrome(n)\n",
        "print(closest)"
      ],
      "metadata": {
        "id": "XWcjVnj4tn55"
      },
      "execution_count": null,
      "outputs": []
    },
    {
      "cell_type": "code",
      "source": [
        "def is_palindrome(s):\n",
        "  return s == s[::-1]\n",
        "\n",
        "def closest_palindrome(string):\n",
        "  if is_palindrome(string):\n",
        "    return string\n",
        "\n",
        "  n = len(string)\n",
        "  mid = n // 2\n",
        "\n",
        "  left = string[:mid]\n",
        "  right = left[::-1]\n",
        "\n",
        "  if n % 2 ==0:\n",
        "    closest = left + right\n",
        "    if closest > string:\n",
        "      return closest\n",
        "    else:\n",
        "      left_rev = left[::-1]\n",
        "      closest = left + left_rev\n",
        "      return closest\n",
        "  else:\n",
        "    center = string[mid]\n",
        "    closest = left + center + right\n",
        "    if closest > string:\n",
        "      return closest\n",
        "    else:\n",
        "      left_rev = left[::-1]\n",
        "      closest = left_rev + center + left\n",
        "      return closest\n",
        "\n",
        "n = input()\n",
        "print(closest_palindrome(n))\n"
      ],
      "metadata": {
        "id": "VTaHgpCcyjN7"
      },
      "execution_count": null,
      "outputs": []
    },
    {
      "cell_type": "code",
      "source": [
        "def miss(lst):\n",
        "  return [x for x in range(lst[0], lst[-1]+1) if x not in lst]\n",
        "\n",
        "lst = eval(input())\n",
        "print(miss(lst))"
      ],
      "metadata": {
        "id": "Pdq4sL3l3vb6"
      },
      "execution_count": null,
      "outputs": []
    },
    {
      "cell_type": "code",
      "source": [
        "def odd_values_str(string):\n",
        "  result = ''\n",
        "  for i in range(len(string)):\n",
        "    if i % 2 ==0:\n",
        "      result = result + string[i]\n",
        "  return result\n",
        "\n",
        "string = input()\n",
        "print(odd_values_str(string))"
      ],
      "metadata": {
        "id": "VX4O3wDC4CMD"
      },
      "execution_count": null,
      "outputs": []
    },
    {
      "cell_type": "code",
      "source": [
        "def remove_odd_char(str1):\n",
        "  result = ''\n",
        "  for i in range(len(str1)):\n",
        "    if i % 2 ==0:\n",
        "      result = result + str1[i]\n",
        "  return result\n",
        "\n",
        "str1 = input()\n",
        "print(remove_odd_char(str1))"
      ],
      "metadata": {
        "id": "rTmuPZFm5sM2"
      },
      "execution_count": null,
      "outputs": []
    },
    {
      "cell_type": "code",
      "source": [
        "def uppercase(str1):\n",
        "  result = ''\n",
        "  for i in str1:\n",
        "    result = str1.upper()\n",
        "  return result\n",
        "\n",
        "str1 = input()\n",
        "print(uppercase(str1))"
      ],
      "metadata": {
        "id": "xBnVL6Ok7EdY"
      },
      "execution_count": null,
      "outputs": []
    },
    {
      "cell_type": "code",
      "source": [
        "def lowercase(str1):\n",
        "  result = ''\n",
        "  for char in str1:\n",
        "    result = str1.lower()\n",
        "  return result\n",
        "\n",
        "str1 = input()\n",
        "print(lowercase(str1))"
      ],
      "metadata": {
        "id": "s2WFjnay7-6l"
      },
      "execution_count": null,
      "outputs": []
    },
    {
      "cell_type": "code",
      "source": [
        "def addition(lst):\n",
        "  sum = 0\n",
        "  for i in lst:\n",
        "    sum += i\n",
        "  return sum\n",
        "\n",
        "lst = eval(input())\n",
        "print(addition(lst))"
      ],
      "metadata": {
        "id": "kvHWUCNj8j-B"
      },
      "execution_count": null,
      "outputs": []
    },
    {
      "cell_type": "code",
      "source": [
        "def multiply(lst):\n",
        "  multiplication = 1\n",
        "  for i in lst:\n",
        "    multiplication *= i\n",
        "  return multiplication\n",
        "\n",
        "lst = eval(input())\n",
        "print(multiply(lst))"
      ],
      "metadata": {
        "id": "DPEfxOIQ9e4O"
      },
      "execution_count": null,
      "outputs": []
    },
    {
      "cell_type": "code",
      "source": [
        "def reverse_string(str1):\n",
        "  result = ''\n",
        "  for char in str1:\n",
        "    result = str1[::-1]\n",
        "  return result\n",
        "\n",
        "str1 = input()\n",
        "print(reverse_string(str1))"
      ],
      "metadata": {
        "id": "Yjp3bOWX940d"
      },
      "execution_count": null,
      "outputs": []
    },
    {
      "cell_type": "code",
      "source": [
        "def number_char(str1):\n",
        "  d = {}\n",
        "  for char in str1:\n",
        "    char = char.lower()\n",
        "    if char in d:\n",
        "      d[char] += 1\n",
        "    else:\n",
        "      d[char] = 1\n",
        "  return d\n",
        "\n",
        "str1 = input()\n",
        "print(number_char(str1))\n"
      ],
      "metadata": {
        "id": "T9p-nubl-mm3"
      },
      "execution_count": null,
      "outputs": []
    },
    {
      "cell_type": "code",
      "source": [
        "def factorial(n):\n",
        "  if n ==0:\n",
        "    return 1\n",
        "  else:\n",
        "    return n*factorial(n-1)\n",
        "\n",
        "n = float(input())\n",
        "print(factorial(n))"
      ],
      "metadata": {
        "id": "9i89Vhb8THtZ"
      },
      "execution_count": null,
      "outputs": []
    },
    {
      "cell_type": "code",
      "source": [
        "def facto(n):\n",
        "  if n == 0:\n",
        "    return 1\n",
        "  else:\n",
        "    return n*factorial(n-1)\n",
        "\n",
        "n = float(input())\n",
        "print(facto(n))"
      ],
      "metadata": {
        "id": "ZrqAED8qVuel"
      },
      "execution_count": null,
      "outputs": []
    },
    {
      "cell_type": "code",
      "source": [
        "def reverse_str(str1):\n",
        "  result = ''\n",
        "  for char in str1:\n",
        "    result = str1[::-1]\n",
        "  return result\n",
        "\n",
        "str1 = input()\n",
        "print(reverse_str(str1))"
      ],
      "metadata": {
        "id": "YcmOjTy4X7X1"
      },
      "execution_count": null,
      "outputs": []
    },
    {
      "cell_type": "code",
      "source": [
        "def multiply(n):\n",
        "  a = 1\n",
        "  for i in n:\n",
        "    a *=i\n",
        "  return a\n",
        "\n",
        "n = eval(input())\n",
        "print(multiply(n))"
      ],
      "metadata": {
        "id": "NgA-lGqoYj8l"
      },
      "execution_count": null,
      "outputs": []
    },
    {
      "cell_type": "code",
      "source": [
        "def max_two(x,y):\n",
        "  if x>y:\n",
        "    return x\n",
        "  return y\n",
        "\n",
        "def max_three(x,y,z):\n",
        "  return max_two(x,max_two(y,z))\n",
        "\n",
        "x = float(input())\n",
        "y = float(input())\n",
        "z= float(input())\n",
        "print(max_three(x,y,z))"
      ],
      "metadata": {
        "id": "eIS8NP8rZE-1"
      },
      "execution_count": null,
      "outputs": []
    },
    {
      "cell_type": "code",
      "source": [
        "def get_days_in_month(month_name):\n",
        "    days_in_month = {\n",
        "        \"February\": \"28/29 days\",\n",
        "        \"April\": \"30 days\",\n",
        "        \"June\": \"30 days\",\n",
        "        \"September\": \"30 days\",\n",
        "        \"November\": \"30 days\",\n",
        "        \"January\": \"31 days\",\n",
        "        \"March\": \"31 days\",\n",
        "        \"May\": \"31 days\",\n",
        "        \"July\": \"31 days\",\n",
        "        \"August\": \"31 days\",\n",
        "        \"October\": \"31 days\",\n",
        "        \"December\": \"31 days\",\n",
        "    }\n",
        "\n",
        "    return days_in_month.get(month_name, \"Wrong month name\")\n",
        "\n",
        "# Example usage:\n",
        "month_name = input(\"Enter the month name: \")\n",
        "result = get_days_in_month(month_name)\n",
        "print(f\"No. of days: {result}\")"
      ],
      "metadata": {
        "id": "H3-aAZV6atH6"
      },
      "execution_count": null,
      "outputs": []
    },
    {
      "cell_type": "code",
      "source": [
        "def get_days_in_month(month_name):\n",
        "  days_in_month = {\n",
        "      \"February\":\"28/29 days\",\n",
        "      \"April\": \"30 days\",\n",
        "      \"June\":\"30 days\",\n",
        "      \"September\":\"30 days\",\n",
        "      \"November\":\"30 days\",\n",
        "      \"January\": \"31 days\",\n",
        "      \"March\": \"31 days\",\n",
        "      \"May\": \"31 days\",\n",
        "      \"July\": \"31 days\",\n",
        "      \"August\": \"31 days\",\n",
        "      \"October\": \"31 days\",\n",
        "      \"December\": \"31 days\"\n",
        "  }\n",
        "  return days_in_month.get(month_name,\"Wrong Month Name\")\n",
        "\n",
        "Month_name = input()\n",
        "print(get_days_in_month(Month_name))\n"
      ],
      "metadata": {
        "id": "_hCMWNVB7x1B"
      },
      "execution_count": null,
      "outputs": []
    },
    {
      "cell_type": "code",
      "source": [
        "nums = eval(input())\n",
        "new_nums = list(filter(lambda x:x >0, nums))\n",
        "print(new_nums)"
      ],
      "metadata": {
        "id": "IlVbEK6E-yt8"
      },
      "execution_count": null,
      "outputs": []
    },
    {
      "cell_type": "code",
      "source": [
        "def filter_positives(lst):\n",
        "  return list(filter(lambda x: x > 0, lst))\n",
        "\n",
        "lst = eval(input())\n",
        "print(filter_positives(lst))"
      ],
      "metadata": {
        "id": "mKh_gZmSDKW5"
      },
      "execution_count": null,
      "outputs": []
    },
    {
      "cell_type": "code",
      "source": [
        "from math import pi\n"
      ],
      "metadata": {
        "id": "On6SPbB_Ik02"
      },
      "execution_count": null,
      "outputs": []
    },
    {
      "cell_type": "code",
      "source": [
        "def area_circle(r):\n",
        "  area  = pi * r **2\n",
        "  return area\n",
        "\n",
        "radius = float(input())\n",
        "print(area_circle(radius))"
      ],
      "metadata": {
        "id": "Qs3Qbq7sJHCc"
      },
      "execution_count": null,
      "outputs": []
    },
    {
      "cell_type": "code",
      "source": [
        "def check_even_odd(n):\n",
        "  if n % 2 == 0:\n",
        "    return \"The number is even\"\n",
        "  return \"The number is odd\"\n",
        "\n",
        "n = float(input())\n",
        "print(check_even_odd(n))"
      ],
      "metadata": {
        "id": "kE4_6zOxJvhR"
      },
      "execution_count": null,
      "outputs": []
    },
    {
      "cell_type": "code",
      "source": [
        "def area_triangle(base,height):\n",
        "  b = base\n",
        "  h = height\n",
        "  area = 0.5*b*h\n",
        "  return area\n",
        "\n",
        "b = float(input())\n",
        "h = float(input())\n",
        "print(area_triangle(b,h))"
      ],
      "metadata": {
        "id": "5MEcPvU1K9G6"
      },
      "execution_count": null,
      "outputs": []
    },
    {
      "cell_type": "code",
      "source": [
        "def test(x,y):\n",
        "  if x==y or abs(x-y)==5 or (x+y)==5:\n",
        "    return True\n",
        "  return False\n",
        "\n",
        "n1 = float(input())\n",
        "n2 = float(input())\n",
        "print(test(n1,n2))"
      ],
      "metadata": {
        "id": "H2ToeAJyMJGl"
      },
      "execution_count": null,
      "outputs": []
    },
    {
      "cell_type": "code",
      "source": [
        "def height_cm(h_inch):\n",
        "  h_inch += h_ft*12\n",
        "  h_cm = round(h_inch*2.54,1)\n",
        "  return h_cm\n",
        "\n",
        "h_ft = float(input())\n",
        "h_inch = float(input())\n",
        "print(height_cm(h_inch))"
      ],
      "metadata": {
        "id": "OaAiK4W5M1qW"
      },
      "execution_count": null,
      "outputs": []
    },
    {
      "cell_type": "code",
      "source": [
        "def convert_height_cm(h_inch):\n",
        "  h_inch += h_ft*12\n",
        "  h_cm = round(h_inch*2.54,1)\n",
        "  return h_cm\n",
        "\n",
        "h_ft = float(input())\n",
        "h_inch = float(input())\n",
        "print(convert_height_cm(h_inch))"
      ],
      "metadata": {
        "id": "hIsQ_wBzO9hw"
      },
      "execution_count": null,
      "outputs": []
    },
    {
      "cell_type": "code",
      "source": [
        "from math import sqrt\n",
        "\n",
        "def hypot(a,b):\n",
        "  c = sqrt(a**2+b**2)\n",
        "  return c\n",
        "\n",
        "a = float(input())\n",
        "b = float(input())\n",
        "print(hypot(a,b))"
      ],
      "metadata": {
        "id": "wjfQ2M_TQ_5g"
      },
      "execution_count": null,
      "outputs": []
    },
    {
      "cell_type": "code",
      "source": [
        "from datetime import datetime\n",
        "\n",
        "dob = input(\"Enter your date of birth (YYYY-MM-DD): \")\n",
        "age = (datetime.now() - datetime.strptime(dob, '%Y-%m-%d')).days // 365\n",
        "print(\"Your age is:\", age, \"years\")"
      ],
      "metadata": {
        "id": "TeoHNbaBRzPJ"
      },
      "execution_count": null,
      "outputs": []
    },
    {
      "cell_type": "code",
      "source": [
        "def near_thousands(n):\n",
        "  return ((abs(1000-n)<=100) or (abs(2000-n)<=100))\n",
        "\n",
        "n = int(input())\n",
        "print(near_thousands(n))"
      ],
      "metadata": {
        "id": "IcJWI-vHSoNa"
      },
      "execution_count": null,
      "outputs": []
    },
    {
      "cell_type": "code",
      "source": [
        "def lcm(x,y):\n",
        "  if x>y:\n",
        "    z = x\n",
        "  else:\n",
        "    z = y\n",
        "  while(True):\n",
        "    if ((z%x==0) and (z%y==0)):\n",
        "      lcm = z\n",
        "      break\n",
        "    z+=1\n",
        "  return lcm\n",
        "\n",
        "n1 = int(input())\n",
        "n2 = int(input())\n",
        "print(\"LCM of given Numbers is:\", lcm(n1,n2))\n"
      ],
      "metadata": {
        "id": "_B909734p4YK"
      },
      "execution_count": null,
      "outputs": []
    },
    {
      "cell_type": "code",
      "source": [
        "def lcm(x,y):\n",
        "  if x>y:\n",
        "    z = x\n",
        "  else:\n",
        "    z = y\n",
        "  while(True):\n",
        "    if ((z%x==0) and (z%y==0)):\n",
        "      lcm = z\n",
        "      break\n",
        "    z+=1\n",
        "  return lcm\n",
        "\n",
        "n1 = int(input())\n",
        "n2 = int(input())\n",
        "print(\"The LCM of Given numbers is:\", lcm(n1,n2))"
      ],
      "metadata": {
        "id": "1rqgXU-WrwtY"
      },
      "execution_count": null,
      "outputs": []
    },
    {
      "cell_type": "code",
      "source": [
        "print(lcm(2,4))"
      ],
      "metadata": {
        "id": "IbblwvCXsyig"
      },
      "execution_count": null,
      "outputs": []
    },
    {
      "cell_type": "code",
      "source": [
        "print(lcm(12,16))"
      ],
      "metadata": {
        "id": "mPJYxg-vs360"
      },
      "execution_count": null,
      "outputs": []
    },
    {
      "cell_type": "code",
      "source": [
        "def lcm(x,y):\n",
        "  if x>y:\n",
        "    z=x\n",
        "  else:\n",
        "    z=y\n",
        "  while(True):\n",
        "    if ((z%x==0) and (z%y==0)):\n",
        "      lcm = z\n",
        "      break\n",
        "    z+=1\n",
        "  return lcm\n",
        "\n",
        "n1 = int(input())\n",
        "n2 = int(input())\n",
        "print(\"The LCM of given numbers is:\", lcm(n1,n2))"
      ],
      "metadata": {
        "id": "a-X_eo78s8At"
      },
      "execution_count": null,
      "outputs": []
    },
    {
      "cell_type": "code",
      "source": [
        "def height_cm(h_inch):\n",
        "  h_inch += h_ft*12\n",
        "  h_cm = round(h_inch*2.54,1)\n",
        "  return h_cm\n",
        "\n",
        "h_ft = float(input())\n",
        "h_inch = float(input())\n",
        "print(height_cm(h_inch))"
      ],
      "metadata": {
        "id": "zY3LDBJutebd"
      },
      "execution_count": null,
      "outputs": []
    },
    {
      "cell_type": "code",
      "source": [
        "def lcm(x,y):\n",
        "  if x>y:\n",
        "    z=x\n",
        "  else:\n",
        "    z=y\n",
        "  while(True):\n",
        "    if ((z%x==0) and (z%y==0)):\n",
        "      lcm = z\n",
        "      break\n",
        "    z+=1\n",
        "  return lcm\n",
        "\n",
        "n1 = int(input())\n",
        "n2 = int(input())\n",
        "print(\"The LCM of given numbers is:\", lcm(n1,n2))"
      ],
      "metadata": {
        "id": "Z1ghYuzDuReP"
      },
      "execution_count": null,
      "outputs": []
    },
    {
      "cell_type": "code",
      "source": [
        "def factorial(n):\n",
        "  if n == 0:\n",
        "    return 1\n",
        "  return n*factorial(n-1)\n",
        "\n",
        "n = int(input())\n",
        "print(f\"Factorial of {n} is:\", factorial(n))"
      ],
      "metadata": {
        "id": "-JEi0qKzu_4p"
      },
      "execution_count": null,
      "outputs": []
    },
    {
      "cell_type": "code",
      "source": [
        "def hcf(x,y):\n",
        "  hcf = 1\n",
        "  if x%y ==0:\n",
        "    return y\n",
        "  for k in range(int(y/2),0,-1):\n",
        "    if x%k==0 and y%k==0:\n",
        "      hcf = k\n",
        "      break\n",
        "  return hcf\n",
        "\n",
        "n1 = int(input())\n",
        "n2 = int(input())\n",
        "print(f\"The HCF of given Numbbers is:\", hcf(n1,n2))"
      ],
      "metadata": {
        "id": "tkxKyR73wugQ"
      },
      "execution_count": null,
      "outputs": []
    },
    {
      "cell_type": "code",
      "source": [
        "def hcf(x,y):\n",
        "  hcf  = 1\n",
        "  if x%y ==0:\n",
        "    return y\n",
        "  for k in range(int(y/2), 0 ,-1):\n",
        "    if x%k ==0 and y%k ==0:\n",
        "      hcf = k\n",
        "      break\n",
        "  return hcf\n",
        ""
      ],
      "metadata": {
        "id": "T_YQSQ4lyrOq"
      },
      "execution_count": null,
      "outputs": []
    },
    {
      "cell_type": "code",
      "source": [
        "def lcm(x,y):\n",
        "  if x>y:\n",
        "    z= x\n",
        "  else:\n",
        "    z = y\n",
        "  while(True):\n",
        "    if (z%x ==0) and (z%y==0):\n",
        "      lcm = z\n",
        "      break\n",
        "    z+=1\n",
        "  return lcm\n",
        "\n",
        "n1 = int(input())\n",
        "n2 = int(input())\n",
        "print(\"The LCM of given numbers is:\", lcm(n1,n2))"
      ],
      "metadata": {
        "id": "kNNaXiCa5v-a"
      },
      "execution_count": null,
      "outputs": []
    },
    {
      "cell_type": "code",
      "source": [
        "def hcf(x,y):\n",
        "  hcf = 1\n",
        "  if x%y==0:\n",
        "    return y\n",
        "  for k in range(int(y/2), 0 ,-1):\n",
        "    if (x%k==0) and (y%k==0):\n",
        "      hcf = k\n",
        "      break\n",
        "  return hcf\n",
        "\n",
        "n1 = int(input())\n",
        "n2 = int(input())\n",
        "print(\"The HCF of given numbers is:\", hcf(n1,n2))"
      ],
      "metadata": {
        "id": "6Z-H0_UK6d3i"
      },
      "execution_count": null,
      "outputs": []
    },
    {
      "cell_type": "code",
      "source": [
        "def lcm(x,y):\n",
        "  if x>y:\n",
        "    z = x\n",
        "  else:\n",
        "    z = y\n",
        "  while(True):\n",
        "    if (z%x==0) and (z%y==0):\n",
        "      lcm = z\n",
        "      break\n",
        "    z+=1\n",
        "  return lcm\n",
        "\n",
        "n1 = int(input())\n",
        "n2 = int(input())\n",
        "print(\"The LCM of given numbers is:\", lcm(n1,n2))"
      ],
      "metadata": {
        "id": "bksGkDFp7VN4"
      },
      "execution_count": null,
      "outputs": []
    },
    {
      "cell_type": "code",
      "source": [
        "def hcf(x,y):\n",
        "  hcf = 1\n",
        "  if x%y==0:\n",
        "    return y\n",
        "  for k in range(int(y/2), 0, -1):\n",
        "    if (x%k==0) and (y%k==0):\n",
        "      hcf = k\n",
        "      break\n",
        "  return hcf\n",
        "\n",
        "n1 = int(input())\n",
        "n2 = int(input())\n",
        "print(\"The HCF of given numbers is:\", hcf(n1,n2))"
      ],
      "metadata": {
        "id": "V9nsslV4YLVH"
      },
      "execution_count": null,
      "outputs": []
    },
    {
      "cell_type": "code",
      "source": [
        "def lcm(x,y):\n",
        "  if x>y:\n",
        "    z = x\n",
        "  else:\n",
        "    z = y\n",
        "  while(True):\n",
        "    if (z%x==0) and (z%y==0):\n",
        "      lcm = z\n",
        "      break\n",
        "    z+=1\n",
        "  return lcm\n",
        "\n",
        "x = int(input())\n",
        "y = int(input())\n",
        "print(lcm(x,y))"
      ],
      "metadata": {
        "id": "rD7sRjbzZKjO"
      },
      "execution_count": null,
      "outputs": []
    },
    {
      "cell_type": "code",
      "source": [
        "def missing_numbers(lst):\n",
        "  return [x for x in range(lst[0], lst[-1]+1) if x not in lst]\n",
        "\n",
        "lst = eval(input())\n",
        "print(missing_numbers(lst))"
      ],
      "metadata": {
        "id": "DVcWdc7CaALh"
      },
      "execution_count": null,
      "outputs": []
    },
    {
      "cell_type": "code",
      "source": [
        "def filter_positives(lst):\n",
        "  return list(filter(lambda x: x>0, lst))\n",
        "\n",
        "lst = eval(input())\n",
        "print(filter_positives(lst))"
      ],
      "metadata": {
        "id": "cAsuTespaaSL"
      },
      "execution_count": null,
      "outputs": []
    },
    {
      "cell_type": "code",
      "source": [
        "def difference(n):\n",
        "  if n <=17:\n",
        "    return 17-n\n",
        "  return (n-17)*2\n",
        "\n",
        "n = int(input())\n",
        "print(difference(n))"
      ],
      "metadata": {
        "id": "xPWtDrIzcCJ8"
      },
      "execution_count": null,
      "outputs": []
    },
    {
      "cell_type": "code",
      "source": [
        "def count_Primes_nums(n):\n",
        "    ctr = 0\n",
        "\n",
        "    for num in range(n):\n",
        "        if num <= 1:\n",
        "            continue\n",
        "        for i in range(2, num):\n",
        "            if (num % i) == 0:\n",
        "                break\n",
        "        else:\n",
        "            ctr += 1\n",
        "\n",
        "    return ctr\n",
        "\n",
        "n = int(input())\n",
        "print(count_Primes_nums(n))"
      ],
      "metadata": {
        "id": "nMZY3KG3mHjN"
      },
      "execution_count": null,
      "outputs": []
    },
    {
      "cell_type": "code",
      "source": [
        "def count_primes_nums(n):\n",
        "  ctr = 0\n",
        "\n",
        "  for num in range(n):\n",
        "    if num <=1:\n",
        "      continue\n",
        "    for i in range(2,num):\n",
        "      if (num%i)==0:\n",
        "        break\n",
        "      else:\n",
        "        ctr+=1\n",
        "  return ctr"
      ],
      "metadata": {
        "id": "l4p1ZtNTqYog"
      },
      "execution_count": null,
      "outputs": []
    },
    {
      "cell_type": "code",
      "source": [
        "x1 = float(input())\n",
        "y1 = float(input())\n",
        "x2 = float(input())\n",
        "y2 = float(input())\n",
        "\n",
        "x_mid_point = (x1 + x2)/2\n",
        "y_mid_point = (y1 + y2)/2\n",
        "print(\"Midpoint:\", x_mid_point, y_mid_point)"
      ],
      "metadata": {
        "id": "gRpEKljctiXz"
      },
      "execution_count": null,
      "outputs": []
    },
    {
      "cell_type": "code",
      "source": [
        "x = int(input())\n",
        "y = int(input())\n",
        "\n",
        "z = (x+y)*(x+y)\n",
        "\n",
        "print(z)"
      ],
      "metadata": {
        "id": "g2rUjDvA83e9"
      },
      "execution_count": null,
      "outputs": []
    },
    {
      "cell_type": "code",
      "source": [
        "a = int(input())\n",
        "b = int(input())\n",
        "a,b = b,a\n",
        "print(a,b)"
      ],
      "metadata": {
        "id": "KhEeIM-w9ZuV"
      },
      "execution_count": null,
      "outputs": []
    },
    {
      "cell_type": "code",
      "source": [
        "def reverse_str(str1):\n",
        "  result = ''\n",
        "  for char in str1:\n",
        "    result = str1 = str1[::-1]\n",
        "  return result\n",
        "\n",
        "str1 = input()\n",
        "print(reverse_str(str1))"
      ],
      "metadata": {
        "id": "7mqZ0ik29u4O"
      },
      "execution_count": null,
      "outputs": []
    },
    {
      "cell_type": "code",
      "source": [
        "def BMI(weight,height):\n",
        "  weight = w\n",
        "  height = h\n",
        "  BMI = round((w)/(h*h),2)\n",
        "  return BMI\n",
        "\n",
        "w = float(input())\n",
        "h = float(input())\n",
        "print(BMI(w,h))"
      ],
      "metadata": {
        "id": "2kFabmHw-Sni"
      },
      "execution_count": null,
      "outputs": []
    },
    {
      "cell_type": "code",
      "source": [
        "n1 = float(input())\n",
        "n2 = int(input())\n",
        "print(round(n1,n2))"
      ],
      "metadata": {
        "id": "-RtdnOCs_5xZ"
      },
      "execution_count": null,
      "outputs": []
    },
    {
      "cell_type": "code",
      "source": [
        " a = input()\n",
        " b = input()\n",
        "\n",
        " new_a = b[:2] + a[2:]\n",
        " new_b = a[:2] + b[2:]\n",
        "\n",
        " print(new_a + ' '+new_b)"
      ],
      "metadata": {
        "id": "3bfE9nv5BGj2"
      },
      "execution_count": null,
      "outputs": []
    },
    {
      "cell_type": "code",
      "source": [
        "lst = eval(input())\n",
        "n = int(input())\n",
        "result = []\n",
        "for i in range(1, len(lst) + 1):\n",
        "    if i % n == 0:\n",
        "        result.append(lst[i - 1])\n",
        "\n",
        "print(result)"
      ],
      "metadata": {
        "id": "iV0c0ztyCwF-"
      },
      "execution_count": null,
      "outputs": []
    },
    {
      "cell_type": "code",
      "source": [
        "def test(lst,n):\n",
        "  result = []\n",
        "  for i in range(1,len(lst)+1):\n",
        "    if i % n ==0:\n",
        "      result.append(lst[i-1])\n",
        "  return result\n",
        "\n",
        "lst = eval(input())\n",
        "n = int(input())\n",
        "print(test(lst,n))"
      ],
      "metadata": {
        "id": "OgeCJL1OEwUB"
      },
      "execution_count": null,
      "outputs": []
    },
    {
      "cell_type": "code",
      "source": [
        "def test(lst,n):\n",
        "  result = []\n",
        "  for i in range(1, len(lst)+1):\n",
        "    if i % n ==0:\n",
        "      result.append(lst[i-1])\n",
        "  return result"
      ],
      "metadata": {
        "id": "j7Nn49qNFU9k"
      },
      "execution_count": null,
      "outputs": []
    },
    {
      "cell_type": "code",
      "source": [
        "add = 10\n",
        "mult1=12\n",
        "mult2=4\n",
        "\n",
        "r = lambda a:a+15\n",
        "print(\"After_addition:\", r(add))\n",
        "\n",
        "r = lambda x,y:x*y\n",
        "print(\"After_multiplication:\", r(mult1,mult2))\n"
      ],
      "metadata": {
        "id": "c7oBC5WRayG1"
      },
      "execution_count": null,
      "outputs": []
    },
    {
      "cell_type": "code",
      "source": [
        "def test(str1):\n",
        "  return \" \".join(str1 for str1 in str1.split() if is_prime(len(str1)))\n",
        "def is_prime(n):\n",
        "  return n>1 and all(n%j for j in range(2, int(n**0.5)+1))\n",
        "\n",
        "str1 = input()\n",
        "print(test(str1))"
      ],
      "metadata": {
        "id": "Rxu2jIiCldEN"
      },
      "execution_count": null,
      "outputs": []
    },
    {
      "cell_type": "code",
      "source": [
        "year = int(input())\n",
        "month = int(input())\n",
        "day = int(input())\n",
        "\n",
        "if (year % 400 == 0):\n",
        "  leap_year = True\n",
        "elif (year % 100 == 0):\n",
        "  leap_year = False\n",
        "elif (year % 4 == 0):\n",
        "  leap_year = True\n",
        "else:\n",
        "  leap_year = False\n",
        "\n",
        "\n",
        "if month in (1, 3, 5, 7, 8, 10, 12):\n",
        "  month_length = 31\n",
        "elif month == 2:\n",
        "  if leap_year:\n",
        "    month_length = 29\n",
        "  else:\n",
        "    month_length = 28\n",
        "else:\n",
        "  month_length = 30\n",
        "\n",
        "if day < month_length:\n",
        "  day += 1\n",
        "else:\n",
        "  day = 1\n",
        "  if month == 12:\n",
        "    month = 1\n",
        "    year += 1\n",
        "  else:\n",
        "    month += 1\n",
        "print (\"The next date is [yyyy-mm-dd] %d-%d-%d.\" % (year, month, day))"
      ],
      "metadata": {
        "id": "Y8gG3iLBm3Of"
      },
      "execution_count": null,
      "outputs": []
    },
    {
      "cell_type": "code",
      "source": [
        "def get_triangle_type(x,y,z):\n",
        "  if x == y == z:\n",
        "    result = \"Equilateral Triangle\"\n",
        "  elif x ==y or z == x or z == y:\n",
        "    result = \"Isosceles Triangle\"\n",
        "  else:\n",
        "    result = \"Scalene Triangle\"\n",
        "  return result\n",
        "\n",
        "x = float(input())\n",
        "y = float(input())\n",
        "z = float(input())\n",
        "\n",
        "print(get_triangle_type(x,y,z))"
      ],
      "metadata": {
        "id": "2At0IMYH203G"
      },
      "execution_count": null,
      "outputs": []
    },
    {
      "cell_type": "code",
      "source": [
        "def check_word(char):\n",
        "    vowels = {'a', 'e', 'i', 'o', 'u', 'A', 'E', 'I', 'O', 'U'}\n",
        "\n",
        "    return \"Vowel\" if char in vowels else \"Consonant\"\n",
        "\n",
        "i = input()\n",
        "print(check_word(i))"
      ],
      "metadata": {
        "id": "ktZmYelb9c5o"
      },
      "execution_count": null,
      "outputs": []
    },
    {
      "cell_type": "code",
      "source": [
        "def check_word(char):\n",
        "  vowels = {'a', 'e', 'i', 'o', 'u', 'A', 'E', 'I', 'O', 'U'}\n",
        "\n",
        "  return \"vowel\" if char in vowels else \"Consonant\"\n",
        "\n",
        "word = input()\n",
        "print(check_word(word))"
      ],
      "metadata": {
        "id": "CJ7CePj5Asbz"
      },
      "execution_count": null,
      "outputs": []
    },
    {
      "cell_type": "code",
      "source": [
        "numbers = eval(input())\n",
        "for i in numbers:\n",
        "  if i ==237:\n",
        "    print(i)\n",
        "    break;\n",
        "  elif i % 2 !=0:\n",
        "    print(i)"
      ],
      "metadata": {
        "id": "E2ihUcaSbEEh"
      },
      "execution_count": null,
      "outputs": []
    },
    {
      "cell_type": "code",
      "source": [
        "def list_count_4(nums):\n",
        "  count = 0\n",
        "  for num in nums:\n",
        "    if num ==4:\n",
        "      count += 1\n",
        "  return count\n",
        "\n",
        "lst = eval(input())\n",
        "print(list_count_4(lst))"
      ],
      "metadata": {
        "id": "8reMcD-Ueqjw"
      },
      "execution_count": null,
      "outputs": []
    },
    {
      "cell_type": "code",
      "source": [
        "def list_count4(nums):\n",
        "  count = 0\n",
        "  for num in nums:\n",
        "    if num ==4:\n",
        "      count += 1\n",
        "  return count\n",
        "\n",
        "lst = eval(input())\n",
        "print(list_count4(lst))"
      ],
      "metadata": {
        "id": "lHOYGskOfp2s"
      },
      "execution_count": null,
      "outputs": []
    },
    {
      "cell_type": "code",
      "source": [
        "def sum_list(lst):\n",
        "  sum = 0\n",
        "  for num in lst:\n",
        "    sum += num\n",
        "  return sum\n",
        "\n",
        "lst = eval(input())\n",
        "print(sum_list(lst))"
      ],
      "metadata": {
        "id": "rqi0Uj0dglbc"
      },
      "execution_count": null,
      "outputs": []
    },
    {
      "cell_type": "code",
      "source": [
        "def multiply_list(lst):\n",
        "  a = 1\n",
        "  for i in lst:\n",
        "    a *= i\n",
        "  return a\n",
        "\n",
        "lst = eval(input())\n",
        "print(multiply_list(lst))"
      ],
      "metadata": {
        "id": "6nZJKjcvhRfK"
      },
      "execution_count": null,
      "outputs": []
    },
    {
      "cell_type": "code",
      "source": [
        "def odd_even_position(lst):\n",
        "  return all(lst[i]%2 ==i%2 for i in range(len(lst)))\n",
        "\n",
        "nums = eval(input())\n",
        "print(odd_even_position(nums))"
      ],
      "metadata": {
        "id": "oIo79aZMhuuA"
      },
      "execution_count": null,
      "outputs": []
    },
    {
      "cell_type": "code",
      "source": [
        "def commulative_sum(lst):\n",
        "  return [sum(lst[:i+1]) for i in range(len(lst))]\n",
        "\n",
        "lst = eval(input())\n",
        "print(commulative_sum(lst))"
      ],
      "metadata": {
        "id": "Ujq_RsLAi4D0"
      },
      "execution_count": null,
      "outputs": []
    },
    {
      "cell_type": "code",
      "source": [
        "def odd_even_position(lst):\n",
        "  return all(lst[i]%2==i%2 for i in range(len(lst)))\n",
        "\n",
        "lst = eval(input())\n",
        "print(odd_even_position(lst))"
      ],
      "metadata": {
        "id": "CDdmp-vCj0Yi"
      },
      "execution_count": null,
      "outputs": []
    },
    {
      "cell_type": "code",
      "source": [
        "def cumulative_sum(lst):\n",
        "  return [sum(lst[:i+1]) for i in range(len(lst))]\n",
        "\n",
        "lst = eval(input())\n",
        "print(cumulative_sum(lst))"
      ],
      "metadata": {
        "id": "fl0UZUhoq5pM"
      },
      "execution_count": null,
      "outputs": []
    },
    {
      "cell_type": "code",
      "source": [
        "def check_num(nums, k):\n",
        "  for i in range(len(nums)):\n",
        "    for j in range(i+1, len(nums)):\n",
        "      if nums[i] +nums[j] ==k:\n",
        "        return True\n",
        "  return False\n",
        "\n",
        "lst = eval(input())\n",
        "k = int(input())\n",
        "print(check_num(lst,k))"
      ],
      "metadata": {
        "id": "RjdDX6evrh5z"
      },
      "execution_count": null,
      "outputs": []
    },
    {
      "cell_type": "code",
      "source": [
        "values = input()\n",
        "values_list = list(map(int, values))\n",
        "values_tuple = tuple(map(int, values))\n",
        "print(values_list)\n",
        "print(values_tuple)"
      ],
      "metadata": {
        "id": "SpLK1PAS3QiA"
      },
      "execution_count": null,
      "outputs": []
    },
    {
      "cell_type": "code",
      "source": [
        "def concatenate_list(lst):\n",
        "  result = ''\n",
        "  for item in lst:\n",
        "    result += str(item)\n",
        "  return result\n",
        "\n",
        "lst = eval(input())\n",
        "print(concatenate_list(lst))"
      ],
      "metadata": {
        "id": "E2R-J1zx4lj8"
      },
      "execution_count": null,
      "outputs": []
    },
    {
      "cell_type": "code",
      "source": [
        "def test(lst):\n",
        "    return list(filter(lambda x: x % 15 == 0, lst))\n",
        "\n",
        "lst = eval(input())\n",
        "print(test(lst))"
      ],
      "metadata": {
        "id": "qVRPVbFa6ig5"
      },
      "execution_count": null,
      "outputs": []
    },
    {
      "cell_type": "code",
      "source": [
        "from functools import reduce\n",
        "\n",
        "def num_product(lst):\n",
        "  return reduce((lambda x,y: x*y),lst)\n",
        "\n",
        "lst = eval(input())\n",
        "print(num_product(lst))"
      ],
      "metadata": {
        "id": "0Vxg5kbV7INn"
      },
      "execution_count": null,
      "outputs": []
    },
    {
      "cell_type": "code",
      "source": [
        "from functools import reduce\n",
        "\n",
        "def sum_list(lst):\n",
        "    return reduce(lambda x, y: x + y, lst)\n",
        "\n",
        "lst = eval(input())\n",
        "print(sum_list(lst))\n"
      ],
      "metadata": {
        "id": "nI6L48FLECN7"
      },
      "execution_count": null,
      "outputs": []
    },
    {
      "cell_type": "code",
      "source": [
        "def cal_median(num):\n",
        "  sorted(num)\n",
        "  n = len(num)\n",
        "  m = n //2\n",
        "  if n%2==0:\n",
        "    return (num[m-1] + num[m])/2\n",
        "  return num[m]\n",
        "\n",
        "lst = eval(input())\n",
        "print(cal_median(lst))"
      ],
      "metadata": {
        "id": "T2fPpkLQEm06"
      },
      "execution_count": null,
      "outputs": []
    },
    {
      "cell_type": "code",
      "source": [
        "s = eval(input())\n",
        "str1 = \"\".join(s)\n",
        "print(str1)"
      ],
      "metadata": {
        "id": "6pyBM7JZKcic"
      },
      "execution_count": null,
      "outputs": []
    },
    {
      "cell_type": "code",
      "source": [
        "def test(n):\n",
        "  return next(d for d in range(n-1,0,-1) if n%d ==0)\n",
        "\n",
        "n = int(input())\n",
        "print(test(n))"
      ],
      "metadata": {
        "id": "MbCU1LqqNU4E"
      },
      "execution_count": null,
      "outputs": []
    },
    {
      "cell_type": "code",
      "source": [
        "def is_palindrome(str1):\n",
        "  if str1 == str1[::-1]:\n",
        "    return True\n",
        "  return False\n",
        "\n",
        "strn = input()\n",
        "print(is_palindrome(strn))"
      ],
      "metadata": {
        "id": "8yWixgspfeD9"
      },
      "execution_count": null,
      "outputs": []
    },
    {
      "cell_type": "code",
      "source": [
        "s = input()\n",
        "d=l=0\n",
        "for c in s:\n",
        "  if c.isdigit():\n",
        "    d+=1\n",
        "  elif c.isalpha():\n",
        "    l+=1\n",
        "else:\n",
        "  pass\n",
        "print(l)\n",
        "print(d)"
      ],
      "metadata": {
        "id": "4plqu_9KgLIg"
      },
      "execution_count": null,
      "outputs": []
    },
    {
      "cell_type": "code",
      "source": [
        "month = input()\n",
        "if month in ('December', 'January', 'February'):\n",
        "  print('Season is Winter')\n",
        "elif month in ('March', 'April', 'May'):\n",
        "  print('Season is Spring')\n",
        "elif month in ('June', 'July', 'August'):\n",
        "  print('Season is Summer')\n",
        "elif month in ('September', 'October', 'November'):\n",
        "  print('Season is Autumn')\n",
        "else:\n",
        "  print('Invalid Month name')"
      ],
      "metadata": {
        "id": "pykmbfMTlicy"
      },
      "execution_count": null,
      "outputs": []
    },
    {
      "cell_type": "code",
      "source": [
        "def test(m, n):\n",
        "    if m > n or (m == n and m % 2 == 1):\n",
        "        return -1\n",
        "    return n if n % 2 == 0 else n - 1\n",
        "\n",
        "\n",
        "m = int(input())\n",
        "n = int(input())\n",
        "print(test(m, n))"
      ],
      "metadata": {
        "id": "ihXpijH6yXlb"
      },
      "execution_count": null,
      "outputs": []
    },
    {
      "cell_type": "code",
      "source": [
        "def test(m,n):\n",
        "  if m >n or (m==n and m % 2 ==1):\n",
        "    return -1\n",
        "  return n if n%2 ==0 else n-1\n",
        "\n",
        "m = int(input())\n",
        "n = int(input())\n",
        "print(test(m,n))"
      ],
      "metadata": {
        "id": "KZMqCkH3z5D-"
      },
      "execution_count": null,
      "outputs": []
    },
    {
      "cell_type": "code",
      "source": [
        "def test(m,n):\n",
        "  if m>n or (m==n and m%2==1):\n",
        "    return -1\n",
        "  return n if n%2==0 else n-1\n",
        "\n",
        "m = int(input())\n",
        "n = int(input())\n",
        "print(test(m,n))"
      ],
      "metadata": {
        "id": "-EnG8vne0PAJ"
      },
      "execution_count": null,
      "outputs": []
    },
    {
      "cell_type": "code",
      "source": [
        "def test(n):\n",
        "  return n % 34 ==4 and n>4*4\n",
        "\n",
        "n = int(input())\n",
        "print(test(n))"
      ],
      "metadata": {
        "id": "x7LhWXLM0uxa"
      },
      "execution_count": null,
      "outputs": []
    },
    {
      "cell_type": "code",
      "source": [
        "def test(n):\n",
        "  return next(d for d in range(n-1,0,-1) if n%d==0)\n",
        "\n",
        "n = int(input())\n",
        "print(test(n))"
      ],
      "metadata": {
        "id": "VrSQe3c71VQm"
      },
      "execution_count": null,
      "outputs": []
    },
    {
      "cell_type": "code",
      "source": [
        "def is_palindrome(s):\n",
        "  return s == s[::-1]\n",
        "\n",
        "s = input()\n",
        "print(is_palindrome(s))"
      ],
      "metadata": {
        "id": "6IWCAx_U12Dt"
      },
      "execution_count": null,
      "outputs": []
    },
    {
      "cell_type": "code",
      "source": [
        "text = input()\n",
        "text = text.strip()\n",
        "if all(text[i] in '0123456789' for i in range(len(text))):\n",
        "  print(\"The string is an integer\")\n",
        "else:\n",
        "  print(\"The string is not integer\")\n"
      ],
      "metadata": {
        "id": "M5KfE9jy2OjG"
      },
      "execution_count": null,
      "outputs": []
    },
    {
      "cell_type": "code",
      "source": [
        "s = input()\n",
        "d = l =0\n",
        "for c in s:\n",
        "  if c.isdigit():\n",
        "    d +=1\n",
        "  elif c.isalpha():\n",
        "    l +=1\n",
        "  else:\n",
        "    pass\n",
        "print(l)\n",
        "print(d)"
      ],
      "metadata": {
        "id": "vonwfu4p3cZx"
      },
      "execution_count": null,
      "outputs": []
    },
    {
      "cell_type": "code",
      "source": [
        "def test(num):\n",
        "  return [x for x in num if x>10 and x%10%2 and int(str(x)[0])%2]\n",
        "\n",
        "n = eval(input())\n",
        "print(test(n))"
      ],
      "metadata": {
        "id": "2VgSITHW4Fsa"
      },
      "execution_count": null,
      "outputs": []
    },
    {
      "cell_type": "code",
      "source": [
        "def extract_nth_element(test,n):\n",
        "  return [x[n] for x in test]\n",
        "\n",
        "test= eval(input())\n",
        "n = int(input())\n",
        "print(extract_nth_element(test,n))"
      ],
      "metadata": {
        "id": "gHI0T8g558wK"
      },
      "execution_count": null,
      "outputs": []
    },
    {
      "cell_type": "code",
      "source": [
        "def test(n_list, L):\n",
        "    return [n_list[i] for i in range(0, len(n_list)) if i != L - 1]\n",
        "\n",
        "n = eval(input())\n",
        "L = int(input())\n",
        "print(test(n, L))"
      ],
      "metadata": {
        "id": "VhXpty-j_e-9"
      },
      "execution_count": null,
      "outputs": []
    },
    {
      "cell_type": "code",
      "source": [
        "def access_elements(nums,list_l):\n",
        "  return [nums[i] for i in list_l]\n",
        "\n",
        "nums = eval(input())\n",
        "list_l = eval(input())\n",
        "print(access_elements(nums,list_l))"
      ],
      "metadata": {
        "id": "_n5AH0zVMv2h"
      },
      "execution_count": null,
      "outputs": []
    },
    {
      "cell_type": "code",
      "source": [
        "def remove_elem(lst,n):\n",
        "  return [i.pop(n) for i in lst]\n",
        "\n",
        "lst = eval(input())\n",
        "n = eval(input())\n",
        "print(remove_elem(lst,n))"
      ],
      "metadata": {
        "id": "O2kCnuC5OeRI"
      },
      "execution_count": null,
      "outputs": []
    },
    {
      "cell_type": "code",
      "source": [
        "def start_with(lst,char):\n",
        "  return [i for i in lst if i.startswith(char)]\n",
        "\n",
        "lst = eval(input())\n",
        "char = input()\n",
        "print(start_with(lst,char))"
      ],
      "metadata": {
        "id": "aOSOVu5lUL-v"
      },
      "execution_count": null,
      "outputs": []
    },
    {
      "cell_type": "code",
      "source": [
        "from itertools import groupby\n",
        "\n",
        "def group_list_duplicates(lst):\n",
        "  return [list(group) for key, group in groupby(lst)]\n",
        "\n",
        "lst = eval(input())\n",
        "print(group_list_duplicates(lst))"
      ],
      "metadata": {
        "id": "Xix8X6m0V0Dp"
      },
      "execution_count": null,
      "outputs": []
    },
    {
      "cell_type": "code",
      "source": [
        "from itertools import groupby\n",
        "\n",
        "def compress(lst):\n",
        "  return [key for key, group in groupby(lst)]\n",
        "\n",
        "lst = eval(input())\n",
        "print(compress(lst))"
      ],
      "metadata": {
        "id": "nDtfddqsYTRz"
      },
      "execution_count": null,
      "outputs": []
    },
    {
      "cell_type": "code",
      "source": [
        "my_lst = eval(input())\n",
        "n = int(input())\n",
        "result = ['{}{}'.format(x,y) for y in range(1,n+1) for x in my_lst]\n",
        "print(result)"
      ],
      "metadata": {
        "id": "z6TXhaK5Y13f"
      },
      "execution_count": null,
      "outputs": []
    },
    {
      "cell_type": "code",
      "source": [
        "num = eval(input())  #[1,2,3,4]\n",
        "string = input()\n",
        "print([string +'{0}'.format(i) for i in  num])"
      ],
      "metadata": {
        "id": "DcvQabAzZvXl"
      },
      "execution_count": null,
      "outputs": []
    },
    {
      "cell_type": "code",
      "source": [
        "class IOString():\n",
        "\n",
        "    def __init__ (self):\n",
        "      self.str1 = ''\n",
        "\n",
        "    def get_string(self):\n",
        "      self.str1 = input()\n",
        "\n",
        "    def print_string(self):\n",
        "      print(self.str1.upper())\n",
        "\n",
        "str1 = IOString()\n",
        "str1.get_string()\n",
        "str1.print_string()"
      ],
      "metadata": {
        "id": "LJTMcD2zcm5x"
      },
      "execution_count": null,
      "outputs": []
    },
    {
      "cell_type": "code",
      "source": [
        "class IOString():\n",
        "\n",
        "       def __init__ (self):\n",
        "        self.str1 = ''\n",
        "\n",
        "       def get_string(self):\n",
        "        self.str1 = input()\n",
        "\n",
        "       def print_string(self):\n",
        "        print(self.str1.upper())\n",
        "\n",
        "\n",
        "str1 = IOString()\n",
        "str1.get_string()\n",
        "str1.print_string()"
      ],
      "metadata": {
        "id": "rzYv-g8DwCG_"
      },
      "execution_count": null,
      "outputs": []
    },
    {
      "cell_type": "code",
      "source": [
        "class StringReverser:\n",
        "\n",
        "    def __init__(self):\n",
        "        self.input_string = ''\n",
        "\n",
        "    def get_string(self):\n",
        "        self.input_string = input()\n",
        "\n",
        "    def get_reversed(self):\n",
        "        words = self.input_string.split()\n",
        "        reversed_string = ' '.join(reversed(words))\n",
        "        return reversed_string"
      ],
      "metadata": {
        "id": "KXlR_LxxxIUW"
      },
      "execution_count": null,
      "outputs": []
    },
    {
      "cell_type": "code",
      "source": [
        "strn = StringReverser()\n",
        "strn.get_string()\n",
        "strn.get_reversed()"
      ],
      "metadata": {
        "id": "xzEsTqeG0h8v"
      },
      "execution_count": null,
      "outputs": []
    },
    {
      "cell_type": "code",
      "source": [
        "class StringReverser:\n",
        "    def __init__(self, input_string):\n",
        "        self.input_string = input_string\n",
        "\n",
        "    def reverse_words(self):\n",
        "        words = self.input_string.split()\n",
        "        reversed_string = ' '.join(reversed(words))\n",
        "        return reversed_string\n",
        "\n",
        "# Example usage\n",
        "input_string = input()\n",
        "string_reverser = StringReverser(input_string)\n",
        "print(string_reverser.reverse_words())"
      ],
      "metadata": {
        "id": "MuNlPeN02cAJ"
      },
      "execution_count": null,
      "outputs": []
    },
    {
      "cell_type": "code",
      "source": [
        "from fractions import Fraction"
      ],
      "metadata": {
        "id": "TuoClUaN97Np"
      },
      "execution_count": null,
      "outputs": []
    },
    {
      "cell_type": "code",
      "source": [
        "class py_solution:\n",
        "  def pow(self,x,n):\n",
        "    if x==0 or x ==1 or n==1:\n",
        "      return x\n",
        "\n",
        "    if x == -1:\n",
        "      if n%2==0:\n",
        "        return 1\n",
        "      return -1\n",
        "\n",
        "    if n==0:\n",
        "      return 1\n",
        "\n",
        "    if n<0:\n",
        "      return 1/self.pow(x,-n)\n",
        "    val = self.pow(x,n//2)\n",
        "    if n%2==0:\n",
        "      return val*val\n",
        "    return val*val*x\n",
        "\n",
        "n1 = int(input())\n",
        "n2 = float(input())\n",
        "print(py_solution().pow(n1,n2))"
      ],
      "metadata": {
        "id": "ySu0utnO21rh"
      },
      "execution_count": null,
      "outputs": []
    },
    {
      "cell_type": "code",
      "source": [
        "class py_solution:\n",
        "\n",
        "   def pow(self,x,n):\n",
        "    if x ==0 or x==1 or n==1:\n",
        "      return x\n",
        "\n",
        "    if x == -1:\n",
        "      if n%2 ==0:\n",
        "        return 1\n",
        "      return -1\n",
        "\n",
        "    if n ==0:\n",
        "      return 1\n",
        "\n",
        "    if n<0:\n",
        "      return 1/self.pow(x,-n)\n",
        "      val = self.pow(x,n//2)\n",
        "      if n%2==0:\n",
        "        return val*val\n",
        "      return val*val*x"
      ],
      "metadata": {
        "id": "mZKjdq139Aha"
      },
      "execution_count": null,
      "outputs": []
    },
    {
      "cell_type": "code",
      "source": [
        "def remove_char(str1,c):\n",
        "  return \"\".join([el for el in str1 if el ==c])"
      ],
      "metadata": {
        "id": "5rW7w6CyqacB"
      },
      "execution_count": null,
      "outputs": []
    },
    {
      "cell_type": "code",
      "source": [
        "str1 = input()\n",
        "c = input()\n",
        "print(remove_char(str1,c))"
      ],
      "metadata": {
        "id": "OyOppM6qrSrf"
      },
      "execution_count": null,
      "outputs": []
    },
    {
      "cell_type": "code",
      "source": [
        "def check_value(str1,value):\n",
        "  return (value in str1)\n",
        "\n",
        "str1 = set(input().split(' '))\n",
        "c = input()\n",
        "print(check_value(str1,c))"
      ],
      "metadata": {
        "id": "5iF0xQs5rjQZ"
      },
      "execution_count": null,
      "outputs": []
    },
    {
      "cell_type": "code",
      "source": [
        "def matrix(row,col):\n",
        "  multi_list = [[0 for col in range(col_num)] for row in range(row_num)]\n",
        "\n",
        "  for row in range(row_num):\n",
        "    for col in range(col_num):\n",
        "      multi_list [row][col] = row*col\n",
        "\n",
        "  return multi_list\n",
        "\n",
        "row_num = int(input())\n",
        "col_num = int(input())\n",
        "print(matrix(row_num,col_num))"
      ],
      "metadata": {
        "id": "E7dm1EW-skAg"
      },
      "execution_count": null,
      "outputs": []
    },
    {
      "cell_type": "code",
      "source": [
        "def rev_word(word):\n",
        "  for char in range(len(word)-1,-1,-1):\n",
        "    print(word[char],end=\"\")\n",
        "  print(\"\\n\")\n",
        "\n",
        "\n",
        "w = input()\n",
        "print(rev_word(w))\n"
      ],
      "metadata": {
        "id": "-s5IrtQUuEND"
      },
      "execution_count": null,
      "outputs": []
    },
    {
      "cell_type": "code",
      "source": [
        "def is_prime(n):\n",
        "  if (n==1):\n",
        "    return False\n",
        "  elif (n==2):\n",
        "    return True;\n",
        "\n",
        "  else:\n",
        "    for x in range(2,n):\n",
        "      if (n%x==0):\n",
        "        return False\n",
        "    return True\n",
        "\n",
        "\n",
        "n = int(input())\n",
        "print(is_prime(n))"
      ],
      "metadata": {
        "id": "5YbdTndgwMTr"
      },
      "execution_count": null,
      "outputs": []
    },
    {
      "cell_type": "code",
      "source": [
        "x_1,y_1 = 6,7\n",
        "\n",
        "x_2,y_2 = 5,4\n",
        "\n",
        "Ecli_dist = ((x_2-x_1)**2 + (y_2-y_1)**2)**(0.5)\n",
        "\n",
        "print(\"The Euclidean Distance between the above given two points 'PQ' =\" + str(Ecli_dist))"
      ],
      "metadata": {
        "id": "OSBfSBljyGqe"
      },
      "execution_count": null,
      "outputs": []
    },
    {
      "cell_type": "code",
      "source": [
        "def Remove_char(strl,char):\n",
        "  for i in strl:\n",
        "    strl = strl.lower()\n",
        "  for char in char:\n",
        "    char = char.lower()\n",
        "  return (char for char in strl if char not in strl)\n",
        "\n",
        "strl = input()\n",
        "char = input()\n",
        "print(Remove_char(strl,char))"
      ],
      "metadata": {
        "id": "q2juvIxkQwrk"
      },
      "execution_count": null,
      "outputs": []
    },
    {
      "cell_type": "code",
      "source": [
        "def missing_val(lst):\n",
        "  return [x for x in range(lst[0],lst[-1]+1) if x not in lst]\n",
        "\n",
        "lst = eval(input())\n",
        "print(missing_val(lst))"
      ],
      "metadata": {
        "id": "5cbrafAnS5FT"
      },
      "execution_count": null,
      "outputs": []
    },
    {
      "cell_type": "code",
      "source": [],
      "metadata": {
        "id": "ugn1MIlCTuPj"
      },
      "execution_count": null,
      "outputs": []
    }
  ]
}